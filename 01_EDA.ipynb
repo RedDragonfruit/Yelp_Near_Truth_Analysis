{
 "cells": [
  {
   "cell_type": "code",
   "execution_count": 1,
   "id": "70eecc3f-df61-4bec-9fc5-c29f2fd4be3c",
   "metadata": {},
   "outputs": [],
   "source": [
    "import pandas as pd\n",
    "import numpy as np\n",
    "import matplotlib.pyplot as plt\n",
    "import seaborn as sns\n",
    "\n",
    "from sklearn.model_selection import train_test_split\n",
    "\n",
    "%matplotlib inline "
   ]
  },
  {
   "cell_type": "code",
   "execution_count": 2,
   "id": "6982bb30-330b-4a15-aae7-b9448e779b2b",
   "metadata": {},
   "outputs": [],
   "source": [
    "#import text files as dataframes and added column names based on readme\n",
    "\n",
    "meta_df = pd.read_csv('./Data/YelpNYC/metadata',delimiter = '\\t', \n",
    "                     names = ['user_id','prod_id','rating','target','date']\n",
    "                     )\n",
    "\n",
    "review_df = pd.read_csv('./Data/YelpNYC/reviewContent',delimiter = '\\t',\n",
    "                        names = ['user_id','prod_id','date','review']\n",
    "                       )\n",
    "\n",
    "prod_df = pd.read_csv('./Data/YelpNYC/productIdMapping',delimiter = '\\t',\n",
    "                     names = ['name','prod_id']\n",
    "                     )\n",
    "\n",
    "prod_df = pd.read_csv('./Data/YelpNYC/productIdMapping',delimiter = '\\t',\n",
    "                     names = ['name','prod_id']\n",
    "                     )\n",
    "\n"
   ]
  },
  {
   "cell_type": "code",
   "execution_count": 3,
   "id": "d7f62dbb-d3b7-4b55-9449-c5c34df3c913",
   "metadata": {},
   "outputs": [
    {
     "data": {
      "text/html": [
       "<div>\n",
       "<style scoped>\n",
       "    .dataframe tbody tr th:only-of-type {\n",
       "        vertical-align: middle;\n",
       "    }\n",
       "\n",
       "    .dataframe tbody tr th {\n",
       "        vertical-align: top;\n",
       "    }\n",
       "\n",
       "    .dataframe thead th {\n",
       "        text-align: right;\n",
       "    }\n",
       "</style>\n",
       "<table border=\"1\" class=\"dataframe\">\n",
       "  <thead>\n",
       "    <tr style=\"text-align: right;\">\n",
       "      <th></th>\n",
       "      <th>user_id</th>\n",
       "      <th>prod_id</th>\n",
       "      <th>rating</th>\n",
       "      <th>target</th>\n",
       "      <th>date</th>\n",
       "    </tr>\n",
       "  </thead>\n",
       "  <tbody>\n",
       "    <tr>\n",
       "      <th>0</th>\n",
       "      <td>923</td>\n",
       "      <td>0</td>\n",
       "      <td>3.0</td>\n",
       "      <td>-1</td>\n",
       "      <td>2014-12-08</td>\n",
       "    </tr>\n",
       "    <tr>\n",
       "      <th>1</th>\n",
       "      <td>924</td>\n",
       "      <td>0</td>\n",
       "      <td>3.0</td>\n",
       "      <td>-1</td>\n",
       "      <td>2013-05-16</td>\n",
       "    </tr>\n",
       "    <tr>\n",
       "      <th>2</th>\n",
       "      <td>925</td>\n",
       "      <td>0</td>\n",
       "      <td>4.0</td>\n",
       "      <td>-1</td>\n",
       "      <td>2013-07-01</td>\n",
       "    </tr>\n",
       "    <tr>\n",
       "      <th>3</th>\n",
       "      <td>926</td>\n",
       "      <td>0</td>\n",
       "      <td>4.0</td>\n",
       "      <td>-1</td>\n",
       "      <td>2011-07-28</td>\n",
       "    </tr>\n",
       "    <tr>\n",
       "      <th>4</th>\n",
       "      <td>927</td>\n",
       "      <td>0</td>\n",
       "      <td>4.0</td>\n",
       "      <td>-1</td>\n",
       "      <td>2010-11-01</td>\n",
       "    </tr>\n",
       "  </tbody>\n",
       "</table>\n",
       "</div>"
      ],
      "text/plain": [
       "   user_id  prod_id  rating  target        date\n",
       "0      923        0     3.0      -1  2014-12-08\n",
       "1      924        0     3.0      -1  2013-05-16\n",
       "2      925        0     4.0      -1  2013-07-01\n",
       "3      926        0     4.0      -1  2011-07-28\n",
       "4      927        0     4.0      -1  2010-11-01"
      ]
     },
     "execution_count": 3,
     "metadata": {},
     "output_type": "execute_result"
    }
   ],
   "source": [
    "#checking the contents of the metafile\n",
    "meta_df.head()"
   ]
  },
  {
   "cell_type": "markdown",
   "id": "15d922cd-c003-43c2-b698-975f5a96f405",
   "metadata": {},
   "source": [
    "##### Taking a look at the meta_df we notice that there are 359,052 rows. There are int, float, and string types."
   ]
  },
  {
   "cell_type": "code",
   "execution_count": 4,
   "id": "657c394d-c0a6-48f8-b6b8-32c554e1c5d2",
   "metadata": {},
   "outputs": [
    {
     "name": "stdout",
     "output_type": "stream",
     "text": [
      "<class 'pandas.core.frame.DataFrame'>\n",
      "RangeIndex: 359052 entries, 0 to 359051\n",
      "Data columns (total 5 columns):\n",
      " #   Column   Non-Null Count   Dtype  \n",
      "---  ------   --------------   -----  \n",
      " 0   user_id  359052 non-null  int64  \n",
      " 1   prod_id  359052 non-null  int64  \n",
      " 2   rating   359052 non-null  float64\n",
      " 3   target   359052 non-null  int64  \n",
      " 4   date     359052 non-null  object \n",
      "dtypes: float64(1), int64(3), object(1)\n",
      "memory usage: 13.7+ MB\n"
     ]
    }
   ],
   "source": [
    "meta_df.info()"
   ]
  },
  {
   "cell_type": "code",
   "execution_count": 5,
   "id": "4381ebec-28a2-4a2d-976c-49ad7b4de66e",
   "metadata": {},
   "outputs": [
    {
     "data": {
      "text/plain": [
       "user_id    0\n",
       "prod_id    0\n",
       "rating     0\n",
       "target     0\n",
       "date       0\n",
       "dtype: int64"
      ]
     },
     "execution_count": 5,
     "metadata": {},
     "output_type": "execute_result"
    }
   ],
   "source": [
    "#check for any missing values\n",
    "meta_df.isna().sum()"
   ]
  },
  {
   "cell_type": "code",
   "execution_count": 6,
   "id": "8f1404bc-8c37-4ac0-8a09-464c4660e56b",
   "metadata": {},
   "outputs": [
    {
     "data": {
      "text/html": [
       "<div>\n",
       "<style scoped>\n",
       "    .dataframe tbody tr th:only-of-type {\n",
       "        vertical-align: middle;\n",
       "    }\n",
       "\n",
       "    .dataframe tbody tr th {\n",
       "        vertical-align: top;\n",
       "    }\n",
       "\n",
       "    .dataframe thead th {\n",
       "        text-align: right;\n",
       "    }\n",
       "</style>\n",
       "<table border=\"1\" class=\"dataframe\">\n",
       "  <thead>\n",
       "    <tr style=\"text-align: right;\">\n",
       "      <th></th>\n",
       "      <th>user_id</th>\n",
       "      <th>prod_id</th>\n",
       "      <th>date</th>\n",
       "      <th>review</th>\n",
       "    </tr>\n",
       "  </thead>\n",
       "  <tbody>\n",
       "    <tr>\n",
       "      <th>0</th>\n",
       "      <td>923</td>\n",
       "      <td>0</td>\n",
       "      <td>2014-12-08</td>\n",
       "      <td>The food at snack is a selection of popular Gr...</td>\n",
       "    </tr>\n",
       "    <tr>\n",
       "      <th>1</th>\n",
       "      <td>924</td>\n",
       "      <td>0</td>\n",
       "      <td>2013-05-16</td>\n",
       "      <td>This little place in Soho is wonderful. I had ...</td>\n",
       "    </tr>\n",
       "    <tr>\n",
       "      <th>2</th>\n",
       "      <td>925</td>\n",
       "      <td>0</td>\n",
       "      <td>2013-07-01</td>\n",
       "      <td>ordered lunch for 15 from Snack last Friday.  ...</td>\n",
       "    </tr>\n",
       "    <tr>\n",
       "      <th>3</th>\n",
       "      <td>926</td>\n",
       "      <td>0</td>\n",
       "      <td>2011-07-28</td>\n",
       "      <td>This is a beautiful quaint little restaurant o...</td>\n",
       "    </tr>\n",
       "    <tr>\n",
       "      <th>4</th>\n",
       "      <td>927</td>\n",
       "      <td>0</td>\n",
       "      <td>2010-11-01</td>\n",
       "      <td>Snack is great place for a  casual sit down lu...</td>\n",
       "    </tr>\n",
       "  </tbody>\n",
       "</table>\n",
       "</div>"
      ],
      "text/plain": [
       "   user_id  prod_id        date  \\\n",
       "0      923        0  2014-12-08   \n",
       "1      924        0  2013-05-16   \n",
       "2      925        0  2013-07-01   \n",
       "3      926        0  2011-07-28   \n",
       "4      927        0  2010-11-01   \n",
       "\n",
       "                                              review  \n",
       "0  The food at snack is a selection of popular Gr...  \n",
       "1  This little place in Soho is wonderful. I had ...  \n",
       "2  ordered lunch for 15 from Snack last Friday.  ...  \n",
       "3  This is a beautiful quaint little restaurant o...  \n",
       "4  Snack is great place for a  casual sit down lu...  "
      ]
     },
     "execution_count": 6,
     "metadata": {},
     "output_type": "execute_result"
    }
   ],
   "source": [
    "review_df.head()"
   ]
  },
  {
   "cell_type": "markdown",
   "id": "b83f9318-8adf-446d-a265-20570cd8db14",
   "metadata": {},
   "source": [
    "##### There are 358,957 reviews in the review_df which is less than the rows in the metafile. This means that there are some information present within the metafile with no reviews related to it."
   ]
  },
  {
   "cell_type": "code",
   "execution_count": 7,
   "id": "c819e90e-f79b-473c-8875-5fa60888129b",
   "metadata": {},
   "outputs": [
    {
     "name": "stdout",
     "output_type": "stream",
     "text": [
      "<class 'pandas.core.frame.DataFrame'>\n",
      "RangeIndex: 358957 entries, 0 to 358956\n",
      "Data columns (total 4 columns):\n",
      " #   Column   Non-Null Count   Dtype \n",
      "---  ------   --------------   ----- \n",
      " 0   user_id  358957 non-null  int64 \n",
      " 1   prod_id  358957 non-null  int64 \n",
      " 2   date     358957 non-null  object\n",
      " 3   review   358957 non-null  object\n",
      "dtypes: int64(2), object(2)\n",
      "memory usage: 11.0+ MB\n"
     ]
    }
   ],
   "source": [
    "review_df.info()"
   ]
  },
  {
   "cell_type": "markdown",
   "id": "948b7895-fa95-404b-bff9-807e9dccdd79",
   "metadata": {},
   "source": [
    "##### Here we take a look at another dataframe. This one contains the the prod_id with the names of the 923 unique restaurants."
   ]
  },
  {
   "cell_type": "code",
   "execution_count": 8,
   "id": "49d728dc-457b-4a41-9dda-7571525ce65a",
   "metadata": {},
   "outputs": [
    {
     "data": {
      "text/html": [
       "<div>\n",
       "<style scoped>\n",
       "    .dataframe tbody tr th:only-of-type {\n",
       "        vertical-align: middle;\n",
       "    }\n",
       "\n",
       "    .dataframe tbody tr th {\n",
       "        vertical-align: top;\n",
       "    }\n",
       "\n",
       "    .dataframe thead th {\n",
       "        text-align: right;\n",
       "    }\n",
       "</style>\n",
       "<table border=\"1\" class=\"dataframe\">\n",
       "  <thead>\n",
       "    <tr style=\"text-align: right;\">\n",
       "      <th></th>\n",
       "      <th>name</th>\n",
       "      <th>prod_id</th>\n",
       "    </tr>\n",
       "  </thead>\n",
       "  <tbody>\n",
       "    <tr>\n",
       "      <th>0</th>\n",
       "      <td>Snack</td>\n",
       "      <td>0</td>\n",
       "    </tr>\n",
       "    <tr>\n",
       "      <th>1</th>\n",
       "      <td>Peppino’s</td>\n",
       "      <td>1</td>\n",
       "    </tr>\n",
       "    <tr>\n",
       "      <th>2</th>\n",
       "      <td>Dekalb Restaurant</td>\n",
       "      <td>3</td>\n",
       "    </tr>\n",
       "    <tr>\n",
       "      <th>3</th>\n",
       "      <td>Le Parisien</td>\n",
       "      <td>4</td>\n",
       "    </tr>\n",
       "    <tr>\n",
       "      <th>4</th>\n",
       "      <td>Blue Spoon Coffee</td>\n",
       "      <td>5</td>\n",
       "    </tr>\n",
       "  </tbody>\n",
       "</table>\n",
       "</div>"
      ],
      "text/plain": [
       "                name  prod_id\n",
       "0              Snack        0\n",
       "1          Peppino’s        1\n",
       "2  Dekalb Restaurant        3\n",
       "3        Le Parisien        4\n",
       "4  Blue Spoon Coffee        5"
      ]
     },
     "execution_count": 8,
     "metadata": {},
     "output_type": "execute_result"
    }
   ],
   "source": [
    "prod_df.head()"
   ]
  },
  {
   "cell_type": "code",
   "execution_count": 9,
   "id": "25c82fba-b2d6-4041-a8a6-8a9af1941aee",
   "metadata": {},
   "outputs": [
    {
     "name": "stdout",
     "output_type": "stream",
     "text": [
      "<class 'pandas.core.frame.DataFrame'>\n",
      "RangeIndex: 923 entries, 0 to 922\n",
      "Data columns (total 2 columns):\n",
      " #   Column   Non-Null Count  Dtype \n",
      "---  ------   --------------  ----- \n",
      " 0   name     923 non-null    object\n",
      " 1   prod_id  923 non-null    int64 \n",
      "dtypes: int64(1), object(1)\n",
      "memory usage: 14.5+ KB\n"
     ]
    }
   ],
   "source": [
    "prod_df.info()"
   ]
  },
  {
   "cell_type": "markdown",
   "id": "07ad2c22-1e31-4c05-b531-e529589b1bd8",
   "metadata": {},
   "source": [
    "##### We merge the two dataframes and create a new one that contains the review and their target. We want to ensure that the proper review is matched with the correct person so we use user_id, prod_id, and date columns. By checking the info of the for the new merged data we can see how many entries we have remaining. We should expect that it should match the review_df size. Any data that has no corresponding value in the meta file will not be used."
   ]
  },
  {
   "cell_type": "code",
   "execution_count": 10,
   "id": "8fb83849-6144-4a78-84a9-8a1f8c09d8d5",
   "metadata": {},
   "outputs": [],
   "source": [
    "#merge the metafile and reviews together on user_id, prod_id, amd date. \n",
    "merged_df = meta_df.merge(review_df,\n",
    "                         how = 'inner',\n",
    "                         left_on = ['user_id','prod_id','date'],\n",
    "                         right_on = ['user_id','prod_id','date']\n",
    "                         )"
   ]
  },
  {
   "cell_type": "code",
   "execution_count": 11,
   "id": "b011cb86-caa1-40a6-a9d8-994f85f2a6e7",
   "metadata": {},
   "outputs": [
    {
     "name": "stdout",
     "output_type": "stream",
     "text": [
      "<class 'pandas.core.frame.DataFrame'>\n",
      "Int64Index: 358957 entries, 0 to 358956\n",
      "Data columns (total 6 columns):\n",
      " #   Column   Non-Null Count   Dtype  \n",
      "---  ------   --------------   -----  \n",
      " 0   user_id  358957 non-null  int64  \n",
      " 1   prod_id  358957 non-null  int64  \n",
      " 2   rating   358957 non-null  float64\n",
      " 3   target   358957 non-null  int64  \n",
      " 4   date     358957 non-null  object \n",
      " 5   review   358957 non-null  object \n",
      "dtypes: float64(1), int64(3), object(2)\n",
      "memory usage: 19.2+ MB\n"
     ]
    }
   ],
   "source": [
    "merged_df.info()"
   ]
  },
  {
   "cell_type": "markdown",
   "id": "4eaa68bc-767f-49fb-aae7-f3408daa74f8",
   "metadata": {},
   "source": [
    "##### To check if we lost any of our reviews we want to take a look at the unique reviews before and after the merge. We see that the values match and no review overwrote one another."
   ]
  },
  {
   "cell_type": "code",
   "execution_count": 12,
   "id": "9cf97540-b563-4e68-b899-32a63997dbec",
   "metadata": {},
   "outputs": [
    {
     "name": "stdout",
     "output_type": "stream",
     "text": [
      "length of review_df:  358080\n",
      "length of merged_df:  358080\n"
     ]
    }
   ],
   "source": [
    "print('length of review_df: ',len(review_df['review'].unique()))\n",
    "print('length of merged_df: ',len(merged_df['review'].unique()))"
   ]
  },
  {
   "cell_type": "code",
   "execution_count": 13,
   "id": "56bac847-d56b-4495-b9c0-52b623f32cec",
   "metadata": {},
   "outputs": [
    {
     "data": {
      "text/html": [
       "<div>\n",
       "<style scoped>\n",
       "    .dataframe tbody tr th:only-of-type {\n",
       "        vertical-align: middle;\n",
       "    }\n",
       "\n",
       "    .dataframe tbody tr th {\n",
       "        vertical-align: top;\n",
       "    }\n",
       "\n",
       "    .dataframe thead th {\n",
       "        text-align: right;\n",
       "    }\n",
       "</style>\n",
       "<table border=\"1\" class=\"dataframe\">\n",
       "  <thead>\n",
       "    <tr style=\"text-align: right;\">\n",
       "      <th></th>\n",
       "      <th>user_id</th>\n",
       "      <th>prod_id</th>\n",
       "      <th>rating</th>\n",
       "      <th>target</th>\n",
       "      <th>date</th>\n",
       "      <th>review</th>\n",
       "    </tr>\n",
       "  </thead>\n",
       "  <tbody>\n",
       "    <tr>\n",
       "      <th>0</th>\n",
       "      <td>923</td>\n",
       "      <td>0</td>\n",
       "      <td>3.0</td>\n",
       "      <td>-1</td>\n",
       "      <td>2014-12-08</td>\n",
       "      <td>The food at snack is a selection of popular Gr...</td>\n",
       "    </tr>\n",
       "    <tr>\n",
       "      <th>1</th>\n",
       "      <td>924</td>\n",
       "      <td>0</td>\n",
       "      <td>3.0</td>\n",
       "      <td>-1</td>\n",
       "      <td>2013-05-16</td>\n",
       "      <td>This little place in Soho is wonderful. I had ...</td>\n",
       "    </tr>\n",
       "    <tr>\n",
       "      <th>2</th>\n",
       "      <td>925</td>\n",
       "      <td>0</td>\n",
       "      <td>4.0</td>\n",
       "      <td>-1</td>\n",
       "      <td>2013-07-01</td>\n",
       "      <td>ordered lunch for 15 from Snack last Friday.  ...</td>\n",
       "    </tr>\n",
       "    <tr>\n",
       "      <th>3</th>\n",
       "      <td>926</td>\n",
       "      <td>0</td>\n",
       "      <td>4.0</td>\n",
       "      <td>-1</td>\n",
       "      <td>2011-07-28</td>\n",
       "      <td>This is a beautiful quaint little restaurant o...</td>\n",
       "    </tr>\n",
       "    <tr>\n",
       "      <th>4</th>\n",
       "      <td>927</td>\n",
       "      <td>0</td>\n",
       "      <td>4.0</td>\n",
       "      <td>-1</td>\n",
       "      <td>2010-11-01</td>\n",
       "      <td>Snack is great place for a  casual sit down lu...</td>\n",
       "    </tr>\n",
       "  </tbody>\n",
       "</table>\n",
       "</div>"
      ],
      "text/plain": [
       "   user_id  prod_id  rating  target        date  \\\n",
       "0      923        0     3.0      -1  2014-12-08   \n",
       "1      924        0     3.0      -1  2013-05-16   \n",
       "2      925        0     4.0      -1  2013-07-01   \n",
       "3      926        0     4.0      -1  2011-07-28   \n",
       "4      927        0     4.0      -1  2010-11-01   \n",
       "\n",
       "                                              review  \n",
       "0  The food at snack is a selection of popular Gr...  \n",
       "1  This little place in Soho is wonderful. I had ...  \n",
       "2  ordered lunch for 15 from Snack last Friday.  ...  \n",
       "3  This is a beautiful quaint little restaurant o...  \n",
       "4  Snack is great place for a  casual sit down lu...  "
      ]
     },
     "execution_count": 13,
     "metadata": {},
     "output_type": "execute_result"
    }
   ],
   "source": [
    "merged_df.head()"
   ]
  },
  {
   "cell_type": "markdown",
   "id": "0fde79d9-2959-41e2-836e-6b769900a9f8",
   "metadata": {},
   "source": [
    "##### Here we take a look at the the duplicates in the review section of the dataframe. We will leave these in the dataset as these could be from different users and only consists of a small amount. Odd texts will be delt with later."
   ]
  },
  {
   "cell_type": "code",
   "execution_count": 14,
   "id": "9e459758-e74b-4eda-b921-a6785c4d1fb2",
   "metadata": {},
   "outputs": [
    {
     "data": {
      "text/html": [
       "<div>\n",
       "<style scoped>\n",
       "    .dataframe tbody tr th:only-of-type {\n",
       "        vertical-align: middle;\n",
       "    }\n",
       "\n",
       "    .dataframe tbody tr th {\n",
       "        vertical-align: top;\n",
       "    }\n",
       "\n",
       "    .dataframe thead th {\n",
       "        text-align: right;\n",
       "    }\n",
       "</style>\n",
       "<table border=\"1\" class=\"dataframe\">\n",
       "  <thead>\n",
       "    <tr style=\"text-align: right;\">\n",
       "      <th></th>\n",
       "      <th>user_id</th>\n",
       "      <th>prod_id</th>\n",
       "      <th>rating</th>\n",
       "      <th>target</th>\n",
       "      <th>date</th>\n",
       "      <th>review</th>\n",
       "    </tr>\n",
       "  </thead>\n",
       "  <tbody>\n",
       "    <tr>\n",
       "      <th>248148</th>\n",
       "      <td>126032</td>\n",
       "      <td>652</td>\n",
       "      <td>5.0</td>\n",
       "      <td>1</td>\n",
       "      <td>2014-09-16</td>\n",
       "      <td>!</td>\n",
       "    </tr>\n",
       "    <tr>\n",
       "      <th>62965</th>\n",
       "      <td>30044</td>\n",
       "      <td>165</td>\n",
       "      <td>4.0</td>\n",
       "      <td>1</td>\n",
       "      <td>2011-06-27</td>\n",
       "      <td>* For a second, just forget about the greek fi...</td>\n",
       "    </tr>\n",
       "    <tr>\n",
       "      <th>330622</th>\n",
       "      <td>119630</td>\n",
       "      <td>872</td>\n",
       "      <td>2.0</td>\n",
       "      <td>1</td>\n",
       "      <td>2010-11-15</td>\n",
       "      <td>-</td>\n",
       "    </tr>\n",
       "    <tr>\n",
       "      <th>230112</th>\n",
       "      <td>119630</td>\n",
       "      <td>603</td>\n",
       "      <td>5.0</td>\n",
       "      <td>1</td>\n",
       "      <td>2010-11-15</td>\n",
       "      <td>-</td>\n",
       "    </tr>\n",
       "    <tr>\n",
       "      <th>105697</th>\n",
       "      <td>66546</td>\n",
       "      <td>296</td>\n",
       "      <td>4.0</td>\n",
       "      <td>-1</td>\n",
       "      <td>2014-11-06</td>\n",
       "      <td>.</td>\n",
       "    </tr>\n",
       "    <tr>\n",
       "      <th>...</th>\n",
       "      <td>...</td>\n",
       "      <td>...</td>\n",
       "      <td>...</td>\n",
       "      <td>...</td>\n",
       "      <td>...</td>\n",
       "      <td>...</td>\n",
       "    </tr>\n",
       "    <tr>\n",
       "      <th>260251</th>\n",
       "      <td>8387</td>\n",
       "      <td>672</td>\n",
       "      <td>4.0</td>\n",
       "      <td>-1</td>\n",
       "      <td>2014-08-09</td>\n",
       "      <td>yumm</td>\n",
       "    </tr>\n",
       "    <tr>\n",
       "      <th>208201</th>\n",
       "      <td>110882</td>\n",
       "      <td>555</td>\n",
       "      <td>5.0</td>\n",
       "      <td>-1</td>\n",
       "      <td>2014-06-11</td>\n",
       "      <td>yummy</td>\n",
       "    </tr>\n",
       "    <tr>\n",
       "      <th>200966</th>\n",
       "      <td>95275</td>\n",
       "      <td>542</td>\n",
       "      <td>5.0</td>\n",
       "      <td>-1</td>\n",
       "      <td>2014-08-20</td>\n",
       "      <td>yummy</td>\n",
       "    </tr>\n",
       "    <tr>\n",
       "      <th>114235</th>\n",
       "      <td>64792</td>\n",
       "      <td>331</td>\n",
       "      <td>4.0</td>\n",
       "      <td>1</td>\n",
       "      <td>2014-05-02</td>\n",
       "      <td>yummy!</td>\n",
       "    </tr>\n",
       "    <tr>\n",
       "      <th>157109</th>\n",
       "      <td>46636</td>\n",
       "      <td>448</td>\n",
       "      <td>5.0</td>\n",
       "      <td>1</td>\n",
       "      <td>2009-03-30</td>\n",
       "      <td>yummy!</td>\n",
       "    </tr>\n",
       "  </tbody>\n",
       "</table>\n",
       "<p>877 rows × 6 columns</p>\n",
       "</div>"
      ],
      "text/plain": [
       "        user_id  prod_id  rating  target        date  \\\n",
       "248148   126032      652     5.0       1  2014-09-16   \n",
       "62965     30044      165     4.0       1  2011-06-27   \n",
       "330622   119630      872     2.0       1  2010-11-15   \n",
       "230112   119630      603     5.0       1  2010-11-15   \n",
       "105697    66546      296     4.0      -1  2014-11-06   \n",
       "...         ...      ...     ...     ...         ...   \n",
       "260251     8387      672     4.0      -1  2014-08-09   \n",
       "208201   110882      555     5.0      -1  2014-06-11   \n",
       "200966    95275      542     5.0      -1  2014-08-20   \n",
       "114235    64792      331     4.0       1  2014-05-02   \n",
       "157109    46636      448     5.0       1  2009-03-30   \n",
       "\n",
       "                                                   review  \n",
       "248148                                                  !  \n",
       "62965   * For a second, just forget about the greek fi...  \n",
       "330622                                                  -  \n",
       "230112                                                  -  \n",
       "105697                                                  .  \n",
       "...                                                   ...  \n",
       "260251                                               yumm  \n",
       "208201                                              yummy  \n",
       "200966                                              yummy  \n",
       "114235                                             yummy!  \n",
       "157109                                             yummy!  \n",
       "\n",
       "[877 rows x 6 columns]"
      ]
     },
     "execution_count": 14,
     "metadata": {},
     "output_type": "execute_result"
    }
   ],
   "source": [
    "\n",
    "merged_df.loc[merged_df['review'].duplicated(),:].sort_values(by='review')"
   ]
  },
  {
   "cell_type": "markdown",
   "id": "4557dbc5-9faa-4fe5-aa14-297346b50116",
   "metadata": {},
   "source": [
    "##### The duplicates contain a small sample compared to the dataset but it does contain a higher rate of fraud reviews."
   ]
  },
  {
   "cell_type": "code",
   "execution_count": 15,
   "id": "ed895fc4-7250-4157-8f2c-82a4d15d99bb",
   "metadata": {},
   "outputs": [
    {
     "data": {
      "text/plain": [
       " 1    569\n",
       "-1    308\n",
       "Name: target, dtype: int64"
      ]
     },
     "execution_count": 15,
     "metadata": {},
     "output_type": "execute_result"
    }
   ],
   "source": [
    "df_test = merged_df.loc[merged_df['review'].duplicated(),:]\n",
    "\n",
    "df_test['target'].value_counts()"
   ]
  },
  {
   "cell_type": "markdown",
   "id": "b964af65-a6f7-4de1-a536-664218c94595",
   "metadata": {},
   "source": [
    "##### Taking a look at the data for our target, we see that our data is imbalanced with nearly most of the reviews being true. The false statements are changed to to 0 instead of -1 which will be used later on."
   ]
  },
  {
   "cell_type": "code",
   "execution_count": 16,
   "id": "7457133a-4b63-440b-b11d-d63943afa3ff",
   "metadata": {},
   "outputs": [
    {
     "data": {
      "text/plain": [
       " 1    0.897314\n",
       "-1    0.102686\n",
       "Name: target, dtype: float64"
      ]
     },
     "execution_count": 16,
     "metadata": {},
     "output_type": "execute_result"
    }
   ],
   "source": [
    "merged_df['target'].value_counts(normalize = True)"
   ]
  },
  {
   "cell_type": "code",
   "execution_count": 17,
   "id": "f511f8cb-4221-443a-8cb2-56b2607e7f74",
   "metadata": {},
   "outputs": [],
   "source": [
    "merged_df['target'] = np.where(merged_df['target'] == -1,\n",
    "                             0, \n",
    "                             merged_df['target'])"
   ]
  },
  {
   "cell_type": "code",
   "execution_count": 18,
   "id": "11cfbe67-f2c0-4480-afa2-00110efba9e1",
   "metadata": {},
   "outputs": [
    {
     "data": {
      "text/plain": [
       "1    0.897314\n",
       "0    0.102686\n",
       "Name: target, dtype: float64"
      ]
     },
     "execution_count": 18,
     "metadata": {},
     "output_type": "execute_result"
    }
   ],
   "source": [
    "merged_df['target'].value_counts(normalize = True)"
   ]
  },
  {
   "cell_type": "markdown",
   "id": "24f0808c-6f48-4ecb-88e3-57233e3ef9f4",
   "metadata": {},
   "source": [
    "##### Here we create a new dataframe which combines the merged dataframe and prod_df which includes the name of the restaurants"
   ]
  },
  {
   "cell_type": "code",
   "execution_count": 19,
   "id": "74c1d0c5-67d7-4359-8453-814ebbd942d6",
   "metadata": {},
   "outputs": [],
   "source": [
    "restaurants_df = merged_df.merge(prod_df,\n",
    "                         how = 'inner',\n",
    "                         left_on = ['prod_id'],\n",
    "                         right_on = ['prod_id']\n",
    "                        )"
   ]
  },
  {
   "cell_type": "code",
   "execution_count": 20,
   "id": "a4e88440-30e4-4af1-8158-f9cadbef079a",
   "metadata": {},
   "outputs": [
    {
     "data": {
      "text/html": [
       "<div>\n",
       "<style scoped>\n",
       "    .dataframe tbody tr th:only-of-type {\n",
       "        vertical-align: middle;\n",
       "    }\n",
       "\n",
       "    .dataframe tbody tr th {\n",
       "        vertical-align: top;\n",
       "    }\n",
       "\n",
       "    .dataframe thead th {\n",
       "        text-align: right;\n",
       "    }\n",
       "</style>\n",
       "<table border=\"1\" class=\"dataframe\">\n",
       "  <thead>\n",
       "    <tr style=\"text-align: right;\">\n",
       "      <th></th>\n",
       "      <th>user_id</th>\n",
       "      <th>prod_id</th>\n",
       "      <th>rating</th>\n",
       "      <th>target</th>\n",
       "      <th>date</th>\n",
       "      <th>review</th>\n",
       "      <th>name</th>\n",
       "    </tr>\n",
       "  </thead>\n",
       "  <tbody>\n",
       "    <tr>\n",
       "      <th>0</th>\n",
       "      <td>923</td>\n",
       "      <td>0</td>\n",
       "      <td>3.0</td>\n",
       "      <td>0</td>\n",
       "      <td>2014-12-08</td>\n",
       "      <td>The food at snack is a selection of popular Gr...</td>\n",
       "      <td>Snack</td>\n",
       "    </tr>\n",
       "    <tr>\n",
       "      <th>1</th>\n",
       "      <td>924</td>\n",
       "      <td>0</td>\n",
       "      <td>3.0</td>\n",
       "      <td>0</td>\n",
       "      <td>2013-05-16</td>\n",
       "      <td>This little place in Soho is wonderful. I had ...</td>\n",
       "      <td>Snack</td>\n",
       "    </tr>\n",
       "    <tr>\n",
       "      <th>2</th>\n",
       "      <td>925</td>\n",
       "      <td>0</td>\n",
       "      <td>4.0</td>\n",
       "      <td>0</td>\n",
       "      <td>2013-07-01</td>\n",
       "      <td>ordered lunch for 15 from Snack last Friday.  ...</td>\n",
       "      <td>Snack</td>\n",
       "    </tr>\n",
       "    <tr>\n",
       "      <th>3</th>\n",
       "      <td>926</td>\n",
       "      <td>0</td>\n",
       "      <td>4.0</td>\n",
       "      <td>0</td>\n",
       "      <td>2011-07-28</td>\n",
       "      <td>This is a beautiful quaint little restaurant o...</td>\n",
       "      <td>Snack</td>\n",
       "    </tr>\n",
       "    <tr>\n",
       "      <th>4</th>\n",
       "      <td>927</td>\n",
       "      <td>0</td>\n",
       "      <td>4.0</td>\n",
       "      <td>0</td>\n",
       "      <td>2010-11-01</td>\n",
       "      <td>Snack is great place for a  casual sit down lu...</td>\n",
       "      <td>Snack</td>\n",
       "    </tr>\n",
       "    <tr>\n",
       "      <th>5</th>\n",
       "      <td>928</td>\n",
       "      <td>0</td>\n",
       "      <td>4.0</td>\n",
       "      <td>0</td>\n",
       "      <td>2009-09-02</td>\n",
       "      <td>A solid 4 stars for this greek food spot.  If ...</td>\n",
       "      <td>Snack</td>\n",
       "    </tr>\n",
       "    <tr>\n",
       "      <th>6</th>\n",
       "      <td>929</td>\n",
       "      <td>0</td>\n",
       "      <td>4.0</td>\n",
       "      <td>0</td>\n",
       "      <td>2009-08-25</td>\n",
       "      <td>Let me start with a shout-out to everyone who ...</td>\n",
       "      <td>Snack</td>\n",
       "    </tr>\n",
       "    <tr>\n",
       "      <th>7</th>\n",
       "      <td>930</td>\n",
       "      <td>0</td>\n",
       "      <td>4.0</td>\n",
       "      <td>0</td>\n",
       "      <td>2007-05-20</td>\n",
       "      <td>Love this place!  Try the Chicken sandwich or ...</td>\n",
       "      <td>Snack</td>\n",
       "    </tr>\n",
       "    <tr>\n",
       "      <th>8</th>\n",
       "      <td>931</td>\n",
       "      <td>0</td>\n",
       "      <td>4.0</td>\n",
       "      <td>0</td>\n",
       "      <td>2005-12-27</td>\n",
       "      <td>My friend and I were intrigued by the nightly ...</td>\n",
       "      <td>Snack</td>\n",
       "    </tr>\n",
       "    <tr>\n",
       "      <th>9</th>\n",
       "      <td>932</td>\n",
       "      <td>0</td>\n",
       "      <td>5.0</td>\n",
       "      <td>0</td>\n",
       "      <td>2014-05-09</td>\n",
       "      <td>Stopped in for lunch today and couldn't believ...</td>\n",
       "      <td>Snack</td>\n",
       "    </tr>\n",
       "    <tr>\n",
       "      <th>10</th>\n",
       "      <td>933</td>\n",
       "      <td>0</td>\n",
       "      <td>5.0</td>\n",
       "      <td>0</td>\n",
       "      <td>2014-01-21</td>\n",
       "      <td>pretty cool place...good food...good people</td>\n",
       "      <td>Snack</td>\n",
       "    </tr>\n",
       "    <tr>\n",
       "      <th>11</th>\n",
       "      <td>934</td>\n",
       "      <td>0</td>\n",
       "      <td>5.0</td>\n",
       "      <td>0</td>\n",
       "      <td>2014-01-20</td>\n",
       "      <td>all around good place, cozy, I came in and did...</td>\n",
       "      <td>Snack</td>\n",
       "    </tr>\n",
       "    <tr>\n",
       "      <th>12</th>\n",
       "      <td>935</td>\n",
       "      <td>0</td>\n",
       "      <td>5.0</td>\n",
       "      <td>0</td>\n",
       "      <td>2011-01-31</td>\n",
       "      <td>Fabulous Authentic Greek Food!!! This little s...</td>\n",
       "      <td>Snack</td>\n",
       "    </tr>\n",
       "    <tr>\n",
       "      <th>13</th>\n",
       "      <td>936</td>\n",
       "      <td>0</td>\n",
       "      <td>5.0</td>\n",
       "      <td>0</td>\n",
       "      <td>2008-07-07</td>\n",
       "      <td>Perfection.  Snack has become my favorite late...</td>\n",
       "      <td>Snack</td>\n",
       "    </tr>\n",
       "    <tr>\n",
       "      <th>14</th>\n",
       "      <td>937</td>\n",
       "      <td>0</td>\n",
       "      <td>4.0</td>\n",
       "      <td>1</td>\n",
       "      <td>2014-10-15</td>\n",
       "      <td>Tiny little place, but very good food. Pastits...</td>\n",
       "      <td>Snack</td>\n",
       "    </tr>\n",
       "  </tbody>\n",
       "</table>\n",
       "</div>"
      ],
      "text/plain": [
       "    user_id  prod_id  rating  target        date  \\\n",
       "0       923        0     3.0       0  2014-12-08   \n",
       "1       924        0     3.0       0  2013-05-16   \n",
       "2       925        0     4.0       0  2013-07-01   \n",
       "3       926        0     4.0       0  2011-07-28   \n",
       "4       927        0     4.0       0  2010-11-01   \n",
       "5       928        0     4.0       0  2009-09-02   \n",
       "6       929        0     4.0       0  2009-08-25   \n",
       "7       930        0     4.0       0  2007-05-20   \n",
       "8       931        0     4.0       0  2005-12-27   \n",
       "9       932        0     5.0       0  2014-05-09   \n",
       "10      933        0     5.0       0  2014-01-21   \n",
       "11      934        0     5.0       0  2014-01-20   \n",
       "12      935        0     5.0       0  2011-01-31   \n",
       "13      936        0     5.0       0  2008-07-07   \n",
       "14      937        0     4.0       1  2014-10-15   \n",
       "\n",
       "                                               review   name  \n",
       "0   The food at snack is a selection of popular Gr...  Snack  \n",
       "1   This little place in Soho is wonderful. I had ...  Snack  \n",
       "2   ordered lunch for 15 from Snack last Friday.  ...  Snack  \n",
       "3   This is a beautiful quaint little restaurant o...  Snack  \n",
       "4   Snack is great place for a  casual sit down lu...  Snack  \n",
       "5   A solid 4 stars for this greek food spot.  If ...  Snack  \n",
       "6   Let me start with a shout-out to everyone who ...  Snack  \n",
       "7   Love this place!  Try the Chicken sandwich or ...  Snack  \n",
       "8   My friend and I were intrigued by the nightly ...  Snack  \n",
       "9   Stopped in for lunch today and couldn't believ...  Snack  \n",
       "10        pretty cool place...good food...good people  Snack  \n",
       "11  all around good place, cozy, I came in and did...  Snack  \n",
       "12  Fabulous Authentic Greek Food!!! This little s...  Snack  \n",
       "13  Perfection.  Snack has become my favorite late...  Snack  \n",
       "14  Tiny little place, but very good food. Pastits...  Snack  "
      ]
     },
     "execution_count": 20,
     "metadata": {},
     "output_type": "execute_result"
    }
   ],
   "source": [
    "restaurants_df.head(15)"
   ]
  },
  {
   "cell_type": "markdown",
   "id": "f5058168-8ad5-4e36-bbe0-f35076dd7f02",
   "metadata": {},
   "source": [
    "##### Here we take a look at the most reviewed places in NYC in our dataset. By asking some locals in the greater New york area, these numbers reflect on the popularity of the place."
   ]
  },
  {
   "cell_type": "code",
   "execution_count": 21,
   "id": "f9f0ac24-ca81-41b3-860f-19486c48531f",
   "metadata": {},
   "outputs": [
    {
     "data": {
      "text/plain": [
       "name\n",
       "Ippudo NY                        7378\n",
       "The Halal Guys                   6632\n",
       "Lombardi’s Pizza                 4716\n",
       "Grimaldi’s                       3935\n",
       "Joe’s Shanghai                   3143\n",
       "Pommes Frites                    3122\n",
       "Totto Ramen                      2999\n",
       "Eataly NYC                       2943\n",
       "Artichoke Basille’s Pizza        2848\n",
       "Clinton Street Baking Company    2677\n",
       "Cafe Habana                      2560\n",
       "Prosperity Dumpling              2536\n",
       "The Meatball Shop                2292\n",
       "The Spotted Pig                  2183\n",
       "L & B Spumoni Gardens            2165\n",
       "Cafeteria                        2158\n",
       "Di Fara Pizza                    2072\n",
       "Balthazar Restaurant             2065\n",
       "Gramercy Tavern                  1973\n",
       "Jane                             1958\n",
       "Name: target, dtype: int64"
      ]
     },
     "execution_count": 21,
     "metadata": {},
     "output_type": "execute_result"
    }
   ],
   "source": [
    "restaurants_df.groupby('name')['target'].count().sort_values(ascending = False).head(20)"
   ]
  },
  {
   "cell_type": "markdown",
   "id": "11bfe849-4b3f-4985-a01f-505200bc1e47",
   "metadata": {},
   "source": [
    "##### We want to take a closer look at the deceptive reviews so we plot the count side by side. As it was mentioned earlier, the data is very skewed where most reviews are truthful, which is a good thing in the real world."
   ]
  },
  {
   "cell_type": "code",
   "execution_count": 22,
   "id": "a6724527-5eab-4753-a27b-31ff9b528c3b",
   "metadata": {},
   "outputs": [
    {
     "data": {
      "image/png": "[encoded data removed]",
      "text/plain": [
       "<Figure size 720x720 with 1 Axes>"
      ]
     },
     "metadata": {
      "needs_background": "light"
     },
     "output_type": "display_data"
    }
   ],
   "source": [
    "fig, ax = plt.subplots(figsize = (10,10))\n",
    "\n",
    "sns.set(style='darkgrid')\n",
    "color = sns.color_palette('Set1')\n",
    "ax.grid (False)\n",
    "ax = sns.countplot(x ='target', data = restaurants_df, palette = color)\n",
    "plt.title('Real vs Fraud Review Distribution',size = 20)\n",
    "plt.xlabel('')\n",
    "plt.ylabel('Count', size = 15)\n",
    "labels = ['Fraud','Truth']\n",
    "plt.xticks([0,1],labels, size = 20);"
   ]
  },
  {
   "cell_type": "markdown",
   "id": "79978a7b-d757-47e1-a3ed-84605a88af53",
   "metadata": {},
   "source": [
    "##### How does each compare to the overall data? We take a closer look at each location and see the breakdown. By taking the average of our target value, we can determine the percentage of truthfulness which is why the target values were changed from -1 to 0. We isolate the count and combine it with the target review and rating to get a better picture."
   ]
  },
  {
   "cell_type": "code",
   "execution_count": 23,
   "id": "9aac9604-bc8d-45c9-90e8-47f9cd889dcf",
   "metadata": {},
   "outputs": [
    {
     "data": {
      "text/html": [
       "<div>\n",
       "<style scoped>\n",
       "    .dataframe tbody tr th:only-of-type {\n",
       "        vertical-align: middle;\n",
       "    }\n",
       "\n",
       "    .dataframe tbody tr th {\n",
       "        vertical-align: top;\n",
       "    }\n",
       "\n",
       "    .dataframe thead th {\n",
       "        text-align: right;\n",
       "    }\n",
       "</style>\n",
       "<table border=\"1\" class=\"dataframe\">\n",
       "  <thead>\n",
       "    <tr style=\"text-align: right;\">\n",
       "      <th></th>\n",
       "      <th>rating</th>\n",
       "      <th>target</th>\n",
       "    </tr>\n",
       "    <tr>\n",
       "      <th>name</th>\n",
       "      <th></th>\n",
       "      <th></th>\n",
       "    </tr>\n",
       "  </thead>\n",
       "  <tbody>\n",
       "    <tr>\n",
       "      <th>10 Devoe</th>\n",
       "      <td>4.863636</td>\n",
       "      <td>1.000000</td>\n",
       "    </tr>\n",
       "    <tr>\n",
       "      <th>Sun Hing Lung Co</th>\n",
       "      <td>4.297297</td>\n",
       "      <td>1.000000</td>\n",
       "    </tr>\n",
       "    <tr>\n",
       "      <th>Khao Man Gai NY</th>\n",
       "      <td>4.466667</td>\n",
       "      <td>1.000000</td>\n",
       "    </tr>\n",
       "    <tr>\n",
       "      <th>Landhaus</th>\n",
       "      <td>4.652174</td>\n",
       "      <td>1.000000</td>\n",
       "    </tr>\n",
       "    <tr>\n",
       "      <th>Lunchbox Lic</th>\n",
       "      <td>4.650000</td>\n",
       "      <td>1.000000</td>\n",
       "    </tr>\n",
       "    <tr>\n",
       "      <th>...</th>\n",
       "      <td>...</td>\n",
       "      <td>...</td>\n",
       "    </tr>\n",
       "    <tr>\n",
       "      <th>The Gorbals</th>\n",
       "      <td>4.016129</td>\n",
       "      <td>0.709677</td>\n",
       "    </tr>\n",
       "    <tr>\n",
       "      <th>Chopping Block</th>\n",
       "      <td>4.603774</td>\n",
       "      <td>0.698113</td>\n",
       "    </tr>\n",
       "    <tr>\n",
       "      <th>Take Root</th>\n",
       "      <td>4.640000</td>\n",
       "      <td>0.680000</td>\n",
       "    </tr>\n",
       "    <tr>\n",
       "      <th>Anthony and Son Panini Shoppe</th>\n",
       "      <td>4.673469</td>\n",
       "      <td>0.653061</td>\n",
       "    </tr>\n",
       "    <tr>\n",
       "      <th>The Wheelhouse Brooklyn</th>\n",
       "      <td>4.490909</td>\n",
       "      <td>0.345455</td>\n",
       "    </tr>\n",
       "  </tbody>\n",
       "</table>\n",
       "<p>923 rows × 2 columns</p>\n",
       "</div>"
      ],
      "text/plain": [
       "                                 rating    target\n",
       "name                                             \n",
       "10 Devoe                       4.863636  1.000000\n",
       "Sun Hing Lung Co               4.297297  1.000000\n",
       "Khao Man Gai NY                4.466667  1.000000\n",
       "Landhaus                       4.652174  1.000000\n",
       "Lunchbox Lic                   4.650000  1.000000\n",
       "...                                 ...       ...\n",
       "The Gorbals                    4.016129  0.709677\n",
       "Chopping Block                 4.603774  0.698113\n",
       "Take Root                      4.640000  0.680000\n",
       "Anthony and Son Panini Shoppe  4.673469  0.653061\n",
       "The Wheelhouse Brooklyn        4.490909  0.345455\n",
       "\n",
       "[923 rows x 2 columns]"
      ]
     },
     "execution_count": 23,
     "metadata": {},
     "output_type": "execute_result"
    }
   ],
   "source": [
    "target_ratio = restaurants_df.groupby('name')[['rating','target']].mean().sort_values(by = 'target',ascending = False)\n",
    "target_ratio"
   ]
  },
  {
   "cell_type": "code",
   "execution_count": 24,
   "id": "e068c952-b566-41f5-b4b0-e790d125899c",
   "metadata": {},
   "outputs": [
    {
     "data": {
      "text/html": [
       "<div>\n",
       "<style scoped>\n",
       "    .dataframe tbody tr th:only-of-type {\n",
       "        vertical-align: middle;\n",
       "    }\n",
       "\n",
       "    .dataframe tbody tr th {\n",
       "        vertical-align: top;\n",
       "    }\n",
       "\n",
       "    .dataframe thead th {\n",
       "        text-align: right;\n",
       "    }\n",
       "</style>\n",
       "<table border=\"1\" class=\"dataframe\">\n",
       "  <thead>\n",
       "    <tr style=\"text-align: right;\">\n",
       "      <th></th>\n",
       "      <th>user_id</th>\n",
       "    </tr>\n",
       "    <tr>\n",
       "      <th>name</th>\n",
       "      <th></th>\n",
       "    </tr>\n",
       "  </thead>\n",
       "  <tbody>\n",
       "    <tr>\n",
       "      <th>10 Devoe</th>\n",
       "      <td>22</td>\n",
       "    </tr>\n",
       "    <tr>\n",
       "      <th>100 Montaditos</th>\n",
       "      <td>213</td>\n",
       "    </tr>\n",
       "    <tr>\n",
       "      <th>983-Bushwick’s Living Room</th>\n",
       "      <td>184</td>\n",
       "    </tr>\n",
       "    <tr>\n",
       "      <th>99 Favor Taste</th>\n",
       "      <td>313</td>\n",
       "    </tr>\n",
       "    <tr>\n",
       "      <th>A Little Taste</th>\n",
       "      <td>23</td>\n",
       "    </tr>\n",
       "    <tr>\n",
       "      <th>...</th>\n",
       "      <td>...</td>\n",
       "    </tr>\n",
       "    <tr>\n",
       "      <th>Zoralie Restaurant</th>\n",
       "      <td>27</td>\n",
       "    </tr>\n",
       "    <tr>\n",
       "      <th>Zutto Japanese American Pub</th>\n",
       "      <td>608</td>\n",
       "    </tr>\n",
       "    <tr>\n",
       "      <th>ilili</th>\n",
       "      <td>1536</td>\n",
       "    </tr>\n",
       "    <tr>\n",
       "      <th>nosh Borough</th>\n",
       "      <td>69</td>\n",
       "    </tr>\n",
       "    <tr>\n",
       "      <th>re.union cafe</th>\n",
       "      <td>30</td>\n",
       "    </tr>\n",
       "  </tbody>\n",
       "</table>\n",
       "<p>923 rows × 1 columns</p>\n",
       "</div>"
      ],
      "text/plain": [
       "                             user_id\n",
       "name                                \n",
       "10 Devoe                          22\n",
       "100 Montaditos                   213\n",
       "983-Bushwick’s Living Room       184\n",
       "99 Favor Taste                   313\n",
       "A Little Taste                    23\n",
       "...                              ...\n",
       "Zoralie Restaurant                27\n",
       "Zutto Japanese American Pub      608\n",
       "ilili                           1536\n",
       "nosh Borough                      69\n",
       "re.union cafe                     30\n",
       "\n",
       "[923 rows x 1 columns]"
      ]
     },
     "execution_count": 24,
     "metadata": {},
     "output_type": "execute_result"
    }
   ],
   "source": [
    "total_count = restaurants_df.groupby('name')['user_id'].count()\n",
    "total_count.to_frame()"
   ]
  },
  {
   "cell_type": "code",
   "execution_count": 25,
   "id": "619edf8c-8d42-4ef8-b35a-c99f61022c87",
   "metadata": {},
   "outputs": [],
   "source": [
    "truth_breakdown_df = target_ratio.merge(total_count,\n",
    "                         how = 'inner',\n",
    "                         left_on = ['name'],\n",
    "                         right_on = ['name']\n",
    "                         )"
   ]
  },
  {
   "cell_type": "code",
   "execution_count": 26,
   "id": "869549d6-616d-4dd1-a00c-30ce2ea64cff",
   "metadata": {
    "tags": []
   },
   "outputs": [
    {
     "data": {
      "text/html": [
       "<div>\n",
       "<style scoped>\n",
       "    .dataframe tbody tr th:only-of-type {\n",
       "        vertical-align: middle;\n",
       "    }\n",
       "\n",
       "    .dataframe tbody tr th {\n",
       "        vertical-align: top;\n",
       "    }\n",
       "\n",
       "    .dataframe thead th {\n",
       "        text-align: right;\n",
       "    }\n",
       "</style>\n",
       "<table border=\"1\" class=\"dataframe\">\n",
       "  <thead>\n",
       "    <tr style=\"text-align: right;\">\n",
       "      <th></th>\n",
       "      <th>rating</th>\n",
       "      <th>target</th>\n",
       "      <th>user_id</th>\n",
       "    </tr>\n",
       "    <tr>\n",
       "      <th>name</th>\n",
       "      <th></th>\n",
       "      <th></th>\n",
       "      <th></th>\n",
       "    </tr>\n",
       "  </thead>\n",
       "  <tbody>\n",
       "    <tr>\n",
       "      <th>10 Devoe</th>\n",
       "      <td>4.863636</td>\n",
       "      <td>1.000000</td>\n",
       "      <td>22</td>\n",
       "    </tr>\n",
       "    <tr>\n",
       "      <th>Sun Hing Lung Co</th>\n",
       "      <td>4.297297</td>\n",
       "      <td>1.000000</td>\n",
       "      <td>37</td>\n",
       "    </tr>\n",
       "    <tr>\n",
       "      <th>Khao Man Gai NY</th>\n",
       "      <td>4.466667</td>\n",
       "      <td>1.000000</td>\n",
       "      <td>15</td>\n",
       "    </tr>\n",
       "    <tr>\n",
       "      <th>Landhaus</th>\n",
       "      <td>4.652174</td>\n",
       "      <td>1.000000</td>\n",
       "      <td>23</td>\n",
       "    </tr>\n",
       "    <tr>\n",
       "      <th>Lunchbox Lic</th>\n",
       "      <td>4.650000</td>\n",
       "      <td>1.000000</td>\n",
       "      <td>20</td>\n",
       "    </tr>\n",
       "    <tr>\n",
       "      <th>Brooklyn Proper</th>\n",
       "      <td>3.964286</td>\n",
       "      <td>1.000000</td>\n",
       "      <td>28</td>\n",
       "    </tr>\n",
       "    <tr>\n",
       "      <th>The Simone</th>\n",
       "      <td>4.619048</td>\n",
       "      <td>1.000000</td>\n",
       "      <td>21</td>\n",
       "    </tr>\n",
       "    <tr>\n",
       "      <th>Animals Food and Drink</th>\n",
       "      <td>4.818182</td>\n",
       "      <td>1.000000</td>\n",
       "      <td>11</td>\n",
       "    </tr>\n",
       "    <tr>\n",
       "      <th>Contrada Restaurant</th>\n",
       "      <td>4.239130</td>\n",
       "      <td>1.000000</td>\n",
       "      <td>46</td>\n",
       "    </tr>\n",
       "    <tr>\n",
       "      <th>Glady’s</th>\n",
       "      <td>4.093333</td>\n",
       "      <td>0.986667</td>\n",
       "      <td>75</td>\n",
       "    </tr>\n",
       "    <tr>\n",
       "      <th>Tuome</th>\n",
       "      <td>4.211268</td>\n",
       "      <td>0.985915</td>\n",
       "      <td>71</td>\n",
       "    </tr>\n",
       "    <tr>\n",
       "      <th>Cafe Hanamizuki</th>\n",
       "      <td>4.313433</td>\n",
       "      <td>0.985075</td>\n",
       "      <td>67</td>\n",
       "    </tr>\n",
       "    <tr>\n",
       "      <th>The Cellar</th>\n",
       "      <td>4.063758</td>\n",
       "      <td>0.979866</td>\n",
       "      <td>298</td>\n",
       "    </tr>\n",
       "    <tr>\n",
       "      <th>New York Kimchi</th>\n",
       "      <td>4.055556</td>\n",
       "      <td>0.977778</td>\n",
       "      <td>90</td>\n",
       "    </tr>\n",
       "    <tr>\n",
       "      <th>The Bao Shoppe</th>\n",
       "      <td>4.016000</td>\n",
       "      <td>0.976000</td>\n",
       "      <td>125</td>\n",
       "    </tr>\n",
       "    <tr>\n",
       "      <th>Arepa Lady 2</th>\n",
       "      <td>4.564103</td>\n",
       "      <td>0.974359</td>\n",
       "      <td>39</td>\n",
       "    </tr>\n",
       "    <tr>\n",
       "      <th>Delaware and Hudson</th>\n",
       "      <td>4.368421</td>\n",
       "      <td>0.973684</td>\n",
       "      <td>76</td>\n",
       "    </tr>\n",
       "    <tr>\n",
       "      <th>Cocoron</th>\n",
       "      <td>4.000000</td>\n",
       "      <td>0.973214</td>\n",
       "      <td>224</td>\n",
       "    </tr>\n",
       "    <tr>\n",
       "      <th>Narcissa</th>\n",
       "      <td>3.905405</td>\n",
       "      <td>0.972973</td>\n",
       "      <td>148</td>\n",
       "    </tr>\n",
       "    <tr>\n",
       "      <th>Emily</th>\n",
       "      <td>4.185185</td>\n",
       "      <td>0.972222</td>\n",
       "      <td>108</td>\n",
       "    </tr>\n",
       "    <tr>\n",
       "      <th>Rice Noodle Cart</th>\n",
       "      <td>4.500000</td>\n",
       "      <td>0.972222</td>\n",
       "      <td>36</td>\n",
       "    </tr>\n",
       "    <tr>\n",
       "      <th>Martha</th>\n",
       "      <td>3.878505</td>\n",
       "      <td>0.971963</td>\n",
       "      <td>107</td>\n",
       "    </tr>\n",
       "    <tr>\n",
       "      <th>La Brasa Peruana</th>\n",
       "      <td>4.114286</td>\n",
       "      <td>0.971429</td>\n",
       "      <td>35</td>\n",
       "    </tr>\n",
       "    <tr>\n",
       "      <th>Table 87 Coal Oven Pizza</th>\n",
       "      <td>4.402985</td>\n",
       "      <td>0.970149</td>\n",
       "      <td>67</td>\n",
       "    </tr>\n",
       "    <tr>\n",
       "      <th>Balvanera</th>\n",
       "      <td>4.545455</td>\n",
       "      <td>0.969697</td>\n",
       "      <td>33</td>\n",
       "    </tr>\n",
       "  </tbody>\n",
       "</table>\n",
       "</div>"
      ],
      "text/plain": [
       "                            rating    target  user_id\n",
       "name                                                 \n",
       "10 Devoe                  4.863636  1.000000       22\n",
       "Sun Hing Lung Co          4.297297  1.000000       37\n",
       "Khao Man Gai NY           4.466667  1.000000       15\n",
       "Landhaus                  4.652174  1.000000       23\n",
       "Lunchbox Lic              4.650000  1.000000       20\n",
       "Brooklyn Proper           3.964286  1.000000       28\n",
       "The Simone                4.619048  1.000000       21\n",
       "Animals Food and Drink    4.818182  1.000000       11\n",
       "Contrada Restaurant       4.239130  1.000000       46\n",
       "Glady’s                   4.093333  0.986667       75\n",
       "Tuome                     4.211268  0.985915       71\n",
       "Cafe Hanamizuki           4.313433  0.985075       67\n",
       "The Cellar                4.063758  0.979866      298\n",
       "New York Kimchi           4.055556  0.977778       90\n",
       "The Bao Shoppe            4.016000  0.976000      125\n",
       "Arepa Lady 2              4.564103  0.974359       39\n",
       "Delaware and Hudson       4.368421  0.973684       76\n",
       "Cocoron                   4.000000  0.973214      224\n",
       "Narcissa                  3.905405  0.972973      148\n",
       "Emily                     4.185185  0.972222      108\n",
       "Rice Noodle Cart          4.500000  0.972222       36\n",
       "Martha                    3.878505  0.971963      107\n",
       "La Brasa Peruana          4.114286  0.971429       35\n",
       "Table 87 Coal Oven Pizza  4.402985  0.970149       67\n",
       "Balvanera                 4.545455  0.969697       33"
      ]
     },
     "execution_count": 26,
     "metadata": {},
     "output_type": "execute_result"
    }
   ],
   "source": [
    "truth_breakdown_df.sort_values(by = 'target', ascending = False).head(25)"
   ]
  },
  {
   "cell_type": "code",
   "execution_count": 27,
   "id": "9071f6f4-7fe0-4c10-b1f2-7457cf517dbf",
   "metadata": {
    "tags": []
   },
   "outputs": [
    {
     "data": {
      "text/html": [
       "<div>\n",
       "<style scoped>\n",
       "    .dataframe tbody tr th:only-of-type {\n",
       "        vertical-align: middle;\n",
       "    }\n",
       "\n",
       "    .dataframe tbody tr th {\n",
       "        vertical-align: top;\n",
       "    }\n",
       "\n",
       "    .dataframe thead th {\n",
       "        text-align: right;\n",
       "    }\n",
       "</style>\n",
       "<table border=\"1\" class=\"dataframe\">\n",
       "  <thead>\n",
       "    <tr style=\"text-align: right;\">\n",
       "      <th></th>\n",
       "      <th>rating</th>\n",
       "      <th>target</th>\n",
       "      <th>user_id</th>\n",
       "    </tr>\n",
       "    <tr>\n",
       "      <th>name</th>\n",
       "      <th></th>\n",
       "      <th></th>\n",
       "      <th></th>\n",
       "    </tr>\n",
       "  </thead>\n",
       "  <tbody>\n",
       "    <tr>\n",
       "      <th>The Wheelhouse Brooklyn</th>\n",
       "      <td>4.490909</td>\n",
       "      <td>0.345455</td>\n",
       "      <td>55</td>\n",
       "    </tr>\n",
       "    <tr>\n",
       "      <th>Anthony and Son Panini Shoppe</th>\n",
       "      <td>4.673469</td>\n",
       "      <td>0.653061</td>\n",
       "      <td>49</td>\n",
       "    </tr>\n",
       "    <tr>\n",
       "      <th>Take Root</th>\n",
       "      <td>4.640000</td>\n",
       "      <td>0.680000</td>\n",
       "      <td>25</td>\n",
       "    </tr>\n",
       "    <tr>\n",
       "      <th>Chopping Block</th>\n",
       "      <td>4.603774</td>\n",
       "      <td>0.698113</td>\n",
       "      <td>53</td>\n",
       "    </tr>\n",
       "    <tr>\n",
       "      <th>The Gorbals</th>\n",
       "      <td>4.016129</td>\n",
       "      <td>0.709677</td>\n",
       "      <td>62</td>\n",
       "    </tr>\n",
       "    <tr>\n",
       "      <th>Savor Brooklyn</th>\n",
       "      <td>4.042553</td>\n",
       "      <td>0.723404</td>\n",
       "      <td>47</td>\n",
       "    </tr>\n",
       "    <tr>\n",
       "      <th>Dig Inn Seasonal Market</th>\n",
       "      <td>4.575000</td>\n",
       "      <td>0.725000</td>\n",
       "      <td>40</td>\n",
       "    </tr>\n",
       "    <tr>\n",
       "      <th>Manhattan Proper</th>\n",
       "      <td>3.631902</td>\n",
       "      <td>0.730061</td>\n",
       "      <td>163</td>\n",
       "    </tr>\n",
       "    <tr>\n",
       "      <th>Rao’s</th>\n",
       "      <td>4.299065</td>\n",
       "      <td>0.738318</td>\n",
       "      <td>107</td>\n",
       "    </tr>\n",
       "    <tr>\n",
       "      <th>Sweet &amp; Sara</th>\n",
       "      <td>4.769231</td>\n",
       "      <td>0.738462</td>\n",
       "      <td>65</td>\n",
       "    </tr>\n",
       "    <tr>\n",
       "      <th>Sud Vino &amp; Cucina</th>\n",
       "      <td>4.195946</td>\n",
       "      <td>0.743243</td>\n",
       "      <td>148</td>\n",
       "    </tr>\n",
       "    <tr>\n",
       "      <th>Blend on the Water</th>\n",
       "      <td>4.114638</td>\n",
       "      <td>0.744268</td>\n",
       "      <td>567</td>\n",
       "    </tr>\n",
       "    <tr>\n",
       "      <th>The Sea Fire Grill</th>\n",
       "      <td>4.284585</td>\n",
       "      <td>0.758893</td>\n",
       "      <td>253</td>\n",
       "    </tr>\n",
       "    <tr>\n",
       "      <th>Korchma Taras Bulba</th>\n",
       "      <td>4.041916</td>\n",
       "      <td>0.760479</td>\n",
       "      <td>167</td>\n",
       "    </tr>\n",
       "    <tr>\n",
       "      <th>Boubouki</th>\n",
       "      <td>4.537313</td>\n",
       "      <td>0.761194</td>\n",
       "      <td>67</td>\n",
       "    </tr>\n",
       "    <tr>\n",
       "      <th>Cafe Lore</th>\n",
       "      <td>4.203390</td>\n",
       "      <td>0.762712</td>\n",
       "      <td>59</td>\n",
       "    </tr>\n",
       "    <tr>\n",
       "      <th>Casablanca Restaurant</th>\n",
       "      <td>4.439024</td>\n",
       "      <td>0.764228</td>\n",
       "      <td>123</td>\n",
       "    </tr>\n",
       "    <tr>\n",
       "      <th>Chez Moi</th>\n",
       "      <td>3.967213</td>\n",
       "      <td>0.765027</td>\n",
       "      <td>183</td>\n",
       "    </tr>\n",
       "    <tr>\n",
       "      <th>Surfish Peruvian Bistro</th>\n",
       "      <td>4.134752</td>\n",
       "      <td>0.765957</td>\n",
       "      <td>282</td>\n",
       "    </tr>\n",
       "    <tr>\n",
       "      <th>Tacos El Bronco</th>\n",
       "      <td>4.281481</td>\n",
       "      <td>0.766667</td>\n",
       "      <td>270</td>\n",
       "    </tr>\n",
       "    <tr>\n",
       "      <th>Manny’s</th>\n",
       "      <td>4.590909</td>\n",
       "      <td>0.772727</td>\n",
       "      <td>44</td>\n",
       "    </tr>\n",
       "    <tr>\n",
       "      <th>LoLo’s Seafood Shack</th>\n",
       "      <td>4.580645</td>\n",
       "      <td>0.774194</td>\n",
       "      <td>31</td>\n",
       "    </tr>\n",
       "    <tr>\n",
       "      <th>Brancaccio’s Food Shop</th>\n",
       "      <td>4.533835</td>\n",
       "      <td>0.774436</td>\n",
       "      <td>133</td>\n",
       "    </tr>\n",
       "    <tr>\n",
       "      <th>Petit Oven</th>\n",
       "      <td>4.446154</td>\n",
       "      <td>0.776923</td>\n",
       "      <td>130</td>\n",
       "    </tr>\n",
       "    <tr>\n",
       "      <th>983-Bushwick’s Living Room</th>\n",
       "      <td>3.896739</td>\n",
       "      <td>0.777174</td>\n",
       "      <td>184</td>\n",
       "    </tr>\n",
       "  </tbody>\n",
       "</table>\n",
       "</div>"
      ],
      "text/plain": [
       "                                 rating    target  user_id\n",
       "name                                                      \n",
       "The Wheelhouse Brooklyn        4.490909  0.345455       55\n",
       "Anthony and Son Panini Shoppe  4.673469  0.653061       49\n",
       "Take Root                      4.640000  0.680000       25\n",
       "Chopping Block                 4.603774  0.698113       53\n",
       "The Gorbals                    4.016129  0.709677       62\n",
       "Savor Brooklyn                 4.042553  0.723404       47\n",
       "Dig Inn Seasonal Market        4.575000  0.725000       40\n",
       "Manhattan Proper               3.631902  0.730061      163\n",
       "Rao’s                          4.299065  0.738318      107\n",
       "Sweet & Sara                   4.769231  0.738462       65\n",
       "Sud Vino & Cucina              4.195946  0.743243      148\n",
       "Blend on the Water             4.114638  0.744268      567\n",
       "The Sea Fire Grill             4.284585  0.758893      253\n",
       "Korchma Taras Bulba            4.041916  0.760479      167\n",
       "Boubouki                       4.537313  0.761194       67\n",
       "Cafe Lore                      4.203390  0.762712       59\n",
       "Casablanca Restaurant          4.439024  0.764228      123\n",
       "Chez Moi                       3.967213  0.765027      183\n",
       "Surfish Peruvian Bistro        4.134752  0.765957      282\n",
       "Tacos El Bronco                4.281481  0.766667      270\n",
       "Manny’s                        4.590909  0.772727       44\n",
       "LoLo’s Seafood Shack           4.580645  0.774194       31\n",
       "Brancaccio’s Food Shop         4.533835  0.774436      133\n",
       "Petit Oven                     4.446154  0.776923      130\n",
       "983-Bushwick’s Living Room     3.896739  0.777174      184"
      ]
     },
     "execution_count": 27,
     "metadata": {},
     "output_type": "execute_result"
    }
   ],
   "source": [
    "truth_breakdown_df.sort_values(by ='target', ascending = True).head(25)"
   ]
  },
  {
   "cell_type": "markdown",
   "id": "616169f7-9925-49c3-b12c-4cb0a7212c91",
   "metadata": {},
   "source": [
    "Next we want to take a look at how the rating is distributed in the dataset. We see that that the fraud dataset has far more 5 stars compared to the truths."
   ]
  },
  {
   "cell_type": "code",
   "execution_count": 28,
   "id": "81b35d12-2bbc-42e1-946a-0eb3bc8f01e2",
   "metadata": {},
   "outputs": [
    {
     "data": {
      "text/html": [
       "<div>\n",
       "<style scoped>\n",
       "    .dataframe tbody tr th:only-of-type {\n",
       "        vertical-align: middle;\n",
       "    }\n",
       "\n",
       "    .dataframe tbody tr th {\n",
       "        vertical-align: top;\n",
       "    }\n",
       "\n",
       "    .dataframe thead th {\n",
       "        text-align: right;\n",
       "    }\n",
       "</style>\n",
       "<table border=\"1\" class=\"dataframe\">\n",
       "  <thead>\n",
       "    <tr style=\"text-align: right;\">\n",
       "      <th></th>\n",
       "      <th></th>\n",
       "      <th>review</th>\n",
       "    </tr>\n",
       "    <tr>\n",
       "      <th>target</th>\n",
       "      <th>rating</th>\n",
       "      <th></th>\n",
       "    </tr>\n",
       "  </thead>\n",
       "  <tbody>\n",
       "    <tr>\n",
       "      <th rowspan=\"5\" valign=\"top\">0</th>\n",
       "      <th>1.0</th>\n",
       "      <td>3566</td>\n",
       "    </tr>\n",
       "    <tr>\n",
       "      <th>2.0</th>\n",
       "      <td>2391</td>\n",
       "    </tr>\n",
       "    <tr>\n",
       "      <th>3.0</th>\n",
       "      <td>3167</td>\n",
       "    </tr>\n",
       "    <tr>\n",
       "      <th>4.0</th>\n",
       "      <td>10732</td>\n",
       "    </tr>\n",
       "    <tr>\n",
       "      <th>5.0</th>\n",
       "      <td>17004</td>\n",
       "    </tr>\n",
       "    <tr>\n",
       "      <th rowspan=\"5\" valign=\"top\">1</th>\n",
       "      <th>1.0</th>\n",
       "      <td>10656</td>\n",
       "    </tr>\n",
       "    <tr>\n",
       "      <th>2.0</th>\n",
       "      <td>18383</td>\n",
       "    </tr>\n",
       "    <tr>\n",
       "      <th>3.0</th>\n",
       "      <td>44464</td>\n",
       "    </tr>\n",
       "    <tr>\n",
       "      <th>4.0</th>\n",
       "      <td>124470</td>\n",
       "    </tr>\n",
       "    <tr>\n",
       "      <th>5.0</th>\n",
       "      <td>124124</td>\n",
       "    </tr>\n",
       "  </tbody>\n",
       "</table>\n",
       "</div>"
      ],
      "text/plain": [
       "               review\n",
       "target rating        \n",
       "0      1.0       3566\n",
       "       2.0       2391\n",
       "       3.0       3167\n",
       "       4.0      10732\n",
       "       5.0      17004\n",
       "1      1.0      10656\n",
       "       2.0      18383\n",
       "       3.0      44464\n",
       "       4.0     124470\n",
       "       5.0     124124"
      ]
     },
     "execution_count": 28,
     "metadata": {},
     "output_type": "execute_result"
    }
   ],
   "source": [
    "rating_distribution_df = restaurants_df.groupby(['target','rating'])['review'].count().to_frame()\n",
    "rating_distribution_df"
   ]
  },
  {
   "cell_type": "code",
   "execution_count": 29,
   "id": "42ef0ae1-e2dd-4a01-b3ab-5afb4b332b25",
   "metadata": {},
   "outputs": [],
   "source": [
    "false_dist_df = rating_distribution_df.iloc[:5,0].to_frame()"
   ]
  },
  {
   "cell_type": "code",
   "execution_count": 30,
   "id": "75f4c7bd-61c6-4c91-8c4d-c813a67c607f",
   "metadata": {},
   "outputs": [
    {
     "data": {
      "text/plain": [
       "target  rating\n",
       "0       1.0        3566\n",
       "        2.0        2391\n",
       "        3.0        3167\n",
       "        4.0       10732\n",
       "        5.0       17004\n",
       "Name: review, dtype: int64"
      ]
     },
     "execution_count": 30,
     "metadata": {},
     "output_type": "execute_result"
    }
   ],
   "source": [
    "false_dist_df['review']"
   ]
  },
  {
   "cell_type": "code",
   "execution_count": 31,
   "id": "ab7b9e6e-a5b4-4faa-9304-12fa5a1cb263",
   "metadata": {},
   "outputs": [
    {
     "data": {
      "text/html": [
       "<div>\n",
       "<style scoped>\n",
       "    .dataframe tbody tr th:only-of-type {\n",
       "        vertical-align: middle;\n",
       "    }\n",
       "\n",
       "    .dataframe tbody tr th {\n",
       "        vertical-align: top;\n",
       "    }\n",
       "\n",
       "    .dataframe thead th {\n",
       "        text-align: right;\n",
       "    }\n",
       "</style>\n",
       "<table border=\"1\" class=\"dataframe\">\n",
       "  <thead>\n",
       "    <tr style=\"text-align: right;\">\n",
       "      <th></th>\n",
       "      <th></th>\n",
       "      <th>review</th>\n",
       "    </tr>\n",
       "    <tr>\n",
       "      <th>target</th>\n",
       "      <th>rating</th>\n",
       "      <th></th>\n",
       "    </tr>\n",
       "  </thead>\n",
       "  <tbody>\n",
       "    <tr>\n",
       "      <th rowspan=\"5\" valign=\"top\">1</th>\n",
       "      <th>1.0</th>\n",
       "      <td>10656</td>\n",
       "    </tr>\n",
       "    <tr>\n",
       "      <th>2.0</th>\n",
       "      <td>18383</td>\n",
       "    </tr>\n",
       "    <tr>\n",
       "      <th>3.0</th>\n",
       "      <td>44464</td>\n",
       "    </tr>\n",
       "    <tr>\n",
       "      <th>4.0</th>\n",
       "      <td>124470</td>\n",
       "    </tr>\n",
       "    <tr>\n",
       "      <th>5.0</th>\n",
       "      <td>124124</td>\n",
       "    </tr>\n",
       "  </tbody>\n",
       "</table>\n",
       "</div>"
      ],
      "text/plain": [
       "               review\n",
       "target rating        \n",
       "1      1.0      10656\n",
       "       2.0      18383\n",
       "       3.0      44464\n",
       "       4.0     124470\n",
       "       5.0     124124"
      ]
     },
     "execution_count": 31,
     "metadata": {},
     "output_type": "execute_result"
    }
   ],
   "source": [
    "truth_dist_df = rating_distribution_df.iloc[5:,0].to_frame()\n",
    "truth_dist_df"
   ]
  },
  {
   "cell_type": "code",
   "execution_count": 32,
   "id": "3f1d12ac-ce31-4943-897f-22730b383b29",
   "metadata": {},
   "outputs": [
    {
     "name": "stdout",
     "output_type": "stream",
     "text": [
      "46.0% of the fraud reviews contain 5 star reviews\n",
      "39.0% of the true reviews contain 5 star reviews\n"
     ]
    }
   ],
   "source": [
    "#Percentage of 5 stars in the truth and fraud sets.\n",
    "false_5_star = false_dist_df['review'][0][5]/false_dist_df['review'][0].sum()\n",
    "true_5_star = truth_dist_df['review'][1][5]/truth_dist_df['review'][1].sum()\n",
    "\n",
    "print(f'{false_5_star.round(2)*100}% of the fraud reviews contain 5 star reviews')\n",
    "print(f'{true_5_star.round(2)*100}% of the true reviews contain 5 star reviews')"
   ]
  },
  {
   "cell_type": "code",
   "execution_count": 33,
   "id": "aac6fc2e-d822-48eb-bd7e-35a8f91107e2",
   "metadata": {},
   "outputs": [],
   "source": [
    "#\n",
    "# WRITE PY FILE\n",
    "#\n",
    "#\n",
    "#function to plot a sns graph given a list for the x and a set y value\n",
    "\n",
    "def sns_barplot(x,y=None,df=None,start = 1,grid = True, title = None, x_label = None, y_label = None,color_set ='Set1'):\n",
    "    len(x)\n",
    "    fig, ax = plt.subplots(figsize = (10,10))\n",
    "    sns.set(style='darkgrid')\n",
    "    \n",
    "    color = sns.color_palette(color_set)\n",
    "    \n",
    "    ax.grid (grid)\n",
    "    \n",
    "    \n",
    "    if df == None and type(x) is list:\n",
    "        ax = sns.barplot(x = x, y = y, palette = color)\n",
    "    #elif y == None:\n",
    "    #    pass\n",
    "    plt.title(title,size = 20)\n",
    "    plt.xlabel(x_label, size = 15)\n",
    "    plt.ylabel(y_label, size = 15)\n",
    "    i = 0\n",
    "    labels = []\n",
    "    count = []\n",
    "    \n",
    "    while i < len(x):\n",
    "        labels.append(i+start)\n",
    "        count.append(0+i)\n",
    "        i+=1\n",
    "    \n",
    "    plt.xticks(count,labels, size = 15);"
   ]
  },
  {
   "cell_type": "code",
   "execution_count": 34,
   "id": "4b8b1525-67c2-449b-82b0-93064755b898",
   "metadata": {},
   "outputs": [
    {
     "data": {
      "image/png": "[encoded data removed]",
      "text/plain": [
       "<Figure size 720x720 with 1 Axes>"
      ]
     },
     "metadata": {},
     "output_type": "display_data"
    }
   ],
   "source": [
    "x_f = [1,2,3,4,5]\n",
    "sns_barplot(x_f, \n",
    "            y = false_dist_df['review'], \n",
    "            title ='Fraud Review Distrubution',\n",
    "            x_label = 'Rating',\n",
    "            y_label = \"Count\",\n",
    "            color_set = 'Set1'\n",
    "           )\n",
    "            "
   ]
  },
  {
   "cell_type": "code",
   "execution_count": 35,
   "id": "aee86a33-0ebd-4c75-ba80-e9aecc1f285c",
   "metadata": {},
   "outputs": [
    {
     "data": {
      "image/png": "[encoded data removed]",
      "text/plain": [
       "<Figure size 720x720 with 1 Axes>"
      ]
     },
     "metadata": {},
     "output_type": "display_data"
    }
   ],
   "source": [
    "x_t = [1,2,3,4,5]\n",
    "sns_barplot(x = x_t,\n",
    "            y = truth_dist_df['review'], \n",
    "            title ='True Review Distrubution',\n",
    "            x_label = 'Rating',\n",
    "            y_label = \"Count\"\n",
    "           )"
   ]
  },
  {
   "cell_type": "raw",
   "id": "d4cabe78-1021-483c-a5a2-8026ffea9931",
   "metadata": {},
   "source": [
    "\\\\\\\n",
    "\n",
    "#NON FUNCTION VERSION OF GRAPH\n",
    "\n",
    "# fig, ax = plt.subplots(figsize = (10,10))\n",
    "# x = [1,2,3,4,5]\n",
    "# y = false_dist_df['review']\n",
    "\n",
    "# sns.set(style='darkgrid')\n",
    "# color = sns.color_palette('Set1')\n",
    "# ax.grid (True)\n",
    "# ax = sns.barplot(x = x, y = y, palette = color)\n",
    "# plt.title('Fraud Review Distribution',size = 20)\n",
    "# plt.xlabel('Rating', size = 15)\n",
    "# plt.ylabel('Count', size = 15)\n",
    "# labels = ['1','2','3','4','5']\n",
    "# plt.xticks([0,1,2,3,4],labels, size = 15);\n",
    "\n",
    "\\\\\\"
   ]
  },
  {
   "cell_type": "code",
   "execution_count": 36,
   "id": "638fb3e2-bfc8-4b5f-ac0b-3b58aadc09bd",
   "metadata": {},
   "outputs": [],
   "source": [
    "restaurants_w_year = restaurants_df.copy()"
   ]
  },
  {
   "cell_type": "code",
   "execution_count": 37,
   "id": "782617dd-8522-414f-9f08-1f1849fb9f4a",
   "metadata": {},
   "outputs": [],
   "source": [
    "restaurants_w_year['rev_year']= restaurants_w_year[\"date\"].astype(str).str[0:4]"
   ]
  },
  {
   "cell_type": "code",
   "execution_count": 38,
   "id": "8225e48b-bd95-4c43-8de0-499ab301a82c",
   "metadata": {},
   "outputs": [
    {
     "data": {
      "text/html": [
       "<div>\n",
       "<style scoped>\n",
       "    .dataframe tbody tr th:only-of-type {\n",
       "        vertical-align: middle;\n",
       "    }\n",
       "\n",
       "    .dataframe tbody tr th {\n",
       "        vertical-align: top;\n",
       "    }\n",
       "\n",
       "    .dataframe thead th {\n",
       "        text-align: right;\n",
       "    }\n",
       "</style>\n",
       "<table border=\"1\" class=\"dataframe\">\n",
       "  <thead>\n",
       "    <tr style=\"text-align: right;\">\n",
       "      <th></th>\n",
       "      <th></th>\n",
       "      <th>review</th>\n",
       "    </tr>\n",
       "    <tr>\n",
       "      <th>target</th>\n",
       "      <th>rev_year</th>\n",
       "      <th></th>\n",
       "    </tr>\n",
       "  </thead>\n",
       "  <tbody>\n",
       "    <tr>\n",
       "      <th rowspan=\"11\" valign=\"top\">0</th>\n",
       "      <th>2005</th>\n",
       "      <td>35</td>\n",
       "    </tr>\n",
       "    <tr>\n",
       "      <th>2006</th>\n",
       "      <td>101</td>\n",
       "    </tr>\n",
       "    <tr>\n",
       "      <th>2007</th>\n",
       "      <td>246</td>\n",
       "    </tr>\n",
       "    <tr>\n",
       "      <th>2008</th>\n",
       "      <td>750</td>\n",
       "    </tr>\n",
       "    <tr>\n",
       "      <th>2009</th>\n",
       "      <td>1968</td>\n",
       "    </tr>\n",
       "    <tr>\n",
       "      <th>2010</th>\n",
       "      <td>3303</td>\n",
       "    </tr>\n",
       "    <tr>\n",
       "      <th>2011</th>\n",
       "      <td>5561</td>\n",
       "    </tr>\n",
       "    <tr>\n",
       "      <th>2012</th>\n",
       "      <td>6148</td>\n",
       "    </tr>\n",
       "    <tr>\n",
       "      <th>2013</th>\n",
       "      <td>8178</td>\n",
       "    </tr>\n",
       "    <tr>\n",
       "      <th>2014</th>\n",
       "      <td>10404</td>\n",
       "    </tr>\n",
       "    <tr>\n",
       "      <th>2015</th>\n",
       "      <td>166</td>\n",
       "    </tr>\n",
       "  </tbody>\n",
       "</table>\n",
       "</div>"
      ],
      "text/plain": [
       "                 review\n",
       "target rev_year        \n",
       "0      2005          35\n",
       "       2006         101\n",
       "       2007         246\n",
       "       2008         750\n",
       "       2009        1968\n",
       "       2010        3303\n",
       "       2011        5561\n",
       "       2012        6148\n",
       "       2013        8178\n",
       "       2014       10404\n",
       "       2015         166"
      ]
     },
     "execution_count": 38,
     "metadata": {},
     "output_type": "execute_result"
    }
   ],
   "source": [
    "restaurants_w_year['rev_year'] = restaurants_w_year[\"rev_year\"].astype(int)\n",
    "false_year_dist = restaurants_w_year.groupby(['target', 'rev_year'])['review'].count().to_frame().iloc[:11,0]\n",
    "false_year_dist.to_frame()"
   ]
  },
  {
   "cell_type": "code",
   "execution_count": 39,
   "id": "5d96a2c1-ed06-42a2-88fa-b7fd2ad448a9",
   "metadata": {},
   "outputs": [
    {
     "data": {
      "text/html": [
       "<div>\n",
       "<style scoped>\n",
       "    .dataframe tbody tr th:only-of-type {\n",
       "        vertical-align: middle;\n",
       "    }\n",
       "\n",
       "    .dataframe tbody tr th {\n",
       "        vertical-align: top;\n",
       "    }\n",
       "\n",
       "    .dataframe thead th {\n",
       "        text-align: right;\n",
       "    }\n",
       "</style>\n",
       "<table border=\"1\" class=\"dataframe\">\n",
       "  <thead>\n",
       "    <tr style=\"text-align: right;\">\n",
       "      <th></th>\n",
       "      <th></th>\n",
       "      <th>review</th>\n",
       "    </tr>\n",
       "    <tr>\n",
       "      <th>target</th>\n",
       "      <th>rev_year</th>\n",
       "      <th></th>\n",
       "    </tr>\n",
       "  </thead>\n",
       "  <tbody>\n",
       "    <tr>\n",
       "      <th rowspan=\"12\" valign=\"top\">1</th>\n",
       "      <th>2004</th>\n",
       "      <td>3</td>\n",
       "    </tr>\n",
       "    <tr>\n",
       "      <th>2005</th>\n",
       "      <td>267</td>\n",
       "    </tr>\n",
       "    <tr>\n",
       "      <th>2006</th>\n",
       "      <td>1582</td>\n",
       "    </tr>\n",
       "    <tr>\n",
       "      <th>2007</th>\n",
       "      <td>4822</td>\n",
       "    </tr>\n",
       "    <tr>\n",
       "      <th>2008</th>\n",
       "      <td>9986</td>\n",
       "    </tr>\n",
       "    <tr>\n",
       "      <th>2009</th>\n",
       "      <td>18204</td>\n",
       "    </tr>\n",
       "    <tr>\n",
       "      <th>2010</th>\n",
       "      <td>30173</td>\n",
       "    </tr>\n",
       "    <tr>\n",
       "      <th>2011</th>\n",
       "      <td>42372</td>\n",
       "    </tr>\n",
       "    <tr>\n",
       "      <th>2012</th>\n",
       "      <td>49582</td>\n",
       "    </tr>\n",
       "    <tr>\n",
       "      <th>2013</th>\n",
       "      <td>67663</td>\n",
       "    </tr>\n",
       "    <tr>\n",
       "      <th>2014</th>\n",
       "      <td>95066</td>\n",
       "    </tr>\n",
       "    <tr>\n",
       "      <th>2015</th>\n",
       "      <td>2377</td>\n",
       "    </tr>\n",
       "  </tbody>\n",
       "</table>\n",
       "</div>"
      ],
      "text/plain": [
       "                 review\n",
       "target rev_year        \n",
       "1      2004           3\n",
       "       2005         267\n",
       "       2006        1582\n",
       "       2007        4822\n",
       "       2008        9986\n",
       "       2009       18204\n",
       "       2010       30173\n",
       "       2011       42372\n",
       "       2012       49582\n",
       "       2013       67663\n",
       "       2014       95066\n",
       "       2015        2377"
      ]
     },
     "execution_count": 39,
     "metadata": {},
     "output_type": "execute_result"
    }
   ],
   "source": [
    "restaurants_w_year['rev_year'] = restaurants_w_year[\"rev_year\"].astype(int)\n",
    "true_year_dist = restaurants_w_year.groupby(['target', 'rev_year'])['review'].count().to_frame().iloc[11:,0]\n",
    "true_year_dist.to_frame()"
   ]
  },
  {
   "cell_type": "code",
   "execution_count": 40,
   "id": "0a50c9d7-6a5a-42f5-9eac-929619888c81",
   "metadata": {},
   "outputs": [
    {
     "data": {
      "image/png": "[encoded data removed]",
      "text/plain": [
       "<Figure size 720x720 with 1 Axes>"
      ]
     },
     "metadata": {},
     "output_type": "display_data"
    }
   ],
   "source": [
    "x_t = ['05','06','07','08','09','10','11','12','13','14','15']\n",
    "sns_barplot(x = x_t,\n",
    "            y = false_year_dist.to_frame()['review'], \n",
    "            title ='Fraud Review Distrubution by Year',\n",
    "            x_label = 'Year in 2000s',\n",
    "            y_label = \"Count\",\n",
    "            start = 5\n",
    "           )"
   ]
  },
  {
   "cell_type": "code",
   "execution_count": 41,
   "id": "42cc9fcf-c9e6-4132-8c6d-89aa489a459a",
   "metadata": {},
   "outputs": [
    {
     "data": {
      "image/png": "[encoded data removed]",
      "text/plain": [
       "<Figure size 720x720 with 1 Axes>"
      ]
     },
     "metadata": {},
     "output_type": "display_data"
    }
   ],
   "source": [
    "x_t = ['04','05','06','07','08','09','10','11','12','13','14','15']\n",
    "sns_barplot(x = x_t,\n",
    "            y = true_year_dist.to_frame()['review'], \n",
    "            title ='TrueReview Distrubution by Year',\n",
    "            x_label = 'Year in 2000s',\n",
    "            y_label = \"Count\",\n",
    "            start = 4\n",
    "           )"
   ]
  },
  {
   "cell_type": "markdown",
   "id": "108a4028-5ef1-4f33-8ae0-140aa026d65d",
   "metadata": {},
   "source": [
    "##### We create a new cloned databased for further analysis to keep the original dataframes."
   ]
  },
  {
   "cell_type": "code",
   "execution_count": 42,
   "id": "7f66886b-6480-47e0-af71-7fe771bb32e0",
   "metadata": {},
   "outputs": [],
   "source": [
    "clone_df = restaurants_df.copy()"
   ]
  },
  {
   "cell_type": "markdown",
   "id": "7d1edc5a-9d54-4b7a-8c71-bfb3107dcf3c",
   "metadata": {},
   "source": [
    "##### We take a look at what we have in the reviews."
   ]
  },
  {
   "cell_type": "code",
   "execution_count": 43,
   "id": "0c241871-a3c6-4140-94b7-3f31a2885f42",
   "metadata": {},
   "outputs": [
    {
     "data": {
      "text/plain": [
       "\"This little place in Soho is wonderful. I had a lamb sandwich and a glass of wine. The price shocked me for how small the serving was, but then again, this is Soho. The staff can be a little snotty and rude, but the food is great, just don't expect world-class service.\""
      ]
     },
     "execution_count": 43,
     "metadata": {},
     "output_type": "execute_result"
    }
   ],
   "source": [
    "clone_df['review'].iloc[1]"
   ]
  },
  {
   "cell_type": "code",
   "execution_count": 44,
   "id": "9a5067a9-3ded-438e-a39d-198ddf89ab6d",
   "metadata": {},
   "outputs": [
    {
     "data": {
      "text/html": [
       "<div>\n",
       "<style scoped>\n",
       "    .dataframe tbody tr th:only-of-type {\n",
       "        vertical-align: middle;\n",
       "    }\n",
       "\n",
       "    .dataframe tbody tr th {\n",
       "        vertical-align: top;\n",
       "    }\n",
       "\n",
       "    .dataframe thead th {\n",
       "        text-align: right;\n",
       "    }\n",
       "</style>\n",
       "<table border=\"1\" class=\"dataframe\">\n",
       "  <thead>\n",
       "    <tr style=\"text-align: right;\">\n",
       "      <th></th>\n",
       "      <th>user_id</th>\n",
       "      <th>prod_id</th>\n",
       "      <th>rating</th>\n",
       "      <th>target</th>\n",
       "      <th>date</th>\n",
       "      <th>review</th>\n",
       "      <th>name</th>\n",
       "    </tr>\n",
       "  </thead>\n",
       "  <tbody>\n",
       "    <tr>\n",
       "      <th>0</th>\n",
       "      <td>923</td>\n",
       "      <td>0</td>\n",
       "      <td>3.0</td>\n",
       "      <td>0</td>\n",
       "      <td>2014-12-08</td>\n",
       "      <td>The food at snack is a selection of popular Gr...</td>\n",
       "      <td>Snack</td>\n",
       "    </tr>\n",
       "    <tr>\n",
       "      <th>1</th>\n",
       "      <td>924</td>\n",
       "      <td>0</td>\n",
       "      <td>3.0</td>\n",
       "      <td>0</td>\n",
       "      <td>2013-05-16</td>\n",
       "      <td>This little place in Soho is wonderful. I had ...</td>\n",
       "      <td>Snack</td>\n",
       "    </tr>\n",
       "    <tr>\n",
       "      <th>2</th>\n",
       "      <td>925</td>\n",
       "      <td>0</td>\n",
       "      <td>4.0</td>\n",
       "      <td>0</td>\n",
       "      <td>2013-07-01</td>\n",
       "      <td>ordered lunch for 15 from Snack last Friday.  ...</td>\n",
       "      <td>Snack</td>\n",
       "    </tr>\n",
       "    <tr>\n",
       "      <th>3</th>\n",
       "      <td>926</td>\n",
       "      <td>0</td>\n",
       "      <td>4.0</td>\n",
       "      <td>0</td>\n",
       "      <td>2011-07-28</td>\n",
       "      <td>This is a beautiful quaint little restaurant o...</td>\n",
       "      <td>Snack</td>\n",
       "    </tr>\n",
       "    <tr>\n",
       "      <th>4</th>\n",
       "      <td>927</td>\n",
       "      <td>0</td>\n",
       "      <td>4.0</td>\n",
       "      <td>0</td>\n",
       "      <td>2010-11-01</td>\n",
       "      <td>Snack is great place for a  casual sit down lu...</td>\n",
       "      <td>Snack</td>\n",
       "    </tr>\n",
       "  </tbody>\n",
       "</table>\n",
       "</div>"
      ],
      "text/plain": [
       "   user_id  prod_id  rating  target        date  \\\n",
       "0      923        0     3.0       0  2014-12-08   \n",
       "1      924        0     3.0       0  2013-05-16   \n",
       "2      925        0     4.0       0  2013-07-01   \n",
       "3      926        0     4.0       0  2011-07-28   \n",
       "4      927        0     4.0       0  2010-11-01   \n",
       "\n",
       "                                              review   name  \n",
       "0  The food at snack is a selection of popular Gr...  Snack  \n",
       "1  This little place in Soho is wonderful. I had ...  Snack  \n",
       "2  ordered lunch for 15 from Snack last Friday.  ...  Snack  \n",
       "3  This is a beautiful quaint little restaurant o...  Snack  \n",
       "4  Snack is great place for a  casual sit down lu...  Snack  "
      ]
     },
     "execution_count": 44,
     "metadata": {},
     "output_type": "execute_result"
    }
   ],
   "source": [
    "clone_df.head()"
   ]
  },
  {
   "cell_type": "markdown",
   "id": "3d2e2ea6-35b4-4108-9feb-22198358d9be",
   "metadata": {},
   "source": [
    "##### There are reviews with only few words and letters which would be difficult to differentiate. Anything under 15 letters will be removed to be conservative. According to this <a href=\"https://strainindex.wordpress.com/2008/07/28/the-average-sentence-length/\">study</a> an average sentence contains 15-20 characters which is where the parameters was set upon."
   ]
  },
  {
   "cell_type": "code",
   "execution_count": 45,
   "id": "a71465ef-8317-42ba-82d7-021c661cc18d",
   "metadata": {
    "tags": []
   },
   "outputs": [],
   "source": [
    "indexNames = []\n",
    "sub_5_reviews = []\n",
    "#enumerate through the cloned_df reviews and find any reviews with less than 5 words\n",
    "#this is important as there were reviews with simply characters and one words.\n",
    "for i,rev in enumerate(clone_df['review']):\n",
    "    if len(rev)<15:\n",
    "        indexNames.append(i)\n",
    "        sub_5_reviews.append(rev)"
   ]
  },
  {
   "cell_type": "code",
   "execution_count": 46,
   "id": "7d93f9b8-4da7-453c-bbb6-1b8ce0a74e85",
   "metadata": {},
   "outputs": [
    {
     "name": "stdout",
     "output_type": "stream",
     "text": [
      "Percentage Removed: 0.40784829380677906\n"
     ]
    }
   ],
   "source": [
    "#check for the percentage of data that will be affected\n",
    "i_len = len(indexNames)\n",
    "r_len = len(restaurants_df)\n",
    "\n",
    "\n",
    "print(\"Percentage Removed:\",((i_len/r_len)*100))"
   ]
  },
  {
   "cell_type": "code",
   "execution_count": 47,
   "id": "f8477408-4d2a-46d3-8138-df6f4e7932b9",
   "metadata": {},
   "outputs": [],
   "source": [
    "#convert the list into a dataframe for easier analysis\n",
    "sub_5_df = pd.DataFrame(sub_5_reviews, columns = ['review'])"
   ]
  },
  {
   "cell_type": "code",
   "execution_count": 48,
   "id": "651d79b5-ccd3-4000-a40d-d863543cac75",
   "metadata": {},
   "outputs": [
    {
     "data": {
      "text/html": [
       "<div>\n",
       "<style scoped>\n",
       "    .dataframe tbody tr th:only-of-type {\n",
       "        vertical-align: middle;\n",
       "    }\n",
       "\n",
       "    .dataframe tbody tr th {\n",
       "        vertical-align: top;\n",
       "    }\n",
       "\n",
       "    .dataframe thead th {\n",
       "        text-align: right;\n",
       "    }\n",
       "</style>\n",
       "<table border=\"1\" class=\"dataframe\">\n",
       "  <thead>\n",
       "    <tr style=\"text-align: right;\">\n",
       "      <th></th>\n",
       "      <th>review</th>\n",
       "    </tr>\n",
       "  </thead>\n",
       "  <tbody>\n",
       "    <tr>\n",
       "      <th>0</th>\n",
       "      <td>Very good food</td>\n",
       "    </tr>\n",
       "    <tr>\n",
       "      <th>1</th>\n",
       "      <td>I am a fan!</td>\n",
       "    </tr>\n",
       "    <tr>\n",
       "      <th>2</th>\n",
       "      <td>it was great</td>\n",
       "    </tr>\n",
       "    <tr>\n",
       "      <th>3</th>\n",
       "      <td>-</td>\n",
       "    </tr>\n",
       "    <tr>\n",
       "      <th>4</th>\n",
       "      <td>Good food</td>\n",
       "    </tr>\n",
       "    <tr>\n",
       "      <th>...</th>\n",
       "      <td>...</td>\n",
       "    </tr>\n",
       "    <tr>\n",
       "      <th>1459</th>\n",
       "      <td>Great Food!!!</td>\n",
       "    </tr>\n",
       "    <tr>\n",
       "      <th>1460</th>\n",
       "      <td>Good.</td>\n",
       "    </tr>\n",
       "    <tr>\n",
       "      <th>1461</th>\n",
       "      <td>awesome !</td>\n",
       "    </tr>\n",
       "    <tr>\n",
       "      <th>1462</th>\n",
       "      <td>best bbq EVER!</td>\n",
       "    </tr>\n",
       "    <tr>\n",
       "      <th>1463</th>\n",
       "      <td>Yummy Mojitos</td>\n",
       "    </tr>\n",
       "  </tbody>\n",
       "</table>\n",
       "<p>1464 rows × 1 columns</p>\n",
       "</div>"
      ],
      "text/plain": [
       "              review\n",
       "0     Very good food\n",
       "1        I am a fan!\n",
       "2       it was great\n",
       "3                  -\n",
       "4          Good food\n",
       "...              ...\n",
       "1459   Great Food!!!\n",
       "1460           Good.\n",
       "1461       awesome !\n",
       "1462  best bbq EVER!\n",
       "1463   Yummy Mojitos\n",
       "\n",
       "[1464 rows x 1 columns]"
      ]
     },
     "execution_count": 48,
     "metadata": {},
     "output_type": "execute_result"
    }
   ],
   "source": [
    "sub_5_df"
   ]
  },
  {
   "cell_type": "code",
   "execution_count": 49,
   "id": "c8072720-65b2-41a0-9a9f-afa9fa246654",
   "metadata": {},
   "outputs": [
    {
     "data": {
      "text/plain": [
       "1335     レビューを書き始める...\n",
       "955           zomg yes\n",
       "594      zizi rocks!!!\n",
       "281             yummy.\n",
       "118           yummy!!1\n",
       "554          yummy!!!!\n",
       "534             yummy!\n",
       "125             yummy!\n",
       "389             yummy!\n",
       "952      yummy seafood\n",
       "31      yummy place!!!\n",
       "758        yummy pizza\n",
       "1109        yummy food\n",
       "1345      yummy burger\n",
       "765              yummy\n",
       "463              yummy\n",
       "859              yummy\n",
       "1371          yummmmmm\n",
       "484        yummm balls\n",
       "150        yumm, vegan\n",
       "Name: review, dtype: object"
      ]
     },
     "execution_count": 49,
     "metadata": {},
     "output_type": "execute_result"
    }
   ],
   "source": [
    "sub_5_df['review'].sort_values(ascending = False).head(20)"
   ]
  },
  {
   "cell_type": "code",
   "execution_count": 50,
   "id": "8b0fbfab-4160-43cc-85bc-7423ce14b200",
   "metadata": {},
   "outputs": [
    {
     "data": {
      "text/plain": [
       "1056                !\n",
       "405                 !\n",
       "995     #fuckingsolid\n",
       "3                   -\n",
       "993                 -\n",
       "1317                -\n",
       "1204                .\n",
       "253                 .\n",
       "1124                .\n",
       "295                 .\n",
       "55                  .\n",
       "1067                .\n",
       "1436                .\n",
       "333                 .\n",
       "717                 .\n",
       "356                 .\n",
       "164                 .\n",
       "375                 .\n",
       "981                 .\n",
       "1367                .\n",
       "Name: review, dtype: object"
      ]
     },
     "execution_count": 50,
     "metadata": {},
     "output_type": "execute_result"
    }
   ],
   "source": [
    "sub_5_df['review'].sort_values(ascending = True).head(20)"
   ]
  },
  {
   "cell_type": "markdown",
   "id": "fa04275b-4dd9-48c3-9194-b678bd6576a1",
   "metadata": {},
   "source": [
    "##### We took a look at some the reviews removed. It is apparent that one word or a symbol is not enough to determine if a review is truthful or not. There are 1367 reviews removed and 1002 of them had unique comments."
   ]
  },
  {
   "cell_type": "code",
   "execution_count": 51,
   "id": "deaa644c-4181-42b2-9628-e8319610fd92",
   "metadata": {},
   "outputs": [
    {
     "data": {
      "text/plain": [
       "array(['Very good food', 'I am a fan!', 'it was great', ..., 'Great meze',\n",
       "       'best bbq EVER!', 'Yummy Mojitos'], dtype=object)"
      ]
     },
     "execution_count": 51,
     "metadata": {},
     "output_type": "execute_result"
    }
   ],
   "source": [
    "sub_5_df['review'].unique()"
   ]
  },
  {
   "cell_type": "code",
   "execution_count": 52,
   "id": "54021873-3a45-48c0-ac43-1908c779181f",
   "metadata": {},
   "outputs": [
    {
     "data": {
      "text/plain": [
       "1002"
      ]
     },
     "execution_count": 52,
     "metadata": {},
     "output_type": "execute_result"
    }
   ],
   "source": [
    "len(sub_5_df['review'].unique())"
   ]
  },
  {
   "cell_type": "code",
   "execution_count": 53,
   "id": "0d92edb3-18ac-40d0-b1eb-aa5261215ea4",
   "metadata": {},
   "outputs": [
    {
     "data": {
      "text/plain": [
       "358957"
      ]
     },
     "execution_count": 53,
     "metadata": {},
     "output_type": "execute_result"
    }
   ],
   "source": [
    "len(clone_df['review'])"
   ]
  },
  {
   "cell_type": "code",
   "execution_count": 54,
   "id": "f9aa9ec3-2bfa-4ef2-94fa-e027c6eec85b",
   "metadata": {},
   "outputs": [],
   "source": [
    "clone_df2 = clone_df.drop(indexNames)"
   ]
  },
  {
   "cell_type": "code",
   "execution_count": 55,
   "id": "73d1b7c7-ce4e-4cfc-81ef-4156db5b529d",
   "metadata": {},
   "outputs": [
    {
     "data": {
      "text/html": [
       "<div>\n",
       "<style scoped>\n",
       "    .dataframe tbody tr th:only-of-type {\n",
       "        vertical-align: middle;\n",
       "    }\n",
       "\n",
       "    .dataframe tbody tr th {\n",
       "        vertical-align: top;\n",
       "    }\n",
       "\n",
       "    .dataframe thead th {\n",
       "        text-align: right;\n",
       "    }\n",
       "</style>\n",
       "<table border=\"1\" class=\"dataframe\">\n",
       "  <thead>\n",
       "    <tr style=\"text-align: right;\">\n",
       "      <th></th>\n",
       "      <th>user_id</th>\n",
       "      <th>prod_id</th>\n",
       "      <th>rating</th>\n",
       "      <th>target</th>\n",
       "      <th>date</th>\n",
       "      <th>review</th>\n",
       "      <th>name</th>\n",
       "    </tr>\n",
       "  </thead>\n",
       "  <tbody>\n",
       "    <tr>\n",
       "      <th>0</th>\n",
       "      <td>923</td>\n",
       "      <td>0</td>\n",
       "      <td>3.0</td>\n",
       "      <td>0</td>\n",
       "      <td>2014-12-08</td>\n",
       "      <td>The food at snack is a selection of popular Gr...</td>\n",
       "      <td>Snack</td>\n",
       "    </tr>\n",
       "    <tr>\n",
       "      <th>1</th>\n",
       "      <td>924</td>\n",
       "      <td>0</td>\n",
       "      <td>3.0</td>\n",
       "      <td>0</td>\n",
       "      <td>2013-05-16</td>\n",
       "      <td>This little place in Soho is wonderful. I had ...</td>\n",
       "      <td>Snack</td>\n",
       "    </tr>\n",
       "    <tr>\n",
       "      <th>2</th>\n",
       "      <td>925</td>\n",
       "      <td>0</td>\n",
       "      <td>4.0</td>\n",
       "      <td>0</td>\n",
       "      <td>2013-07-01</td>\n",
       "      <td>ordered lunch for 15 from Snack last Friday.  ...</td>\n",
       "      <td>Snack</td>\n",
       "    </tr>\n",
       "    <tr>\n",
       "      <th>3</th>\n",
       "      <td>926</td>\n",
       "      <td>0</td>\n",
       "      <td>4.0</td>\n",
       "      <td>0</td>\n",
       "      <td>2011-07-28</td>\n",
       "      <td>This is a beautiful quaint little restaurant o...</td>\n",
       "      <td>Snack</td>\n",
       "    </tr>\n",
       "    <tr>\n",
       "      <th>4</th>\n",
       "      <td>927</td>\n",
       "      <td>0</td>\n",
       "      <td>4.0</td>\n",
       "      <td>0</td>\n",
       "      <td>2010-11-01</td>\n",
       "      <td>Snack is great place for a  casual sit down lu...</td>\n",
       "      <td>Snack</td>\n",
       "    </tr>\n",
       "  </tbody>\n",
       "</table>\n",
       "</div>"
      ],
      "text/plain": [
       "   user_id  prod_id  rating  target        date  \\\n",
       "0      923        0     3.0       0  2014-12-08   \n",
       "1      924        0     3.0       0  2013-05-16   \n",
       "2      925        0     4.0       0  2013-07-01   \n",
       "3      926        0     4.0       0  2011-07-28   \n",
       "4      927        0     4.0       0  2010-11-01   \n",
       "\n",
       "                                              review   name  \n",
       "0  The food at snack is a selection of popular Gr...  Snack  \n",
       "1  This little place in Soho is wonderful. I had ...  Snack  \n",
       "2  ordered lunch for 15 from Snack last Friday.  ...  Snack  \n",
       "3  This is a beautiful quaint little restaurant o...  Snack  \n",
       "4  Snack is great place for a  casual sit down lu...  Snack  "
      ]
     },
     "execution_count": 55,
     "metadata": {},
     "output_type": "execute_result"
    }
   ],
   "source": [
    "clone_df2.head()"
   ]
  },
  {
   "cell_type": "markdown",
   "id": "e2efdfea-4e5b-4ff9-8440-45770415f7dc",
   "metadata": {},
   "source": [
    "##### We take another look at the distribution and that the data has been skewed even more ever-so-slightly."
   ]
  },
  {
   "cell_type": "code",
   "execution_count": 56,
   "id": "eb6290e4-de46-4c06-a11a-31462a65552c",
   "metadata": {},
   "outputs": [
    {
     "data": {
      "text/plain": [
       "1    0.897314\n",
       "0    0.102686\n",
       "Name: target, dtype: float64"
      ]
     },
     "execution_count": 56,
     "metadata": {},
     "output_type": "execute_result"
    }
   ],
   "source": [
    "restaurants_df['target'].value_counts(normalize = True)"
   ]
  },
  {
   "cell_type": "code",
   "execution_count": 57,
   "id": "16e3854b-d036-44f3-8d9e-4de7ca43e33c",
   "metadata": {},
   "outputs": [
    {
     "data": {
      "text/plain": [
       "1    0.898225\n",
       "0    0.101775\n",
       "Name: target, dtype: float64"
      ]
     },
     "execution_count": 57,
     "metadata": {},
     "output_type": "execute_result"
    }
   ],
   "source": [
    "clone_df2['target'].value_counts(normalize = True)"
   ]
  },
  {
   "cell_type": "markdown",
   "id": "2f81b250-20df-4869-b9c2-f23e5bf08535",
   "metadata": {},
   "source": [
    "##### Since there is a good amount of data, we want to split a portion of it and leave it untouched. A random state has been set to keep the code consistent and stratify was used keep the imbalance in both the data. The data that will be uesd is X_data and y_data and the untouched data is named as such."
   ]
  },
  {
   "cell_type": "code",
   "execution_count": 58,
   "id": "e5537d4e-adaf-4e0d-a697-880d2f97a11a",
   "metadata": {},
   "outputs": [],
   "source": [
    "#seperate the target\n",
    "X_split = clone_df2.drop('target',axis = 1)\n",
    "y_split = clone_df2['target']\n",
    "X_data, X_untouched, y_data, y_untouched = train_test_split(X_split,\n",
    "                                                            y_split, \n",
    "                                                            test_size = 0.2, \n",
    "                                                            random_state = 42,\n",
    "                                                            stratify = y_split)"
   ]
  },
  {
   "cell_type": "code",
   "execution_count": 59,
   "id": "fbfe2bd9-f86c-4d54-9a16-e22a3a7e3b09",
   "metadata": {},
   "outputs": [],
   "source": [
    "#Code to export file\n",
    "\n",
    "# X_data.to_csv('restaurant_data')\n",
    "# y_data.to_csv('target_data')\n",
    "# X_untouched.to_csv('untouched_data')\n",
    "# y_untouched.to_csv('untouched_target')"
   ]
  },
  {
   "cell_type": "markdown",
   "id": "6760bf7a-7e98-43d8-a28a-f1fb5155f614",
   "metadata": {},
   "source": [
    "##### We want to make sure the distribution was properly split and we can confirm that by checking the taget value for the two seperate datasets."
   ]
  },
  {
   "cell_type": "code",
   "execution_count": 60,
   "id": "72e8314b-c8b2-4925-a70f-b024c30cdd12",
   "metadata": {},
   "outputs": [
    {
     "name": "stdout",
     "output_type": "stream",
     "text": [
      "Main File\n",
      "target\n",
      "1         0.898225\n",
      "0         0.101775\n",
      "dtype: float64\n",
      "\n",
      " Untouched data\n",
      "target\n",
      "1         0.898222\n",
      "0         0.101778\n",
      "dtype: float64\n"
     ]
    }
   ],
   "source": [
    "print('Main File')\n",
    "print(y_data.to_frame().value_counts(normalize = True))\n",
    "print('\\n','Untouched data')\n",
    "print(y_untouched.to_frame().value_counts(normalize = True))"
   ]
  },
  {
   "cell_type": "code",
   "execution_count": null,
   "id": "b466a73f-fd7d-49de-b898-65a46a5da4b4",
   "metadata": {},
   "outputs": [],
   "source": []
  },
  {
   "cell_type": "code",
   "execution_count": null,
   "id": "ce9b1971-0892-4ea6-a921-f90bdfc3083d",
   "metadata": {},
   "outputs": [],
   "source": []
  }
 ],
 "metadata": {
  "kernelspec": {
   "display_name": "general-env",
   "language": "python",
   "name": "general-env"
  },
  "language_info": {
   "codemirror_mode": {
    "name": "ipython",
    "version": 3
   },
   "file_extension": ".py",
   "mimetype": "text/x-python",
   "name": "python",
   "nbconvert_exporter": "python",
   "pygments_lexer": "ipython3",
   "version": "3.9.6"
  }
 },
 "nbformat": 4,
 "nbformat_minor": 5
}
