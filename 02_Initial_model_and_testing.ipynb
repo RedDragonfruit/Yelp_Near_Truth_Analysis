{
 "cells": [
  {
   "cell_type": "code",
   "execution_count": 75,
   "id": "8cbfde15-b496-4c02-b18b-e691c1dd0b5e",
   "metadata": {},
   "outputs": [],
   "source": [
    "import pandas as pd\n",
    "import string\n",
    "import matplotlib.pyplot as plt\n",
    "import seaborn as sns\n",
    "\n",
    "\n",
    "import nltk\n",
    "from nltk.corpus import stopwords\n",
    "from nltk.tokenize import regexp_tokenize, word_tokenize, RegexpTokenizer\n",
    "from sklearn.model_selection import train_test_split\n",
    "#import pickle\n",
    "\n",
    "from sklearn.linear_model import LogisticRegression\n",
    "from sklearn.metrics import roc_auc_score\n",
    "from sklearn.feature_extraction.text import CountVectorizer\n",
    "from sklearn.dummy import DummyClassifier\n",
    "\n",
    "\n",
    "import re\n",
    "import time\n",
    "\n",
    "import re\n",
    "import nltk\n",
    "import spacy\n",
    "import tensorflow\n"
   ]
  },
  {
   "cell_type": "code",
   "execution_count": 2,
   "id": "f04b9c68-1660-4212-a6ff-3f0a4a529a31",
   "metadata": {},
   "outputs": [],
   "source": [
    "#downloading the nltk stopwords\n",
    "#nltk.download('stopwords')"
   ]
  },
  {
   "cell_type": "markdown",
   "id": "b7b93d57-4e9a-4f9a-aaba-aa261f52e26c",
   "metadata": {},
   "source": [
    "We load the two dataset we want to analyze. We want to combine these two by the unnamed:0 column and remove it."
   ]
  },
  {
   "cell_type": "code",
   "execution_count": 3,
   "id": "481ff324-667c-4d69-a084-8e34f1420b3a",
   "metadata": {},
   "outputs": [],
   "source": [
    "df = pd.read_csv('./Data/restaurant_data')\n",
    "target_df = pd.read_csv('./Data/target_data')"
   ]
  },
  {
   "cell_type": "code",
   "execution_count": 4,
   "id": "cc1493e8-3e5b-4ad7-bf35-276e1a59ac72",
   "metadata": {},
   "outputs": [
    {
     "data": {
      "text/html": [
       "<div>\n",
       "<style scoped>\n",
       "    .dataframe tbody tr th:only-of-type {\n",
       "        vertical-align: middle;\n",
       "    }\n",
       "\n",
       "    .dataframe tbody tr th {\n",
       "        vertical-align: top;\n",
       "    }\n",
       "\n",
       "    .dataframe thead th {\n",
       "        text-align: right;\n",
       "    }\n",
       "</style>\n",
       "<table border=\"1\" class=\"dataframe\">\n",
       "  <thead>\n",
       "    <tr style=\"text-align: right;\">\n",
       "      <th></th>\n",
       "      <th>Unnamed: 0</th>\n",
       "      <th>target</th>\n",
       "    </tr>\n",
       "  </thead>\n",
       "  <tbody>\n",
       "    <tr>\n",
       "      <th>0</th>\n",
       "      <td>326679</td>\n",
       "      <td>1</td>\n",
       "    </tr>\n",
       "    <tr>\n",
       "      <th>1</th>\n",
       "      <td>356839</td>\n",
       "      <td>1</td>\n",
       "    </tr>\n",
       "    <tr>\n",
       "      <th>2</th>\n",
       "      <td>257508</td>\n",
       "      <td>1</td>\n",
       "    </tr>\n",
       "    <tr>\n",
       "      <th>3</th>\n",
       "      <td>103858</td>\n",
       "      <td>1</td>\n",
       "    </tr>\n",
       "    <tr>\n",
       "      <th>4</th>\n",
       "      <td>282703</td>\n",
       "      <td>0</td>\n",
       "    </tr>\n",
       "  </tbody>\n",
       "</table>\n",
       "</div>"
      ],
      "text/plain": [
       "   Unnamed: 0  target\n",
       "0      326679       1\n",
       "1      356839       1\n",
       "2      257508       1\n",
       "3      103858       1\n",
       "4      282703       0"
      ]
     },
     "execution_count": 4,
     "metadata": {},
     "output_type": "execute_result"
    }
   ],
   "source": [
    "target_df.head()"
   ]
  },
  {
   "cell_type": "code",
   "execution_count": 5,
   "id": "3815f0cf-b395-4253-85f4-ce4000c68d08",
   "metadata": {},
   "outputs": [],
   "source": [
    "restaurants_df = df.merge(target_df,\n",
    "                         how = 'inner',\n",
    "                         left_on = ['Unnamed: 0'],\n",
    "                         right_on = ['Unnamed: 0']\n",
    "                         )\n",
    "restaurants_df.drop('Unnamed: 0' , axis=1,inplace =True)"
   ]
  },
  {
   "cell_type": "code",
   "execution_count": 6,
   "id": "f59ccfbb-96fa-42db-a8d5-33cfd94c6c9b",
   "metadata": {},
   "outputs": [
    {
     "data": {
      "text/html": [
       "<div>\n",
       "<style scoped>\n",
       "    .dataframe tbody tr th:only-of-type {\n",
       "        vertical-align: middle;\n",
       "    }\n",
       "\n",
       "    .dataframe tbody tr th {\n",
       "        vertical-align: top;\n",
       "    }\n",
       "\n",
       "    .dataframe thead th {\n",
       "        text-align: right;\n",
       "    }\n",
       "</style>\n",
       "<table border=\"1\" class=\"dataframe\">\n",
       "  <thead>\n",
       "    <tr style=\"text-align: right;\">\n",
       "      <th></th>\n",
       "      <th>user_id</th>\n",
       "      <th>prod_id</th>\n",
       "      <th>rating</th>\n",
       "      <th>date</th>\n",
       "      <th>review</th>\n",
       "      <th>name</th>\n",
       "      <th>target</th>\n",
       "    </tr>\n",
       "  </thead>\n",
       "  <tbody>\n",
       "    <tr>\n",
       "      <th>0</th>\n",
       "      <td>22558</td>\n",
       "      <td>859</td>\n",
       "      <td>5.0</td>\n",
       "      <td>2007-05-28</td>\n",
       "      <td>Looking for some authentic Japanese food at re...</td>\n",
       "      <td>Yakitori Totto</td>\n",
       "      <td>1</td>\n",
       "    </tr>\n",
       "    <tr>\n",
       "      <th>1</th>\n",
       "      <td>78837</td>\n",
       "      <td>915</td>\n",
       "      <td>4.0</td>\n",
       "      <td>2009-10-05</td>\n",
       "      <td>Pepe Rosso is where you go when you're in SOHO...</td>\n",
       "      <td>Pepe Rosso To Go</td>\n",
       "      <td>1</td>\n",
       "    </tr>\n",
       "    <tr>\n",
       "      <th>2</th>\n",
       "      <td>19590</td>\n",
       "      <td>668</td>\n",
       "      <td>5.0</td>\n",
       "      <td>2013-09-17</td>\n",
       "      <td>I had waited to return a couple other times to...</td>\n",
       "      <td>Eataly NYC</td>\n",
       "      <td>1</td>\n",
       "    </tr>\n",
       "    <tr>\n",
       "      <th>3</th>\n",
       "      <td>7175</td>\n",
       "      <td>287</td>\n",
       "      <td>3.0</td>\n",
       "      <td>2013-10-30</td>\n",
       "      <td>This place is always busy - partly because it'...</td>\n",
       "      <td>Heidi’s House</td>\n",
       "      <td>1</td>\n",
       "    </tr>\n",
       "    <tr>\n",
       "      <th>4</th>\n",
       "      <td>137409</td>\n",
       "      <td>744</td>\n",
       "      <td>5.0</td>\n",
       "      <td>2014-12-04</td>\n",
       "      <td>Love this place! I am not a regular yelper I d...</td>\n",
       "      <td>Bodhi Tree</td>\n",
       "      <td>0</td>\n",
       "    </tr>\n",
       "  </tbody>\n",
       "</table>\n",
       "</div>"
      ],
      "text/plain": [
       "   user_id  prod_id  rating        date  \\\n",
       "0    22558      859     5.0  2007-05-28   \n",
       "1    78837      915     4.0  2009-10-05   \n",
       "2    19590      668     5.0  2013-09-17   \n",
       "3     7175      287     3.0  2013-10-30   \n",
       "4   137409      744     5.0  2014-12-04   \n",
       "\n",
       "                                              review              name  target  \n",
       "0  Looking for some authentic Japanese food at re...    Yakitori Totto       1  \n",
       "1  Pepe Rosso is where you go when you're in SOHO...  Pepe Rosso To Go       1  \n",
       "2  I had waited to return a couple other times to...        Eataly NYC       1  \n",
       "3  This place is always busy - partly because it'...     Heidi’s House       1  \n",
       "4  Love this place! I am not a regular yelper I d...        Bodhi Tree       0  "
      ]
     },
     "execution_count": 6,
     "metadata": {},
     "output_type": "execute_result"
    }
   ],
   "source": [
    "restaurants_df.head()"
   ]
  },
  {
   "cell_type": "code",
   "execution_count": 7,
   "id": "3cd6dd83-8b12-41fe-8f3b-aafbbe1b84e8",
   "metadata": {},
   "outputs": [],
   "source": [
    "#%%time\n",
    "# CPU times: user 162 ms, sys: 55.7 ms, total: 217 ms\n",
    "# Wall time: 218 ms\n",
    "\n",
    "\n",
    "\n",
    "#create a list which contains all reviews all in lowercase\n",
    "\n",
    "all_reviews = []\n",
    "for review in restaurants_df['review']:\n",
    "    all_reviews.append(review.lower())\n",
    "#all_reviews\n",
    "\n",
    "#turn the list into a string\n",
    "all_reviews_str = ' '.join(map(str, all_reviews))"
   ]
  },
  {
   "cell_type": "code",
   "execution_count": 8,
   "id": "84dac306-9af9-478b-88cf-90c7155a364a",
   "metadata": {},
   "outputs": [
    {
     "data": {
      "text/plain": [
       "\"looking for some authentic japanese food at reasonable prices? this is the place to go. \\xa0we went there \\xa0based off of some recommendations from japanes nationals. the food is amazing. all the skewers are really good (ive had about 15 different ones on the menu in multiple sittings). everything is so flavorful. oh, and nothing beats winding down a long day with a nice cold sappporo reserve :) pepe rosso is where you go when you're in soho or the honkytonk part of the village near nyu and you just want to find a quick, affordable, no-frills, hearty meal. \\xa0this is a real neighborhood place, off the tourist radar. \\xa0it is called pepe rosso to go for a reason, as the seating is very limited and quite cramped. \\xa0if you want to sit down and eat there, you know what you are getting yourself into. \\xa0as long as you accept the close company and see it as part of the pepe's charm, you will have a good experience. \\xa0also remember you are in soho, so there is always a classic nyc stoop or stair nearby to\""
      ]
     },
     "execution_count": 8,
     "metadata": {},
     "output_type": "execute_result"
    }
   ],
   "source": [
    "all_reviews_str[:1000]"
   ]
  },
  {
   "cell_type": "code",
   "execution_count": 9,
   "id": "df89790d-8783-47ce-a8e1-1bad50a8eb55",
   "metadata": {},
   "outputs": [],
   "source": [
    "# %%time\n",
    "# CPU times: user 6.21 s, sys: 823 ms, total: 7.03 s\n",
    "# Wall time: 7.03 s\n",
    "\n",
    "\n",
    "\n",
    "#strip some punctuation\n",
    "all_rev_wo_punc = [word.strip(string.punctuation) for word in all_reviews_str.split(\" \")]"
   ]
  },
  {
   "cell_type": "code",
   "execution_count": 10,
   "id": "f42cd81e-91ee-4f10-ac9c-9a3ea2a9f088",
   "metadata": {},
   "outputs": [],
   "source": [
    "all_words_df = pd.DataFrame(all_rev_wo_punc, columns = ['words'])"
   ]
  },
  {
   "cell_type": "code",
   "execution_count": 11,
   "id": "714b58a0-fd60-45be-af0a-156d77cb3df5",
   "metadata": {},
   "outputs": [],
   "source": [
    "all_words_df['index'] = 0"
   ]
  },
  {
   "cell_type": "code",
   "execution_count": 12,
   "id": "5ec7d3d6-186f-4e41-a100-3deb0bdf65b7",
   "metadata": {},
   "outputs": [],
   "source": [
    "# %%time\n",
    "# CPU times: user 2.55 s, sys: 360 ms, total: 2.91 s\n",
    "# Wall time: 2.9 s\n",
    "\n",
    "top_15_words_first_ver = all_words_df.groupby(\"words\").count().sort_values(by= 'index', ascending = False).head(15)"
   ]
  },
  {
   "cell_type": "code",
   "execution_count": 13,
   "id": "6c2135ff-ba3d-4409-b09b-afb21c6cac68",
   "metadata": {},
   "outputs": [],
   "source": [
    "top_15_words_first_ver['index'] = top_15_words_first_ver['index']/1000000"
   ]
  },
  {
   "cell_type": "code",
   "execution_count": 14,
   "id": "c9e78c50-aeb1-4551-86ae-dd7c87f40eaa",
   "metadata": {},
   "outputs": [
    {
     "data": {
      "image/png": "[encoded data removed]",
      "text/plain": [
       "<Figure size 640x480 with 1 Axes>"
      ]
     },
     "metadata": {},
     "output_type": "display_data"
    }
   ],
   "source": [
    "axes = top_15_words_first_ver.plot(kind = \"bar\",\n",
    "                                   rot = 0, \n",
    "                                   legend = False, \n",
    "                                   ylabel = 'Count \\n (Millions)',\n",
    "                                   title = 'Word Distribution',\n",
    "                                   grid = False\n",
    "                                  );\n",
    "plt.show();"
   ]
  },
  {
   "cell_type": "code",
   "execution_count": 15,
   "id": "95a381c6-9289-425a-afb3-5d6f5691031c",
   "metadata": {},
   "outputs": [
    {
     "data": {
      "text/html": [
       "<div>\n",
       "<style scoped>\n",
       "    .dataframe tbody tr th:only-of-type {\n",
       "        vertical-align: middle;\n",
       "    }\n",
       "\n",
       "    .dataframe tbody tr th {\n",
       "        vertical-align: top;\n",
       "    }\n",
       "\n",
       "    .dataframe thead th {\n",
       "        text-align: right;\n",
       "    }\n",
       "</style>\n",
       "<table border=\"1\" class=\"dataframe\">\n",
       "  <thead>\n",
       "    <tr style=\"text-align: right;\">\n",
       "      <th></th>\n",
       "      <th>user_id</th>\n",
       "      <th>prod_id</th>\n",
       "      <th>rating</th>\n",
       "      <th>date</th>\n",
       "      <th>review</th>\n",
       "      <th>name</th>\n",
       "      <th>target</th>\n",
       "    </tr>\n",
       "  </thead>\n",
       "  <tbody>\n",
       "    <tr>\n",
       "      <th>0</th>\n",
       "      <td>22558</td>\n",
       "      <td>859</td>\n",
       "      <td>5.0</td>\n",
       "      <td>2007-05-28</td>\n",
       "      <td>Looking for some authentic Japanese food at re...</td>\n",
       "      <td>Yakitori Totto</td>\n",
       "      <td>1</td>\n",
       "    </tr>\n",
       "    <tr>\n",
       "      <th>1</th>\n",
       "      <td>78837</td>\n",
       "      <td>915</td>\n",
       "      <td>4.0</td>\n",
       "      <td>2009-10-05</td>\n",
       "      <td>Pepe Rosso is where you go when you're in SOHO...</td>\n",
       "      <td>Pepe Rosso To Go</td>\n",
       "      <td>1</td>\n",
       "    </tr>\n",
       "    <tr>\n",
       "      <th>2</th>\n",
       "      <td>19590</td>\n",
       "      <td>668</td>\n",
       "      <td>5.0</td>\n",
       "      <td>2013-09-17</td>\n",
       "      <td>I had waited to return a couple other times to...</td>\n",
       "      <td>Eataly NYC</td>\n",
       "      <td>1</td>\n",
       "    </tr>\n",
       "    <tr>\n",
       "      <th>3</th>\n",
       "      <td>7175</td>\n",
       "      <td>287</td>\n",
       "      <td>3.0</td>\n",
       "      <td>2013-10-30</td>\n",
       "      <td>This place is always busy - partly because it'...</td>\n",
       "      <td>Heidi’s House</td>\n",
       "      <td>1</td>\n",
       "    </tr>\n",
       "    <tr>\n",
       "      <th>4</th>\n",
       "      <td>137409</td>\n",
       "      <td>744</td>\n",
       "      <td>5.0</td>\n",
       "      <td>2014-12-04</td>\n",
       "      <td>Love this place! I am not a regular yelper I d...</td>\n",
       "      <td>Bodhi Tree</td>\n",
       "      <td>0</td>\n",
       "    </tr>\n",
       "  </tbody>\n",
       "</table>\n",
       "</div>"
      ],
      "text/plain": [
       "   user_id  prod_id  rating        date  \\\n",
       "0    22558      859     5.0  2007-05-28   \n",
       "1    78837      915     4.0  2009-10-05   \n",
       "2    19590      668     5.0  2013-09-17   \n",
       "3     7175      287     3.0  2013-10-30   \n",
       "4   137409      744     5.0  2014-12-04   \n",
       "\n",
       "                                              review              name  target  \n",
       "0  Looking for some authentic Japanese food at re...    Yakitori Totto       1  \n",
       "1  Pepe Rosso is where you go when you're in SOHO...  Pepe Rosso To Go       1  \n",
       "2  I had waited to return a couple other times to...        Eataly NYC       1  \n",
       "3  This place is always busy - partly because it'...     Heidi’s House       1  \n",
       "4  Love this place! I am not a regular yelper I d...        Bodhi Tree       0  "
      ]
     },
     "execution_count": 15,
     "metadata": {},
     "output_type": "execute_result"
    }
   ],
   "source": [
    "restaurants_df.head()"
   ]
  },
  {
   "cell_type": "markdown",
   "id": "53d8bad7-f16c-4106-ab31-15348d5c0a4a",
   "metadata": {},
   "source": [
    "Our goal is to see if a review if fraud or not so the only two key values we need to look at is the target and the review. We create a new data called corpus for analysis."
   ]
  },
  {
   "cell_type": "code",
   "execution_count": 16,
   "id": "971e8f69-275e-407f-841d-105bad4fe3e1",
   "metadata": {},
   "outputs": [],
   "source": [
    "corpus = restaurants_df.drop(['user_id','prod_id','rating','date','name'],axis = 1)"
   ]
  },
  {
   "cell_type": "code",
   "execution_count": 17,
   "id": "5a125e71-0bfd-44e3-98c6-92029f6544ba",
   "metadata": {},
   "outputs": [
    {
     "data": {
      "text/html": [
       "<div>\n",
       "<style scoped>\n",
       "    .dataframe tbody tr th:only-of-type {\n",
       "        vertical-align: middle;\n",
       "    }\n",
       "\n",
       "    .dataframe tbody tr th {\n",
       "        vertical-align: top;\n",
       "    }\n",
       "\n",
       "    .dataframe thead th {\n",
       "        text-align: right;\n",
       "    }\n",
       "</style>\n",
       "<table border=\"1\" class=\"dataframe\">\n",
       "  <thead>\n",
       "    <tr style=\"text-align: right;\">\n",
       "      <th></th>\n",
       "      <th>review</th>\n",
       "      <th>target</th>\n",
       "    </tr>\n",
       "  </thead>\n",
       "  <tbody>\n",
       "    <tr>\n",
       "      <th>0</th>\n",
       "      <td>Looking for some authentic Japanese food at re...</td>\n",
       "      <td>1</td>\n",
       "    </tr>\n",
       "    <tr>\n",
       "      <th>1</th>\n",
       "      <td>Pepe Rosso is where you go when you're in SOHO...</td>\n",
       "      <td>1</td>\n",
       "    </tr>\n",
       "    <tr>\n",
       "      <th>2</th>\n",
       "      <td>I had waited to return a couple other times to...</td>\n",
       "      <td>1</td>\n",
       "    </tr>\n",
       "    <tr>\n",
       "      <th>3</th>\n",
       "      <td>This place is always busy - partly because it'...</td>\n",
       "      <td>1</td>\n",
       "    </tr>\n",
       "    <tr>\n",
       "      <th>4</th>\n",
       "      <td>Love this place! I am not a regular yelper I d...</td>\n",
       "      <td>0</td>\n",
       "    </tr>\n",
       "    <tr>\n",
       "      <th>...</th>\n",
       "      <td>...</td>\n",
       "      <td>...</td>\n",
       "    </tr>\n",
       "    <tr>\n",
       "      <th>285989</th>\n",
       "      <td>Noodle taste great. Its nice and chewy. Im suc...</td>\n",
       "      <td>1</td>\n",
       "    </tr>\n",
       "    <tr>\n",
       "      <th>285990</th>\n",
       "      <td>Despite frequently visiting and previously liv...</td>\n",
       "      <td>1</td>\n",
       "    </tr>\n",
       "    <tr>\n",
       "      <th>285991</th>\n",
       "      <td>Definitely a place to come for a good dinner o...</td>\n",
       "      <td>1</td>\n",
       "    </tr>\n",
       "    <tr>\n",
       "      <th>285992</th>\n",
       "      <td>At first, I didn't know if I enjoyed this food...</td>\n",
       "      <td>1</td>\n",
       "    </tr>\n",
       "    <tr>\n",
       "      <th>285993</th>\n",
       "      <td>I've been wanting to go to Gramercy Tavern for...</td>\n",
       "      <td>1</td>\n",
       "    </tr>\n",
       "  </tbody>\n",
       "</table>\n",
       "<p>285994 rows × 2 columns</p>\n",
       "</div>"
      ],
      "text/plain": [
       "                                                   review  target\n",
       "0       Looking for some authentic Japanese food at re...       1\n",
       "1       Pepe Rosso is where you go when you're in SOHO...       1\n",
       "2       I had waited to return a couple other times to...       1\n",
       "3       This place is always busy - partly because it'...       1\n",
       "4       Love this place! I am not a regular yelper I d...       0\n",
       "...                                                   ...     ...\n",
       "285989  Noodle taste great. Its nice and chewy. Im suc...       1\n",
       "285990  Despite frequently visiting and previously liv...       1\n",
       "285991  Definitely a place to come for a good dinner o...       1\n",
       "285992  At first, I didn't know if I enjoyed this food...       1\n",
       "285993  I've been wanting to go to Gramercy Tavern for...       1\n",
       "\n",
       "[285994 rows x 2 columns]"
      ]
     },
     "execution_count": 17,
     "metadata": {},
     "output_type": "execute_result"
    }
   ],
   "source": [
    "corpus"
   ]
  },
  {
   "cell_type": "markdown",
   "id": "52d85f9a-b4d1-4905-9272-cab97d859d48",
   "metadata": {},
   "source": [
    "Let's take a closer look at a sample text chosen at random. There are a few items capitalized, a bunch of punctuations as well."
   ]
  },
  {
   "cell_type": "code",
   "execution_count": 18,
   "id": "93b6299b-0aa4-4a8c-b034-792ee96dbcd2",
   "metadata": {},
   "outputs": [],
   "source": [
    "test_doc = corpus.loc[3].review"
   ]
  },
  {
   "cell_type": "code",
   "execution_count": null,
   "id": "acf6286e-37cb-4bd6-83a5-751553511330",
   "metadata": {},
   "outputs": [],
   "source": []
  },
  {
   "cell_type": "code",
   "execution_count": 19,
   "id": "1854322f-e842-44d2-b26a-d7eb6250969f",
   "metadata": {},
   "outputs": [],
   "source": [
    "sw = stopwords.words('english')"
   ]
  },
  {
   "cell_type": "code",
   "execution_count": 20,
   "id": "aa7ce081-5ff9-4d83-bac0-41a816568b40",
   "metadata": {},
   "outputs": [],
   "source": [
    "#\\$\\d+(?:\\.\\d+)?\n",
    "\n",
    "#\\$: ensures dollar sign followed by\n",
    "\n",
    "#\\d+: more or one digits\n",
    "\n",
    "#(?:\\.\\d+)?: decimal part which is optional"
   ]
  },
  {
   "cell_type": "code",
   "execution_count": 21,
   "id": "38a358d2-92b4-465b-a1d0-e2ed1d98a358",
   "metadata": {
    "tags": []
   },
   "outputs": [
    {
     "data": {
      "text/html": [
       "<div>\n",
       "<style scoped>\n",
       "    .dataframe tbody tr th:only-of-type {\n",
       "        vertical-align: middle;\n",
       "    }\n",
       "\n",
       "    .dataframe tbody tr th {\n",
       "        vertical-align: top;\n",
       "    }\n",
       "\n",
       "    .dataframe thead th {\n",
       "        text-align: right;\n",
       "    }\n",
       "</style>\n",
       "<table border=\"1\" class=\"dataframe\">\n",
       "  <thead>\n",
       "    <tr style=\"text-align: right;\">\n",
       "      <th></th>\n",
       "      <th>review</th>\n",
       "      <th>target</th>\n",
       "    </tr>\n",
       "  </thead>\n",
       "  <tbody>\n",
       "    <tr>\n",
       "      <th>0</th>\n",
       "      <td>Looking for some authentic Japanese food at re...</td>\n",
       "      <td>1</td>\n",
       "    </tr>\n",
       "    <tr>\n",
       "      <th>1</th>\n",
       "      <td>Pepe Rosso is where you go when you're in SOHO...</td>\n",
       "      <td>1</td>\n",
       "    </tr>\n",
       "    <tr>\n",
       "      <th>2</th>\n",
       "      <td>I had waited to return a couple other times to...</td>\n",
       "      <td>1</td>\n",
       "    </tr>\n",
       "    <tr>\n",
       "      <th>3</th>\n",
       "      <td>This place is always busy - partly because it'...</td>\n",
       "      <td>1</td>\n",
       "    </tr>\n",
       "    <tr>\n",
       "      <th>4</th>\n",
       "      <td>Love this place! I am not a regular yelper I d...</td>\n",
       "      <td>0</td>\n",
       "    </tr>\n",
       "  </tbody>\n",
       "</table>\n",
       "</div>"
      ],
      "text/plain": [
       "                                              review  target\n",
       "0  Looking for some authentic Japanese food at re...       1\n",
       "1  Pepe Rosso is where you go when you're in SOHO...       1\n",
       "2  I had waited to return a couple other times to...       1\n",
       "3  This place is always busy - partly because it'...       1\n",
       "4  Love this place! I am not a regular yelper I d...       0"
      ]
     },
     "execution_count": 21,
     "metadata": {},
     "output_type": "execute_result"
    }
   ],
   "source": [
    "corpus.head()"
   ]
  },
  {
   "cell_type": "code",
   "execution_count": 22,
   "id": "6483a543-316c-4638-b43c-b554576a7d33",
   "metadata": {},
   "outputs": [],
   "source": [
    "import nltk\n",
    "#from nltk.stem import PorterStemmer\n",
    "from nltk.tokenize import sent_tokenize, word_tokenize\n",
    "import re\n",
    "import string\n",
    "def text_cleaning(text):\n",
    "    '''\n",
    "    Make text lowercase, remove text in square brackets,remove links,remove special characters\n",
    "    and remove words containing numbers.\n",
    "    '''\n",
    "    text = text.lower()\n",
    "    text = re.sub('\\[.*?\\]', '', text)\n",
    "    text = re.sub(\"\\\\W\",\" \",text) # remove special chars\n",
    "    text = re.sub('https?://\\S+|www\\.\\S+', '', text)\n",
    "    text = re.sub('<.*?>+', '', text)\n",
    "    text = re.sub('[%s]' % re.escape(string.punctuation), '', text)\n",
    "    text = re.sub('\\n', '', text)\n",
    "    text = re.sub('\\w*\\d\\w*', '', text)\n",
    "    \n",
    "    return text"
   ]
  },
  {
   "cell_type": "code",
   "execution_count": 23,
   "id": "ae20d735-795c-4187-82b9-4a3df3f3a09c",
   "metadata": {},
   "outputs": [],
   "source": [
    "corpus_clean = corpus.copy()"
   ]
  },
  {
   "cell_type": "code",
   "execution_count": 24,
   "id": "172265b5-2dcd-4104-8db2-52160c8d79d4",
   "metadata": {},
   "outputs": [
    {
     "name": "stdout",
     "output_type": "stream",
     "text": [
      "CPU times: user 32.1 s, sys: 467 ms, total: 32.5 s\n",
      "Wall time: 32.5 s\n"
     ]
    }
   ],
   "source": [
    "%%time\n",
    "\n",
    "corpus_clean['review'] = corpus['review'].apply(text_cleaning)"
   ]
  },
  {
   "cell_type": "code",
   "execution_count": 25,
   "id": "97d2f673-417c-4ee7-abbd-8969394ad8ee",
   "metadata": {},
   "outputs": [
    {
     "data": {
      "text/html": [
       "<div>\n",
       "<style scoped>\n",
       "    .dataframe tbody tr th:only-of-type {\n",
       "        vertical-align: middle;\n",
       "    }\n",
       "\n",
       "    .dataframe tbody tr th {\n",
       "        vertical-align: top;\n",
       "    }\n",
       "\n",
       "    .dataframe thead th {\n",
       "        text-align: right;\n",
       "    }\n",
       "</style>\n",
       "<table border=\"1\" class=\"dataframe\">\n",
       "  <thead>\n",
       "    <tr style=\"text-align: right;\">\n",
       "      <th></th>\n",
       "      <th>review</th>\n",
       "      <th>target</th>\n",
       "    </tr>\n",
       "  </thead>\n",
       "  <tbody>\n",
       "    <tr>\n",
       "      <th>0</th>\n",
       "      <td>looking for some authentic japanese food at re...</td>\n",
       "      <td>1</td>\n",
       "    </tr>\n",
       "    <tr>\n",
       "      <th>1</th>\n",
       "      <td>pepe rosso is where you go when you re in soho...</td>\n",
       "      <td>1</td>\n",
       "    </tr>\n",
       "    <tr>\n",
       "      <th>2</th>\n",
       "      <td>i had waited to return a couple other times to...</td>\n",
       "      <td>1</td>\n",
       "    </tr>\n",
       "    <tr>\n",
       "      <th>3</th>\n",
       "      <td>this place is always busy   partly because it ...</td>\n",
       "      <td>1</td>\n",
       "    </tr>\n",
       "    <tr>\n",
       "      <th>4</th>\n",
       "      <td>love this place  i am not a regular yelper i d...</td>\n",
       "      <td>0</td>\n",
       "    </tr>\n",
       "    <tr>\n",
       "      <th>...</th>\n",
       "      <td>...</td>\n",
       "      <td>...</td>\n",
       "    </tr>\n",
       "    <tr>\n",
       "      <th>285989</th>\n",
       "      <td>noodle taste great  its nice and chewy  im suc...</td>\n",
       "      <td>1</td>\n",
       "    </tr>\n",
       "    <tr>\n",
       "      <th>285990</th>\n",
       "      <td>despite frequently visiting and previously liv...</td>\n",
       "      <td>1</td>\n",
       "    </tr>\n",
       "    <tr>\n",
       "      <th>285991</th>\n",
       "      <td>definitely a place to come for a good dinner o...</td>\n",
       "      <td>1</td>\n",
       "    </tr>\n",
       "    <tr>\n",
       "      <th>285992</th>\n",
       "      <td>at first  i didn t know if i enjoyed this food...</td>\n",
       "      <td>1</td>\n",
       "    </tr>\n",
       "    <tr>\n",
       "      <th>285993</th>\n",
       "      <td>i ve been wanting to go to gramercy tavern for...</td>\n",
       "      <td>1</td>\n",
       "    </tr>\n",
       "  </tbody>\n",
       "</table>\n",
       "<p>285994 rows × 2 columns</p>\n",
       "</div>"
      ],
      "text/plain": [
       "                                                   review  target\n",
       "0       looking for some authentic japanese food at re...       1\n",
       "1       pepe rosso is where you go when you re in soho...       1\n",
       "2       i had waited to return a couple other times to...       1\n",
       "3       this place is always busy   partly because it ...       1\n",
       "4       love this place  i am not a regular yelper i d...       0\n",
       "...                                                   ...     ...\n",
       "285989  noodle taste great  its nice and chewy  im suc...       1\n",
       "285990  despite frequently visiting and previously liv...       1\n",
       "285991  definitely a place to come for a good dinner o...       1\n",
       "285992  at first  i didn t know if i enjoyed this food...       1\n",
       "285993  i ve been wanting to go to gramercy tavern for...       1\n",
       "\n",
       "[285994 rows x 2 columns]"
      ]
     },
     "execution_count": 25,
     "metadata": {},
     "output_type": "execute_result"
    }
   ],
   "source": [
    "corpus_clean"
   ]
  },
  {
   "cell_type": "code",
   "execution_count": 26,
   "id": "3d0f2b5b-c111-4bbc-9dc2-88071bf42cc8",
   "metadata": {},
   "outputs": [],
   "source": [
    "data = corpus_clean.review\n",
    "target = corpus_clean.target"
   ]
  },
  {
   "cell_type": "code",
   "execution_count": 27,
   "id": "ce1602b6-e642-45e7-8887-ddd17731b0ce",
   "metadata": {},
   "outputs": [],
   "source": [
    "X_train, X_test, y_train, y_test = train_test_split(data,\n",
    "                                                   target,\n",
    "                                                   random_state =42,\n",
    "                                                   stratify = target\n",
    "                                                  )"
   ]
  },
  {
   "cell_type": "code",
   "execution_count": 61,
   "id": "2a25c8d2-0032-464c-b2f6-947250b6d6e4",
   "metadata": {},
   "outputs": [
    {
     "data": {
      "text/plain": [
       "71499"
      ]
     },
     "execution_count": 61,
     "metadata": {},
     "output_type": "execute_result"
    }
   ],
   "source": [
    "len(X_test)"
   ]
  },
  {
   "cell_type": "code",
   "execution_count": 60,
   "id": "4e430154-5434-468c-9d74-9ccf9baeca3f",
   "metadata": {},
   "outputs": [
    {
     "data": {
      "text/plain": [
       "71499"
      ]
     },
     "execution_count": 60,
     "metadata": {},
     "output_type": "execute_result"
    }
   ],
   "source": [
    "len(y_test)\n"
   ]
  },
  {
   "cell_type": "code",
   "execution_count": 28,
   "id": "bc23d4dd-d66e-4fa9-bbde-93f9f6cb2a3d",
   "metadata": {},
   "outputs": [
    {
     "data": {
      "text/plain": [
       "DummyClassifier(strategy='most_frequent')"
      ]
     },
     "execution_count": 28,
     "metadata": {},
     "output_type": "execute_result"
    }
   ],
   "source": [
    "dummy_clf = DummyClassifier(strategy='most_frequent')\n",
    "dummy_clf.fit(X_train,y_train)"
   ]
  },
  {
   "cell_type": "code",
   "execution_count": 29,
   "id": "82e8897b-f133-4846-a3e4-ecc0c4206f0a",
   "metadata": {},
   "outputs": [
    {
     "data": {
      "text/plain": [
       "0.8982260658756615"
      ]
     },
     "execution_count": 29,
     "metadata": {},
     "output_type": "execute_result"
    }
   ],
   "source": [
    "dummy_clf.predict(X_train)\n",
    "dummy_clf.score(X_train,y_train)"
   ]
  },
  {
   "cell_type": "code",
   "execution_count": 66,
   "id": "b888b383-a2ba-4ce7-bb5d-12e9d987b5c1",
   "metadata": {},
   "outputs": [],
   "source": [
    "cv = CountVectorizer(ngram_range=(1,2))\n",
    "X_vec_train = cv.fit_transform(X_train)\n",
    "X_vec_test = cv.transform(X_test)"
   ]
  },
  {
   "cell_type": "code",
   "execution_count": 37,
   "id": "2cf0aed7-c088-4b1b-8518-1627b2223a8a",
   "metadata": {},
   "outputs": [
    {
     "name": "stdout",
     "output_type": "stream",
     "text": [
      "CPU times: user 1h 24min 43s, sys: 14min 8s, total: 1h 38min 51s\n",
      "Wall time: 14min 52s\n"
     ]
    },
    {
     "data": {
      "text/plain": [
       "LogisticRegression(C=2, max_iter=100000)"
      ]
     },
     "execution_count": 37,
     "metadata": {},
     "output_type": "execute_result"
    }
   ],
   "source": [
    "#%%time\n",
    "#CPU times: user 1h 24min 43s, sys: 14min 8s, total: 1h 38min 51s\n",
    "#Wall time: 14min 52s\n",
    "\n",
    "model = LogisticRegression(C=2,max_iter= 100000)\n",
    "model.fit(X_vec_train, y_train)"
   ]
  },
  {
   "cell_type": "code",
   "execution_count": 67,
   "id": "71f6558e-31d0-4810-acea-e1dffe45874b",
   "metadata": {},
   "outputs": [],
   "source": [
    "predicted_train = model.predict(X_vec_train)"
   ]
  },
  {
   "cell_type": "code",
   "execution_count": 68,
   "id": "7b444dea-405c-48c3-93db-b85b5703b2c5",
   "metadata": {},
   "outputs": [
    {
     "name": "stdout",
     "output_type": "stream",
     "text": [
      "0.9764232783843093\n"
     ]
    }
   ],
   "source": [
    "accuracy_value_train = roc_auc_score(y_train, predicted_train)\n",
    "print(accuracy_value_train)"
   ]
  },
  {
   "cell_type": "code",
   "execution_count": 70,
   "id": "516236dd-1a1f-4ab3-851b-b002f7c38c36",
   "metadata": {},
   "outputs": [],
   "source": [
    "predicted_test = model.predict(X_vec_test)\n",
    "accuracy_value_test = roc_auc_score(y_test, predicted_test)"
   ]
  },
  {
   "cell_type": "code",
   "execution_count": 71,
   "id": "54eb8dc6-44d4-4e74-8b98-221e6f35554f",
   "metadata": {},
   "outputs": [
    {
     "name": "stdout",
     "output_type": "stream",
     "text": [
      "0.534475940516677\n"
     ]
    }
   ],
   "source": [
    "print(accuracy_value_test)"
   ]
  },
  {
   "cell_type": "code",
   "execution_count": null,
   "id": "7d0c7e11-2bc8-4164-9ea0-961041e74ae0",
   "metadata": {},
   "outputs": [],
   "source": []
  },
  {
   "cell_type": "code",
   "execution_count": null,
   "id": "472d93b0-02ab-402a-bd1f-8c22fec90ec2",
   "metadata": {},
   "outputs": [],
   "source": []
  },
  {
   "cell_type": "code",
   "execution_count": null,
   "id": "0c1509af-c64f-444b-90f3-42e10588b2a4",
   "metadata": {},
   "outputs": [],
   "source": []
  },
  {
   "cell_type": "markdown",
   "id": "cd9306ad-4fda-4176-a2f6-63dad8017dc0",
   "metadata": {},
   "source": [
    "## MODEL #2"
   ]
  },
  {
   "cell_type": "code",
   "execution_count": 76,
   "id": "630cf1a6-9677-489a-8adf-565e096d0368",
   "metadata": {},
   "outputs": [],
   "source": [
    "from nltk import word_tokenize"
   ]
  },
  {
   "cell_type": "code",
   "execution_count": 91,
   "id": "82e52c8d-0bc7-4066-885c-a6379b0510c1",
   "metadata": {},
   "outputs": [],
   "source": [
    "corpus.columns\n",
    "corpus['wo_stopwords'] = corpus['review'].apply(lambda x: ' '.join([word for word in x.split() if word not in (sw)]))"
   ]
  },
  {
   "cell_type": "code",
   "execution_count": 92,
   "id": "0e52334d-f8d7-4615-822b-0fd0e9a200f6",
   "metadata": {},
   "outputs": [
    {
     "data": {
      "text/html": [
       "<div>\n",
       "<style scoped>\n",
       "    .dataframe tbody tr th:only-of-type {\n",
       "        vertical-align: middle;\n",
       "    }\n",
       "\n",
       "    .dataframe tbody tr th {\n",
       "        vertical-align: top;\n",
       "    }\n",
       "\n",
       "    .dataframe thead th {\n",
       "        text-align: right;\n",
       "    }\n",
       "</style>\n",
       "<table border=\"1\" class=\"dataframe\">\n",
       "  <thead>\n",
       "    <tr style=\"text-align: right;\">\n",
       "      <th></th>\n",
       "      <th>review</th>\n",
       "      <th>target</th>\n",
       "      <th>wo_stopwords</th>\n",
       "    </tr>\n",
       "  </thead>\n",
       "  <tbody>\n",
       "    <tr>\n",
       "      <th>0</th>\n",
       "      <td>Looking for some authentic Japanese food at re...</td>\n",
       "      <td>1</td>\n",
       "      <td>Looking authentic Japanese food reasonable pri...</td>\n",
       "    </tr>\n",
       "    <tr>\n",
       "      <th>1</th>\n",
       "      <td>Pepe Rosso is where you go when you're in SOHO...</td>\n",
       "      <td>1</td>\n",
       "      <td>Pepe Rosso go SOHO honkytonk part Village near...</td>\n",
       "    </tr>\n",
       "    <tr>\n",
       "      <th>2</th>\n",
       "      <td>I had waited to return a couple other times to...</td>\n",
       "      <td>1</td>\n",
       "      <td>I waited return couple times give assessment E...</td>\n",
       "    </tr>\n",
       "    <tr>\n",
       "      <th>3</th>\n",
       "      <td>This place is always busy - partly because it'...</td>\n",
       "      <td>1</td>\n",
       "      <td>This place always busy - partly tiny. But none...</td>\n",
       "    </tr>\n",
       "    <tr>\n",
       "      <th>4</th>\n",
       "      <td>Love this place! I am not a regular yelper I d...</td>\n",
       "      <td>0</td>\n",
       "      <td>Love place! I regular yelper I write review mu...</td>\n",
       "    </tr>\n",
       "    <tr>\n",
       "      <th>...</th>\n",
       "      <td>...</td>\n",
       "      <td>...</td>\n",
       "      <td>...</td>\n",
       "    </tr>\n",
       "    <tr>\n",
       "      <th>285989</th>\n",
       "      <td>Noodle taste great. Its nice and chewy. Im suc...</td>\n",
       "      <td>1</td>\n",
       "      <td>Noodle taste great. Its nice chewy. Im noodle ...</td>\n",
       "    </tr>\n",
       "    <tr>\n",
       "      <th>285990</th>\n",
       "      <td>Despite frequently visiting and previously liv...</td>\n",
       "      <td>1</td>\n",
       "      <td>Despite frequently visiting previously living ...</td>\n",
       "    </tr>\n",
       "    <tr>\n",
       "      <th>285991</th>\n",
       "      <td>Definitely a place to come for a good dinner o...</td>\n",
       "      <td>1</td>\n",
       "      <td>Definitely place come good dinner lunch. Actua...</td>\n",
       "    </tr>\n",
       "    <tr>\n",
       "      <th>285992</th>\n",
       "      <td>At first, I didn't know if I enjoyed this food...</td>\n",
       "      <td>1</td>\n",
       "      <td>At first, I know I enjoyed food simply I buzze...</td>\n",
       "    </tr>\n",
       "    <tr>\n",
       "      <th>285993</th>\n",
       "      <td>I've been wanting to go to Gramercy Tavern for...</td>\n",
       "      <td>1</td>\n",
       "      <td>I've wanting go Gramercy Tavern past couple ye...</td>\n",
       "    </tr>\n",
       "  </tbody>\n",
       "</table>\n",
       "<p>285994 rows × 3 columns</p>\n",
       "</div>"
      ],
      "text/plain": [
       "                                                   review  target  \\\n",
       "0       Looking for some authentic Japanese food at re...       1   \n",
       "1       Pepe Rosso is where you go when you're in SOHO...       1   \n",
       "2       I had waited to return a couple other times to...       1   \n",
       "3       This place is always busy - partly because it'...       1   \n",
       "4       Love this place! I am not a regular yelper I d...       0   \n",
       "...                                                   ...     ...   \n",
       "285989  Noodle taste great. Its nice and chewy. Im suc...       1   \n",
       "285990  Despite frequently visiting and previously liv...       1   \n",
       "285991  Definitely a place to come for a good dinner o...       1   \n",
       "285992  At first, I didn't know if I enjoyed this food...       1   \n",
       "285993  I've been wanting to go to Gramercy Tavern for...       1   \n",
       "\n",
       "                                             wo_stopwords  \n",
       "0       Looking authentic Japanese food reasonable pri...  \n",
       "1       Pepe Rosso go SOHO honkytonk part Village near...  \n",
       "2       I waited return couple times give assessment E...  \n",
       "3       This place always busy - partly tiny. But none...  \n",
       "4       Love place! I regular yelper I write review mu...  \n",
       "...                                                   ...  \n",
       "285989  Noodle taste great. Its nice chewy. Im noodle ...  \n",
       "285990  Despite frequently visiting previously living ...  \n",
       "285991  Definitely place come good dinner lunch. Actua...  \n",
       "285992  At first, I know I enjoyed food simply I buzze...  \n",
       "285993  I've wanting go Gramercy Tavern past couple ye...  \n",
       "\n",
       "[285994 rows x 3 columns]"
      ]
     },
     "execution_count": 92,
     "metadata": {},
     "output_type": "execute_result"
    }
   ],
   "source": [
    "corpus"
   ]
  },
  {
   "cell_type": "code",
   "execution_count": 93,
   "id": "2b5bf8a4-63ab-4783-955d-ba88d29c8417",
   "metadata": {},
   "outputs": [],
   "source": [
    "corpus['wo_stopwords'] = corpus['wo_stopwords'].apply(text_cleaning)"
   ]
  },
  {
   "cell_type": "code",
   "execution_count": 94,
   "id": "8d08750d-12d8-48ce-96c6-d26edc425d4b",
   "metadata": {},
   "outputs": [
    {
     "data": {
      "text/html": [
       "<div>\n",
       "<style scoped>\n",
       "    .dataframe tbody tr th:only-of-type {\n",
       "        vertical-align: middle;\n",
       "    }\n",
       "\n",
       "    .dataframe tbody tr th {\n",
       "        vertical-align: top;\n",
       "    }\n",
       "\n",
       "    .dataframe thead th {\n",
       "        text-align: right;\n",
       "    }\n",
       "</style>\n",
       "<table border=\"1\" class=\"dataframe\">\n",
       "  <thead>\n",
       "    <tr style=\"text-align: right;\">\n",
       "      <th></th>\n",
       "      <th>review</th>\n",
       "      <th>target</th>\n",
       "      <th>wo_stopwords</th>\n",
       "    </tr>\n",
       "  </thead>\n",
       "  <tbody>\n",
       "    <tr>\n",
       "      <th>0</th>\n",
       "      <td>Looking for some authentic Japanese food at re...</td>\n",
       "      <td>1</td>\n",
       "      <td>looking authentic japanese food reasonable pri...</td>\n",
       "    </tr>\n",
       "    <tr>\n",
       "      <th>1</th>\n",
       "      <td>Pepe Rosso is where you go when you're in SOHO...</td>\n",
       "      <td>1</td>\n",
       "      <td>pepe rosso go soho honkytonk part village near...</td>\n",
       "    </tr>\n",
       "    <tr>\n",
       "      <th>2</th>\n",
       "      <td>I had waited to return a couple other times to...</td>\n",
       "      <td>1</td>\n",
       "      <td>i waited return couple times give assessment e...</td>\n",
       "    </tr>\n",
       "    <tr>\n",
       "      <th>3</th>\n",
       "      <td>This place is always busy - partly because it'...</td>\n",
       "      <td>1</td>\n",
       "      <td>this place always busy   partly tiny  but none...</td>\n",
       "    </tr>\n",
       "    <tr>\n",
       "      <th>4</th>\n",
       "      <td>Love this place! I am not a regular yelper I d...</td>\n",
       "      <td>0</td>\n",
       "      <td>love place  i regular yelper i write review mu...</td>\n",
       "    </tr>\n",
       "    <tr>\n",
       "      <th>...</th>\n",
       "      <td>...</td>\n",
       "      <td>...</td>\n",
       "      <td>...</td>\n",
       "    </tr>\n",
       "    <tr>\n",
       "      <th>285989</th>\n",
       "      <td>Noodle taste great. Its nice and chewy. Im suc...</td>\n",
       "      <td>1</td>\n",
       "      <td>noodle taste great  its nice chewy  im noodle ...</td>\n",
       "    </tr>\n",
       "    <tr>\n",
       "      <th>285990</th>\n",
       "      <td>Despite frequently visiting and previously liv...</td>\n",
       "      <td>1</td>\n",
       "      <td>despite frequently visiting previously living ...</td>\n",
       "    </tr>\n",
       "    <tr>\n",
       "      <th>285991</th>\n",
       "      <td>Definitely a place to come for a good dinner o...</td>\n",
       "      <td>1</td>\n",
       "      <td>definitely place come good dinner lunch  actua...</td>\n",
       "    </tr>\n",
       "    <tr>\n",
       "      <th>285992</th>\n",
       "      <td>At first, I didn't know if I enjoyed this food...</td>\n",
       "      <td>1</td>\n",
       "      <td>at first  i know i enjoyed food simply i buzze...</td>\n",
       "    </tr>\n",
       "    <tr>\n",
       "      <th>285993</th>\n",
       "      <td>I've been wanting to go to Gramercy Tavern for...</td>\n",
       "      <td>1</td>\n",
       "      <td>i ve wanting go gramercy tavern past couple ye...</td>\n",
       "    </tr>\n",
       "  </tbody>\n",
       "</table>\n",
       "<p>285994 rows × 3 columns</p>\n",
       "</div>"
      ],
      "text/plain": [
       "                                                   review  target  \\\n",
       "0       Looking for some authentic Japanese food at re...       1   \n",
       "1       Pepe Rosso is where you go when you're in SOHO...       1   \n",
       "2       I had waited to return a couple other times to...       1   \n",
       "3       This place is always busy - partly because it'...       1   \n",
       "4       Love this place! I am not a regular yelper I d...       0   \n",
       "...                                                   ...     ...   \n",
       "285989  Noodle taste great. Its nice and chewy. Im suc...       1   \n",
       "285990  Despite frequently visiting and previously liv...       1   \n",
       "285991  Definitely a place to come for a good dinner o...       1   \n",
       "285992  At first, I didn't know if I enjoyed this food...       1   \n",
       "285993  I've been wanting to go to Gramercy Tavern for...       1   \n",
       "\n",
       "                                             wo_stopwords  \n",
       "0       looking authentic japanese food reasonable pri...  \n",
       "1       pepe rosso go soho honkytonk part village near...  \n",
       "2       i waited return couple times give assessment e...  \n",
       "3       this place always busy   partly tiny  but none...  \n",
       "4       love place  i regular yelper i write review mu...  \n",
       "...                                                   ...  \n",
       "285989  noodle taste great  its nice chewy  im noodle ...  \n",
       "285990  despite frequently visiting previously living ...  \n",
       "285991  definitely place come good dinner lunch  actua...  \n",
       "285992  at first  i know i enjoyed food simply i buzze...  \n",
       "285993  i ve wanting go gramercy tavern past couple ye...  \n",
       "\n",
       "[285994 rows x 3 columns]"
      ]
     },
     "execution_count": 94,
     "metadata": {},
     "output_type": "execute_result"
    }
   ],
   "source": [
    "corpus"
   ]
  },
  {
   "cell_type": "code",
   "execution_count": 98,
   "id": "6d17e96b-0775-42ba-8296-5db0b4bcfb32",
   "metadata": {},
   "outputs": [],
   "source": [
    "data2 = corpus.wo_stopwords\n",
    "target2 = corpus.target"
   ]
  },
  {
   "cell_type": "code",
   "execution_count": 99,
   "id": "13ab55bd-ad87-4d4e-b91f-d4fad27d494e",
   "metadata": {},
   "outputs": [],
   "source": [
    "X_train, X_test, y_train, y_test = train_test_split(data2,\n",
    "                                                   target2,\n",
    "                                                   random_state =42,\n",
    "                                                   stratify = target\n",
    "                                                  )"
   ]
  },
  {
   "cell_type": "code",
   "execution_count": 100,
   "id": "49421bd7-47b0-4160-bd50-233721ba3b9a",
   "metadata": {},
   "outputs": [],
   "source": [
    "X_vec_train = cv.fit_transform(X_train)\n",
    "X_vec_test = cv.transform(X_test)"
   ]
  },
  {
   "cell_type": "code",
   "execution_count": 101,
   "id": "63f40131-e96f-4686-bed0-fcefdf11bcdf",
   "metadata": {},
   "outputs": [
    {
     "data": {
      "text/plain": [
       "LogisticRegression(C=2, max_iter=100000)"
      ]
     },
     "execution_count": 101,
     "metadata": {},
     "output_type": "execute_result"
    }
   ],
   "source": [
    "model = LogisticRegression(C=2,max_iter= 100000)\n",
    "model.fit(X_vec_train, y_train)"
   ]
  },
  {
   "cell_type": "code",
   "execution_count": 102,
   "id": "52097b91-c640-4f6a-90a7-1f62064232cb",
   "metadata": {},
   "outputs": [],
   "source": [
    "predicted_train = model.predict(X_vec_train)"
   ]
  },
  {
   "cell_type": "code",
   "execution_count": 103,
   "id": "6e1b93ac-4442-4421-9a66-e8b5de89c6d6",
   "metadata": {},
   "outputs": [
    {
     "name": "stdout",
     "output_type": "stream",
     "text": [
      "0.9781665973370904\n"
     ]
    }
   ],
   "source": [
    "accuracy_value_train = roc_auc_score(y_train, predicted_train)\n",
    "print(accuracy_value_train)"
   ]
  },
  {
   "cell_type": "code",
   "execution_count": 106,
   "id": "1db6d42f-f443-4374-b6ca-517465e66a45",
   "metadata": {},
   "outputs": [
    {
     "name": "stdout",
     "output_type": "stream",
     "text": [
      "0.5257223030904117\n"
     ]
    }
   ],
   "source": [
    "predicted_test = model.predict(X_vec_test)\n",
    "accuracy_value_test = roc_auc_score(y_test, predicted_test)\n",
    "print(accuracy_value_test)"
   ]
  },
  {
   "cell_type": "code",
   "execution_count": 122,
   "id": "22c876f9-7527-45a6-a080-5d737eabeb30",
   "metadata": {},
   "outputs": [],
   "source": [
    "from sklearn.feature_extraction.text import CountVectorizer\n",
    "from sklearn.feature_extraction.text import TfidfTransformer\n",
    "from sklearn.naive_bayes import MultinomialNB"
   ]
  },
  {
   "cell_type": "code",
   "execution_count": 123,
   "id": "9a05415e-6bf0-4132-bbd0-f102a4b07353",
   "metadata": {},
   "outputs": [],
   "source": [
    "from imblearn.over_sampling import SMOTE\n",
    "\n",
    "from imblearn.pipeline import Pipeline, make_pipeline"
   ]
  },
  {
   "cell_type": "code",
   "execution_count": 124,
   "id": "ec901305-13dc-43ab-bec9-4ed84b6e521d",
   "metadata": {},
   "outputs": [],
   "source": [
    "sm = SMOTE()"
   ]
  },
  {
   "cell_type": "code",
   "execution_count": 137,
   "id": "fa0747df-ea27-4d35-a3d6-8ae87eb49f1a",
   "metadata": {
    "tags": []
   },
   "outputs": [],
   "source": [
    "textclassifier =Pipeline([\n",
    "       ('vect', CountVectorizer()),\n",
    "       ('tfidf', TfidfTransformer()),\n",
    "       ('smote', SMOTE(random_state=12)),\n",
    "       ('mnb', MultinomialNB())])"
   ]
  },
  {
   "cell_type": "code",
   "execution_count": 127,
   "id": "19167936-6d31-4f7b-a18d-e29a9732fda5",
   "metadata": {},
   "outputs": [
    {
     "data": {
      "text/plain": [
       "Pipeline(steps=[('vect', CountVectorizer()), ('tfidf', TfidfTransformer()),\n",
       "                ('smote', SMOTE(random_state=12)),\n",
       "                ('mnb', MultinomialNB(alpha=0.1))])"
      ]
     },
     "execution_count": 127,
     "metadata": {},
     "output_type": "execute_result"
    }
   ],
   "source": [
    "textclassifier.fit(X_train, y_train)"
   ]
  },
  {
   "cell_type": "code",
   "execution_count": 133,
   "id": "7a8f44b9-2cf9-4a50-b822-c66e5f9fad03",
   "metadata": {},
   "outputs": [],
   "source": [
    "y_pred_train = textclassifier.predict(X_train)"
   ]
  },
  {
   "cell_type": "code",
   "execution_count": 134,
   "id": "6e07fbdc-85ab-4e6b-affe-12b14938ea86",
   "metadata": {},
   "outputs": [
    {
     "name": "stdout",
     "output_type": "stream",
     "text": [
      "0.759112178733617\n"
     ]
    }
   ],
   "source": [
    "accuracy_value_train = roc_auc_score(y_train, y_pred_train)\n",
    "print(accuracy_value_train)"
   ]
  },
  {
   "cell_type": "code",
   "execution_count": 135,
   "id": "6607a3e7-2e02-4605-a069-a82e691b7f53",
   "metadata": {},
   "outputs": [],
   "source": [
    " y_pred = textclassifier.predict(X_test)\n",
    "    "
   ]
  },
  {
   "cell_type": "code",
   "execution_count": 136,
   "id": "b6fed2f3-cc52-404a-874c-16f0c74319ec",
   "metadata": {},
   "outputs": [
    {
     "name": "stdout",
     "output_type": "stream",
     "text": [
      "0.6358765582815623\n"
     ]
    }
   ],
   "source": [
    "accuracy_value_test = roc_auc_score(y_test, y_pred)\n",
    "print(accuracy_value_test)"
   ]
  },
  {
   "cell_type": "code",
   "execution_count": null,
   "id": "cdaa94d8-bf33-4913-b80d-5c3f88ecf8e2",
   "metadata": {},
   "outputs": [],
   "source": [
    "textclassifier.fit(X_train, y_train)"
   ]
  },
  {
   "cell_type": "code",
   "execution_count": 139,
   "id": "a471c0eb-1b73-4eea-8bd1-da4e9bcd1ec3",
   "metadata": {},
   "outputs": [],
   "source": [
    "from sklearn.model_selection import train_test_split, cross_val_score, GridSearchCV"
   ]
  },
  {
   "cell_type": "code",
   "execution_count": 138,
   "id": "f7df12cc-c56f-4e44-8dae-0bce6bad8fb4",
   "metadata": {},
   "outputs": [],
   "source": [
    "param_grid = { 'vect__max_df': [.85, .9, .95, 1],\n",
    "               'vect__min_df': [0,.5, .1],\n",
    "               'smote__k_neighbors': [3,5,7],\n",
    "               'mnb__alpha': [.1,.25,.5,.75,1]\n",
    "             }\n"
   ]
  },
  {
   "cell_type": "code",
   "execution_count": 140,
   "id": "9b7835fe-5677-4fc1-b198-77a139b72bdd",
   "metadata": {},
   "outputs": [],
   "source": [
    "gs = GridSearchCV(textclassifier, param_grid, cv=5, scoring='f1')"
   ]
  },
  {
   "cell_type": "code",
   "execution_count": 146,
   "id": "5cafd87f-8b10-44df-8500-3a462cbce939",
   "metadata": {},
   "outputs": [],
   "source": [
    "#%%time\n",
    "#gs.fit(X_train,y_train)"
   ]
  },
  {
   "cell_type": "code",
   "execution_count": 147,
   "id": "de0e45b1-5451-4922-93be-091bc1ccac7e",
   "metadata": {},
   "outputs": [
    {
     "data": {
      "text/plain": [
       "232117    had great experience here  food outstanding  l...\n",
       "130744    the atmosphere place great  we group  people a...\n",
       "191367    red  white   blue  if know love raw bar  go fi...\n",
       "267591    pretty mediocre  seasoning often done heavy hand \n",
       "3435      crabs want crabs get  this place practically w...\n",
       "                                ...                        \n",
       "36391     waited write review every time i thought place...\n",
       "55372     my favorite italian restaurant  maybe i enjoy ...\n",
       "96484     it busy friday morning place packed   how peop...\n",
       "82098     think got lucky  mins wait friday night    tim...\n",
       "176836    rewrite     yes burgers that good          i r...\n",
       "Name: wo_stopwords, Length: 214495, dtype: object"
      ]
     },
     "execution_count": 147,
     "metadata": {},
     "output_type": "execute_result"
    }
   ],
   "source": []
  },
  {
   "cell_type": "code",
   "execution_count": null,
   "id": "e3461d6d-716e-437f-b71e-3b37faae7a5f",
   "metadata": {},
   "outputs": [],
   "source": []
  },
  {
   "cell_type": "code",
   "execution_count": null,
   "id": "3afa0052-b5d2-40ff-b2af-a1369d2c7f6c",
   "metadata": {},
   "outputs": [],
   "source": []
  },
  {
   "cell_type": "code",
   "execution_count": 151,
   "id": "b56f438e-6398-4957-9649-c840804f3682",
   "metadata": {},
   "outputs": [],
   "source": [
    "#####\n",
    "\n",
    "corpus_z = corpus[['target','wo_stopwords']]"
   ]
  },
  {
   "cell_type": "code",
   "execution_count": 214,
   "id": "70cde083-97f8-4974-a9a0-b3c1c339ca35",
   "metadata": {},
   "outputs": [],
   "source": [
    "true_BoW = corpus_z[corpus_z['target'] == 1]"
   ]
  },
  {
   "cell_type": "code",
   "execution_count": 215,
   "id": "2b5453bd-7826-4080-9827-291352ce7d0b",
   "metadata": {},
   "outputs": [],
   "source": [
    "false_BoW = corpus_z[corpus_z['target'] == 0]"
   ]
  },
  {
   "cell_type": "code",
   "execution_count": 217,
   "id": "f40e65ea-3403-49b0-b4c4-98c67da67e37",
   "metadata": {},
   "outputs": [],
   "source": [
    "f_LoW = []\n",
    "for i in false_BoW[\"wo_stopwords\"]:\n",
    "    f_LoW.append(i)"
   ]
  },
  {
   "cell_type": "code",
   "execution_count": 219,
   "id": "bd176078-53e3-44bb-806b-723a0501304e",
   "metadata": {},
   "outputs": [],
   "source": [
    "t_LoW = []\n",
    "for i in true_BoW[\"wo_stopwords\"]:\n",
    "    t_LoW.append(i)"
   ]
  },
  {
   "cell_type": "code",
   "execution_count": 220,
   "id": "5ca34029-d59e-4aaa-bc6c-953fd56b0980",
   "metadata": {},
   "outputs": [],
   "source": [
    "\n",
    "\n",
    "t_words = ' '.join(map(str, t_LoW))\n",
    "f_words = ' '.join(map(str, f_LoW))"
   ]
  },
  {
   "cell_type": "code",
   "execution_count": 223,
   "id": "996dd716-88e6-4a71-9a0f-b52d548256b8",
   "metadata": {},
   "outputs": [
    {
     "data": {
      "text/plain": [
       "'looking authentic japanese food reasonable prices  this place go  we went based recommendations japanes nationals  the food amazing  all skewers really good  ive  different ones menu multiple sittings   everything flavorful  oh  nothing beats winding long day nice cold sappporo reserve    pepe rosso go soho honkytonk part village near nyu want find quick  affordable  no frills  hearty meal  this real neighborhood place  tourist radar  it called pepe rosso to go reason  seating limited quite cramped  if want sit eat there  know getting into  as long accept close company see part pepe s charm  good experience  also remember soho  always classic nyc stoop stair nearby nice nights  sitting stoop penne true nyc experience  especially views empire state building sullivan st  service fairly quick whether dining taking out  i pasta dishes tasty  al dente pasta  good natural sauce  lots real garlic  plus bread   all all  great place delicious  cheap bite eat  i m big fan  no diet coke  skim mil'"
      ]
     },
     "execution_count": 223,
     "metadata": {},
     "output_type": "execute_result"
    }
   ],
   "source": [
    "t_words[:1000]"
   ]
  },
  {
   "cell_type": "code",
   "execution_count": 222,
   "id": "3c58f478-cdf7-44ef-ba84-d14ec10b2cd4",
   "metadata": {},
   "outputs": [
    {
     "data": {
      "text/plain": [
       "'love place  i regular yelper i write review much  i fan thai place i eating  years  they good restaurant  great food polite service  restaurant looks clean  i picky food always make happy food i like spicy less oil  if want authentic thai food crowded i recommend  you get table easily great dinner  try crying udon noodle  my favorite menu  if filipino  expect pay     good meal  you mom know cost   something dollars cook adobo  pusit  palabok  kare kare  bokchoy      oh yeah i forget mention individually plated    food mediocre  seem much fusion  the server nerve ask us wanted double orders    hahah watta guy all all  bit overpriced know much something really cost  best grilled cheese sandwiches world  always go back  hands down  favorite park slope haunt  fun bar  festive atmosphere  unfailingly delicious food  i rarely eat fish  yet bogota  i always order it  they blue corn crusted trout occasionally would knock socks off  and i salivate thinking empanadas  seriously  their food also '"
      ]
     },
     "execution_count": 222,
     "metadata": {},
     "output_type": "execute_result"
    }
   ],
   "source": [
    "f_words[:1000]"
   ]
  },
  {
   "cell_type": "code",
   "execution_count": 224,
   "id": "36be261f-c5f7-44f1-b9d9-c7cd1c55ece6",
   "metadata": {},
   "outputs": [],
   "source": [
    "T_W = [word.strip(string.punctuation) for word in t_words.split(\" \")]\n",
    "F_W = [word.strip(string.punctuation) for word in f_words.split(\" \")]"
   ]
  },
  {
   "cell_type": "code",
   "execution_count": 230,
   "id": "c6781a5a-61da-4146-bec2-cae7ee1339b5",
   "metadata": {},
   "outputs": [],
   "source": [
    "t_w_df = pd.DataFrame(T_W, columns = ['words'])\n",
    "f_w_df = pd.DataFrame(F_W, columns = ['words'])"
   ]
  },
  {
   "cell_type": "code",
   "execution_count": 233,
   "id": "966c62c0-1fb3-427e-b3f3-48a904d5702d",
   "metadata": {},
   "outputs": [],
   "source": [
    "t_w_df['index'] = 0\n",
    "f_w_df['index'] = 0"
   ]
  },
  {
   "cell_type": "code",
   "execution_count": 234,
   "id": "e343ae56-e604-4776-ad77-a2cbbd7a1abb",
   "metadata": {},
   "outputs": [],
   "source": [
    "top_t_w = t_w_df.groupby(\"words\").count().sort_values(by= 'index', ascending = False)\n",
    "top_f_w = f_w_df.groupby(\"words\").count().sort_values(by= 'index', ascending = False)"
   ]
  },
  {
   "cell_type": "code",
   "execution_count": 241,
   "id": "c3ffa911-40b1-4e5b-b564-5ad48cab4b5f",
   "metadata": {},
   "outputs": [],
   "source": [
    "# top_t_w.to_csv('top_true')\n",
    "# top_f_w.to_csv('top_false')"
   ]
  },
  {
   "cell_type": "code",
   "execution_count": 239,
   "id": "3397c3fe-dc35-4478-b4e0-bdc72797283f",
   "metadata": {},
   "outputs": [
    {
     "data": {
      "text/html": [
       "<div>\n",
       "<style scoped>\n",
       "    .dataframe tbody tr th:only-of-type {\n",
       "        vertical-align: middle;\n",
       "    }\n",
       "\n",
       "    .dataframe tbody tr th {\n",
       "        vertical-align: top;\n",
       "    }\n",
       "\n",
       "    .dataframe thead th {\n",
       "        text-align: right;\n",
       "    }\n",
       "</style>\n",
       "<table border=\"1\" class=\"dataframe\">\n",
       "  <thead>\n",
       "    <tr style=\"text-align: right;\">\n",
       "      <th></th>\n",
       "      <th>index</th>\n",
       "    </tr>\n",
       "    <tr>\n",
       "      <th>words</th>\n",
       "      <th></th>\n",
       "    </tr>\n",
       "  </thead>\n",
       "  <tbody>\n",
       "    <tr>\n",
       "      <th></th>\n",
       "      <td>5342463</td>\n",
       "    </tr>\n",
       "    <tr>\n",
       "      <th>i</th>\n",
       "      <td>847935</td>\n",
       "    </tr>\n",
       "    <tr>\n",
       "      <th>the</th>\n",
       "      <td>330600</td>\n",
       "    </tr>\n",
       "    <tr>\n",
       "      <th>good</th>\n",
       "      <td>179278</td>\n",
       "    </tr>\n",
       "    <tr>\n",
       "      <th>it</th>\n",
       "      <td>178415</td>\n",
       "    </tr>\n",
       "    <tr>\n",
       "      <th>food</th>\n",
       "      <td>176594</td>\n",
       "    </tr>\n",
       "    <tr>\n",
       "      <th>place</th>\n",
       "      <td>165474</td>\n",
       "    </tr>\n",
       "    <tr>\n",
       "      <th>s</th>\n",
       "      <td>144817</td>\n",
       "    </tr>\n",
       "    <tr>\n",
       "      <th>great</th>\n",
       "      <td>123553</td>\n",
       "    </tr>\n",
       "    <tr>\n",
       "      <th>like</th>\n",
       "      <td>107684</td>\n",
       "    </tr>\n",
       "    <tr>\n",
       "      <th>we</th>\n",
       "      <td>102407</td>\n",
       "    </tr>\n",
       "    <tr>\n",
       "      <th>one</th>\n",
       "      <td>92182</td>\n",
       "    </tr>\n",
       "    <tr>\n",
       "      <th>really</th>\n",
       "      <td>91799</td>\n",
       "    </tr>\n",
       "    <tr>\n",
       "      <th>get</th>\n",
       "      <td>84921</td>\n",
       "    </tr>\n",
       "    <tr>\n",
       "      <th>go</th>\n",
       "      <td>78333</td>\n",
       "    </tr>\n",
       "    <tr>\n",
       "      <th>back</th>\n",
       "      <td>77471</td>\n",
       "    </tr>\n",
       "    <tr>\n",
       "      <th>service</th>\n",
       "      <td>77401</td>\n",
       "    </tr>\n",
       "    <tr>\n",
       "      <th>time</th>\n",
       "      <td>74566</td>\n",
       "    </tr>\n",
       "    <tr>\n",
       "      <th>would</th>\n",
       "      <td>73071</td>\n",
       "    </tr>\n",
       "    <tr>\n",
       "      <th>delicious</th>\n",
       "      <td>71959</td>\n",
       "    </tr>\n",
       "  </tbody>\n",
       "</table>\n",
       "</div>"
      ],
      "text/plain": [
       "             index\n",
       "words             \n",
       "           5342463\n",
       "i           847935\n",
       "the         330600\n",
       "good        179278\n",
       "it          178415\n",
       "food        176594\n",
       "place       165474\n",
       "s           144817\n",
       "great       123553\n",
       "like        107684\n",
       "we          102407\n",
       "one          92182\n",
       "really       91799\n",
       "get          84921\n",
       "go           78333\n",
       "back         77471\n",
       "service      77401\n",
       "time         74566\n",
       "would        73071\n",
       "delicious    71959"
      ]
     },
     "execution_count": 239,
     "metadata": {},
     "output_type": "execute_result"
    }
   ],
   "source": [
    "top_t_w.head(20)"
   ]
  },
  {
   "cell_type": "code",
   "execution_count": 240,
   "id": "c3c37760-7dda-4cb0-8cdf-fec719a46575",
   "metadata": {},
   "outputs": [
    {
     "data": {
      "text/html": [
       "<div>\n",
       "<style scoped>\n",
       "    .dataframe tbody tr th:only-of-type {\n",
       "        vertical-align: middle;\n",
       "    }\n",
       "\n",
       "    .dataframe tbody tr th {\n",
       "        vertical-align: top;\n",
       "    }\n",
       "\n",
       "    .dataframe thead th {\n",
       "        text-align: right;\n",
       "    }\n",
       "</style>\n",
       "<table border=\"1\" class=\"dataframe\">\n",
       "  <thead>\n",
       "    <tr style=\"text-align: right;\">\n",
       "      <th></th>\n",
       "      <th>index</th>\n",
       "    </tr>\n",
       "    <tr>\n",
       "      <th>words</th>\n",
       "      <th></th>\n",
       "    </tr>\n",
       "  </thead>\n",
       "  <tbody>\n",
       "    <tr>\n",
       "      <th></th>\n",
       "      <td>394372</td>\n",
       "    </tr>\n",
       "    <tr>\n",
       "      <th>i</th>\n",
       "      <td>61730</td>\n",
       "    </tr>\n",
       "    <tr>\n",
       "      <th>the</th>\n",
       "      <td>26112</td>\n",
       "    </tr>\n",
       "    <tr>\n",
       "      <th>food</th>\n",
       "      <td>20289</td>\n",
       "    </tr>\n",
       "    <tr>\n",
       "      <th>place</th>\n",
       "      <td>16222</td>\n",
       "    </tr>\n",
       "    <tr>\n",
       "      <th>good</th>\n",
       "      <td>14069</td>\n",
       "    </tr>\n",
       "    <tr>\n",
       "      <th>great</th>\n",
       "      <td>13698</td>\n",
       "    </tr>\n",
       "    <tr>\n",
       "      <th>it</th>\n",
       "      <td>12275</td>\n",
       "    </tr>\n",
       "    <tr>\n",
       "      <th>s</th>\n",
       "      <td>9719</td>\n",
       "    </tr>\n",
       "    <tr>\n",
       "      <th>service</th>\n",
       "      <td>9029</td>\n",
       "    </tr>\n",
       "    <tr>\n",
       "      <th>we</th>\n",
       "      <td>8623</td>\n",
       "    </tr>\n",
       "    <tr>\n",
       "      <th>like</th>\n",
       "      <td>7736</td>\n",
       "    </tr>\n",
       "    <tr>\n",
       "      <th>go</th>\n",
       "      <td>7420</td>\n",
       "    </tr>\n",
       "    <tr>\n",
       "      <th>one</th>\n",
       "      <td>7206</td>\n",
       "    </tr>\n",
       "    <tr>\n",
       "      <th>back</th>\n",
       "      <td>6733</td>\n",
       "    </tr>\n",
       "    <tr>\n",
       "      <th>restaurant</th>\n",
       "      <td>6622</td>\n",
       "    </tr>\n",
       "    <tr>\n",
       "      <th>really</th>\n",
       "      <td>6616</td>\n",
       "    </tr>\n",
       "    <tr>\n",
       "      <th>time</th>\n",
       "      <td>6608</td>\n",
       "    </tr>\n",
       "    <tr>\n",
       "      <th>get</th>\n",
       "      <td>6328</td>\n",
       "    </tr>\n",
       "    <tr>\n",
       "      <th>best</th>\n",
       "      <td>6288</td>\n",
       "    </tr>\n",
       "  </tbody>\n",
       "</table>\n",
       "</div>"
      ],
      "text/plain": [
       "             index\n",
       "words             \n",
       "            394372\n",
       "i            61730\n",
       "the          26112\n",
       "food         20289\n",
       "place        16222\n",
       "good         14069\n",
       "great        13698\n",
       "it           12275\n",
       "s             9719\n",
       "service       9029\n",
       "we            8623\n",
       "like          7736\n",
       "go            7420\n",
       "one           7206\n",
       "back          6733\n",
       "restaurant    6622\n",
       "really        6616\n",
       "time          6608\n",
       "get           6328\n",
       "best          6288"
      ]
     },
     "execution_count": 240,
     "metadata": {},
     "output_type": "execute_result"
    }
   ],
   "source": [
    "top_f_w.head(20)"
   ]
  },
  {
   "cell_type": "code",
   "execution_count": null,
   "id": "36f75f28-9991-464b-9c10-2a6a83aba43e",
   "metadata": {},
   "outputs": [],
   "source": []
  },
  {
   "cell_type": "code",
   "execution_count": 190,
   "id": "d22ef6bf-4814-4425-8685-7820114681ef",
   "metadata": {},
   "outputs": [],
   "source": [
    "W2 = [word.strip(string.punctuation) for word in words.split(\" \")]"
   ]
  },
  {
   "cell_type": "code",
   "execution_count": 191,
   "id": "7fb283c6-3552-4a35-8345-69bfa69c8688",
   "metadata": {},
   "outputs": [],
   "source": [
    "all_w2_df = pd.DataFrame(W2, columns = ['words'])"
   ]
  },
  {
   "cell_type": "code",
   "execution_count": 192,
   "id": "af296f52-9fd6-4e60-a7bb-1dd323ef1390",
   "metadata": {},
   "outputs": [
    {
     "data": {
      "text/html": [
       "<div>\n",
       "<style scoped>\n",
       "    .dataframe tbody tr th:only-of-type {\n",
       "        vertical-align: middle;\n",
       "    }\n",
       "\n",
       "    .dataframe tbody tr th {\n",
       "        vertical-align: top;\n",
       "    }\n",
       "\n",
       "    .dataframe thead th {\n",
       "        text-align: right;\n",
       "    }\n",
       "</style>\n",
       "<table border=\"1\" class=\"dataframe\">\n",
       "  <thead>\n",
       "    <tr style=\"text-align: right;\">\n",
       "      <th></th>\n",
       "      <th>words</th>\n",
       "    </tr>\n",
       "  </thead>\n",
       "  <tbody>\n",
       "    <tr>\n",
       "      <th>0</th>\n",
       "      <td>looking</td>\n",
       "    </tr>\n",
       "    <tr>\n",
       "      <th>1</th>\n",
       "      <td>authentic</td>\n",
       "    </tr>\n",
       "    <tr>\n",
       "      <th>2</th>\n",
       "      <td>japanese</td>\n",
       "    </tr>\n",
       "    <tr>\n",
       "      <th>3</th>\n",
       "      <td>food</td>\n",
       "    </tr>\n",
       "    <tr>\n",
       "      <th>4</th>\n",
       "      <td>reasonable</td>\n",
       "    </tr>\n",
       "    <tr>\n",
       "      <th>...</th>\n",
       "      <td>...</td>\n",
       "    </tr>\n",
       "    <tr>\n",
       "      <th>25950265</th>\n",
       "      <td>back</td>\n",
       "    </tr>\n",
       "    <tr>\n",
       "      <th>25950266</th>\n",
       "      <td>second</td>\n",
       "    </tr>\n",
       "    <tr>\n",
       "      <th>25950267</th>\n",
       "      <td>time</td>\n",
       "    </tr>\n",
       "    <tr>\n",
       "      <th>25950268</th>\n",
       "      <td>soon</td>\n",
       "    </tr>\n",
       "    <tr>\n",
       "      <th>25950269</th>\n",
       "      <td></td>\n",
       "    </tr>\n",
       "  </tbody>\n",
       "</table>\n",
       "<p>25950270 rows × 1 columns</p>\n",
       "</div>"
      ],
      "text/plain": [
       "               words\n",
       "0            looking\n",
       "1          authentic\n",
       "2           japanese\n",
       "3               food\n",
       "4         reasonable\n",
       "...              ...\n",
       "25950265        back\n",
       "25950266      second\n",
       "25950267        time\n",
       "25950268        soon\n",
       "25950269            \n",
       "\n",
       "[25950270 rows x 1 columns]"
      ]
     },
     "execution_count": 192,
     "metadata": {},
     "output_type": "execute_result"
    }
   ],
   "source": [
    "all_w2_df"
   ]
  },
  {
   "cell_type": "code",
   "execution_count": 213,
   "id": "0d53a356-e90a-449e-812d-c66f24ab46cf",
   "metadata": {},
   "outputs": [],
   "source": [
    "all_w2_df['index'] = 0\n",
    "top_15_words_f_ver = all_w2_df.groupby(\"words\").count().sort_values(by= 'index', ascending = False)"
   ]
  },
  {
   "cell_type": "code",
   "execution_count": 210,
   "id": "cda4b8bd-f87e-4550-99b6-a8c82a86dbf3",
   "metadata": {},
   "outputs": [],
   "source": [
    "t2 = top_15_words_first_ver = all_words_df.groupby(\"words\").count().sort_values(by= 'index', ascending = False)"
   ]
  },
  {
   "cell_type": "code",
   "execution_count": 212,
   "id": "29fd3dbb-3996-472d-8b4d-99ed8e238938",
   "metadata": {},
   "outputs": [
    {
     "data": {
      "text/html": [
       "<div>\n",
       "<style scoped>\n",
       "    .dataframe tbody tr th:only-of-type {\n",
       "        vertical-align: middle;\n",
       "    }\n",
       "\n",
       "    .dataframe tbody tr th {\n",
       "        vertical-align: top;\n",
       "    }\n",
       "\n",
       "    .dataframe thead th {\n",
       "        text-align: right;\n",
       "    }\n",
       "</style>\n",
       "<table border=\"1\" class=\"dataframe\">\n",
       "  <thead>\n",
       "    <tr style=\"text-align: right;\">\n",
       "      <th></th>\n",
       "      <th>index</th>\n",
       "    </tr>\n",
       "    <tr>\n",
       "      <th>words</th>\n",
       "      <th></th>\n",
       "    </tr>\n",
       "  </thead>\n",
       "  <tbody>\n",
       "    <tr>\n",
       "      <th></th>\n",
       "      <td>194333</td>\n",
       "    </tr>\n",
       "    <tr>\n",
       "      <th>food</th>\n",
       "      <td>192484</td>\n",
       "    </tr>\n",
       "    <tr>\n",
       "      <th>good</th>\n",
       "      <td>189444</td>\n",
       "    </tr>\n",
       "    <tr>\n",
       "      <th>were</th>\n",
       "      <td>189056</td>\n",
       "    </tr>\n",
       "    <tr>\n",
       "      <th>not</th>\n",
       "      <td>188164</td>\n",
       "    </tr>\n",
       "    <tr>\n",
       "      <th>...</th>\n",
       "      <td>...</td>\n",
       "    </tr>\n",
       "    <tr>\n",
       "      <th>hyper-sweet</th>\n",
       "      <td>1</td>\n",
       "    </tr>\n",
       "    <tr>\n",
       "      <th>hyper-tiny</th>\n",
       "      <td>1</td>\n",
       "    </tr>\n",
       "    <tr>\n",
       "      <th>hyper-tomato-y</th>\n",
       "      <td>1</td>\n",
       "    </tr>\n",
       "    <tr>\n",
       "      <th>hyper-trendy</th>\n",
       "      <td>1</td>\n",
       "    </tr>\n",
       "    <tr>\n",
       "      <th>２人入ります</th>\n",
       "      <td>1</td>\n",
       "    </tr>\n",
       "  </tbody>\n",
       "</table>\n",
       "<p>257187 rows × 1 columns</p>\n",
       "</div>"
      ],
      "text/plain": [
       "                 index\n",
       "words                 \n",
       "                194333\n",
       "food            192484\n",
       "good            189444\n",
       "were            189056\n",
       "not             188164\n",
       "...                ...\n",
       "hyper-sweet          1\n",
       "hyper-tiny           1\n",
       "hyper-tomato-y       1\n",
       "hyper-trendy         1\n",
       "２人入ります               1\n",
       "\n",
       "[257187 rows x 1 columns]"
      ]
     },
     "execution_count": 212,
     "metadata": {},
     "output_type": "execute_result"
    }
   ],
   "source": [
    "t2.iloc[20: ,:]"
   ]
  },
  {
   "cell_type": "code",
   "execution_count": 194,
   "id": "da1ac3a2-216d-49c4-846d-c2e16ea8597e",
   "metadata": {},
   "outputs": [
    {
     "data": {
      "text/html": [
       "<div>\n",
       "<style scoped>\n",
       "    .dataframe tbody tr th:only-of-type {\n",
       "        vertical-align: middle;\n",
       "    }\n",
       "\n",
       "    .dataframe tbody tr th {\n",
       "        vertical-align: top;\n",
       "    }\n",
       "\n",
       "    .dataframe thead th {\n",
       "        text-align: right;\n",
       "    }\n",
       "</style>\n",
       "<table border=\"1\" class=\"dataframe\">\n",
       "  <thead>\n",
       "    <tr style=\"text-align: right;\">\n",
       "      <th></th>\n",
       "      <th>index</th>\n",
       "    </tr>\n",
       "    <tr>\n",
       "      <th>words</th>\n",
       "      <th></th>\n",
       "    </tr>\n",
       "  </thead>\n",
       "  <tbody>\n",
       "    <tr>\n",
       "      <th></th>\n",
       "      <td>5736835</td>\n",
       "    </tr>\n",
       "    <tr>\n",
       "      <th>i</th>\n",
       "      <td>909665</td>\n",
       "    </tr>\n",
       "    <tr>\n",
       "      <th>the</th>\n",
       "      <td>356712</td>\n",
       "    </tr>\n",
       "    <tr>\n",
       "      <th>food</th>\n",
       "      <td>196883</td>\n",
       "    </tr>\n",
       "    <tr>\n",
       "      <th>good</th>\n",
       "      <td>193347</td>\n",
       "    </tr>\n",
       "    <tr>\n",
       "      <th>it</th>\n",
       "      <td>190690</td>\n",
       "    </tr>\n",
       "    <tr>\n",
       "      <th>place</th>\n",
       "      <td>181696</td>\n",
       "    </tr>\n",
       "    <tr>\n",
       "      <th>s</th>\n",
       "      <td>154536</td>\n",
       "    </tr>\n",
       "    <tr>\n",
       "      <th>great</th>\n",
       "      <td>137251</td>\n",
       "    </tr>\n",
       "    <tr>\n",
       "      <th>like</th>\n",
       "      <td>115420</td>\n",
       "    </tr>\n",
       "    <tr>\n",
       "      <th>we</th>\n",
       "      <td>111030</td>\n",
       "    </tr>\n",
       "    <tr>\n",
       "      <th>one</th>\n",
       "      <td>99388</td>\n",
       "    </tr>\n",
       "    <tr>\n",
       "      <th>really</th>\n",
       "      <td>98415</td>\n",
       "    </tr>\n",
       "    <tr>\n",
       "      <th>get</th>\n",
       "      <td>91249</td>\n",
       "    </tr>\n",
       "    <tr>\n",
       "      <th>service</th>\n",
       "      <td>86430</td>\n",
       "    </tr>\n",
       "  </tbody>\n",
       "</table>\n",
       "</div>"
      ],
      "text/plain": [
       "           index\n",
       "words           \n",
       "         5736835\n",
       "i         909665\n",
       "the       356712\n",
       "food      196883\n",
       "good      193347\n",
       "it        190690\n",
       "place     181696\n",
       "s         154536\n",
       "great     137251\n",
       "like      115420\n",
       "we        111030\n",
       "one        99388\n",
       "really     98415\n",
       "get        91249\n",
       "service    86430"
      ]
     },
     "execution_count": 194,
     "metadata": {},
     "output_type": "execute_result"
    }
   ],
   "source": [
    "top_15_words_f_ver"
   ]
  },
  {
   "cell_type": "code",
   "execution_count": null,
   "id": "5d0d992f-42c4-463d-b15d-deeccd0b4e94",
   "metadata": {},
   "outputs": [],
   "source": [
    "# %%time\n",
    "# CPU times: user 2.55 s, sys: 360 ms, total: 2.91 s\n",
    "# Wall time: 2.9 s\n",
    "all_words_df = pd.DataFrame(all_rev_wo_punc, columns = ['words'])\n",
    "all_words_df['index'] = 0\n",
    "top_15_words_first_ver = all_words_df.groupby(\"words\").count().sort_values(by= 'index', ascending = False).head(15)"
   ]
  },
  {
   "cell_type": "code",
   "execution_count": 188,
   "id": "fd10460e-1c14-41d6-bcf7-4ff82215b830",
   "metadata": {},
   "outputs": [
    {
     "ename": "ValueError",
     "evalue": "DataFrame constructor not properly called!",
     "output_type": "error",
     "traceback": [
      "\u001b[0;31m---------------------------------------------------------------------------\u001b[0m",
      "\u001b[0;31mValueError\u001b[0m                                Traceback (most recent call last)",
      "\u001b[0;32m<ipython-input-188-95d727b17969>\u001b[0m in \u001b[0;36m<module>\u001b[0;34m\u001b[0m\n\u001b[1;32m      2\u001b[0m \u001b[0;31m# CPU times: user 2.55 s, sys: 360 ms, total: 2.91 s\u001b[0m\u001b[0;34m\u001b[0m\u001b[0;34m\u001b[0m\u001b[0;34m\u001b[0m\u001b[0m\n\u001b[1;32m      3\u001b[0m \u001b[0;31m# Wall time: 2.9 s\u001b[0m\u001b[0;34m\u001b[0m\u001b[0;34m\u001b[0m\u001b[0;34m\u001b[0m\u001b[0m\n\u001b[0;32m----> 4\u001b[0;31m \u001b[0mall_w2_df\u001b[0m \u001b[0;34m=\u001b[0m \u001b[0mpd\u001b[0m\u001b[0;34m.\u001b[0m\u001b[0mDataFrame\u001b[0m\u001b[0;34m(\u001b[0m\u001b[0mwords\u001b[0m\u001b[0;34m,\u001b[0m \u001b[0mcolumns\u001b[0m \u001b[0;34m=\u001b[0m \u001b[0;34m[\u001b[0m\u001b[0;34m'words'\u001b[0m\u001b[0;34m]\u001b[0m\u001b[0;34m)\u001b[0m\u001b[0;34m\u001b[0m\u001b[0;34m\u001b[0m\u001b[0m\n\u001b[0m",
      "\u001b[0;32m~/opt/anaconda3/envs/general-env/lib/python3.9/site-packages/pandas/core/frame.py\u001b[0m in \u001b[0;36m__init__\u001b[0;34m(self, data, index, columns, dtype, copy)\u001b[0m\n\u001b[1;32m    728\u001b[0m         \u001b[0;32melse\u001b[0m\u001b[0;34m:\u001b[0m\u001b[0;34m\u001b[0m\u001b[0;34m\u001b[0m\u001b[0m\n\u001b[1;32m    729\u001b[0m             \u001b[0;32mif\u001b[0m \u001b[0mindex\u001b[0m \u001b[0;32mis\u001b[0m \u001b[0;32mNone\u001b[0m \u001b[0;32mor\u001b[0m \u001b[0mcolumns\u001b[0m \u001b[0;32mis\u001b[0m \u001b[0;32mNone\u001b[0m\u001b[0;34m:\u001b[0m\u001b[0;34m\u001b[0m\u001b[0;34m\u001b[0m\u001b[0m\n\u001b[0;32m--> 730\u001b[0;31m                 \u001b[0;32mraise\u001b[0m \u001b[0mValueError\u001b[0m\u001b[0;34m(\u001b[0m\u001b[0;34m\"DataFrame constructor not properly called!\"\u001b[0m\u001b[0;34m)\u001b[0m\u001b[0;34m\u001b[0m\u001b[0;34m\u001b[0m\u001b[0m\n\u001b[0m\u001b[1;32m    731\u001b[0m \u001b[0;34m\u001b[0m\u001b[0m\n\u001b[1;32m    732\u001b[0m             \u001b[0;31m# Argument 1 to \"ensure_index\" has incompatible type \"Collection[Any]\";\u001b[0m\u001b[0;34m\u001b[0m\u001b[0;34m\u001b[0m\u001b[0;34m\u001b[0m\u001b[0m\n",
      "\u001b[0;31mValueError\u001b[0m: DataFrame constructor not properly called!"
     ]
    }
   ],
   "source": []
  },
  {
   "cell_type": "code",
   "execution_count": 187,
   "id": "d577b3df-29e9-4951-b37d-653208dc6955",
   "metadata": {},
   "outputs": [
    {
     "ename": "ValueError",
     "evalue": "DataFrame constructor not properly called!",
     "output_type": "error",
     "traceback": [
      "\u001b[0;31m---------------------------------------------------------------------------\u001b[0m",
      "\u001b[0;31mValueError\u001b[0m                                Traceback (most recent call last)",
      "\u001b[0;32m<ipython-input-187-34372edf6aeb>\u001b[0m in \u001b[0;36m<module>\u001b[0;34m\u001b[0m\n\u001b[1;32m      2\u001b[0m \u001b[0;31m# CPU times: user 2.55 s, sys: 360 ms, total: 2.91 s\u001b[0m\u001b[0;34m\u001b[0m\u001b[0;34m\u001b[0m\u001b[0;34m\u001b[0m\u001b[0m\n\u001b[1;32m      3\u001b[0m \u001b[0;31m# Wall time: 2.9 s\u001b[0m\u001b[0;34m\u001b[0m\u001b[0;34m\u001b[0m\u001b[0;34m\u001b[0m\u001b[0m\n\u001b[0;32m----> 4\u001b[0;31m \u001b[0mall_w2_df\u001b[0m \u001b[0;34m=\u001b[0m \u001b[0mpd\u001b[0m\u001b[0;34m.\u001b[0m\u001b[0mDataFrame\u001b[0m\u001b[0;34m(\u001b[0m\u001b[0mwords\u001b[0m\u001b[0;34m,\u001b[0m \u001b[0mcolumns\u001b[0m \u001b[0;34m=\u001b[0m \u001b[0;34m[\u001b[0m\u001b[0;34m'words'\u001b[0m\u001b[0;34m]\u001b[0m\u001b[0;34m)\u001b[0m\u001b[0;34m\u001b[0m\u001b[0;34m\u001b[0m\u001b[0m\n\u001b[0m\u001b[1;32m      5\u001b[0m \u001b[0mall_w2_df\u001b[0m\u001b[0;34m[\u001b[0m\u001b[0;34m'index'\u001b[0m\u001b[0;34m]\u001b[0m \u001b[0;34m=\u001b[0m \u001b[0;36m0\u001b[0m\u001b[0;34m\u001b[0m\u001b[0;34m\u001b[0m\u001b[0m\n\u001b[1;32m      6\u001b[0m \u001b[0mtop_15_words_first_ver\u001b[0m \u001b[0;34m=\u001b[0m \u001b[0mall_words_df\u001b[0m\u001b[0;34m.\u001b[0m\u001b[0mgroupby\u001b[0m\u001b[0;34m(\u001b[0m\u001b[0;34m\"words\"\u001b[0m\u001b[0;34m)\u001b[0m\u001b[0;34m.\u001b[0m\u001b[0mcount\u001b[0m\u001b[0;34m(\u001b[0m\u001b[0;34m)\u001b[0m\u001b[0;34m.\u001b[0m\u001b[0msort_values\u001b[0m\u001b[0;34m(\u001b[0m\u001b[0mby\u001b[0m\u001b[0;34m=\u001b[0m \u001b[0;34m'index'\u001b[0m\u001b[0;34m,\u001b[0m \u001b[0mascending\u001b[0m \u001b[0;34m=\u001b[0m \u001b[0;32mFalse\u001b[0m\u001b[0;34m)\u001b[0m\u001b[0;34m.\u001b[0m\u001b[0mhead\u001b[0m\u001b[0;34m(\u001b[0m\u001b[0;36m15\u001b[0m\u001b[0;34m)\u001b[0m\u001b[0;34m\u001b[0m\u001b[0;34m\u001b[0m\u001b[0m\n",
      "\u001b[0;32m~/opt/anaconda3/envs/general-env/lib/python3.9/site-packages/pandas/core/frame.py\u001b[0m in \u001b[0;36m__init__\u001b[0;34m(self, data, index, columns, dtype, copy)\u001b[0m\n\u001b[1;32m    728\u001b[0m         \u001b[0;32melse\u001b[0m\u001b[0;34m:\u001b[0m\u001b[0;34m\u001b[0m\u001b[0;34m\u001b[0m\u001b[0m\n\u001b[1;32m    729\u001b[0m             \u001b[0;32mif\u001b[0m \u001b[0mindex\u001b[0m \u001b[0;32mis\u001b[0m \u001b[0;32mNone\u001b[0m \u001b[0;32mor\u001b[0m \u001b[0mcolumns\u001b[0m \u001b[0;32mis\u001b[0m \u001b[0;32mNone\u001b[0m\u001b[0;34m:\u001b[0m\u001b[0;34m\u001b[0m\u001b[0;34m\u001b[0m\u001b[0m\n\u001b[0;32m--> 730\u001b[0;31m                 \u001b[0;32mraise\u001b[0m \u001b[0mValueError\u001b[0m\u001b[0;34m(\u001b[0m\u001b[0;34m\"DataFrame constructor not properly called!\"\u001b[0m\u001b[0;34m)\u001b[0m\u001b[0;34m\u001b[0m\u001b[0;34m\u001b[0m\u001b[0m\n\u001b[0m\u001b[1;32m    731\u001b[0m \u001b[0;34m\u001b[0m\u001b[0m\n\u001b[1;32m    732\u001b[0m             \u001b[0;31m# Argument 1 to \"ensure_index\" has incompatible type \"Collection[Any]\";\u001b[0m\u001b[0;34m\u001b[0m\u001b[0;34m\u001b[0m\u001b[0;34m\u001b[0m\u001b[0m\n",
      "\u001b[0;31mValueError\u001b[0m: DataFrame constructor not properly called!"
     ]
    }
   ],
   "source": [
    "all_w2_df['index'] = 0\n",
    "top_15_words_first_ver = all_words_df.groupby(\"words\").count().sort_values(by= 'index', ascending = False).head(15)"
   ]
  },
  {
   "cell_type": "code",
   "execution_count": 116,
   "id": "734b1325-97cb-434d-a3b7-489709f262d0",
   "metadata": {},
   "outputs": [
    {
     "ename": "ValueError",
     "evalue": "could not convert string to float: 'had great experience here  food outstanding  love open kitchen  wine list fantastic  bar tender great  let try mead ordering glass   mead selection   nice vibe place  service i like it  polite unobtrusive  detracting evening all  i coming back '",
     "output_type": "error",
     "traceback": [
      "\u001b[0;31m---------------------------------------------------------------------------\u001b[0m",
      "\u001b[0;31mValueError\u001b[0m                                Traceback (most recent call last)",
      "\u001b[0;32m<ipython-input-116-3cd6f30fdfd7>\u001b[0m in \u001b[0;36m<module>\u001b[0;34m\u001b[0m\n\u001b[0;32m----> 1\u001b[0;31m \u001b[0mX_train_sm\u001b[0m\u001b[0;34m,\u001b[0m \u001b[0my_train_sm\u001b[0m \u001b[0;34m=\u001b[0m \u001b[0msm\u001b[0m\u001b[0;34m.\u001b[0m\u001b[0mfit_resample\u001b[0m\u001b[0;34m(\u001b[0m\u001b[0mX_train\u001b[0m\u001b[0;34m,\u001b[0m\u001b[0my_train\u001b[0m\u001b[0;34m)\u001b[0m\u001b[0;34m\u001b[0m\u001b[0;34m\u001b[0m\u001b[0m\n\u001b[0m",
      "\u001b[0;32m~/opt/anaconda3/envs/general-env/lib/python3.9/site-packages/imblearn/base.py\u001b[0m in \u001b[0;36mfit_resample\u001b[0;34m(self, X, y)\u001b[0m\n\u001b[1;32m     75\u001b[0m         \u001b[0mcheck_classification_targets\u001b[0m\u001b[0;34m(\u001b[0m\u001b[0my\u001b[0m\u001b[0;34m)\u001b[0m\u001b[0;34m\u001b[0m\u001b[0;34m\u001b[0m\u001b[0m\n\u001b[1;32m     76\u001b[0m         \u001b[0marrays_transformer\u001b[0m \u001b[0;34m=\u001b[0m \u001b[0mArraysTransformer\u001b[0m\u001b[0;34m(\u001b[0m\u001b[0mX\u001b[0m\u001b[0;34m,\u001b[0m \u001b[0my\u001b[0m\u001b[0;34m)\u001b[0m\u001b[0;34m\u001b[0m\u001b[0;34m\u001b[0m\u001b[0m\n\u001b[0;32m---> 77\u001b[0;31m         \u001b[0mX\u001b[0m\u001b[0;34m,\u001b[0m \u001b[0my\u001b[0m\u001b[0;34m,\u001b[0m \u001b[0mbinarize_y\u001b[0m \u001b[0;34m=\u001b[0m \u001b[0mself\u001b[0m\u001b[0;34m.\u001b[0m\u001b[0m_check_X_y\u001b[0m\u001b[0;34m(\u001b[0m\u001b[0mX\u001b[0m\u001b[0;34m,\u001b[0m \u001b[0my\u001b[0m\u001b[0;34m)\u001b[0m\u001b[0;34m\u001b[0m\u001b[0;34m\u001b[0m\u001b[0m\n\u001b[0m\u001b[1;32m     78\u001b[0m \u001b[0;34m\u001b[0m\u001b[0m\n\u001b[1;32m     79\u001b[0m         self.sampling_strategy_ = check_sampling_strategy(\n",
      "\u001b[0;32m~/opt/anaconda3/envs/general-env/lib/python3.9/site-packages/imblearn/base.py\u001b[0m in \u001b[0;36m_check_X_y\u001b[0;34m(self, X, y, accept_sparse)\u001b[0m\n\u001b[1;32m    128\u001b[0m             \u001b[0maccept_sparse\u001b[0m \u001b[0;34m=\u001b[0m \u001b[0;34m[\u001b[0m\u001b[0;34m\"csr\"\u001b[0m\u001b[0;34m,\u001b[0m \u001b[0;34m\"csc\"\u001b[0m\u001b[0;34m]\u001b[0m\u001b[0;34m\u001b[0m\u001b[0;34m\u001b[0m\u001b[0m\n\u001b[1;32m    129\u001b[0m         \u001b[0my\u001b[0m\u001b[0;34m,\u001b[0m \u001b[0mbinarize_y\u001b[0m \u001b[0;34m=\u001b[0m \u001b[0mcheck_target_type\u001b[0m\u001b[0;34m(\u001b[0m\u001b[0my\u001b[0m\u001b[0;34m,\u001b[0m \u001b[0mindicate_one_vs_all\u001b[0m\u001b[0;34m=\u001b[0m\u001b[0;32mTrue\u001b[0m\u001b[0;34m)\u001b[0m\u001b[0;34m\u001b[0m\u001b[0;34m\u001b[0m\u001b[0m\n\u001b[0;32m--> 130\u001b[0;31m         \u001b[0mX\u001b[0m\u001b[0;34m,\u001b[0m \u001b[0my\u001b[0m \u001b[0;34m=\u001b[0m \u001b[0mself\u001b[0m\u001b[0;34m.\u001b[0m\u001b[0m_validate_data\u001b[0m\u001b[0;34m(\u001b[0m\u001b[0mX\u001b[0m\u001b[0;34m,\u001b[0m \u001b[0my\u001b[0m\u001b[0;34m,\u001b[0m \u001b[0mreset\u001b[0m\u001b[0;34m=\u001b[0m\u001b[0;32mTrue\u001b[0m\u001b[0;34m,\u001b[0m \u001b[0maccept_sparse\u001b[0m\u001b[0;34m=\u001b[0m\u001b[0maccept_sparse\u001b[0m\u001b[0;34m)\u001b[0m\u001b[0;34m\u001b[0m\u001b[0;34m\u001b[0m\u001b[0m\n\u001b[0m\u001b[1;32m    131\u001b[0m         \u001b[0;32mreturn\u001b[0m \u001b[0mX\u001b[0m\u001b[0;34m,\u001b[0m \u001b[0my\u001b[0m\u001b[0;34m,\u001b[0m \u001b[0mbinarize_y\u001b[0m\u001b[0;34m\u001b[0m\u001b[0;34m\u001b[0m\u001b[0m\n\u001b[1;32m    132\u001b[0m \u001b[0;34m\u001b[0m\u001b[0m\n",
      "\u001b[0;32m~/opt/anaconda3/envs/general-env/lib/python3.9/site-packages/sklearn/base.py\u001b[0m in \u001b[0;36m_validate_data\u001b[0;34m(self, X, y, reset, validate_separately, **check_params)\u001b[0m\n\u001b[1;32m    431\u001b[0m                 \u001b[0my\u001b[0m \u001b[0;34m=\u001b[0m \u001b[0mcheck_array\u001b[0m\u001b[0;34m(\u001b[0m\u001b[0my\u001b[0m\u001b[0;34m,\u001b[0m \u001b[0;34m**\u001b[0m\u001b[0mcheck_y_params\u001b[0m\u001b[0;34m)\u001b[0m\u001b[0;34m\u001b[0m\u001b[0;34m\u001b[0m\u001b[0m\n\u001b[1;32m    432\u001b[0m             \u001b[0;32melse\u001b[0m\u001b[0;34m:\u001b[0m\u001b[0;34m\u001b[0m\u001b[0;34m\u001b[0m\u001b[0m\n\u001b[0;32m--> 433\u001b[0;31m                 \u001b[0mX\u001b[0m\u001b[0;34m,\u001b[0m \u001b[0my\u001b[0m \u001b[0;34m=\u001b[0m \u001b[0mcheck_X_y\u001b[0m\u001b[0;34m(\u001b[0m\u001b[0mX\u001b[0m\u001b[0;34m,\u001b[0m \u001b[0my\u001b[0m\u001b[0;34m,\u001b[0m \u001b[0;34m**\u001b[0m\u001b[0mcheck_params\u001b[0m\u001b[0;34m)\u001b[0m\u001b[0;34m\u001b[0m\u001b[0;34m\u001b[0m\u001b[0m\n\u001b[0m\u001b[1;32m    434\u001b[0m             \u001b[0mout\u001b[0m \u001b[0;34m=\u001b[0m \u001b[0mX\u001b[0m\u001b[0;34m,\u001b[0m \u001b[0my\u001b[0m\u001b[0;34m\u001b[0m\u001b[0;34m\u001b[0m\u001b[0m\n\u001b[1;32m    435\u001b[0m \u001b[0;34m\u001b[0m\u001b[0m\n",
      "\u001b[0;32m~/opt/anaconda3/envs/general-env/lib/python3.9/site-packages/sklearn/utils/validation.py\u001b[0m in \u001b[0;36minner_f\u001b[0;34m(*args, **kwargs)\u001b[0m\n\u001b[1;32m     61\u001b[0m             \u001b[0mextra_args\u001b[0m \u001b[0;34m=\u001b[0m \u001b[0mlen\u001b[0m\u001b[0;34m(\u001b[0m\u001b[0margs\u001b[0m\u001b[0;34m)\u001b[0m \u001b[0;34m-\u001b[0m \u001b[0mlen\u001b[0m\u001b[0;34m(\u001b[0m\u001b[0mall_args\u001b[0m\u001b[0;34m)\u001b[0m\u001b[0;34m\u001b[0m\u001b[0;34m\u001b[0m\u001b[0m\n\u001b[1;32m     62\u001b[0m             \u001b[0;32mif\u001b[0m \u001b[0mextra_args\u001b[0m \u001b[0;34m<=\u001b[0m \u001b[0;36m0\u001b[0m\u001b[0;34m:\u001b[0m\u001b[0;34m\u001b[0m\u001b[0;34m\u001b[0m\u001b[0m\n\u001b[0;32m---> 63\u001b[0;31m                 \u001b[0;32mreturn\u001b[0m \u001b[0mf\u001b[0m\u001b[0;34m(\u001b[0m\u001b[0;34m*\u001b[0m\u001b[0margs\u001b[0m\u001b[0;34m,\u001b[0m \u001b[0;34m**\u001b[0m\u001b[0mkwargs\u001b[0m\u001b[0;34m)\u001b[0m\u001b[0;34m\u001b[0m\u001b[0;34m\u001b[0m\u001b[0m\n\u001b[0m\u001b[1;32m     64\u001b[0m \u001b[0;34m\u001b[0m\u001b[0m\n\u001b[1;32m     65\u001b[0m             \u001b[0;31m# extra_args > 0\u001b[0m\u001b[0;34m\u001b[0m\u001b[0;34m\u001b[0m\u001b[0;34m\u001b[0m\u001b[0m\n",
      "\u001b[0;32m~/opt/anaconda3/envs/general-env/lib/python3.9/site-packages/sklearn/utils/validation.py\u001b[0m in \u001b[0;36mcheck_X_y\u001b[0;34m(X, y, accept_sparse, accept_large_sparse, dtype, order, copy, force_all_finite, ensure_2d, allow_nd, multi_output, ensure_min_samples, ensure_min_features, y_numeric, estimator)\u001b[0m\n\u001b[1;32m    869\u001b[0m         \u001b[0;32mraise\u001b[0m \u001b[0mValueError\u001b[0m\u001b[0;34m(\u001b[0m\u001b[0;34m\"y cannot be None\"\u001b[0m\u001b[0;34m)\u001b[0m\u001b[0;34m\u001b[0m\u001b[0;34m\u001b[0m\u001b[0m\n\u001b[1;32m    870\u001b[0m \u001b[0;34m\u001b[0m\u001b[0m\n\u001b[0;32m--> 871\u001b[0;31m     X = check_array(X, accept_sparse=accept_sparse,\n\u001b[0m\u001b[1;32m    872\u001b[0m                     \u001b[0maccept_large_sparse\u001b[0m\u001b[0;34m=\u001b[0m\u001b[0maccept_large_sparse\u001b[0m\u001b[0;34m,\u001b[0m\u001b[0;34m\u001b[0m\u001b[0;34m\u001b[0m\u001b[0m\n\u001b[1;32m    873\u001b[0m                     \u001b[0mdtype\u001b[0m\u001b[0;34m=\u001b[0m\u001b[0mdtype\u001b[0m\u001b[0;34m,\u001b[0m \u001b[0morder\u001b[0m\u001b[0;34m=\u001b[0m\u001b[0morder\u001b[0m\u001b[0;34m,\u001b[0m \u001b[0mcopy\u001b[0m\u001b[0;34m=\u001b[0m\u001b[0mcopy\u001b[0m\u001b[0;34m,\u001b[0m\u001b[0;34m\u001b[0m\u001b[0;34m\u001b[0m\u001b[0m\n",
      "\u001b[0;32m~/opt/anaconda3/envs/general-env/lib/python3.9/site-packages/sklearn/utils/validation.py\u001b[0m in \u001b[0;36minner_f\u001b[0;34m(*args, **kwargs)\u001b[0m\n\u001b[1;32m     61\u001b[0m             \u001b[0mextra_args\u001b[0m \u001b[0;34m=\u001b[0m \u001b[0mlen\u001b[0m\u001b[0;34m(\u001b[0m\u001b[0margs\u001b[0m\u001b[0;34m)\u001b[0m \u001b[0;34m-\u001b[0m \u001b[0mlen\u001b[0m\u001b[0;34m(\u001b[0m\u001b[0mall_args\u001b[0m\u001b[0;34m)\u001b[0m\u001b[0;34m\u001b[0m\u001b[0;34m\u001b[0m\u001b[0m\n\u001b[1;32m     62\u001b[0m             \u001b[0;32mif\u001b[0m \u001b[0mextra_args\u001b[0m \u001b[0;34m<=\u001b[0m \u001b[0;36m0\u001b[0m\u001b[0;34m:\u001b[0m\u001b[0;34m\u001b[0m\u001b[0;34m\u001b[0m\u001b[0m\n\u001b[0;32m---> 63\u001b[0;31m                 \u001b[0;32mreturn\u001b[0m \u001b[0mf\u001b[0m\u001b[0;34m(\u001b[0m\u001b[0;34m*\u001b[0m\u001b[0margs\u001b[0m\u001b[0;34m,\u001b[0m \u001b[0;34m**\u001b[0m\u001b[0mkwargs\u001b[0m\u001b[0;34m)\u001b[0m\u001b[0;34m\u001b[0m\u001b[0;34m\u001b[0m\u001b[0m\n\u001b[0m\u001b[1;32m     64\u001b[0m \u001b[0;34m\u001b[0m\u001b[0m\n\u001b[1;32m     65\u001b[0m             \u001b[0;31m# extra_args > 0\u001b[0m\u001b[0;34m\u001b[0m\u001b[0;34m\u001b[0m\u001b[0;34m\u001b[0m\u001b[0m\n",
      "\u001b[0;32m~/opt/anaconda3/envs/general-env/lib/python3.9/site-packages/sklearn/utils/validation.py\u001b[0m in \u001b[0;36mcheck_array\u001b[0;34m(array, accept_sparse, accept_large_sparse, dtype, order, copy, force_all_finite, ensure_2d, allow_nd, ensure_min_samples, ensure_min_features, estimator)\u001b[0m\n\u001b[1;32m    671\u001b[0m                     \u001b[0marray\u001b[0m \u001b[0;34m=\u001b[0m \u001b[0marray\u001b[0m\u001b[0;34m.\u001b[0m\u001b[0mastype\u001b[0m\u001b[0;34m(\u001b[0m\u001b[0mdtype\u001b[0m\u001b[0;34m,\u001b[0m \u001b[0mcasting\u001b[0m\u001b[0;34m=\u001b[0m\u001b[0;34m\"unsafe\"\u001b[0m\u001b[0;34m,\u001b[0m \u001b[0mcopy\u001b[0m\u001b[0;34m=\u001b[0m\u001b[0;32mFalse\u001b[0m\u001b[0;34m)\u001b[0m\u001b[0;34m\u001b[0m\u001b[0;34m\u001b[0m\u001b[0m\n\u001b[1;32m    672\u001b[0m                 \u001b[0;32melse\u001b[0m\u001b[0;34m:\u001b[0m\u001b[0;34m\u001b[0m\u001b[0;34m\u001b[0m\u001b[0m\n\u001b[0;32m--> 673\u001b[0;31m                     \u001b[0marray\u001b[0m \u001b[0;34m=\u001b[0m \u001b[0mnp\u001b[0m\u001b[0;34m.\u001b[0m\u001b[0masarray\u001b[0m\u001b[0;34m(\u001b[0m\u001b[0marray\u001b[0m\u001b[0;34m,\u001b[0m \u001b[0morder\u001b[0m\u001b[0;34m=\u001b[0m\u001b[0morder\u001b[0m\u001b[0;34m,\u001b[0m \u001b[0mdtype\u001b[0m\u001b[0;34m=\u001b[0m\u001b[0mdtype\u001b[0m\u001b[0;34m)\u001b[0m\u001b[0;34m\u001b[0m\u001b[0;34m\u001b[0m\u001b[0m\n\u001b[0m\u001b[1;32m    674\u001b[0m             \u001b[0;32mexcept\u001b[0m \u001b[0mComplexWarning\u001b[0m \u001b[0;32mas\u001b[0m \u001b[0mcomplex_warning\u001b[0m\u001b[0;34m:\u001b[0m\u001b[0;34m\u001b[0m\u001b[0;34m\u001b[0m\u001b[0m\n\u001b[1;32m    675\u001b[0m                 raise ValueError(\"Complex data not supported\\n\"\n",
      "\u001b[0;32m~/opt/anaconda3/envs/general-env/lib/python3.9/site-packages/pandas/core/series.py\u001b[0m in \u001b[0;36m__array__\u001b[0;34m(self, dtype)\u001b[0m\n\u001b[1;32m    855\u001b[0m               dtype='datetime64[ns]')\n\u001b[1;32m    856\u001b[0m         \"\"\"\n\u001b[0;32m--> 857\u001b[0;31m         \u001b[0;32mreturn\u001b[0m \u001b[0mnp\u001b[0m\u001b[0;34m.\u001b[0m\u001b[0masarray\u001b[0m\u001b[0;34m(\u001b[0m\u001b[0mself\u001b[0m\u001b[0;34m.\u001b[0m\u001b[0m_values\u001b[0m\u001b[0;34m,\u001b[0m \u001b[0mdtype\u001b[0m\u001b[0;34m)\u001b[0m\u001b[0;34m\u001b[0m\u001b[0;34m\u001b[0m\u001b[0m\n\u001b[0m\u001b[1;32m    858\u001b[0m \u001b[0;34m\u001b[0m\u001b[0m\n\u001b[1;32m    859\u001b[0m     \u001b[0;31m# ----------------------------------------------------------------------\u001b[0m\u001b[0;34m\u001b[0m\u001b[0;34m\u001b[0m\u001b[0;34m\u001b[0m\u001b[0m\n",
      "\u001b[0;31mValueError\u001b[0m: could not convert string to float: 'had great experience here  food outstanding  love open kitchen  wine list fantastic  bar tender great  let try mead ordering glass   mead selection   nice vibe place  service i like it  polite unobtrusive  detracting evening all  i coming back '"
     ]
    }
   ],
   "source": [
    "X_train_sm, y_train_sm = sm.fit_resample(X_train, y_train)"
   ]
  },
  {
   "cell_type": "code",
   "execution_count": null,
   "id": "6223fcaf-26c2-40f7-aefe-97c7a13da120",
   "metadata": {},
   "outputs": [],
   "source": []
  },
  {
   "cell_type": "code",
   "execution_count": null,
   "id": "f468101f-51ee-4d2b-b385-49054d498063",
   "metadata": {},
   "outputs": [],
   "source": []
  },
  {
   "cell_type": "code",
   "execution_count": null,
   "id": "076088c2-ad30-465e-b96d-e2c209c10721",
   "metadata": {},
   "outputs": [],
   "source": []
  },
  {
   "cell_type": "code",
   "execution_count": null,
   "id": "5955cc81-7f92-45e3-8b62-49a2e33ab00e",
   "metadata": {},
   "outputs": [],
   "source": []
  },
  {
   "cell_type": "code",
   "execution_count": null,
   "id": "fda2d15f-be15-4ddd-ab59-fa028e52a9db",
   "metadata": {},
   "outputs": [],
   "source": []
  },
  {
   "cell_type": "code",
   "execution_count": 77,
   "id": "06f07b35-74a9-4602-af31-88d4d6cb7959",
   "metadata": {},
   "outputs": [
    {
     "data": {
      "text/plain": [
       "<function nltk.tokenize.word_tokenize(text, language='english', preserve_line=False)>"
      ]
     },
     "execution_count": 77,
     "metadata": {},
     "output_type": "execute_result"
    }
   ],
   "source": [
    "# word_tokenize"
   ]
  },
  {
   "cell_type": "code",
   "execution_count": null,
   "id": "582a278d-530e-499a-b8a6-ae283325534c",
   "metadata": {},
   "outputs": [],
   "source": [
    "# def custom_tokenize(text):\n",
    "#     text = clean_text(text)\n",
    "#     tokens = custom_tokenizer(text)\n",
    "#     return tokens"
   ]
  },
  {
   "cell_type": "code",
   "execution_count": 78,
   "id": "dc041d3f-4672-4d03-9736-8d168a237ffc",
   "metadata": {},
   "outputs": [],
   "source": [
    "# from sklearn.feature_extraction.text import CountVectorizer"
   ]
  },
  {
   "cell_type": "code",
   "execution_count": 81,
   "id": "50720638-254f-4d7f-a7c4-5af931db51a0",
   "metadata": {},
   "outputs": [],
   "source": [
    "# sp = spacy.load(\"en_core_web_sm\")"
   ]
  },
  {
   "cell_type": "code",
   "execution_count": 82,
   "id": "e683142a-0ed5-498e-87a4-c78be6fa55b8",
   "metadata": {},
   "outputs": [],
   "source": [
    "# doc = sp('some random text I am testing, what does this do?')"
   ]
  },
  {
   "cell_type": "code",
   "execution_count": 85,
   "id": "f596716e-1650-47ad-badc-e93d85fb4391",
   "metadata": {},
   "outputs": [
    {
     "name": "stdout",
     "output_type": "stream",
     "text": [
      "some\n",
      "random\n",
      "text\n",
      "I\n",
      "am\n",
      "testing\n",
      ",\n",
      "what\n",
      "does\n",
      "this\n",
      "do\n",
      "?\n"
     ]
    }
   ],
   "source": [
    "# for token in doc:\n",
    "#     #print(token.text, token.pos_,token.dep_)\n",
    "#     print(token.text)"
   ]
  },
  {
   "cell_type": "code",
   "execution_count": null,
   "id": "0649d439-8e86-4aa6-a093-a52d7867740c",
   "metadata": {},
   "outputs": [],
   "source": [
    "vect = CountVectorizer(max_features = None,\n",
    "                      tokenizer = renltk_tokenize,\n",
    "                      ngram_range = (1,1),\n",
    "                      lowercase =True\n",
    "                      )"
   ]
  },
  {
   "cell_type": "code",
   "execution_count": null,
   "id": "71074071-bc78-4997-8242-29c1a836119e",
   "metadata": {},
   "outputs": [],
   "source": []
  },
  {
   "cell_type": "code",
   "execution_count": null,
   "id": "8423a549-724a-411c-b9c3-56187dbec8b0",
   "metadata": {},
   "outputs": [],
   "source": []
  },
  {
   "cell_type": "code",
   "execution_count": null,
   "id": "823956eb-926d-4375-9302-7c1ab889c4cc",
   "metadata": {},
   "outputs": [],
   "source": [
    "x_train = cv.fit_transform(X_train)"
   ]
  },
  {
   "cell_type": "code",
   "execution_count": null,
   "id": "f23bfb93-6c61-4912-a810-0fe1727b7290",
   "metadata": {},
   "outputs": [],
   "source": [
    "x_train"
   ]
  },
  {
   "cell_type": "code",
   "execution_count": null,
   "id": "2fcdd10c-229a-4795-92fa-2aabdd144c01",
   "metadata": {},
   "outputs": [],
   "source": [
    "y_train"
   ]
  },
  {
   "cell_type": "code",
   "execution_count": null,
   "id": "e9bf6a08-b850-485b-adfc-9919c0366a99",
   "metadata": {},
   "outputs": [],
   "source": [
    "from sklearn.naive_bayes import MultinomialNB"
   ]
  },
  {
   "cell_type": "code",
   "execution_count": null,
   "id": "2f816c0a-c679-4075-8084-837052df9110",
   "metadata": {},
   "outputs": [],
   "source": [
    "nb = MultinomialNB()"
   ]
  },
  {
   "cell_type": "code",
   "execution_count": null,
   "id": "f8ee737b-19fb-47c8-b214-4d078f944573",
   "metadata": {},
   "outputs": [],
   "source": [
    "nb.fit(X_train, y_train)"
   ]
  },
  {
   "cell_type": "code",
   "execution_count": null,
   "id": "f4787598-d8ac-4954-9941-b07a5f50f602",
   "metadata": {},
   "outputs": [],
   "source": []
  },
  {
   "cell_type": "code",
   "execution_count": null,
   "id": "3b280e04-9bdf-4eaf-a077-4d60a9c57e81",
   "metadata": {},
   "outputs": [],
   "source": []
  },
  {
   "cell_type": "code",
   "execution_count": null,
   "id": "94a3d481-8e75-492d-9736-37082dc49282",
   "metadata": {},
   "outputs": [],
   "source": []
  },
  {
   "cell_type": "code",
   "execution_count": null,
   "id": "02107f02-cc7e-4e24-afca-10dad459d52c",
   "metadata": {},
   "outputs": [],
   "source": []
  },
  {
   "cell_type": "code",
   "execution_count": null,
   "id": "37157cba-1245-442c-8ec3-4995dddfcded",
   "metadata": {},
   "outputs": [],
   "source": []
  },
  {
   "cell_type": "code",
   "execution_count": null,
   "id": "0859f24e-75bd-4924-84c2-722def7b8ff0",
   "metadata": {},
   "outputs": [],
   "source": []
  },
  {
   "cell_type": "code",
   "execution_count": null,
   "id": "4c8e228e-7583-492e-a8f4-b8eab06ebbae",
   "metadata": {},
   "outputs": [],
   "source": []
  },
  {
   "cell_type": "code",
   "execution_count": null,
   "id": "14d325c3-dcb6-4c27-b7b7-4db6dbb25c88",
   "metadata": {},
   "outputs": [],
   "source": []
  },
  {
   "cell_type": "code",
   "execution_count": null,
   "id": "10f52c14-6b23-4bc9-8c5a-34650d6ba9bf",
   "metadata": {},
   "outputs": [],
   "source": [
    "def process_article(article):\n",
    "    tokens = nltk.word_tokenize(article)\n",
    "    stopwords_removed = [token.lower() for token in tokens if token.lower() not in sw]\n",
    "    return stopwords_removed    "
   ]
  },
  {
   "cell_type": "code",
   "execution_count": null,
   "id": "a239de0d-1982-414e-a87c-8e27e5737289",
   "metadata": {},
   "outputs": [],
   "source": [
    "pattern = \"([a-zA-Z]+(?:'[a-z]+)?)\""
   ]
  },
  {
   "cell_type": "code",
   "execution_count": null,
   "id": "8b66815a-d638-4933-af3d-453cc2193d4b",
   "metadata": {},
   "outputs": [],
   "source": [
    "processed_data = list(map(process_article, XXXXXX))"
   ]
  },
  {
   "cell_type": "code",
   "execution_count": null,
   "id": "b3699cea-d6d6-4ba0-b058-689a25fdb53e",
   "metadata": {},
   "outputs": [],
   "source": [
    "processed_data"
   ]
  },
  {
   "cell_type": "raw",
   "id": "fcf7745e-09f1-404a-950b-9e89830bfcb3",
   "metadata": {},
   "source": [
    "\n",
    "\n",
    "\n",
    "\n",
    "\n",
    "\n",
    "                               Test area\n",
    "\n",
    "\n",
    "\n",
    "\n"
   ]
  },
  {
   "cell_type": "code",
   "execution_count": null,
   "id": "8b53fafa-991c-4596-9b1b-663648cc292c",
   "metadata": {},
   "outputs": [],
   "source": [
    "first_item = restaurants_df['review'][0]\n",
    "first_item"
   ]
  },
  {
   "cell_type": "code",
   "execution_count": null,
   "id": "325ccf2a-c02c-44bb-80d6-64b446b2a1f6",
   "metadata": {},
   "outputs": [],
   "source": [
    "first_item = first_item.lower()\n",
    "first_item"
   ]
  },
  {
   "cell_type": "code",
   "execution_count": null,
   "id": "28c7d3fe-9cb1-4ee1-af49-105b5da2e28f",
   "metadata": {},
   "outputs": [],
   "source": [
    "[word.strip(string.punctuation) for word in first_item.split(\" \")]"
   ]
  },
  {
   "cell_type": "code",
   "execution_count": null,
   "id": "f8f0f4b6-7cc9-4b94-857f-1b74809677c1",
   "metadata": {},
   "outputs": [],
   "source": []
  }
 ],
 "metadata": {
  "kernelspec": {
   "display_name": "general-env",
   "language": "python",
   "name": "general-env"
  },
  "language_info": {
   "codemirror_mode": {
    "name": "ipython",
    "version": 3
   },
   "file_extension": ".py",
   "mimetype": "text/x-python",
   "name": "python",
   "nbconvert_exporter": "python",
   "pygments_lexer": "ipython3",
   "version": "3.9.6"
  }
 },
 "nbformat": 4,
 "nbformat_minor": 5
}
