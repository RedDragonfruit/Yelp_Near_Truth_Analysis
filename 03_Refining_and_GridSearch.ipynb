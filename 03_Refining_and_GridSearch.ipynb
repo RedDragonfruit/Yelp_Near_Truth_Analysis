{
 "cells": [
  {
   "cell_type": "code",
   "execution_count": 252,
   "id": "50e077ed-4add-4b07-b1d6-8e310b6ababf",
   "metadata": {},
   "outputs": [],
   "source": [
    "import pandas as pd\n",
    "import string\n",
    "\n",
    "\n",
    "\n",
    "#from sklearn import decomposition, ensemble\n",
    "\n",
    "#from tensorflow.keras.preprocessing import text, sequence\n",
    "#from tensorflow.keras import layers, models, optimizers\n",
    "\n",
    "from nltk.corpus import stopwords\n",
    "\n",
    "from imblearn.over_sampling import SMOTE\n",
    "from imblearn.pipeline import Pipeline, make_pipeline\n",
    "\n",
    "from sklearn.model_selection import train_test_split, cross_val_score, GridSearchCV\n",
    "from sklearn.metrics import accuracy_score, confusion_matrix, plot_confusion_matrix\n",
    "from sklearn.feature_extraction.text import TfidfVectorizer, CountVectorizer\n",
    "from sklearn import model_selection, naive_bayes, metrics"
   ]
  },
  {
   "cell_type": "code",
   "execution_count": 2,
   "id": "41153caf-5d7d-464c-929c-42101acdab8e",
   "metadata": {},
   "outputs": [],
   "source": [
    "df = pd.read_csv('./Data/restaurant_data')\n",
    "target_df = pd.read_csv('./Data/target_data')\n",
    "\n",
    "restaurants_df = df.merge(target_df,\n",
    "                         how = 'inner',\n",
    "                         left_on = ['Unnamed: 0'],\n",
    "                         right_on = ['Unnamed: 0']\n",
    "                         )\n",
    "\n",
    "restaurants_df.drop('Unnamed: 0' , axis=1,inplace =True)"
   ]
  },
  {
   "cell_type": "markdown",
   "id": "5ed14a26-f706-474f-a244-f78ee0184c6c",
   "metadata": {},
   "source": [
    "#### The data is loaded to this new notebook for further analysis. A new dataframe corpus2 is created to contain only the review and target."
   ]
  },
  {
   "cell_type": "code",
   "execution_count": 238,
   "id": "fd9d0909-543a-4c32-a3bc-8cbdc382e883",
   "metadata": {},
   "outputs": [
    {
     "data": {
      "text/html": [
       "<div>\n",
       "<style scoped>\n",
       "    .dataframe tbody tr th:only-of-type {\n",
       "        vertical-align: middle;\n",
       "    }\n",
       "\n",
       "    .dataframe tbody tr th {\n",
       "        vertical-align: top;\n",
       "    }\n",
       "\n",
       "    .dataframe thead th {\n",
       "        text-align: right;\n",
       "    }\n",
       "</style>\n",
       "<table border=\"1\" class=\"dataframe\">\n",
       "  <thead>\n",
       "    <tr style=\"text-align: right;\">\n",
       "      <th></th>\n",
       "      <th>user_id</th>\n",
       "      <th>prod_id</th>\n",
       "      <th>rating</th>\n",
       "      <th>date</th>\n",
       "      <th>review</th>\n",
       "      <th>name</th>\n",
       "      <th>target</th>\n",
       "    </tr>\n",
       "  </thead>\n",
       "  <tbody>\n",
       "    <tr>\n",
       "      <th>0</th>\n",
       "      <td>22558</td>\n",
       "      <td>859</td>\n",
       "      <td>5.0</td>\n",
       "      <td>2007-05-28</td>\n",
       "      <td>Looking for some authentic Japanese food at re...</td>\n",
       "      <td>Yakitori Totto</td>\n",
       "      <td>1</td>\n",
       "    </tr>\n",
       "    <tr>\n",
       "      <th>1</th>\n",
       "      <td>78837</td>\n",
       "      <td>915</td>\n",
       "      <td>4.0</td>\n",
       "      <td>2009-10-05</td>\n",
       "      <td>Pepe Rosso is where you go when you're in SOHO...</td>\n",
       "      <td>Pepe Rosso To Go</td>\n",
       "      <td>1</td>\n",
       "    </tr>\n",
       "    <tr>\n",
       "      <th>2</th>\n",
       "      <td>19590</td>\n",
       "      <td>668</td>\n",
       "      <td>5.0</td>\n",
       "      <td>2013-09-17</td>\n",
       "      <td>I had waited to return a couple other times to...</td>\n",
       "      <td>Eataly NYC</td>\n",
       "      <td>1</td>\n",
       "    </tr>\n",
       "    <tr>\n",
       "      <th>3</th>\n",
       "      <td>7175</td>\n",
       "      <td>287</td>\n",
       "      <td>3.0</td>\n",
       "      <td>2013-10-30</td>\n",
       "      <td>This place is always busy - partly because it'...</td>\n",
       "      <td>Heidi’s House</td>\n",
       "      <td>1</td>\n",
       "    </tr>\n",
       "    <tr>\n",
       "      <th>4</th>\n",
       "      <td>137409</td>\n",
       "      <td>744</td>\n",
       "      <td>5.0</td>\n",
       "      <td>2014-12-04</td>\n",
       "      <td>Love this place! I am not a regular yelper I d...</td>\n",
       "      <td>Bodhi Tree</td>\n",
       "      <td>0</td>\n",
       "    </tr>\n",
       "  </tbody>\n",
       "</table>\n",
       "</div>"
      ],
      "text/plain": [
       "   user_id  prod_id  rating        date  \\\n",
       "0    22558      859     5.0  2007-05-28   \n",
       "1    78837      915     4.0  2009-10-05   \n",
       "2    19590      668     5.0  2013-09-17   \n",
       "3     7175      287     3.0  2013-10-30   \n",
       "4   137409      744     5.0  2014-12-04   \n",
       "\n",
       "                                              review              name  target  \n",
       "0  Looking for some authentic Japanese food at re...    Yakitori Totto       1  \n",
       "1  Pepe Rosso is where you go when you're in SOHO...  Pepe Rosso To Go       1  \n",
       "2  I had waited to return a couple other times to...        Eataly NYC       1  \n",
       "3  This place is always busy - partly because it'...     Heidi’s House       1  \n",
       "4  Love this place! I am not a regular yelper I d...        Bodhi Tree       0  "
      ]
     },
     "execution_count": 238,
     "metadata": {},
     "output_type": "execute_result"
    }
   ],
   "source": [
    "restaurants_df.head()"
   ]
  },
  {
   "cell_type": "code",
   "execution_count": 4,
   "id": "0e50bacb-2b3d-49b2-a76a-7c1a604e6175",
   "metadata": {},
   "outputs": [],
   "source": [
    "corpus2 = restaurants_df[['review','target']]"
   ]
  },
  {
   "cell_type": "code",
   "execution_count": 240,
   "id": "2dd75b39-b266-4210-89ee-7a6ca50a84b3",
   "metadata": {},
   "outputs": [
    {
     "data": {
      "text/html": [
       "<div>\n",
       "<style scoped>\n",
       "    .dataframe tbody tr th:only-of-type {\n",
       "        vertical-align: middle;\n",
       "    }\n",
       "\n",
       "    .dataframe tbody tr th {\n",
       "        vertical-align: top;\n",
       "    }\n",
       "\n",
       "    .dataframe thead th {\n",
       "        text-align: right;\n",
       "    }\n",
       "</style>\n",
       "<table border=\"1\" class=\"dataframe\">\n",
       "  <thead>\n",
       "    <tr style=\"text-align: right;\">\n",
       "      <th></th>\n",
       "      <th>review</th>\n",
       "      <th>target</th>\n",
       "    </tr>\n",
       "  </thead>\n",
       "  <tbody>\n",
       "    <tr>\n",
       "      <th>0</th>\n",
       "      <td>Looking for some authentic Japanese food at re...</td>\n",
       "      <td>1</td>\n",
       "    </tr>\n",
       "    <tr>\n",
       "      <th>1</th>\n",
       "      <td>Pepe Rosso is where you go when you're in SOHO...</td>\n",
       "      <td>1</td>\n",
       "    </tr>\n",
       "    <tr>\n",
       "      <th>2</th>\n",
       "      <td>I had waited to return a couple other times to...</td>\n",
       "      <td>1</td>\n",
       "    </tr>\n",
       "    <tr>\n",
       "      <th>3</th>\n",
       "      <td>This place is always busy - partly because it'...</td>\n",
       "      <td>1</td>\n",
       "    </tr>\n",
       "    <tr>\n",
       "      <th>4</th>\n",
       "      <td>Love this place! I am not a regular yelper I d...</td>\n",
       "      <td>0</td>\n",
       "    </tr>\n",
       "  </tbody>\n",
       "</table>\n",
       "</div>"
      ],
      "text/plain": [
       "                                              review  target\n",
       "0  Looking for some authentic Japanese food at re...       1\n",
       "1  Pepe Rosso is where you go when you're in SOHO...       1\n",
       "2  I had waited to return a couple other times to...       1\n",
       "3  This place is always busy - partly because it'...       1\n",
       "4  Love this place! I am not a regular yelper I d...       0"
      ]
     },
     "execution_count": 240,
     "metadata": {},
     "output_type": "execute_result"
    }
   ],
   "source": [
    "corpus2.head()"
   ]
  },
  {
   "cell_type": "markdown",
   "id": "bbec7dd9-82c8-44e4-87db-80276dbd737b",
   "metadata": {},
   "source": [
    "#### added new most common words in both the truth and fraud reviews to the stopword to remove the top four words."
   ]
  },
  {
   "cell_type": "code",
   "execution_count": 8,
   "id": "1dec5a3b-2c26-4b60-b650-1f8f4db00f8d",
   "metadata": {},
   "outputs": [],
   "source": [
    "sw = stopwords.words('english')"
   ]
  },
  {
   "cell_type": "code",
   "execution_count": 9,
   "id": "76cd38cf-431d-4d45-b6e3-19dfcc941df6",
   "metadata": {},
   "outputs": [],
   "source": [
    "sw += ['food','place','good',\"great\"]"
   ]
  },
  {
   "cell_type": "code",
   "execution_count": 10,
   "id": "b386b070-452d-433e-95c5-84ce84f4e12e",
   "metadata": {},
   "outputs": [],
   "source": [
    "body = corpus2.review\n",
    "target = corpus2.target"
   ]
  },
  {
   "cell_type": "code",
   "execution_count": 11,
   "id": "cdfcc801-4658-4d23-af31-3fe3b73d9c30",
   "metadata": {},
   "outputs": [],
   "source": [
    "X_train, X_test, y_train, y_test = train_test_split(body,\n",
    "                                                    target,\n",
    "                                                    random_state = 42,\n",
    "                                                    stratify = target)"
   ]
  },
  {
   "cell_type": "code",
   "execution_count": 12,
   "id": "d1ec9220-46de-4130-b009-a7b636852444",
   "metadata": {},
   "outputs": [],
   "source": []
  },
  {
   "cell_type": "code",
   "execution_count": 237,
   "id": "58b04e84-ae13-4d35-bc4e-250427bb3dcb",
   "metadata": {},
   "outputs": [],
   "source": [
    "#encoded for potential NN usage \n",
    "encoder = preprocessing.LabelEncoder()"
   ]
  },
  {
   "cell_type": "code",
   "execution_count": 14,
   "id": "4d58374c-d39a-40ff-bbad-bbe19f5d71a7",
   "metadata": {},
   "outputs": [],
   "source": [
    "y_train = encoder.fit_transform(y_train)\n",
    "y_test = encoder.fit_transform(y_test)"
   ]
  },
  {
   "cell_type": "markdown",
   "id": "6c02e447-6209-4933-84ee-23f23fedfbc5",
   "metadata": {},
   "source": [
    "#### Two methods are initiated to clean the text. The first is the count vecorizer used prior and the other is the tfidf vectorizer."
   ]
  },
  {
   "cell_type": "code",
   "execution_count": 15,
   "id": "ac9f2672-d967-4ca5-bb08-1e3a6bbb1824",
   "metadata": {},
   "outputs": [],
   "source": [
    "count_vect = CountVectorizer(analyzer='word',stop_words = sw)\n",
    "count_vect.fit(X_train)\n",
    "\n",
    "all_words_dict = (count_vect.vocabulary_)\n",
    "\n",
    "Xtrain_count =  count_vect.transform(X_train)\n",
    "#Xtest_count =  count_vect.transform(X_test)"
   ]
  },
  {
   "cell_type": "code",
   "execution_count": 18,
   "id": "f86fea4a-17db-4803-af41-e41f87cb7f1f",
   "metadata": {},
   "outputs": [],
   "source": [
    "X_test_count = count_vect.transform(X_test)"
   ]
  },
  {
   "cell_type": "markdown",
   "id": "b8982bb0-2b0b-440d-9c5f-4c9743144ba1",
   "metadata": {},
   "source": [
    "#### Different conditions were tested for the tfidf which scored slightly higher compared to the count vectorizer so this method was the preferred choice. These models have had the imbalnace taken care of and SMOTE will be used in the gridsearch."
   ]
  },
  {
   "cell_type": "code",
   "execution_count": 48,
   "id": "c56a31d4-707d-4305-ac7c-801d7cdf11a4",
   "metadata": {},
   "outputs": [],
   "source": [
    "# word level tf-idf\n",
    "tfidf_vect = TfidfVectorizer(analyzer='word', max_features=5000,lowercase=False)\n",
    "#tfidf_vect.fit(X_train)\n",
    "xtrain_tfidf =  tfidf_vect.fit_transform(X_train)\n",
    "xtest_tfidf =  tfidf_vect.transform(X_test)"
   ]
  },
  {
   "cell_type": "code",
   "execution_count": 21,
   "id": "4c5dd4a0-b41b-4158-9b59-fe7909180077",
   "metadata": {
    "tags": []
   },
   "outputs": [],
   "source": [
    "# ngram level tf-idf \n",
    "\n",
    "tfidf_vect_ngram = TfidfVectorizer(analyzer='word', ngram_range=(1,2), max_features=5000,lowercase =False)\n",
    "xtrain_tfidf_ngram  = tfidf_vect_ngram.fit_transform(X_train)\n",
    "xtest_tfidf_ngram =  tfidf_vect_ngram.transform(X_test)"
   ]
  },
  {
   "cell_type": "code",
   "execution_count": 22,
   "id": "9dfc8f21-1b68-4192-bca1-6aec722c38ae",
   "metadata": {},
   "outputs": [],
   "source": [
    "# %%time\n",
    "# CPU times: user 5min 6s, sys: 7.66 s, total: 5min 14s\n",
    "# Wall time: 5min 18s\n",
    "\n",
    "\n",
    "# characters level tf-idf\n",
    "tfidf_vect_ngram_chars = TfidfVectorizer(analyzer='char', ngram_range=(1,2), max_features=5000, lowercase = False)\n",
    "xtrain_tfidf_ngram_chars = tfidf_vect_ngram_chars.fit_transform(X_train)\n",
    "xtest_tfidf_ngram_chars =  tfidf_vect_ngram_chars.transform(X_test) "
   ]
  },
  {
   "cell_type": "markdown",
   "id": "13e2ee96-dce2-43d0-a1ef-d5930214bfeb",
   "metadata": {},
   "source": [
    "A function is created to for the scores of the classfiers"
   ]
  },
  {
   "cell_type": "code",
   "execution_count": 189,
   "id": "5813a79a-b695-4d93-ba5c-ebe72d94be35",
   "metadata": {},
   "outputs": [],
   "source": [
    "def train_model(classifier, feature_vector_train = Xtrain_count, label=y_train, feature_vector_valid = X_test_count, train = None, is_neural_net=False):\n",
    "    # fit the training dataset on the classifier\n",
    "    classifier.fit(feature_vector_train, label)\n",
    "    \n",
    "    # predict the labels on validation dataset\n",
    "    predictions = classifier.predict(feature_vector_valid)\n",
    "    if train != None:\n",
    "        pred = classifier.predict(train)\n",
    "        print(\"train score\", metrics.accuracy_score(pred,y_train))\n",
    "        display(confusion_matrix(pred,y_train))\n",
    "    if is_neural_net:\n",
    "        predictions = predictions.argmax(axis=-1)\n",
    "   #print(\"train score\", metrics.accuracy_score(pred,y_train))\n",
    "    display(confusion_matrix(predictions,y_test))\n",
    "    return metrics.accuracy_score(predictions, y_test)"
   ]
  },
  {
   "cell_type": "markdown",
   "id": "21d8eabe-9bf6-40c0-b6fd-db4fd1888f1c",
   "metadata": {},
   "source": [
    "### Naive Bayes with count vectorizer"
   ]
  },
  {
   "cell_type": "code",
   "execution_count": 245,
   "id": "c4cf0e1e-6e90-4256-8cfb-69c9f150fcab",
   "metadata": {},
   "outputs": [
    {
     "data": {
      "text/plain": [
       "0.8747010419823306"
      ]
     },
     "execution_count": 245,
     "metadata": {},
     "output_type": "execute_result"
    }
   ],
   "source": [
    "accuracy_value_train = metrics.accuracy_score(y_train, predicted_train)\n",
    "accuracy_value_train"
   ]
  },
  {
   "cell_type": "code",
   "execution_count": 243,
   "id": "45c03ed2-26c5-48d6-ac24-8eea5478529a",
   "metadata": {},
   "outputs": [
    {
     "data": {
      "text/plain": [
       "array([[ 1070,  3090],\n",
       "       [ 6207, 61132]])"
      ]
     },
     "metadata": {},
     "output_type": "display_data"
    },
    {
     "data": {
      "text/plain": [
       "0.8699702093735576"
      ]
     },
     "execution_count": 243,
     "metadata": {},
     "output_type": "execute_result"
    }
   ],
   "source": [
    "train_model(naive_bayes.MultinomialNB())"
   ]
  },
  {
   "cell_type": "code",
   "execution_count": 180,
   "id": "a2d30950-9080-4ed6-8817-375c0abc8586",
   "metadata": {},
   "outputs": [],
   "source": [
    "nb = naive_bayes.MultinomialNB()"
   ]
  },
  {
   "cell_type": "markdown",
   "id": "3a8a068d-1400-446a-989f-51bc7d437663",
   "metadata": {},
   "source": [
    "### TFIDF Naive Bayes"
   ]
  },
  {
   "cell_type": "code",
   "execution_count": 190,
   "id": "c97cff40-bea3-4af7-8969-54c15d73d551",
   "metadata": {},
   "outputs": [
    {
     "name": "stdout",
     "output_type": "stream",
     "text": [
      "train score 0.8982260658756615\n"
     ]
    },
    {
     "data": {
      "text/plain": [
       "array([[     0,      0],\n",
       "       [ 21830, 192665]])"
      ]
     },
     "metadata": {},
     "output_type": "display_data"
    },
    {
     "data": {
      "text/plain": [
       "array([[    0,     0],\n",
       "       [ 7277, 64222]])"
      ]
     },
     "metadata": {},
     "output_type": "display_data"
    },
    {
     "name": "stdout",
     "output_type": "stream",
     "text": [
      "NB, WordLevel TF-IDF:  0.8982223527601785\n"
     ]
    }
   ],
   "source": [
    "# Naive Bayes on Word Level TF IDF Vectors\n",
    "accuracy = train_model(naive_bayes.MultinomialNB(), xtrain_tfidf, y_train, xtest_tfidf, train = xtrain_tfidf)\n",
    "print (\"NB, WordLevel TF-IDF: \", accuracy)"
   ]
  },
  {
   "cell_type": "code",
   "execution_count": 191,
   "id": "2fc7b1bf-b6b8-41a9-8cc6-2ad8ee000c98",
   "metadata": {},
   "outputs": [
    {
     "name": "stdout",
     "output_type": "stream",
     "text": [
      "train score 0.8982260658756615\n"
     ]
    },
    {
     "data": {
      "text/plain": [
       "array([[     0,      0],\n",
       "       [ 21830, 192665]])"
      ]
     },
     "metadata": {},
     "output_type": "display_data"
    },
    {
     "data": {
      "text/plain": [
       "array([[    0,     0],\n",
       "       [ 7277, 64222]])"
      ]
     },
     "metadata": {},
     "output_type": "display_data"
    },
    {
     "name": "stdout",
     "output_type": "stream",
     "text": [
      "NB, N-Gram Vectors:  0.8982223527601785\n"
     ]
    }
   ],
   "source": [
    "# Naive Bayes on Ngram Level TF IDF Vectors\n",
    "accuracy2 = train_model(naive_bayes.MultinomialNB(), xtrain_tfidf_ngram, y_train, xtest_tfidf_ngram, train = xtrain_tfidf_ngram)\n",
    "print(\"NB, N-Gram Vectors: \", accuracy2)"
   ]
  },
  {
   "cell_type": "code",
   "execution_count": 192,
   "id": "93b11728-c221-4787-8334-e30102017f5e",
   "metadata": {},
   "outputs": [
    {
     "name": "stdout",
     "output_type": "stream",
     "text": [
      "train score 0.8983239702557169\n"
     ]
    },
    {
     "data": {
      "text/plain": [
       "array([[    36,     15],\n",
       "       [ 21794, 192650]])"
      ]
     },
     "metadata": {},
     "output_type": "display_data"
    },
    {
     "data": {
      "text/plain": [
       "array([[    9,     5],\n",
       "       [ 7268, 64217]])"
      ]
     },
     "metadata": {},
     "output_type": "display_data"
    },
    {
     "name": "stdout",
     "output_type": "stream",
     "text": [
      "NB, CharLevel Vectors:  0.8982782975985678\n"
     ]
    }
   ],
   "source": [
    "# Naive Bayes on Character Level TF IDF Vectors\n",
    "accuracy3 = train_model(naive_bayes.MultinomialNB(), xtrain_tfidf_ngram_chars, y_train, xtest_tfidf_ngram_chars, train = xtrain_tfidf_ngram_chars)\n",
    "print(\"NB, CharLevel Vectors: \", accuracy3)"
   ]
  },
  {
   "cell_type": "markdown",
   "id": "c4a7c657-6459-4c44-a442-bd9404869cb7",
   "metadata": {},
   "source": [
    "#### A gridsearch is run here to select the best parameters for the the naive bayes tfidf model. The best model of the selected parameters gave a 0.68 accuracy score and a 0.70 accuract for the test data. Incorporating smote alloed the model to be fairly close in the trans and test score, however the accuracy dropped by a large margin."
   ]
  },
  {
   "cell_type": "code",
   "execution_count": 131,
   "id": "00c38956-76b6-4d67-8d44-5df99d2243f4",
   "metadata": {},
   "outputs": [],
   "source": [
    "textclassifier =Pipeline([\n",
    "       ('tfidf', TfidfVectorizer(analyzer='word', max_features=5000,lowercase=False)),\n",
    "       ('smote', SMOTE(random_state=42)),\n",
    "       ('mnb', nb)])"
   ]
  },
  {
   "cell_type": "code",
   "execution_count": 132,
   "id": "03e544d2-a4e2-4c78-9cee-2add74ad8b64",
   "metadata": {},
   "outputs": [],
   "source": [
    "param_grid = { 'tfidf__ngram_range': [(1,2),(2,3)],\n",
    "               'tfidf__analyzer' :['word','char'],\n",
    "               'smote__k_neighbors': [3,5],\n",
    "               'mnb__alpha': [.1,.5,1]\n",
    "             }"
   ]
  },
  {
   "cell_type": "code",
   "execution_count": 133,
   "id": "41246bbe-a09e-43d9-8420-36a20eaaa876",
   "metadata": {},
   "outputs": [],
   "source": [
    "gs = GridSearchCV(textclassifier, \n",
    "                  param_grid, \n",
    "                  cv=5,\n",
    "                  verbose = True\n",
    "                 )"
   ]
  },
  {
   "cell_type": "code",
   "execution_count": 136,
   "id": "7470f26f-fbd4-4a75-8c14-c6034a083479",
   "metadata": {},
   "outputs": [
    {
     "name": "stdout",
     "output_type": "stream",
     "text": [
      "Fitting 5 folds for each of 24 candidates, totalling 120 fits\n",
      "CPU times: user 3h 48min 47s, sys: 13min 18s, total: 4h 2min 5s\n",
      "Wall time: 4h 5min 1s\n"
     ]
    }
   ],
   "source": [
    "# %%time\n",
    "# grid_results = gs.fit(X_train,y_train)"
   ]
  },
  {
   "cell_type": "code",
   "execution_count": 137,
   "id": "0ed5d31c-de47-43aa-b3b9-895d78e8c7d8",
   "metadata": {},
   "outputs": [
    {
     "data": {
      "text/plain": [
       "0.6856849810018881"
      ]
     },
     "execution_count": 137,
     "metadata": {},
     "output_type": "execute_result"
    }
   ],
   "source": [
    "#grid_results.best_score_"
   ]
  },
  {
   "cell_type": "code",
   "execution_count": 138,
   "id": "fef0f572-e979-4c7b-8990-f78a181f808a",
   "metadata": {},
   "outputs": [
    {
     "data": {
      "text/plain": [
       "{'mnb__alpha': 0.1,\n",
       " 'smote__k_neighbors': 3,\n",
       " 'tfidf__analyzer': 'char',\n",
       " 'tfidf__ngram_range': (2, 3)}"
      ]
     },
     "execution_count": 138,
     "metadata": {},
     "output_type": "execute_result"
    }
   ],
   "source": [
    "#grid_results.best_params_"
   ]
  },
  {
   "cell_type": "markdown",
   "id": "17c4c02f-4b3c-487d-999b-ab1a691e4dcf",
   "metadata": {},
   "source": [
    "accuracy = train_model(naive_bayes.MultinomialNB(), xtrain_tfidf, train_y, xvalid_tfidf)\n",
    "print \"NB, WordLevel TF-IDF: \", accuracy"
   ]
  },
  {
   "cell_type": "code",
   "execution_count": null,
   "id": "2ab935b0-45b4-4b9d-9baa-9ed7124ea297",
   "metadata": {},
   "outputs": [],
   "source": [
    "textclassifier =Pipeline([\n",
    "       ('tfidf', TfidfVectorizer(analyzer='char', max_features=5000,lowercase=False,ngram_range = (2,3))),\n",
    "       ('smote', SMOTE(random_state=42,k_neighbors = 3)),\n",
    "       ('mnb', naive_bayes.MultinomialNB(alpha = 0.1))])"
   ]
  },
  {
   "cell_type": "code",
   "execution_count": 142,
   "id": "1996602c-6b8b-4aff-9088-739dcfa595c9",
   "metadata": {},
   "outputs": [
    {
     "data": {
      "text/plain": [
       "{'mean_fit_time': array([ 49.86970086,  87.28931866,  99.15714788, 161.82677402,\n",
       "         49.76537662,  87.383779  ,  99.73432026, 199.63537879,\n",
       "         53.19873524,  87.29166603, 114.26815724, 187.55452256,\n",
       "         50.49881339,  87.26747017, 112.17311716, 184.51492486,\n",
       "         49.8678616 ,  87.08722677,  99.00507941, 163.05509906,\n",
       "         49.61897311,  90.41073542, 122.52337441, 188.71521435]),\n",
       " 'std_fit_time': array([ 0.44080724,  0.35328954,  0.73440252,  1.33782111,  0.2549716 ,\n",
       "         0.0914836 ,  0.97676327, 21.71595275,  0.51274854,  0.29470488,\n",
       "         0.88481953,  0.68470955,  0.44519293,  0.36608492,  2.92343436,\n",
       "         2.13481836,  0.21091035,  0.16637523,  0.64804247,  3.10484834,\n",
       "         0.24809909,  2.54535065,  2.502447  ,  2.40550138]),\n",
       " 'mean_score_time': array([ 5.46925735,  6.87297215, 14.67703996, 22.13795052,  5.40470767,\n",
       "         6.84780884, 14.85769815, 26.50969539,  6.08716817,  6.85625439,\n",
       "        16.40340843, 22.86830683,  5.92710314,  6.86917   , 16.22405648,\n",
       "        23.02927098,  5.39079299,  6.8464036 , 14.71644645, 22.09185123,\n",
       "         5.3829216 ,  7.47199416, 17.53783422, 23.7455411 ]),\n",
       " 'std_score_time': array([0.08885172, 0.02423331, 0.0858136 , 0.17259513, 0.02407073,\n",
       "        0.01878695, 0.10933381, 2.08244937, 0.14581415, 0.02654244,\n",
       "        0.07512104, 0.45530372, 0.20252894, 0.03211732, 0.1780725 ,\n",
       "        0.59872023, 0.02050331, 0.01585044, 0.15173719, 0.19788203,\n",
       "        0.01577716, 0.51962141, 0.36194382, 1.03666325]),\n",
       " 'param_mnb__alpha': masked_array(data=[0.1, 0.1, 0.1, 0.1, 0.1, 0.1, 0.1, 0.1, 0.5, 0.5, 0.5,\n",
       "                    0.5, 0.5, 0.5, 0.5, 0.5, 1, 1, 1, 1, 1, 1, 1, 1],\n",
       "              mask=[False, False, False, False, False, False, False, False,\n",
       "                    False, False, False, False, False, False, False, False,\n",
       "                    False, False, False, False, False, False, False, False],\n",
       "        fill_value='?',\n",
       "             dtype=object),\n",
       " 'param_smote__k_neighbors': masked_array(data=[3, 3, 3, 3, 5, 5, 5, 5, 3, 3, 3, 3, 5, 5, 5, 5, 3, 3,\n",
       "                    3, 3, 5, 5, 5, 5],\n",
       "              mask=[False, False, False, False, False, False, False, False,\n",
       "                    False, False, False, False, False, False, False, False,\n",
       "                    False, False, False, False, False, False, False, False],\n",
       "        fill_value='?',\n",
       "             dtype=object),\n",
       " 'param_tfidf__analyzer': masked_array(data=['word', 'word', 'char', 'char', 'word', 'word', 'char',\n",
       "                    'char', 'word', 'word', 'char', 'char', 'word', 'word',\n",
       "                    'char', 'char', 'word', 'word', 'char', 'char', 'word',\n",
       "                    'word', 'char', 'char'],\n",
       "              mask=[False, False, False, False, False, False, False, False,\n",
       "                    False, False, False, False, False, False, False, False,\n",
       "                    False, False, False, False, False, False, False, False],\n",
       "        fill_value='?',\n",
       "             dtype=object),\n",
       " 'param_tfidf__ngram_range': masked_array(data=[(1, 2), (2, 3), (1, 2), (2, 3), (1, 2), (2, 3), (1, 2),\n",
       "                    (2, 3), (1, 2), (2, 3), (1, 2), (2, 3), (1, 2), (2, 3),\n",
       "                    (1, 2), (2, 3), (1, 2), (2, 3), (1, 2), (2, 3), (1, 2),\n",
       "                    (2, 3), (1, 2), (2, 3)],\n",
       "              mask=[False, False, False, False, False, False, False, False,\n",
       "                    False, False, False, False, False, False, False, False,\n",
       "                    False, False, False, False, False, False, False, False],\n",
       "        fill_value='?',\n",
       "             dtype=object),\n",
       " 'params': [{'mnb__alpha': 0.1,\n",
       "   'smote__k_neighbors': 3,\n",
       "   'tfidf__analyzer': 'word',\n",
       "   'tfidf__ngram_range': (1, 2)},\n",
       "  {'mnb__alpha': 0.1,\n",
       "   'smote__k_neighbors': 3,\n",
       "   'tfidf__analyzer': 'word',\n",
       "   'tfidf__ngram_range': (2, 3)},\n",
       "  {'mnb__alpha': 0.1,\n",
       "   'smote__k_neighbors': 3,\n",
       "   'tfidf__analyzer': 'char',\n",
       "   'tfidf__ngram_range': (1, 2)},\n",
       "  {'mnb__alpha': 0.1,\n",
       "   'smote__k_neighbors': 3,\n",
       "   'tfidf__analyzer': 'char',\n",
       "   'tfidf__ngram_range': (2, 3)},\n",
       "  {'mnb__alpha': 0.1,\n",
       "   'smote__k_neighbors': 5,\n",
       "   'tfidf__analyzer': 'word',\n",
       "   'tfidf__ngram_range': (1, 2)},\n",
       "  {'mnb__alpha': 0.1,\n",
       "   'smote__k_neighbors': 5,\n",
       "   'tfidf__analyzer': 'word',\n",
       "   'tfidf__ngram_range': (2, 3)},\n",
       "  {'mnb__alpha': 0.1,\n",
       "   'smote__k_neighbors': 5,\n",
       "   'tfidf__analyzer': 'char',\n",
       "   'tfidf__ngram_range': (1, 2)},\n",
       "  {'mnb__alpha': 0.1,\n",
       "   'smote__k_neighbors': 5,\n",
       "   'tfidf__analyzer': 'char',\n",
       "   'tfidf__ngram_range': (2, 3)},\n",
       "  {'mnb__alpha': 0.5,\n",
       "   'smote__k_neighbors': 3,\n",
       "   'tfidf__analyzer': 'word',\n",
       "   'tfidf__ngram_range': (1, 2)},\n",
       "  {'mnb__alpha': 0.5,\n",
       "   'smote__k_neighbors': 3,\n",
       "   'tfidf__analyzer': 'word',\n",
       "   'tfidf__ngram_range': (2, 3)},\n",
       "  {'mnb__alpha': 0.5,\n",
       "   'smote__k_neighbors': 3,\n",
       "   'tfidf__analyzer': 'char',\n",
       "   'tfidf__ngram_range': (1, 2)},\n",
       "  {'mnb__alpha': 0.5,\n",
       "   'smote__k_neighbors': 3,\n",
       "   'tfidf__analyzer': 'char',\n",
       "   'tfidf__ngram_range': (2, 3)},\n",
       "  {'mnb__alpha': 0.5,\n",
       "   'smote__k_neighbors': 5,\n",
       "   'tfidf__analyzer': 'word',\n",
       "   'tfidf__ngram_range': (1, 2)},\n",
       "  {'mnb__alpha': 0.5,\n",
       "   'smote__k_neighbors': 5,\n",
       "   'tfidf__analyzer': 'word',\n",
       "   'tfidf__ngram_range': (2, 3)},\n",
       "  {'mnb__alpha': 0.5,\n",
       "   'smote__k_neighbors': 5,\n",
       "   'tfidf__analyzer': 'char',\n",
       "   'tfidf__ngram_range': (1, 2)},\n",
       "  {'mnb__alpha': 0.5,\n",
       "   'smote__k_neighbors': 5,\n",
       "   'tfidf__analyzer': 'char',\n",
       "   'tfidf__ngram_range': (2, 3)},\n",
       "  {'mnb__alpha': 1,\n",
       "   'smote__k_neighbors': 3,\n",
       "   'tfidf__analyzer': 'word',\n",
       "   'tfidf__ngram_range': (1, 2)},\n",
       "  {'mnb__alpha': 1,\n",
       "   'smote__k_neighbors': 3,\n",
       "   'tfidf__analyzer': 'word',\n",
       "   'tfidf__ngram_range': (2, 3)},\n",
       "  {'mnb__alpha': 1,\n",
       "   'smote__k_neighbors': 3,\n",
       "   'tfidf__analyzer': 'char',\n",
       "   'tfidf__ngram_range': (1, 2)},\n",
       "  {'mnb__alpha': 1,\n",
       "   'smote__k_neighbors': 3,\n",
       "   'tfidf__analyzer': 'char',\n",
       "   'tfidf__ngram_range': (2, 3)},\n",
       "  {'mnb__alpha': 1,\n",
       "   'smote__k_neighbors': 5,\n",
       "   'tfidf__analyzer': 'word',\n",
       "   'tfidf__ngram_range': (1, 2)},\n",
       "  {'mnb__alpha': 1,\n",
       "   'smote__k_neighbors': 5,\n",
       "   'tfidf__analyzer': 'word',\n",
       "   'tfidf__ngram_range': (2, 3)},\n",
       "  {'mnb__alpha': 1,\n",
       "   'smote__k_neighbors': 5,\n",
       "   'tfidf__analyzer': 'char',\n",
       "   'tfidf__ngram_range': (1, 2)},\n",
       "  {'mnb__alpha': 1,\n",
       "   'smote__k_neighbors': 5,\n",
       "   'tfidf__analyzer': 'char',\n",
       "   'tfidf__ngram_range': (2, 3)}],\n",
       " 'split0_test_score': array([0.65588941, 0.65183338, 0.59782279, 0.6876151 , 0.65544651,\n",
       "        0.65083102, 0.59344041, 0.68239353, 0.65532996, 0.65111075,\n",
       "        0.5949789 , 0.68707895, 0.65507354, 0.65027157, 0.59006037,\n",
       "        0.68202056, 0.65465395, 0.65038812, 0.59180867, 0.68661274,\n",
       "        0.65446747, 0.64933915, 0.58672696, 0.68150773]),\n",
       " 'split1_test_score': array([0.65404788, 0.652556  , 0.60001399, 0.68269657, 0.6543043 ,\n",
       "        0.6521131 , 0.59602788, 0.67873377, 0.65346512, 0.65201986,\n",
       "        0.59644747, 0.68227698, 0.65388471, 0.65139048, 0.59215833,\n",
       "        0.6781277 , 0.65292897, 0.65129723, 0.59316068, 0.68160097,\n",
       "        0.65337187, 0.65057461, 0.58896478, 0.67721858]),\n",
       " 'split2_test_score': array([0.6516702 , 0.64929252, 0.60222849, 0.68822117, 0.65111075,\n",
       "        0.648127  , 0.59777617, 0.68416513, 0.65118068, 0.64889624,\n",
       "        0.59882515, 0.68756847, 0.65020164, 0.64742768, 0.59420966,\n",
       "        0.68353575, 0.65066785, 0.64796382, 0.59581808, 0.6871722 ,\n",
       "        0.64950232, 0.64679829, 0.5914357 , 0.68281312]),\n",
       " 'split3_test_score': array([0.64801044, 0.6463787 , 0.60528217, 0.68076179, 0.64815031,\n",
       "        0.64402434, 0.60311429, 0.67642602, 0.64775403, 0.64546959,\n",
       "        0.60218187, 0.68031889, 0.64761416, 0.64323178, 0.59968764,\n",
       "        0.6757034 , 0.64726451, 0.64488683, 0.59931467, 0.67954964,\n",
       "        0.64675167, 0.6423926 , 0.59710017, 0.6750507 ]),\n",
       " 'split4_test_score': array([0.6494557 , 0.64794051, 0.6071004 , 0.68913028, 0.6498986 ,\n",
       "        0.64796382, 0.60348726, 0.68488776, 0.6492459 , 0.64707802,\n",
       "        0.60400009, 0.68875731, 0.64938577, 0.6474743 , 0.59980419,\n",
       "        0.68444486, 0.64884962, 0.6463787 , 0.60166904, 0.68798806,\n",
       "        0.64891956, 0.6465885 , 0.59640085, 0.68383878]),\n",
       " 'mean_test_score': array([0.65181473, 0.64960022, 0.60248957, 0.68568498, 0.65178209,\n",
       "        0.64861186, 0.5987692 , 0.68132124, 0.65139514, 0.64891489,\n",
       "        0.5992867 , 0.68520012, 0.65123196, 0.64795916, 0.59518404,\n",
       "        0.68076645, 0.65087298, 0.64818294, 0.59635423, 0.68458472,\n",
       "        0.65060258, 0.64713863, 0.59212569, 0.68008578]),\n",
       " 'std_test_score': array([0.00288612, 0.00232169, 0.00337739, 0.00332253, 0.00271947,\n",
       "        0.00278868, 0.00395062, 0.00324394, 0.00274556, 0.00243751,\n",
       "        0.00338908, 0.00329132, 0.00280547, 0.00282796, 0.00394929,\n",
       "        0.00332776, 0.00267133, 0.00239705, 0.00369215, 0.00336587,\n",
       "        0.00288024, 0.00281395, 0.00406537, 0.00337989]),\n",
       " 'rank_test_score': array([ 7, 13, 19,  1,  8, 15, 21,  4,  9, 14, 20,  2, 10, 17, 23,  5, 11,\n",
       "        16, 22,  3, 12, 18, 24,  6], dtype=int32)}"
      ]
     },
     "execution_count": 142,
     "metadata": {},
     "output_type": "execute_result"
    }
   ],
   "source": [
    "#grid_results.cv_results_"
   ]
  },
  {
   "cell_type": "code",
   "execution_count": 140,
   "id": "21cac663-d6c4-4c87-a29d-3a5efa340515",
   "metadata": {},
   "outputs": [],
   "source": [
    "means = grid_results.cv_results_['mean_test_score']\n",
    "stds = grid_results.cv_results_['std_test_score']\n",
    "params = grid_results.cv_results_['params']"
   ]
  },
  {
   "cell_type": "markdown",
   "id": "78d37199-043c-4161-9002-0944258a556a",
   "metadata": {},
   "source": [
    "#### Checking the model to see how the others performed it can be seen that the overal performance for these parameters hovers in the 0.6 accuracy zone."
   ]
  },
  {
   "cell_type": "code",
   "execution_count": 141,
   "id": "f2d9c0b8-f48d-442d-9e58-578dc6c76a6d",
   "metadata": {},
   "outputs": [
    {
     "name": "stdout",
     "output_type": "stream",
     "text": [
      "0.6518147276160283 (0.0028861230483975286) with: {'mnb__alpha': 0.1, 'smote__k_neighbors': 3, 'tfidf__analyzer': 'word', 'tfidf__ngram_range': (1, 2)}\n",
      "0.6496002237814401 (0.002321685632476964) with: {'mnb__alpha': 0.1, 'smote__k_neighbors': 3, 'tfidf__analyzer': 'word', 'tfidf__ngram_range': (2, 3)}\n",
      "0.6024895685214108 (0.0033773914162748895) with: {'mnb__alpha': 0.1, 'smote__k_neighbors': 3, 'tfidf__analyzer': 'char', 'tfidf__ngram_range': (1, 2)}\n",
      "0.6856849810018881 (0.0033225334976367594) with: {'mnb__alpha': 0.1, 'smote__k_neighbors': 3, 'tfidf__analyzer': 'char', 'tfidf__ngram_range': (2, 3)}\n",
      "0.6517820928226765 (0.002719471092682336) with: {'mnb__alpha': 0.1, 'smote__k_neighbors': 5, 'tfidf__analyzer': 'word', 'tfidf__ngram_range': (1, 2)}\n",
      "0.6486118557542133 (0.0027886843132955935) with: {'mnb__alpha': 0.1, 'smote__k_neighbors': 5, 'tfidf__analyzer': 'word', 'tfidf__ngram_range': (2, 3)}\n",
      "0.5987692020793025 (0.003950617733180343) with: {'mnb__alpha': 0.1, 'smote__k_neighbors': 5, 'tfidf__analyzer': 'char', 'tfidf__ngram_range': (1, 2)}\n",
      "0.6813212429194154 (0.003243939867157372) with: {'mnb__alpha': 0.1, 'smote__k_neighbors': 5, 'tfidf__analyzer': 'char', 'tfidf__ngram_range': (2, 3)}\n",
      "0.6513951374157905 (0.0027455612535334005) with: {'mnb__alpha': 0.5, 'smote__k_neighbors': 3, 'tfidf__analyzer': 'word', 'tfidf__ngram_range': (1, 2)}\n",
      "0.6489148931210517 (0.002437505159637542) with: {'mnb__alpha': 0.5, 'smote__k_neighbors': 3, 'tfidf__analyzer': 'word', 'tfidf__ngram_range': (2, 3)}\n",
      "0.5992866966595958 (0.003389083839842934) with: {'mnb__alpha': 0.5, 'smote__k_neighbors': 3, 'tfidf__analyzer': 'char', 'tfidf__ngram_range': (1, 2)}\n",
      "0.6852001212149468 (0.0032913199413493457) with: {'mnb__alpha': 0.5, 'smote__k_neighbors': 3, 'tfidf__analyzer': 'char', 'tfidf__ngram_range': (2, 3)}\n",
      "0.6512319634490314 (0.0028054690692455447) with: {'mnb__alpha': 0.5, 'smote__k_neighbors': 5, 'tfidf__analyzer': 'word', 'tfidf__ngram_range': (1, 2)}\n",
      "0.6479591598871768 (0.0028279627829781483) with: {'mnb__alpha': 0.5, 'smote__k_neighbors': 5, 'tfidf__analyzer': 'word', 'tfidf__ngram_range': (2, 3)}\n",
      "0.5951840369239376 (0.003949291589482091) with: {'mnb__alpha': 0.5, 'smote__k_neighbors': 5, 'tfidf__analyzer': 'char', 'tfidf__ngram_range': (1, 2)}\n",
      "0.6807664514324343 (0.0033277628106778458) with: {'mnb__alpha': 0.5, 'smote__k_neighbors': 5, 'tfidf__analyzer': 'char', 'tfidf__ngram_range': (2, 3)}\n",
      "0.6508729807221613 (0.002671329918390919) with: {'mnb__alpha': 1, 'smote__k_neighbors': 3, 'tfidf__analyzer': 'word', 'tfidf__ngram_range': (1, 2)}\n",
      "0.6481829413273037 (0.002397051765616197) with: {'mnb__alpha': 1, 'smote__k_neighbors': 3, 'tfidf__analyzer': 'word', 'tfidf__ngram_range': (2, 3)}\n",
      "0.5963542273712674 (0.0036921465205317808) with: {'mnb__alpha': 1, 'smote__k_neighbors': 3, 'tfidf__analyzer': 'char', 'tfidf__ngram_range': (1, 2)}\n",
      "0.684584722254598 (0.003365871479100202) with: {'mnb__alpha': 1, 'smote__k_neighbors': 3, 'tfidf__analyzer': 'char', 'tfidf__ngram_range': (2, 3)}\n",
      "0.6506025781486747 (0.002880242903178424) with: {'mnb__alpha': 1, 'smote__k_neighbors': 5, 'tfidf__analyzer': 'word', 'tfidf__ngram_range': (1, 2)}\n",
      "0.6471386279400452 (0.002813947490226812) with: {'mnb__alpha': 1, 'smote__k_neighbors': 5, 'tfidf__analyzer': 'word', 'tfidf__ngram_range': (2, 3)}\n",
      "0.5921256905755379 (0.004065368175427102) with: {'mnb__alpha': 1, 'smote__k_neighbors': 5, 'tfidf__analyzer': 'char', 'tfidf__ngram_range': (1, 2)}\n",
      "0.6800857828853818 (0.003379887479209228) with: {'mnb__alpha': 1, 'smote__k_neighbors': 5, 'tfidf__analyzer': 'char', 'tfidf__ngram_range': (2, 3)}\n"
     ]
    }
   ],
   "source": [
    "for mean, stdev, param in zip(means, stds, params):\n",
    "    print('{0} ({1}) with: {2}'.format(mean, stdev, param))"
   ]
  },
  {
   "cell_type": "markdown",
   "id": "eb2826ff-fe2f-4a84-818f-e96957df6a58",
   "metadata": {},
   "source": [
    "#### Looking at the probability of how each value is predicted, we see that there are plenty data points where the estimator is uncertain about."
   ]
  },
  {
   "cell_type": "code",
   "execution_count": 220,
   "id": "78747e3a-ea63-44ba-8451-b2bb80600d10",
   "metadata": {},
   "outputs": [],
   "source": [
    "probability = grid_results.predict_proba(X_train)"
   ]
  },
  {
   "cell_type": "code",
   "execution_count": 234,
   "id": "a2e128ad-1f0f-4257-b98e-60c4f24917de",
   "metadata": {},
   "outputs": [],
   "source": [
    "df_proba = pd.DataFrame(probability)"
   ]
  },
  {
   "cell_type": "code",
   "execution_count": 247,
   "id": "bc3bc35a-b16e-4f90-a7cf-6977790b5506",
   "metadata": {},
   "outputs": [
    {
     "data": {
      "text/html": [
       "<div>\n",
       "<style scoped>\n",
       "    .dataframe tbody tr th:only-of-type {\n",
       "        vertical-align: middle;\n",
       "    }\n",
       "\n",
       "    .dataframe tbody tr th {\n",
       "        vertical-align: top;\n",
       "    }\n",
       "\n",
       "    .dataframe thead th {\n",
       "        text-align: right;\n",
       "    }\n",
       "</style>\n",
       "<table border=\"1\" class=\"dataframe\">\n",
       "  <thead>\n",
       "    <tr style=\"text-align: right;\">\n",
       "      <th></th>\n",
       "      <th>0</th>\n",
       "      <th>1</th>\n",
       "    </tr>\n",
       "  </thead>\n",
       "  <tbody>\n",
       "    <tr>\n",
       "      <th>0</th>\n",
       "      <td>0.523490</td>\n",
       "      <td>0.476510</td>\n",
       "    </tr>\n",
       "    <tr>\n",
       "      <th>1</th>\n",
       "      <td>0.624187</td>\n",
       "      <td>0.375813</td>\n",
       "    </tr>\n",
       "    <tr>\n",
       "      <th>2</th>\n",
       "      <td>0.555480</td>\n",
       "      <td>0.444520</td>\n",
       "    </tr>\n",
       "    <tr>\n",
       "      <th>3</th>\n",
       "      <td>0.420503</td>\n",
       "      <td>0.579497</td>\n",
       "    </tr>\n",
       "    <tr>\n",
       "      <th>4</th>\n",
       "      <td>0.549051</td>\n",
       "      <td>0.450949</td>\n",
       "    </tr>\n",
       "    <tr>\n",
       "      <th>5</th>\n",
       "      <td>0.315308</td>\n",
       "      <td>0.684692</td>\n",
       "    </tr>\n",
       "    <tr>\n",
       "      <th>6</th>\n",
       "      <td>0.533581</td>\n",
       "      <td>0.466419</td>\n",
       "    </tr>\n",
       "    <tr>\n",
       "      <th>7</th>\n",
       "      <td>0.684175</td>\n",
       "      <td>0.315825</td>\n",
       "    </tr>\n",
       "    <tr>\n",
       "      <th>8</th>\n",
       "      <td>0.400831</td>\n",
       "      <td>0.599169</td>\n",
       "    </tr>\n",
       "    <tr>\n",
       "      <th>9</th>\n",
       "      <td>0.317656</td>\n",
       "      <td>0.682344</td>\n",
       "    </tr>\n",
       "  </tbody>\n",
       "</table>\n",
       "</div>"
      ],
      "text/plain": [
       "          0         1\n",
       "0  0.523490  0.476510\n",
       "1  0.624187  0.375813\n",
       "2  0.555480  0.444520\n",
       "3  0.420503  0.579497\n",
       "4  0.549051  0.450949\n",
       "5  0.315308  0.684692\n",
       "6  0.533581  0.466419\n",
       "7  0.684175  0.315825\n",
       "8  0.400831  0.599169\n",
       "9  0.317656  0.682344"
      ]
     },
     "execution_count": 247,
     "metadata": {},
     "output_type": "execute_result"
    }
   ],
   "source": [
    "df_proba.head(10)"
   ]
  },
  {
   "cell_type": "code",
   "execution_count": 236,
   "id": "280c5eb0-df4e-4f41-ac5e-f64bd6ebe638",
   "metadata": {},
   "outputs": [],
   "source": [
    "probability_test = grid_results.predict_proba(X_test)"
   ]
  },
  {
   "cell_type": "code",
   "execution_count": 248,
   "id": "e1d09aab-f1d9-476b-b3e9-0a6e282381b1",
   "metadata": {},
   "outputs": [],
   "source": [
    "df_proba_test = pd.DataFrame(probability_test)"
   ]
  },
  {
   "cell_type": "code",
   "execution_count": 249,
   "id": "09559f8c-90e6-4f71-904e-e4e68b2c095f",
   "metadata": {},
   "outputs": [],
   "source": [
    "#save the probablilites as a csv for future use\n",
    "\n",
    "#df_proba.to_csv('train_proba')\n",
    "#df_proba_test.to_csv('test_proba')"
   ]
  },
  {
   "cell_type": "code",
   "execution_count": 146,
   "id": "7b388034-e163-40ea-82b5-d8c536aac62e",
   "metadata": {},
   "outputs": [],
   "source": [
    "#setting the best params from the Gridsearch\n",
    "param2 = {'mnb__alpha': [0.1],\n",
    " 'smote__k_neighbors': [3],\n",
    " 'tfidf__analyzer': ['char'],\n",
    " 'tfidf__ngram_range': [(2, 3)]}"
   ]
  },
  {
   "cell_type": "code",
   "execution_count": 147,
   "id": "2748b8ee-98f1-401d-8651-64421df8901e",
   "metadata": {},
   "outputs": [],
   "source": [
    "#run the cross val gridsearch\n",
    "gs2 = GridSearchCV(textclassifier, \n",
    "                  param2, \n",
    "                  cv=5,\n",
    "                  verbose = True\n",
    "                 )"
   ]
  },
  {
   "cell_type": "code",
   "execution_count": 148,
   "id": "876ce201-a08a-4fe7-bbaf-7c910d0fd34f",
   "metadata": {},
   "outputs": [
    {
     "name": "stdout",
     "output_type": "stream",
     "text": [
      "Fitting 5 folds for each of 1 candidates, totalling 5 fits\n",
      "CPU times: user 4min 7s, sys: 19.3 s, total: 4min 27s\n",
      "Wall time: 4min 28s\n"
     ]
    }
   ],
   "source": [
    "%%time\n",
    "#run the grid on the test data to see the fit\n",
    "\n",
    "grid_res2 = gs2.fit(X_test,y_test)"
   ]
  },
  {
   "cell_type": "code",
   "execution_count": 149,
   "id": "4fda8a8e-ebb6-4492-b21c-e9fec94c2ba2",
   "metadata": {},
   "outputs": [
    {
     "data": {
      "text/plain": [
       "0.7076603048675221"
      ]
     },
     "execution_count": 149,
     "metadata": {},
     "output_type": "execute_result"
    }
   ],
   "source": [
    "#the accuracy score for the data \n",
    "grid_res2.best_score_"
   ]
  },
  {
   "cell_type": "code",
   "execution_count": 152,
   "id": "0740316e-a13d-4623-b32c-ec133f24d1fc",
   "metadata": {},
   "outputs": [],
   "source": [
    "# top_pipe = Pipeline([\n",
    "#        #('vect', CountVectorizer(analyzer='word',stop_words = sw)),\n",
    "#        ('tfidf', TfidfVectorizer(analyzer='char', max_features=5000,lowercase=False,ngram_range = (2,3))),\n",
    "#        ('smote', SMOTE(random_state=42,k_neighbors = 3)),\n",
    "#        ('mnb', naive_bayes.MultinomialNB(alpha = 0.1))])"
   ]
  },
  {
   "cell_type": "markdown",
   "id": "3e46b5c7-0d05-4b86-b3d7-a02671fff686",
   "metadata": {},
   "source": [
    "### Unseen Data"
   ]
  },
  {
   "cell_type": "markdown",
   "id": "2cdb42aa-6d76-4cd5-9243-0ad215656c18",
   "metadata": {},
   "source": [
    "#### The initial model has been completed with an accuracy score close to 0.7 or 70%. We can test this model onto the unseen data to see how well it performs."
   ]
  },
  {
   "cell_type": "code",
   "execution_count": 199,
   "id": "1383d37b-98b7-4cdb-ab39-5c1cca671d88",
   "metadata": {},
   "outputs": [],
   "source": [
    "#load the unseen data and combine \n",
    "df = pd.read_csv('./Data/untouched_data')\n",
    "df_target = pd.read_csv('./Data/untouched_target')\n",
    "\n",
    "untouched_df = df.merge(df_target,\n",
    "                         how = 'inner',\n",
    "                         left_on = ['Unnamed: 0'],\n",
    "                         right_on = ['Unnamed: 0']\n",
    "                         )\n",
    "\n",
    "untouched_df.drop('Unnamed: 0' , axis=1,inplace =True)"
   ]
  },
  {
   "cell_type": "code",
   "execution_count": 200,
   "id": "841a4404-8829-4ef3-880a-ab0154cf4fec",
   "metadata": {},
   "outputs": [
    {
     "data": {
      "text/html": [
       "<div>\n",
       "<style scoped>\n",
       "    .dataframe tbody tr th:only-of-type {\n",
       "        vertical-align: middle;\n",
       "    }\n",
       "\n",
       "    .dataframe tbody tr th {\n",
       "        vertical-align: top;\n",
       "    }\n",
       "\n",
       "    .dataframe thead th {\n",
       "        text-align: right;\n",
       "    }\n",
       "</style>\n",
       "<table border=\"1\" class=\"dataframe\">\n",
       "  <thead>\n",
       "    <tr style=\"text-align: right;\">\n",
       "      <th></th>\n",
       "      <th>user_id</th>\n",
       "      <th>prod_id</th>\n",
       "      <th>rating</th>\n",
       "      <th>date</th>\n",
       "      <th>review</th>\n",
       "      <th>name</th>\n",
       "      <th>target</th>\n",
       "    </tr>\n",
       "  </thead>\n",
       "  <tbody>\n",
       "    <tr>\n",
       "      <th>0</th>\n",
       "      <td>14625</td>\n",
       "      <td>542</td>\n",
       "      <td>5.0</td>\n",
       "      <td>2011-06-19</td>\n",
       "      <td>Overall, great pizza, good service. My wife an...</td>\n",
       "      <td>Lombardi’s Pizza</td>\n",
       "      <td>1</td>\n",
       "    </tr>\n",
       "    <tr>\n",
       "      <th>1</th>\n",
       "      <td>54260</td>\n",
       "      <td>220</td>\n",
       "      <td>4.0</td>\n",
       "      <td>2009-10-06</td>\n",
       "      <td>I thought I went to Japan when I got in.  The ...</td>\n",
       "      <td>Cha-An</td>\n",
       "      <td>1</td>\n",
       "    </tr>\n",
       "    <tr>\n",
       "      <th>2</th>\n",
       "      <td>144459</td>\n",
       "      <td>121</td>\n",
       "      <td>4.0</td>\n",
       "      <td>2011-01-02</td>\n",
       "      <td>Holy Shmoly!! I just stood 90 minutes for a $2...</td>\n",
       "      <td>Minetta Tavern</td>\n",
       "      <td>1</td>\n",
       "    </tr>\n",
       "    <tr>\n",
       "      <th>3</th>\n",
       "      <td>118796</td>\n",
       "      <td>600</td>\n",
       "      <td>5.0</td>\n",
       "      <td>2014-10-19</td>\n",
       "      <td>This is a throw back restaurant in an old Ital...</td>\n",
       "      <td>Il Triangolo Restaurant</td>\n",
       "      <td>1</td>\n",
       "    </tr>\n",
       "    <tr>\n",
       "      <th>4</th>\n",
       "      <td>52374</td>\n",
       "      <td>211</td>\n",
       "      <td>4.0</td>\n",
       "      <td>2013-08-16</td>\n",
       "      <td>This is a review by a vegetarian This is stiff...</td>\n",
       "      <td>Artichoke Basille’s Pizza</td>\n",
       "      <td>1</td>\n",
       "    </tr>\n",
       "    <tr>\n",
       "      <th>...</th>\n",
       "      <td>...</td>\n",
       "      <td>...</td>\n",
       "      <td>...</td>\n",
       "      <td>...</td>\n",
       "      <td>...</td>\n",
       "      <td>...</td>\n",
       "      <td>...</td>\n",
       "    </tr>\n",
       "    <tr>\n",
       "      <th>71494</th>\n",
       "      <td>14544</td>\n",
       "      <td>803</td>\n",
       "      <td>4.0</td>\n",
       "      <td>2014-03-15</td>\n",
       "      <td>Dark and rustic atmosphere great for a date, o...</td>\n",
       "      <td>Anella</td>\n",
       "      <td>1</td>\n",
       "    </tr>\n",
       "    <tr>\n",
       "      <th>71495</th>\n",
       "      <td>36342</td>\n",
       "      <td>308</td>\n",
       "      <td>3.0</td>\n",
       "      <td>2009-07-20</td>\n",
       "      <td>We visited this 4 star restaurant late Saturda...</td>\n",
       "      <td>Becco Restaurant</td>\n",
       "      <td>0</td>\n",
       "    </tr>\n",
       "    <tr>\n",
       "      <th>71496</th>\n",
       "      <td>11002</td>\n",
       "      <td>741</td>\n",
       "      <td>3.0</td>\n",
       "      <td>2010-10-03</td>\n",
       "      <td>This place is very cute and not something you ...</td>\n",
       "      <td>Penelope</td>\n",
       "      <td>1</td>\n",
       "    </tr>\n",
       "    <tr>\n",
       "      <th>71497</th>\n",
       "      <td>7835</td>\n",
       "      <td>27</td>\n",
       "      <td>2.0</td>\n",
       "      <td>2013-05-13</td>\n",
       "      <td>Not sure why this place got such good reviews....</td>\n",
       "      <td>Crisp</td>\n",
       "      <td>1</td>\n",
       "    </tr>\n",
       "    <tr>\n",
       "      <th>71498</th>\n",
       "      <td>61960</td>\n",
       "      <td>654</td>\n",
       "      <td>2.0</td>\n",
       "      <td>2014-12-04</td>\n",
       "      <td>Came here a few times for curry. I loved this ...</td>\n",
       "      <td>Go! Go! Curry!</td>\n",
       "      <td>1</td>\n",
       "    </tr>\n",
       "  </tbody>\n",
       "</table>\n",
       "<p>71499 rows × 7 columns</p>\n",
       "</div>"
      ],
      "text/plain": [
       "       user_id  prod_id  rating        date  \\\n",
       "0        14625      542     5.0  2011-06-19   \n",
       "1        54260      220     4.0  2009-10-06   \n",
       "2       144459      121     4.0  2011-01-02   \n",
       "3       118796      600     5.0  2014-10-19   \n",
       "4        52374      211     4.0  2013-08-16   \n",
       "...        ...      ...     ...         ...   \n",
       "71494    14544      803     4.0  2014-03-15   \n",
       "71495    36342      308     3.0  2009-07-20   \n",
       "71496    11002      741     3.0  2010-10-03   \n",
       "71497     7835       27     2.0  2013-05-13   \n",
       "71498    61960      654     2.0  2014-12-04   \n",
       "\n",
       "                                                  review  \\\n",
       "0      Overall, great pizza, good service. My wife an...   \n",
       "1      I thought I went to Japan when I got in.  The ...   \n",
       "2      Holy Shmoly!! I just stood 90 minutes for a $2...   \n",
       "3      This is a throw back restaurant in an old Ital...   \n",
       "4      This is a review by a vegetarian This is stiff...   \n",
       "...                                                  ...   \n",
       "71494  Dark and rustic atmosphere great for a date, o...   \n",
       "71495  We visited this 4 star restaurant late Saturda...   \n",
       "71496  This place is very cute and not something you ...   \n",
       "71497  Not sure why this place got such good reviews....   \n",
       "71498  Came here a few times for curry. I loved this ...   \n",
       "\n",
       "                            name  target  \n",
       "0               Lombardi’s Pizza       1  \n",
       "1                         Cha-An       1  \n",
       "2                 Minetta Tavern       1  \n",
       "3        Il Triangolo Restaurant       1  \n",
       "4      Artichoke Basille’s Pizza       1  \n",
       "...                          ...     ...  \n",
       "71494                     Anella       1  \n",
       "71495           Becco Restaurant       0  \n",
       "71496                   Penelope       1  \n",
       "71497                      Crisp       1  \n",
       "71498             Go! Go! Curry!       1  \n",
       "\n",
       "[71499 rows x 7 columns]"
      ]
     },
     "execution_count": 200,
     "metadata": {},
     "output_type": "execute_result"
    }
   ],
   "source": [
    "untouched_df"
   ]
  },
  {
   "cell_type": "markdown",
   "id": "c32f25b9-e674-4c3b-8640-0c022c9ae7eb",
   "metadata": {},
   "source": [
    "#### Create a function to remove reviews with less than 15 characters the same way it was done to the training set."
   ]
  },
  {
   "cell_type": "code",
   "execution_count": 194,
   "id": "0473b3f0-8ab0-4a52-ae80-cf6723a9f2f8",
   "metadata": {},
   "outputs": [],
   "source": [
    "def remove_short_revs(df,col = 'review'):\n",
    "    indexNames = []\n",
    "    sub_5_reviews = []\n",
    "#enumerate through the cloned_df reviews and find any reviews with less than 15 words\n",
    "#this is important as there were reviews with simply characters and one words.\n",
    "    for i,rev in enumerate(df[col]):\n",
    "        if len(rev)<15:\n",
    "            indexNames.append(i)\n",
    "            sub_5_reviews.append(rev)\n",
    "        \n",
    "    return df.drop(indexNames)\n",
    "\n",
    "\n",
    "\n",
    "#remove_short_revs(untouched)"
   ]
  },
  {
   "cell_type": "code",
   "execution_count": 202,
   "id": "34bcbbc4-36fc-4364-81f3-b3a4a0f548b2",
   "metadata": {},
   "outputs": [],
   "source": [
    "test_untouched = remove_short_revs(untouched_df)"
   ]
  },
  {
   "cell_type": "code",
   "execution_count": 203,
   "id": "e538535f-9af0-4831-9170-7c80a9132617",
   "metadata": {},
   "outputs": [],
   "source": [
    "X_un = test_untouched['review']\n",
    "y_un = test_untouched['target']"
   ]
  },
  {
   "cell_type": "code",
   "execution_count": 205,
   "id": "d347ca06-8ad1-45fa-af78-963b05a88114",
   "metadata": {},
   "outputs": [
    {
     "data": {
      "text/plain": [
       "Pipeline(steps=[('tfidf',\n",
       "                 TfidfVectorizer(analyzer='char', lowercase=False,\n",
       "                                 max_features=5000, ngram_range=(2, 3))),\n",
       "                ('smote', SMOTE(k_neighbors=3, random_state=42)),\n",
       "                ('mnb', MultinomialNB(alpha=0.1))])"
      ]
     },
     "execution_count": 205,
     "metadata": {},
     "output_type": "execute_result"
    }
   ],
   "source": [
    "top_pipe.fit(X_un,y_un)"
   ]
  },
  {
   "cell_type": "markdown",
   "id": "332a1858-500e-4347-ab9f-1f54a14a3aa4",
   "metadata": {},
   "source": [
    "#### The unseen data performed extremely well on the model. This shows that there are imporovements that can be made to the model."
   ]
  },
  {
   "cell_type": "code",
   "execution_count": 206,
   "id": "25942d29-faf6-4b0f-ae75-e5760b4c779d",
   "metadata": {},
   "outputs": [
    {
     "name": "stdout",
     "output_type": "stream",
     "text": [
      "0.8747010419823306\n"
     ]
    }
   ],
   "source": [
    "pred_un = top_pipe.predict(X_un)\n",
    "accuracy_un = metrics.accuracy_score(y_un, pred_un)\n",
    "print(accuracy_value_train)"
   ]
  },
  {
   "cell_type": "code",
   "execution_count": 207,
   "id": "ca3158d7-d87a-4eac-a566-90c84ff9b7dc",
   "metadata": {},
   "outputs": [
    {
     "data": {
      "text/plain": [
       "array([[ 4018, 18096],\n",
       "       [ 3259, 46126]])"
      ]
     },
     "metadata": {},
     "output_type": "display_data"
    }
   ],
   "source": [
    "display(confusion_matrix(pred_un,y_un))"
   ]
  },
  {
   "cell_type": "code",
   "execution_count": 209,
   "id": "adc2ff1a-bdc5-4a4d-b4a5-ae42d5c8bba0",
   "metadata": {
    "tags": []
   },
   "outputs": [
    {
     "data": {
      "image/png": "[encoded data removed]",
      "text/plain": [
       "<Figure size 432x288 with 2 Axes>"
      ]
     },
     "metadata": {
      "needs_background": "light"
     },
     "output_type": "display_data"
    }
   ],
   "source": [
    "top_pipe.fit(X_un,y_un)\n",
    "plot_confusion_matrix(top_pipe,X_un,y_un);"
   ]
  },
  {
   "cell_type": "markdown",
   "id": "9a193411-fb5c-4cf0-9cd3-d87d68f0157f",
   "metadata": {},
   "source": [
    "#### Comparing the best smote model to a non-smote model it is clear that the predictions of a non-smote has high bias and should not be used."
   ]
  },
  {
   "cell_type": "code",
   "execution_count": 208,
   "id": "4b5e11d0-6dbd-42ec-8e8e-635cc64716c0",
   "metadata": {
    "tags": []
   },
   "outputs": [],
   "source": [
    "top_pipe_no_smote = Pipeline([\n",
    "       #('vect', CountVectorizer(analyzer='word',stop_words = sw)),\n",
    "       ('tfidf', TfidfVectorizer(analyzer='char', max_features=5000,lowercase=False,ngram_range = (2,3))),\n",
    "#        ('smote', SMOTE(random_state=42,k_neighbors = 3)),\n",
    "       ('mnb', naive_bayes.MultinomialNB(alpha = 0.1))])"
   ]
  },
  {
   "cell_type": "code",
   "execution_count": 210,
   "id": "0eaaf082-f0b1-42d2-a516-c0e313098a70",
   "metadata": {
    "tags": []
   },
   "outputs": [],
   "source": [
    "param3 = {'mnb__alpha': [0.1],\n",
    " #'smote__k_neighbors': [3],\n",
    " 'tfidf__analyzer': ['char'],\n",
    " 'tfidf__ngram_range': [(2, 3)]}"
   ]
  },
  {
   "cell_type": "code",
   "execution_count": 213,
   "id": "95dd2ce3-4250-45e0-958c-4dba73df3d43",
   "metadata": {},
   "outputs": [
    {
     "data": {
      "text/plain": [
       "<sklearn.metrics._plot.confusion_matrix.ConfusionMatrixDisplay at 0x1be5b80a0>"
      ]
     },
     "execution_count": 213,
     "metadata": {},
     "output_type": "execute_result"
    },
    {
     "data": {
      "image/png": "[encoded data removed]",
      "text/plain": [
       "<Figure size 432x288 with 2 Axes>"
      ]
     },
     "metadata": {
      "needs_background": "light"
     },
     "output_type": "display_data"
    }
   ],
   "source": [
    "top_pipe_no_smote.fit(X_un,y_un)\n",
    "plot_confusion_matrix(top_pipe_no_smote, X_un, y_un);"
   ]
  },
  {
   "cell_type": "code",
   "execution_count": null,
   "id": "3233a9c2-538b-4658-9536-8e9ef513b99a",
   "metadata": {},
   "outputs": [],
   "source": []
  },
  {
   "cell_type": "code",
   "execution_count": null,
   "id": "286634a2-a144-4568-bf54-dfdb185af12c",
   "metadata": {},
   "outputs": [],
   "source": []
  },
  {
   "cell_type": "code",
   "execution_count": null,
   "id": "a122621b-ee3d-4fad-852f-2d2467c84ec8",
   "metadata": {},
   "outputs": [],
   "source": []
  },
  {
   "cell_type": "code",
   "execution_count": null,
   "id": "cbbc2cab-873b-4fab-a0b3-a84f377feb74",
   "metadata": {},
   "outputs": [],
   "source": []
  },
  {
   "cell_type": "code",
   "execution_count": null,
   "id": "02125fe3-a2ea-4d15-89ac-75258325c278",
   "metadata": {},
   "outputs": [],
   "source": []
  },
  {
   "cell_type": "code",
   "execution_count": null,
   "id": "a7896be9-fe00-4442-92e2-ca12d21a9270",
   "metadata": {},
   "outputs": [],
   "source": []
  },
  {
   "cell_type": "code",
   "execution_count": null,
   "id": "a998c7c5-3518-4b82-af11-cfe17d1f3bd7",
   "metadata": {},
   "outputs": [],
   "source": []
  },
  {
   "cell_type": "code",
   "execution_count": null,
   "id": "c395dfcb-7801-44a7-aee7-abf6a9599ffb",
   "metadata": {},
   "outputs": [],
   "source": []
  },
  {
   "cell_type": "markdown",
   "id": "726cce46-44e2-4db8-b2b3-1533d7cd85d7",
   "metadata": {},
   "source": [
    "# NOT USED"
   ]
  },
  {
   "cell_type": "markdown",
   "id": "f92b16aa-8cc9-4b2e-aa95-3bc042977599",
   "metadata": {},
   "source": [
    "from sklearn.naive_bayes import MultinomialNB\n",
    "from sklearn.feature_extraction.text import CountVectorizer\n",
    "import pandas as pd\n",
    "from collections import Counter\n",
    "from sklearn.model_selection import train_test_split\n",
    "from sklearn.feature_extraction.text import TfidfTransformer"
   ]
  },
  {
   "cell_type": "markdown",
   "id": "940cea1c-8d07-436a-8411-0b5585cd8950",
   "metadata": {},
   "source": [
    "count_vect = CountVectorizer()\n",
    "X_train_count = count_vect.fit_transform(body)"
   ]
  },
  {
   "cell_type": "markdown",
   "id": "f8129d71-5c01-492f-b3c8-982fa9cf8305",
   "metadata": {},
   "source": [
    "tfidf_transformer = TfidfTransformer()\n",
    "X_train_tfidf = tfidf_transformer.fit_transform(X_train_count)"
   ]
  },
  {
   "cell_type": "markdown",
   "id": "c39a2c39-498f-4fdb-bb6c-926d16b58b12",
   "metadata": {},
   "source": [
    "\n",
    "xvalid_count =  count_vect.transform(valid_x)"
   ]
  },
  {
   "cell_type": "code",
   "execution_count": null,
   "id": "3f20635c-698f-479a-beb8-36091821e2aa",
   "metadata": {},
   "outputs": [],
   "source": []
  }
 ],
 "metadata": {
  "kernelspec": {
   "display_name": "general-env",
   "language": "python",
   "name": "general-env"
  },
  "language_info": {
   "codemirror_mode": {
    "name": "ipython",
    "version": 3
   },
   "file_extension": ".py",
   "mimetype": "text/x-python",
   "name": "python",
   "nbconvert_exporter": "python",
   "pygments_lexer": "ipython3",
   "version": "3.9.6"
  }
 },
 "nbformat": 4,
 "nbformat_minor": 5
}
