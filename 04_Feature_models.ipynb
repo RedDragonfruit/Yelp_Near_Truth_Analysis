{
 "cells": [
  {
   "cell_type": "code",
   "execution_count": 1,
   "id": "a51a274f-1191-443f-9ebc-86de036508fc",
   "metadata": {},
   "outputs": [],
   "source": [
    "import pandas as pd\n",
    "import matplotlib.pyplot as plt\n",
    "import string\n",
    "import re\n",
    "\n",
    "import nltk\n",
    "from nltk.corpus import stopwords\n",
    "from nltk.tokenize import regexp_tokenize, word_tokenize, RegexpTokenizer\n",
    "\n",
    "from sklearn.model_selection import train_test_split\n",
    "from sklearn.linear_model import LogisticRegression\n",
    "from sklearn.ensemble import RandomForestClassifier\n",
    "from sklearn import model_selection, naive_bayes, metrics\n",
    "from sklearn.metrics import confusion_matrix, plot_confusion_matrix\n",
    "\n",
    "from imblearn.pipeline import Pipeline\n",
    "from imblearn.over_sampling import SMOTE\n",
    "\n",
    "%matplotlib inline "
   ]
  },
  {
   "cell_type": "code",
   "execution_count": 2,
   "id": "2be1dbf5-4b27-4ec2-b5e0-794888b11927",
   "metadata": {},
   "outputs": [],
   "source": [
    "import Tools.FNC as cf"
   ]
  },
  {
   "cell_type": "markdown",
   "id": "4d1a21af-5a20-428d-8721-c546c96af570",
   "metadata": {},
   "source": [
    "#### The probabilites probabilities of the each row was calculated in notebook 03. Here the probability was combined with the rest of the data and more features will be created."
   ]
  },
  {
   "cell_type": "code",
   "execution_count": 3,
   "id": "84001e0c-e83f-4c91-8593-9d14407be077",
   "metadata": {},
   "outputs": [],
   "source": [
    "#import the dataframes and target\n",
    "\n",
    "df = pd.read_csv('./Data/restaurant_data')\n",
    "target_df = pd.read_csv('./Data/target_data')\n",
    "proba = pd.read_csv('./Data/all_proba')\n",
    "\n",
    "#merge the data with the target\n",
    "restaurants_df = df.merge(target_df,\n",
    "                         how = 'inner',\n",
    "                         left_on = ['Unnamed: 0'],\n",
    "                         right_on = ['Unnamed: 0']\n",
    "                         )\n",
    "\n",
    "#create a copy for use later\n",
    "rest_df = restaurants_df.copy()\n",
    "\n",
    "#merge the copy with the probabilies\n",
    "rest_proba_df = rest_df.merge(proba,\n",
    "                              how = 'inner',\n",
    "                              left_on = ['Unnamed: 0'],\n",
    "                              right_on = ['Unnamed: 0'])"
   ]
  },
  {
   "cell_type": "code",
   "execution_count": 4,
   "id": "0727fb20-0ac3-4f82-b6b0-c4e02e1dd1ea",
   "metadata": {},
   "outputs": [],
   "source": [
    "#drop the unnamed column\n",
    "rest_proba_df.drop('Unnamed: 0' , axis=1,inplace =True)"
   ]
  },
  {
   "cell_type": "code",
   "execution_count": 5,
   "id": "f655cf21-5c1d-41b4-a60a-8b4ae795599b",
   "metadata": {},
   "outputs": [],
   "source": [
    "#set the original data to the combined data\n",
    "restaurants_df = rest_proba_df"
   ]
  },
  {
   "cell_type": "code",
   "execution_count": 6,
   "id": "d92edb33-4580-459d-bc5b-8d292568b972",
   "metadata": {},
   "outputs": [
    {
     "data": {
      "text/html": [
       "<div>\n",
       "<style scoped>\n",
       "    .dataframe tbody tr th:only-of-type {\n",
       "        vertical-align: middle;\n",
       "    }\n",
       "\n",
       "    .dataframe tbody tr th {\n",
       "        vertical-align: top;\n",
       "    }\n",
       "\n",
       "    .dataframe thead th {\n",
       "        text-align: right;\n",
       "    }\n",
       "</style>\n",
       "<table border=\"1\" class=\"dataframe\">\n",
       "  <thead>\n",
       "    <tr style=\"text-align: right;\">\n",
       "      <th></th>\n",
       "      <th>user_id</th>\n",
       "      <th>prod_id</th>\n",
       "      <th>rating</th>\n",
       "      <th>date</th>\n",
       "      <th>review</th>\n",
       "      <th>name</th>\n",
       "      <th>target</th>\n",
       "      <th>0</th>\n",
       "      <th>1</th>\n",
       "    </tr>\n",
       "  </thead>\n",
       "  <tbody>\n",
       "    <tr>\n",
       "      <th>0</th>\n",
       "      <td>19590</td>\n",
       "      <td>668</td>\n",
       "      <td>5.0</td>\n",
       "      <td>2013-09-17</td>\n",
       "      <td>I had waited to return a couple other times to...</td>\n",
       "      <td>Eataly NYC</td>\n",
       "      <td>1</td>\n",
       "      <td>0.525403</td>\n",
       "      <td>0.474597</td>\n",
       "    </tr>\n",
       "    <tr>\n",
       "      <th>1</th>\n",
       "      <td>7175</td>\n",
       "      <td>287</td>\n",
       "      <td>3.0</td>\n",
       "      <td>2013-10-30</td>\n",
       "      <td>This place is always busy - partly because it'...</td>\n",
       "      <td>Heidi’s House</td>\n",
       "      <td>1</td>\n",
       "      <td>0.361704</td>\n",
       "      <td>0.638296</td>\n",
       "    </tr>\n",
       "    <tr>\n",
       "      <th>2</th>\n",
       "      <td>137409</td>\n",
       "      <td>744</td>\n",
       "      <td>5.0</td>\n",
       "      <td>2014-12-04</td>\n",
       "      <td>Love this place! I am not a regular yelper I d...</td>\n",
       "      <td>Bodhi Tree</td>\n",
       "      <td>0</td>\n",
       "      <td>0.308041</td>\n",
       "      <td>0.691959</td>\n",
       "    </tr>\n",
       "    <tr>\n",
       "      <th>3</th>\n",
       "      <td>62647</td>\n",
       "      <td>625</td>\n",
       "      <td>5.0</td>\n",
       "      <td>2013-02-25</td>\n",
       "      <td>After extensive yelping to find a great place ...</td>\n",
       "      <td>Perilla</td>\n",
       "      <td>1</td>\n",
       "      <td>0.470336</td>\n",
       "      <td>0.529664</td>\n",
       "    </tr>\n",
       "    <tr>\n",
       "      <th>4</th>\n",
       "      <td>6080</td>\n",
       "      <td>307</td>\n",
       "      <td>5.0</td>\n",
       "      <td>2014-09-20</td>\n",
       "      <td>Very tasty indian food that is a bit different...</td>\n",
       "      <td>Pippali</td>\n",
       "      <td>1</td>\n",
       "      <td>0.519505</td>\n",
       "      <td>0.480495</td>\n",
       "    </tr>\n",
       "  </tbody>\n",
       "</table>\n",
       "</div>"
      ],
      "text/plain": [
       "   user_id  prod_id  rating        date  \\\n",
       "0    19590      668     5.0  2013-09-17   \n",
       "1     7175      287     3.0  2013-10-30   \n",
       "2   137409      744     5.0  2014-12-04   \n",
       "3    62647      625     5.0  2013-02-25   \n",
       "4     6080      307     5.0  2014-09-20   \n",
       "\n",
       "                                              review           name  target  \\\n",
       "0  I had waited to return a couple other times to...     Eataly NYC       1   \n",
       "1  This place is always busy - partly because it'...  Heidi’s House       1   \n",
       "2  Love this place! I am not a regular yelper I d...     Bodhi Tree       0   \n",
       "3  After extensive yelping to find a great place ...        Perilla       1   \n",
       "4  Very tasty indian food that is a bit different...        Pippali       1   \n",
       "\n",
       "          0         1  \n",
       "0  0.525403  0.474597  \n",
       "1  0.361704  0.638296  \n",
       "2  0.308041  0.691959  \n",
       "3  0.470336  0.529664  \n",
       "4  0.519505  0.480495  "
      ]
     },
     "execution_count": 6,
     "metadata": {},
     "output_type": "execute_result"
    }
   ],
   "source": [
    "restaurants_df.head()"
   ]
  },
  {
   "cell_type": "code",
   "execution_count": 7,
   "id": "7d612065-c41b-4eca-acd6-65d7b0a024a7",
   "metadata": {},
   "outputs": [],
   "source": [
    "#create a new copy of the dataframe which will not remove the columns\n",
    "r_df = restaurants_df.copy()"
   ]
  },
  {
   "cell_type": "code",
   "execution_count": 8,
   "id": "381e21cb-1285-4ec3-9da7-27a61098fb07",
   "metadata": {},
   "outputs": [],
   "source": [
    "#remove unnecessary\n",
    "restaurants_df.drop(['user_id','prod_id','date','rating','name'],axis = 1 ,inplace = True)"
   ]
  },
  {
   "cell_type": "markdown",
   "id": "21b29cf3-9742-489c-97cd-b6f221eb61af",
   "metadata": {},
   "source": [
    "#### The sample of the probability is shown here. These probabilities are obtained from the previous models which determine the truth based solely on NLP."
   ]
  },
  {
   "cell_type": "code",
   "execution_count": 9,
   "id": "dce21f64-a8b3-41d2-b720-8234da701733",
   "metadata": {},
   "outputs": [
    {
     "data": {
      "text/html": [
       "<div>\n",
       "<style scoped>\n",
       "    .dataframe tbody tr th:only-of-type {\n",
       "        vertical-align: middle;\n",
       "    }\n",
       "\n",
       "    .dataframe tbody tr th {\n",
       "        vertical-align: top;\n",
       "    }\n",
       "\n",
       "    .dataframe thead th {\n",
       "        text-align: right;\n",
       "    }\n",
       "</style>\n",
       "<table border=\"1\" class=\"dataframe\">\n",
       "  <thead>\n",
       "    <tr style=\"text-align: right;\">\n",
       "      <th></th>\n",
       "      <th>review</th>\n",
       "      <th>target</th>\n",
       "      <th>0</th>\n",
       "      <th>1</th>\n",
       "    </tr>\n",
       "  </thead>\n",
       "  <tbody>\n",
       "    <tr>\n",
       "      <th>0</th>\n",
       "      <td>I had waited to return a couple other times to...</td>\n",
       "      <td>1</td>\n",
       "      <td>0.525403</td>\n",
       "      <td>0.474597</td>\n",
       "    </tr>\n",
       "    <tr>\n",
       "      <th>1</th>\n",
       "      <td>This place is always busy - partly because it'...</td>\n",
       "      <td>1</td>\n",
       "      <td>0.361704</td>\n",
       "      <td>0.638296</td>\n",
       "    </tr>\n",
       "    <tr>\n",
       "      <th>2</th>\n",
       "      <td>Love this place! I am not a regular yelper I d...</td>\n",
       "      <td>0</td>\n",
       "      <td>0.308041</td>\n",
       "      <td>0.691959</td>\n",
       "    </tr>\n",
       "    <tr>\n",
       "      <th>3</th>\n",
       "      <td>After extensive yelping to find a great place ...</td>\n",
       "      <td>1</td>\n",
       "      <td>0.470336</td>\n",
       "      <td>0.529664</td>\n",
       "    </tr>\n",
       "    <tr>\n",
       "      <th>4</th>\n",
       "      <td>Very tasty indian food that is a bit different...</td>\n",
       "      <td>1</td>\n",
       "      <td>0.519505</td>\n",
       "      <td>0.480495</td>\n",
       "    </tr>\n",
       "  </tbody>\n",
       "</table>\n",
       "</div>"
      ],
      "text/plain": [
       "                                              review  target         0  \\\n",
       "0  I had waited to return a couple other times to...       1  0.525403   \n",
       "1  This place is always busy - partly because it'...       1  0.361704   \n",
       "2  Love this place! I am not a regular yelper I d...       0  0.308041   \n",
       "3  After extensive yelping to find a great place ...       1  0.470336   \n",
       "4  Very tasty indian food that is a bit different...       1  0.519505   \n",
       "\n",
       "          1  \n",
       "0  0.474597  \n",
       "1  0.638296  \n",
       "2  0.691959  \n",
       "3  0.529664  \n",
       "4  0.480495  "
      ]
     },
     "execution_count": 9,
     "metadata": {},
     "output_type": "execute_result"
    }
   ],
   "source": [
    "restaurants_df.head()"
   ]
  },
  {
   "cell_type": "code",
   "execution_count": 10,
   "id": "9b090f21-7e60-4a7e-a27c-c9a3fb6c998c",
   "metadata": {},
   "outputs": [],
   "source": [
    "#lower-case the reviews\n",
    "restaurants_df['review'] = restaurants_df['review'].str.lower()"
   ]
  },
  {
   "cell_type": "code",
   "execution_count": 11,
   "id": "7596b2d2-2eac-4bc9-a1e1-4c191ceddac5",
   "metadata": {
    "tags": []
   },
   "outputs": [],
   "source": []
  },
  {
   "cell_type": "code",
   "execution_count": 12,
   "id": "f1856058-fdb5-4f72-b7dd-4bf5dcf1a398",
   "metadata": {},
   "outputs": [],
   "source": [
    "#tokenize the restaurant reviews\n",
    "restaurants_df['review_tokenized'] = restaurants_df['review'].apply(cf.tokenize_text)"
   ]
  },
  {
   "cell_type": "code",
   "execution_count": 13,
   "id": "7dad9574-9370-4592-a352-480a98e9519f",
   "metadata": {},
   "outputs": [],
   "source": [
    "#create stopwords and added the common words\n",
    "sw = stopwords.words(\"english\")\n",
    "sw += ['food','place','good',\"great\"]\n",
    "restaurants_df['review_tokenized'] = restaurants_df['review_tokenized'].apply(lambda x: [item for item in x if item not in sw])"
   ]
  },
  {
   "cell_type": "code",
   "execution_count": 14,
   "id": "bcae99c7-08eb-4c37-bca8-68233dfd0721",
   "metadata": {},
   "outputs": [],
   "source": [
    "restaurants_df2 = restaurants_df.copy()"
   ]
  },
  {
   "cell_type": "code",
   "execution_count": 15,
   "id": "4875ce83-7bcf-4683-be64-ffede806826d",
   "metadata": {},
   "outputs": [],
   "source": [
    "restaurants_df2.drop('review',axis = 1,inplace = True)"
   ]
  },
  {
   "cell_type": "markdown",
   "id": "95e5481e-d0c9-4c3c-b0c6-b099307ea4c4",
   "metadata": {},
   "source": [
    "#### The data is split to truth and fake to take a closer look at our target"
   ]
  },
  {
   "cell_type": "code",
   "execution_count": 16,
   "id": "3ee7d203-cd3f-466e-b40c-7a842cec7337",
   "metadata": {},
   "outputs": [
    {
     "data": {
      "text/html": [
       "<div>\n",
       "<style scoped>\n",
       "    .dataframe tbody tr th:only-of-type {\n",
       "        vertical-align: middle;\n",
       "    }\n",
       "\n",
       "    .dataframe tbody tr th {\n",
       "        vertical-align: top;\n",
       "    }\n",
       "\n",
       "    .dataframe thead th {\n",
       "        text-align: right;\n",
       "    }\n",
       "</style>\n",
       "<table border=\"1\" class=\"dataframe\">\n",
       "  <thead>\n",
       "    <tr style=\"text-align: right;\">\n",
       "      <th></th>\n",
       "      <th>target</th>\n",
       "      <th>0</th>\n",
       "      <th>1</th>\n",
       "      <th>review_tokenized</th>\n",
       "    </tr>\n",
       "  </thead>\n",
       "  <tbody>\n",
       "    <tr>\n",
       "      <th>0</th>\n",
       "      <td>1</td>\n",
       "      <td>0.525403</td>\n",
       "      <td>0.474597</td>\n",
       "      <td>[waited, return, couple, times, give, assessme...</td>\n",
       "    </tr>\n",
       "    <tr>\n",
       "      <th>1</th>\n",
       "      <td>1</td>\n",
       "      <td>0.361704</td>\n",
       "      <td>0.638296</td>\n",
       "      <td>[always, busy, partly, tiny, nonethless, call,...</td>\n",
       "    </tr>\n",
       "    <tr>\n",
       "      <th>3</th>\n",
       "      <td>1</td>\n",
       "      <td>0.470336</td>\n",
       "      <td>0.529664</td>\n",
       "      <td>[extensive, yelping, find, boyfriends, birthda...</td>\n",
       "    </tr>\n",
       "    <tr>\n",
       "      <th>4</th>\n",
       "      <td>1</td>\n",
       "      <td>0.519505</td>\n",
       "      <td>0.480495</td>\n",
       "      <td>[tasty, indian, bit, different, rest, menu, it...</td>\n",
       "    </tr>\n",
       "    <tr>\n",
       "      <th>5</th>\n",
       "      <td>1</td>\n",
       "      <td>0.514153</td>\n",
       "      <td>0.485847</td>\n",
       "      <td>[visited, woorijip, lunch, recent, afternoon, ...</td>\n",
       "    </tr>\n",
       "  </tbody>\n",
       "</table>\n",
       "</div>"
      ],
      "text/plain": [
       "   target         0         1  \\\n",
       "0       1  0.525403  0.474597   \n",
       "1       1  0.361704  0.638296   \n",
       "3       1  0.470336  0.529664   \n",
       "4       1  0.519505  0.480495   \n",
       "5       1  0.514153  0.485847   \n",
       "\n",
       "                                    review_tokenized  \n",
       "0  [waited, return, couple, times, give, assessme...  \n",
       "1  [always, busy, partly, tiny, nonethless, call,...  \n",
       "3  [extensive, yelping, find, boyfriends, birthda...  \n",
       "4  [tasty, indian, bit, different, rest, menu, it...  \n",
       "5  [visited, woorijip, lunch, recent, afternoon, ...  "
      ]
     },
     "execution_count": 16,
     "metadata": {},
     "output_type": "execute_result"
    }
   ],
   "source": [
    "t_words = restaurants_df2[restaurants_df2['target'] == 1]\n",
    "t_words.head()"
   ]
  },
  {
   "cell_type": "code",
   "execution_count": 17,
   "id": "a3f5cbf5-6a36-4faf-85df-bdaca6c57f5a",
   "metadata": {},
   "outputs": [],
   "source": [
    "exp_t_words = t_words.explode('review_tokenized')"
   ]
  },
  {
   "cell_type": "code",
   "execution_count": 18,
   "id": "68e9d0b0-f075-43bd-8333-6279951aecc5",
   "metadata": {},
   "outputs": [],
   "source": [
    "top_positive_words  = exp_t_words.groupby('review_tokenized')['target'].count().sort_values(ascending = False)"
   ]
  },
  {
   "cell_type": "code",
   "execution_count": 19,
   "id": "1857b986-61e2-4710-bbc8-7d2d385fbcae",
   "metadata": {},
   "outputs": [
    {
     "data": {
      "text/html": [
       "<div>\n",
       "<style scoped>\n",
       "    .dataframe tbody tr th:only-of-type {\n",
       "        vertical-align: middle;\n",
       "    }\n",
       "\n",
       "    .dataframe tbody tr th {\n",
       "        vertical-align: top;\n",
       "    }\n",
       "\n",
       "    .dataframe thead th {\n",
       "        text-align: right;\n",
       "    }\n",
       "</style>\n",
       "<table border=\"1\" class=\"dataframe\">\n",
       "  <thead>\n",
       "    <tr style=\"text-align: right;\">\n",
       "      <th></th>\n",
       "      <th>target</th>\n",
       "      <th>0</th>\n",
       "      <th>1</th>\n",
       "      <th>review_tokenized</th>\n",
       "    </tr>\n",
       "  </thead>\n",
       "  <tbody>\n",
       "    <tr>\n",
       "      <th>2</th>\n",
       "      <td>0</td>\n",
       "      <td>0.308041</td>\n",
       "      <td>0.691959</td>\n",
       "      <td>[love, regular, yelper, dont, write, review, m...</td>\n",
       "    </tr>\n",
       "    <tr>\n",
       "      <th>8</th>\n",
       "      <td>0</td>\n",
       "      <td>0.501025</td>\n",
       "      <td>0.498975</td>\n",
       "      <td>[filipino, dont, expect, pay, meal, mom, know,...</td>\n",
       "    </tr>\n",
       "    <tr>\n",
       "      <th>12</th>\n",
       "      <td>0</td>\n",
       "      <td>0.598785</td>\n",
       "      <td>0.401215</td>\n",
       "      <td>[best, grilled, cheese, sandwiches, world, alw...</td>\n",
       "    </tr>\n",
       "    <tr>\n",
       "      <th>15</th>\n",
       "      <td>0</td>\n",
       "      <td>0.621884</td>\n",
       "      <td>0.378116</td>\n",
       "      <td>[hands, favorite, park, slope, haunt, fun, bar...</td>\n",
       "    </tr>\n",
       "    <tr>\n",
       "      <th>16</th>\n",
       "      <td>0</td>\n",
       "      <td>0.445621</td>\n",
       "      <td>0.554379</td>\n",
       "      <td>[fave, brooklyn, bar, packed, id, come, often,...</td>\n",
       "    </tr>\n",
       "  </tbody>\n",
       "</table>\n",
       "</div>"
      ],
      "text/plain": [
       "    target         0         1  \\\n",
       "2        0  0.308041  0.691959   \n",
       "8        0  0.501025  0.498975   \n",
       "12       0  0.598785  0.401215   \n",
       "15       0  0.621884  0.378116   \n",
       "16       0  0.445621  0.554379   \n",
       "\n",
       "                                     review_tokenized  \n",
       "2   [love, regular, yelper, dont, write, review, m...  \n",
       "8   [filipino, dont, expect, pay, meal, mom, know,...  \n",
       "12  [best, grilled, cheese, sandwiches, world, alw...  \n",
       "15  [hands, favorite, park, slope, haunt, fun, bar...  \n",
       "16  [fave, brooklyn, bar, packed, id, come, often,...  "
      ]
     },
     "execution_count": 19,
     "metadata": {},
     "output_type": "execute_result"
    }
   ],
   "source": [
    "f_words = restaurants_df2[restaurants_df2['target'] == 0]\n",
    "f_words.head()"
   ]
  },
  {
   "cell_type": "code",
   "execution_count": 20,
   "id": "9298548f-fefb-4350-a749-bcf0499eaffb",
   "metadata": {},
   "outputs": [],
   "source": [
    "exp_f_words = f_words.explode('review_tokenized')"
   ]
  },
  {
   "cell_type": "markdown",
   "id": "47db699a-611e-4fe2-8cd7-aa4e581f95e5",
   "metadata": {},
   "source": [
    "#### With the most common words removed, the top words are slightly different from one another."
   ]
  },
  {
   "cell_type": "code",
   "execution_count": 21,
   "id": "edd9f744-d941-4e85-9d2b-ba3abf7282e9",
   "metadata": {},
   "outputs": [
    {
     "data": {
      "text/plain": [
       "review_tokenized\n",
       "really        5275\n",
       "back          5129\n",
       "get           5127\n",
       "time          5114\n",
       "restaurant    5055\n",
       "best          4980\n",
       "would         4559\n",
       "delicious     4430\n",
       "pizza         4167\n",
       "love          4142\n",
       "us            4057\n",
       "wait          3837\n",
       "also          3662\n",
       "dont          3494\n",
       "amazing       3471\n",
       "nice          3446\n",
       "staff         3270\n",
       "menu          3154\n",
       "even          3034\n",
       "try           3025\n",
       "Name: target, dtype: int64"
      ]
     },
     "execution_count": 21,
     "metadata": {},
     "output_type": "execute_result"
    }
   ],
   "source": [
    "top_false_words  = exp_f_words.groupby('review_tokenized')['target'].count().sort_values(ascending = False)\n",
    "top_false_words.iloc[4:,].head(20)"
   ]
  },
  {
   "cell_type": "code",
   "execution_count": 22,
   "id": "fc98179f-2130-4161-83b0-d80b6a0a5888",
   "metadata": {},
   "outputs": [
    {
     "data": {
      "text/plain": [
       "review_tokenized\n",
       "back          60209\n",
       "go            59774\n",
       "service       59361\n",
       "time          58272\n",
       "delicious     56139\n",
       "would         56038\n",
       "also          55667\n",
       "best          46904\n",
       "wait          46757\n",
       "restaurant    45304\n",
       "dont          45057\n",
       "ordered       44676\n",
       "got           44191\n",
       "sauce         43842\n",
       "us            42481\n",
       "chicken       42325\n",
       "ive           42140\n",
       "menu          41860\n",
       "little        41316\n",
       "well          41119\n",
       "Name: target, dtype: int64"
      ]
     },
     "execution_count": 22,
     "metadata": {},
     "output_type": "execute_result"
    }
   ],
   "source": [
    "top_positive_words[4:,].head(20)"
   ]
  },
  {
   "cell_type": "code",
   "execution_count": 23,
   "id": "b057328b-eb03-41f5-a36f-bbff6abcc490",
   "metadata": {},
   "outputs": [],
   "source": [
    "r_df['year']= r_df[\"date\"].astype(str).str[0:4]"
   ]
  },
  {
   "cell_type": "markdown",
   "id": "3d4110b5-6163-4655-90e8-8918f3693033",
   "metadata": {},
   "source": [
    "#### Here we create a new feature for the number of reviews done by user"
   ]
  },
  {
   "cell_type": "code",
   "execution_count": 32,
   "id": "7fb43612-6e7a-439a-8dde-1e70e32cbfb5",
   "metadata": {},
   "outputs": [],
   "source": [
    "ct_df = r_df.groupby('user_id')['year'].count()"
   ]
  },
  {
   "cell_type": "code",
   "execution_count": 33,
   "id": "f1c1496b-ef74-4cf6-bf6c-1c2b2a028149",
   "metadata": {},
   "outputs": [],
   "source": [
    "ct_df = ct_df.to_frame()"
   ]
  },
  {
   "cell_type": "code",
   "execution_count": 34,
   "id": "4d9ce6cf-592b-4b85-8d3e-c0ef0a8dd253",
   "metadata": {},
   "outputs": [
    {
     "data": {
      "text/html": [
       "<div>\n",
       "<style scoped>\n",
       "    .dataframe tbody tr th:only-of-type {\n",
       "        vertical-align: middle;\n",
       "    }\n",
       "\n",
       "    .dataframe tbody tr th {\n",
       "        vertical-align: top;\n",
       "    }\n",
       "\n",
       "    .dataframe thead th {\n",
       "        text-align: right;\n",
       "    }\n",
       "</style>\n",
       "<table border=\"1\" class=\"dataframe\">\n",
       "  <thead>\n",
       "    <tr style=\"text-align: right;\">\n",
       "      <th></th>\n",
       "      <th>rev_count</th>\n",
       "    </tr>\n",
       "    <tr>\n",
       "      <th>user_id</th>\n",
       "      <th></th>\n",
       "    </tr>\n",
       "  </thead>\n",
       "  <tbody>\n",
       "    <tr>\n",
       "      <th>923</th>\n",
       "      <td>28</td>\n",
       "    </tr>\n",
       "    <tr>\n",
       "      <th>925</th>\n",
       "      <td>2</td>\n",
       "    </tr>\n",
       "    <tr>\n",
       "      <th>926</th>\n",
       "      <td>1</td>\n",
       "    </tr>\n",
       "    <tr>\n",
       "      <th>927</th>\n",
       "      <td>4</td>\n",
       "    </tr>\n",
       "    <tr>\n",
       "      <th>928</th>\n",
       "      <td>1</td>\n",
       "    </tr>\n",
       "  </tbody>\n",
       "</table>\n",
       "</div>"
      ],
      "text/plain": [
       "         rev_count\n",
       "user_id           \n",
       "923             28\n",
       "925              2\n",
       "926              1\n",
       "927              4\n",
       "928              1"
      ]
     },
     "execution_count": 34,
     "metadata": {},
     "output_type": "execute_result"
    }
   ],
   "source": [
    "ct_df = ct_df.rename({'year':'rev_count'},axis = 1)\n",
    "ct_df.head()"
   ]
  },
  {
   "cell_type": "code",
   "execution_count": 35,
   "id": "31f180f7-3d43-44c0-bebb-7fa7cbeeaa2f",
   "metadata": {},
   "outputs": [
    {
     "data": {
      "text/html": [
       "<div>\n",
       "<style scoped>\n",
       "    .dataframe tbody tr th:only-of-type {\n",
       "        vertical-align: middle;\n",
       "    }\n",
       "\n",
       "    .dataframe tbody tr th {\n",
       "        vertical-align: top;\n",
       "    }\n",
       "\n",
       "    .dataframe thead th {\n",
       "        text-align: right;\n",
       "    }\n",
       "</style>\n",
       "<table border=\"1\" class=\"dataframe\">\n",
       "  <thead>\n",
       "    <tr style=\"text-align: right;\">\n",
       "      <th></th>\n",
       "      <th>user_id</th>\n",
       "      <th>prod_id</th>\n",
       "      <th>rating</th>\n",
       "      <th>date</th>\n",
       "      <th>review</th>\n",
       "      <th>name</th>\n",
       "      <th>target</th>\n",
       "      <th>0</th>\n",
       "      <th>1</th>\n",
       "      <th>year</th>\n",
       "    </tr>\n",
       "  </thead>\n",
       "  <tbody>\n",
       "    <tr>\n",
       "      <th>0</th>\n",
       "      <td>19590</td>\n",
       "      <td>668</td>\n",
       "      <td>5.0</td>\n",
       "      <td>2013-09-17</td>\n",
       "      <td>I had waited to return a couple other times to...</td>\n",
       "      <td>Eataly NYC</td>\n",
       "      <td>1</td>\n",
       "      <td>0.525403</td>\n",
       "      <td>0.474597</td>\n",
       "      <td>2013</td>\n",
       "    </tr>\n",
       "    <tr>\n",
       "      <th>1</th>\n",
       "      <td>7175</td>\n",
       "      <td>287</td>\n",
       "      <td>3.0</td>\n",
       "      <td>2013-10-30</td>\n",
       "      <td>This place is always busy - partly because it'...</td>\n",
       "      <td>Heidi’s House</td>\n",
       "      <td>1</td>\n",
       "      <td>0.361704</td>\n",
       "      <td>0.638296</td>\n",
       "      <td>2013</td>\n",
       "    </tr>\n",
       "    <tr>\n",
       "      <th>2</th>\n",
       "      <td>137409</td>\n",
       "      <td>744</td>\n",
       "      <td>5.0</td>\n",
       "      <td>2014-12-04</td>\n",
       "      <td>Love this place! I am not a regular yelper I d...</td>\n",
       "      <td>Bodhi Tree</td>\n",
       "      <td>0</td>\n",
       "      <td>0.308041</td>\n",
       "      <td>0.691959</td>\n",
       "      <td>2014</td>\n",
       "    </tr>\n",
       "    <tr>\n",
       "      <th>3</th>\n",
       "      <td>62647</td>\n",
       "      <td>625</td>\n",
       "      <td>5.0</td>\n",
       "      <td>2013-02-25</td>\n",
       "      <td>After extensive yelping to find a great place ...</td>\n",
       "      <td>Perilla</td>\n",
       "      <td>1</td>\n",
       "      <td>0.470336</td>\n",
       "      <td>0.529664</td>\n",
       "      <td>2013</td>\n",
       "    </tr>\n",
       "    <tr>\n",
       "      <th>4</th>\n",
       "      <td>6080</td>\n",
       "      <td>307</td>\n",
       "      <td>5.0</td>\n",
       "      <td>2014-09-20</td>\n",
       "      <td>Very tasty indian food that is a bit different...</td>\n",
       "      <td>Pippali</td>\n",
       "      <td>1</td>\n",
       "      <td>0.519505</td>\n",
       "      <td>0.480495</td>\n",
       "      <td>2014</td>\n",
       "    </tr>\n",
       "  </tbody>\n",
       "</table>\n",
       "</div>"
      ],
      "text/plain": [
       "   user_id  prod_id  rating        date  \\\n",
       "0    19590      668     5.0  2013-09-17   \n",
       "1     7175      287     3.0  2013-10-30   \n",
       "2   137409      744     5.0  2014-12-04   \n",
       "3    62647      625     5.0  2013-02-25   \n",
       "4     6080      307     5.0  2014-09-20   \n",
       "\n",
       "                                              review           name  target  \\\n",
       "0  I had waited to return a couple other times to...     Eataly NYC       1   \n",
       "1  This place is always busy - partly because it'...  Heidi’s House       1   \n",
       "2  Love this place! I am not a regular yelper I d...     Bodhi Tree       0   \n",
       "3  After extensive yelping to find a great place ...        Perilla       1   \n",
       "4  Very tasty indian food that is a bit different...        Pippali       1   \n",
       "\n",
       "          0         1  year  \n",
       "0  0.525403  0.474597  2013  \n",
       "1  0.361704  0.638296  2013  \n",
       "2  0.308041  0.691959  2014  \n",
       "3  0.470336  0.529664  2013  \n",
       "4  0.519505  0.480495  2014  "
      ]
     },
     "execution_count": 35,
     "metadata": {},
     "output_type": "execute_result"
    }
   ],
   "source": [
    "r_df.head()"
   ]
  },
  {
   "cell_type": "markdown",
   "id": "606f1816-9253-488e-9c29-4807bc07e158",
   "metadata": {},
   "source": [
    "#### Using the account_length function, each user is asligned with the age of their account based on their first and last post"
   ]
  },
  {
   "cell_type": "code",
   "execution_count": 36,
   "id": "bbb07a64-1066-44f9-8982-e47a38eb7a49",
   "metadata": {
    "tags": []
   },
   "outputs": [],
   "source": [
    "u,yr = cf.account_length(r_df)"
   ]
  },
  {
   "cell_type": "markdown",
   "id": "3613e72d-4371-4ecd-996b-ffbd43ed101d",
   "metadata": {},
   "source": [
    "#### The two lists are are turned to dataframes and joined for analysis"
   ]
  },
  {
   "cell_type": "code",
   "execution_count": 37,
   "id": "c6420e72-aa1e-447e-b7a4-c5ab73c9c0d0",
   "metadata": {},
   "outputs": [],
   "source": [
    "user_list_df = pd.DataFrame(u, columns = ['users'])"
   ]
  },
  {
   "cell_type": "code",
   "execution_count": 38,
   "id": "62db372c-4cfa-4ee4-b97d-08919413cdb5",
   "metadata": {},
   "outputs": [],
   "source": [
    "act_length_df = pd.DataFrame(yr, columns = ['act_len'])"
   ]
  },
  {
   "cell_type": "code",
   "execution_count": 39,
   "id": "67b4f65a-d1a2-441e-b725-62c182ef7481",
   "metadata": {},
   "outputs": [],
   "source": [
    "user_act_length_df = user_list_df.join(act_length_df)"
   ]
  },
  {
   "cell_type": "code",
   "execution_count": 40,
   "id": "85e96a7d-b630-4310-8a47-41b1b98434fa",
   "metadata": {},
   "outputs": [
    {
     "data": {
      "text/html": [
       "<div>\n",
       "<style scoped>\n",
       "    .dataframe tbody tr th:only-of-type {\n",
       "        vertical-align: middle;\n",
       "    }\n",
       "\n",
       "    .dataframe tbody tr th {\n",
       "        vertical-align: top;\n",
       "    }\n",
       "\n",
       "    .dataframe thead th {\n",
       "        text-align: right;\n",
       "    }\n",
       "</style>\n",
       "<table border=\"1\" class=\"dataframe\">\n",
       "  <thead>\n",
       "    <tr style=\"text-align: right;\">\n",
       "      <th></th>\n",
       "      <th>users</th>\n",
       "      <th>act_len</th>\n",
       "      <th>rev_count</th>\n",
       "    </tr>\n",
       "  </thead>\n",
       "  <tbody>\n",
       "    <tr>\n",
       "      <th>0</th>\n",
       "      <td>923</td>\n",
       "      <td>1</td>\n",
       "      <td>28</td>\n",
       "    </tr>\n",
       "    <tr>\n",
       "      <th>1</th>\n",
       "      <td>925</td>\n",
       "      <td>0</td>\n",
       "      <td>2</td>\n",
       "    </tr>\n",
       "    <tr>\n",
       "      <th>2</th>\n",
       "      <td>926</td>\n",
       "      <td>0</td>\n",
       "      <td>1</td>\n",
       "    </tr>\n",
       "    <tr>\n",
       "      <th>3</th>\n",
       "      <td>927</td>\n",
       "      <td>0</td>\n",
       "      <td>4</td>\n",
       "    </tr>\n",
       "    <tr>\n",
       "      <th>4</th>\n",
       "      <td>928</td>\n",
       "      <td>0</td>\n",
       "      <td>1</td>\n",
       "    </tr>\n",
       "  </tbody>\n",
       "</table>\n",
       "</div>"
      ],
      "text/plain": [
       "   users  act_len  rev_count\n",
       "0    923        1         28\n",
       "1    925        0          2\n",
       "2    926        0          1\n",
       "3    927        0          4\n",
       "4    928        0          1"
      ]
     },
     "execution_count": 40,
     "metadata": {},
     "output_type": "execute_result"
    }
   ],
   "source": [
    "user_info_df = user_act_length_df.merge(ct_df, left_on='users', right_on = 'user_id')\n",
    "user_info_df.head()"
   ]
  },
  {
   "cell_type": "markdown",
   "id": "5c4d4a24-3123-4d0e-9c4c-a895ef069d0a",
   "metadata": {},
   "source": [
    "#### A new dataset is created to include the account length and number of reviews. The review is tokenized with a new column."
   ]
  },
  {
   "cell_type": "code",
   "execution_count": 41,
   "id": "ce49d7b4-22c5-4598-bff7-bb8ecb0c03fc",
   "metadata": {},
   "outputs": [
    {
     "data": {
      "text/html": [
       "<div>\n",
       "<style scoped>\n",
       "    .dataframe tbody tr th:only-of-type {\n",
       "        vertical-align: middle;\n",
       "    }\n",
       "\n",
       "    .dataframe tbody tr th {\n",
       "        vertical-align: top;\n",
       "    }\n",
       "\n",
       "    .dataframe thead th {\n",
       "        text-align: right;\n",
       "    }\n",
       "</style>\n",
       "<table border=\"1\" class=\"dataframe\">\n",
       "  <thead>\n",
       "    <tr style=\"text-align: right;\">\n",
       "      <th></th>\n",
       "      <th>user_id</th>\n",
       "      <th>prod_id</th>\n",
       "      <th>rating</th>\n",
       "      <th>date</th>\n",
       "      <th>review</th>\n",
       "      <th>name</th>\n",
       "      <th>target</th>\n",
       "      <th>0</th>\n",
       "      <th>1</th>\n",
       "      <th>year</th>\n",
       "      <th>users</th>\n",
       "      <th>act_len</th>\n",
       "      <th>rev_count</th>\n",
       "    </tr>\n",
       "  </thead>\n",
       "  <tbody>\n",
       "    <tr>\n",
       "      <th>0</th>\n",
       "      <td>19590</td>\n",
       "      <td>668</td>\n",
       "      <td>5.0</td>\n",
       "      <td>2013-09-17</td>\n",
       "      <td>I had waited to return a couple other times to...</td>\n",
       "      <td>Eataly NYC</td>\n",
       "      <td>1</td>\n",
       "      <td>0.525403</td>\n",
       "      <td>0.474597</td>\n",
       "      <td>2013</td>\n",
       "      <td>19590.0</td>\n",
       "      <td>2.0</td>\n",
       "      <td>15.0</td>\n",
       "    </tr>\n",
       "    <tr>\n",
       "      <th>1</th>\n",
       "      <td>19590</td>\n",
       "      <td>347</td>\n",
       "      <td>5.0</td>\n",
       "      <td>2014-05-15</td>\n",
       "      <td>Named after the port of Tunis, the Tunisian ca...</td>\n",
       "      <td>La Goulette</td>\n",
       "      <td>1</td>\n",
       "      <td>0.203969</td>\n",
       "      <td>0.796031</td>\n",
       "      <td>2014</td>\n",
       "      <td>19590.0</td>\n",
       "      <td>2.0</td>\n",
       "      <td>15.0</td>\n",
       "    </tr>\n",
       "    <tr>\n",
       "      <th>2</th>\n",
       "      <td>19590</td>\n",
       "      <td>654</td>\n",
       "      <td>5.0</td>\n",
       "      <td>2012-05-27</td>\n",
       "      <td>This is my third time coming here and i am onc...</td>\n",
       "      <td>Go! Go! Curry!</td>\n",
       "      <td>1</td>\n",
       "      <td>0.478470</td>\n",
       "      <td>0.521530</td>\n",
       "      <td>2012</td>\n",
       "      <td>19590.0</td>\n",
       "      <td>2.0</td>\n",
       "      <td>15.0</td>\n",
       "    </tr>\n",
       "    <tr>\n",
       "      <th>3</th>\n",
       "      <td>19590</td>\n",
       "      <td>228</td>\n",
       "      <td>4.0</td>\n",
       "      <td>2014-01-01</td>\n",
       "      <td>A dive bar!  I didn't have any expectations up...</td>\n",
       "      <td>The Levee</td>\n",
       "      <td>1</td>\n",
       "      <td>0.489924</td>\n",
       "      <td>0.510076</td>\n",
       "      <td>2014</td>\n",
       "      <td>19590.0</td>\n",
       "      <td>2.0</td>\n",
       "      <td>15.0</td>\n",
       "    </tr>\n",
       "    <tr>\n",
       "      <th>4</th>\n",
       "      <td>19590</td>\n",
       "      <td>676</td>\n",
       "      <td>5.0</td>\n",
       "      <td>2012-12-14</td>\n",
       "      <td>I visited this Shack which opened not very lon...</td>\n",
       "      <td>Shake Shack</td>\n",
       "      <td>1</td>\n",
       "      <td>0.596447</td>\n",
       "      <td>0.403553</td>\n",
       "      <td>2012</td>\n",
       "      <td>19590.0</td>\n",
       "      <td>2.0</td>\n",
       "      <td>15.0</td>\n",
       "    </tr>\n",
       "  </tbody>\n",
       "</table>\n",
       "</div>"
      ],
      "text/plain": [
       "   user_id  prod_id  rating        date  \\\n",
       "0    19590      668     5.0  2013-09-17   \n",
       "1    19590      347     5.0  2014-05-15   \n",
       "2    19590      654     5.0  2012-05-27   \n",
       "3    19590      228     4.0  2014-01-01   \n",
       "4    19590      676     5.0  2012-12-14   \n",
       "\n",
       "                                              review            name  target  \\\n",
       "0  I had waited to return a couple other times to...      Eataly NYC       1   \n",
       "1  Named after the port of Tunis, the Tunisian ca...     La Goulette       1   \n",
       "2  This is my third time coming here and i am onc...  Go! Go! Curry!       1   \n",
       "3  A dive bar!  I didn't have any expectations up...       The Levee       1   \n",
       "4  I visited this Shack which opened not very lon...     Shake Shack       1   \n",
       "\n",
       "          0         1  year    users  act_len  rev_count  \n",
       "0  0.525403  0.474597  2013  19590.0      2.0       15.0  \n",
       "1  0.203969  0.796031  2014  19590.0      2.0       15.0  \n",
       "2  0.478470  0.521530  2012  19590.0      2.0       15.0  \n",
       "3  0.489924  0.510076  2014  19590.0      2.0       15.0  \n",
       "4  0.596447  0.403553  2012  19590.0      2.0       15.0  "
      ]
     },
     "execution_count": 41,
     "metadata": {},
     "output_type": "execute_result"
    }
   ],
   "source": [
    "Restaurants_w_features_df = pd.merge(r_df,user_info_df,how='outer' ,left_on = \"user_id\",right_on = 'users')\n",
    "Restaurants_w_features_df.head()"
   ]
  },
  {
   "cell_type": "code",
   "execution_count": 42,
   "id": "933c7590-1917-4374-b8b3-6cb3891354f1",
   "metadata": {},
   "outputs": [],
   "source": [
    "Restaurants_w_features_df['review_tokenized'] = Restaurants_w_features_df['review'].apply(cf.tokenize_text)"
   ]
  },
  {
   "cell_type": "code",
   "execution_count": 43,
   "id": "21bc68af-03d9-460a-bdc1-cf76cd28e757",
   "metadata": {},
   "outputs": [
    {
     "data": {
      "text/html": [
       "<div>\n",
       "<style scoped>\n",
       "    .dataframe tbody tr th:only-of-type {\n",
       "        vertical-align: middle;\n",
       "    }\n",
       "\n",
       "    .dataframe tbody tr th {\n",
       "        vertical-align: top;\n",
       "    }\n",
       "\n",
       "    .dataframe thead th {\n",
       "        text-align: right;\n",
       "    }\n",
       "</style>\n",
       "<table border=\"1\" class=\"dataframe\">\n",
       "  <thead>\n",
       "    <tr style=\"text-align: right;\">\n",
       "      <th></th>\n",
       "      <th>user_id</th>\n",
       "      <th>prod_id</th>\n",
       "      <th>rating</th>\n",
       "      <th>date</th>\n",
       "      <th>review</th>\n",
       "      <th>name</th>\n",
       "      <th>target</th>\n",
       "      <th>0</th>\n",
       "      <th>1</th>\n",
       "      <th>year</th>\n",
       "      <th>users</th>\n",
       "      <th>act_len</th>\n",
       "      <th>rev_count</th>\n",
       "      <th>review_tokenized</th>\n",
       "    </tr>\n",
       "  </thead>\n",
       "  <tbody>\n",
       "    <tr>\n",
       "      <th>0</th>\n",
       "      <td>19590</td>\n",
       "      <td>668</td>\n",
       "      <td>5.0</td>\n",
       "      <td>2013-09-17</td>\n",
       "      <td>I had waited to return a couple other times to...</td>\n",
       "      <td>Eataly NYC</td>\n",
       "      <td>1</td>\n",
       "      <td>0.525403</td>\n",
       "      <td>0.474597</td>\n",
       "      <td>2013</td>\n",
       "      <td>19590.0</td>\n",
       "      <td>2.0</td>\n",
       "      <td>15.0</td>\n",
       "      <td>[i, had, waited, to, return, a, couple, other,...</td>\n",
       "    </tr>\n",
       "    <tr>\n",
       "      <th>1</th>\n",
       "      <td>19590</td>\n",
       "      <td>347</td>\n",
       "      <td>5.0</td>\n",
       "      <td>2014-05-15</td>\n",
       "      <td>Named after the port of Tunis, the Tunisian ca...</td>\n",
       "      <td>La Goulette</td>\n",
       "      <td>1</td>\n",
       "      <td>0.203969</td>\n",
       "      <td>0.796031</td>\n",
       "      <td>2014</td>\n",
       "      <td>19590.0</td>\n",
       "      <td>2.0</td>\n",
       "      <td>15.0</td>\n",
       "      <td>[named, after, the, port, of, tunis, the, tuni...</td>\n",
       "    </tr>\n",
       "    <tr>\n",
       "      <th>2</th>\n",
       "      <td>19590</td>\n",
       "      <td>654</td>\n",
       "      <td>5.0</td>\n",
       "      <td>2012-05-27</td>\n",
       "      <td>This is my third time coming here and i am onc...</td>\n",
       "      <td>Go! Go! Curry!</td>\n",
       "      <td>1</td>\n",
       "      <td>0.478470</td>\n",
       "      <td>0.521530</td>\n",
       "      <td>2012</td>\n",
       "      <td>19590.0</td>\n",
       "      <td>2.0</td>\n",
       "      <td>15.0</td>\n",
       "      <td>[this, is, my, third, time, coming, here, and,...</td>\n",
       "    </tr>\n",
       "    <tr>\n",
       "      <th>3</th>\n",
       "      <td>19590</td>\n",
       "      <td>228</td>\n",
       "      <td>4.0</td>\n",
       "      <td>2014-01-01</td>\n",
       "      <td>A dive bar!  I didn't have any expectations up...</td>\n",
       "      <td>The Levee</td>\n",
       "      <td>1</td>\n",
       "      <td>0.489924</td>\n",
       "      <td>0.510076</td>\n",
       "      <td>2014</td>\n",
       "      <td>19590.0</td>\n",
       "      <td>2.0</td>\n",
       "      <td>15.0</td>\n",
       "      <td>[a, dive, bar, i, didnt, have, any, expectatio...</td>\n",
       "    </tr>\n",
       "    <tr>\n",
       "      <th>4</th>\n",
       "      <td>19590</td>\n",
       "      <td>676</td>\n",
       "      <td>5.0</td>\n",
       "      <td>2012-12-14</td>\n",
       "      <td>I visited this Shack which opened not very lon...</td>\n",
       "      <td>Shake Shack</td>\n",
       "      <td>1</td>\n",
       "      <td>0.596447</td>\n",
       "      <td>0.403553</td>\n",
       "      <td>2012</td>\n",
       "      <td>19590.0</td>\n",
       "      <td>2.0</td>\n",
       "      <td>15.0</td>\n",
       "      <td>[i, visited, this, shack, which, opened, not, ...</td>\n",
       "    </tr>\n",
       "  </tbody>\n",
       "</table>\n",
       "</div>"
      ],
      "text/plain": [
       "   user_id  prod_id  rating        date  \\\n",
       "0    19590      668     5.0  2013-09-17   \n",
       "1    19590      347     5.0  2014-05-15   \n",
       "2    19590      654     5.0  2012-05-27   \n",
       "3    19590      228     4.0  2014-01-01   \n",
       "4    19590      676     5.0  2012-12-14   \n",
       "\n",
       "                                              review            name  target  \\\n",
       "0  I had waited to return a couple other times to...      Eataly NYC       1   \n",
       "1  Named after the port of Tunis, the Tunisian ca...     La Goulette       1   \n",
       "2  This is my third time coming here and i am onc...  Go! Go! Curry!       1   \n",
       "3  A dive bar!  I didn't have any expectations up...       The Levee       1   \n",
       "4  I visited this Shack which opened not very lon...     Shake Shack       1   \n",
       "\n",
       "          0         1  year    users  act_len  rev_count  \\\n",
       "0  0.525403  0.474597  2013  19590.0      2.0       15.0   \n",
       "1  0.203969  0.796031  2014  19590.0      2.0       15.0   \n",
       "2  0.478470  0.521530  2012  19590.0      2.0       15.0   \n",
       "3  0.489924  0.510076  2014  19590.0      2.0       15.0   \n",
       "4  0.596447  0.403553  2012  19590.0      2.0       15.0   \n",
       "\n",
       "                                    review_tokenized  \n",
       "0  [i, had, waited, to, return, a, couple, other,...  \n",
       "1  [named, after, the, port, of, tunis, the, tuni...  \n",
       "2  [this, is, my, third, time, coming, here, and,...  \n",
       "3  [a, dive, bar, i, didnt, have, any, expectatio...  \n",
       "4  [i, visited, this, shack, which, opened, not, ...  "
      ]
     },
     "execution_count": 43,
     "metadata": {},
     "output_type": "execute_result"
    }
   ],
   "source": [
    "Restaurants_w_features_df.head()"
   ]
  },
  {
   "cell_type": "markdown",
   "id": "5f411559-666c-4d79-bd97-1561a87f6a7c",
   "metadata": {},
   "source": [
    "#### Since the probability of 0 and 1 is directly correlated with oneanother, the probability of 0 was removed along with other features that are not used for analysis."
   ]
  },
  {
   "cell_type": "code",
   "execution_count": 44,
   "id": "bd18ecfb-bd7d-4c50-bba7-bc016ea7483e",
   "metadata": {},
   "outputs": [],
   "source": [
    "rest_w_feat_df = Restaurants_w_features_df.drop(['user_id','prod_id','date','review','name','0','users','review_tokenized','year'],axis = 1)"
   ]
  },
  {
   "cell_type": "code",
   "execution_count": 45,
   "id": "2a3f87b4-6be8-4bd9-8470-4383f23dd8de",
   "metadata": {},
   "outputs": [],
   "source": [
    "rest_w_feat_df.dropna(inplace = True)"
   ]
  },
  {
   "cell_type": "code",
   "execution_count": 46,
   "id": "d69d43fa-40aa-4416-9985-42d20f9f20d8",
   "metadata": {},
   "outputs": [
    {
     "data": {
      "text/html": [
       "<div>\n",
       "<style scoped>\n",
       "    .dataframe tbody tr th:only-of-type {\n",
       "        vertical-align: middle;\n",
       "    }\n",
       "\n",
       "    .dataframe tbody tr th {\n",
       "        vertical-align: top;\n",
       "    }\n",
       "\n",
       "    .dataframe thead th {\n",
       "        text-align: right;\n",
       "    }\n",
       "</style>\n",
       "<table border=\"1\" class=\"dataframe\">\n",
       "  <thead>\n",
       "    <tr style=\"text-align: right;\">\n",
       "      <th></th>\n",
       "      <th>rating</th>\n",
       "      <th>target</th>\n",
       "      <th>1</th>\n",
       "      <th>act_len</th>\n",
       "      <th>rev_count</th>\n",
       "    </tr>\n",
       "  </thead>\n",
       "  <tbody>\n",
       "    <tr>\n",
       "      <th>0</th>\n",
       "      <td>5.0</td>\n",
       "      <td>1</td>\n",
       "      <td>0.474597</td>\n",
       "      <td>2.0</td>\n",
       "      <td>15.0</td>\n",
       "    </tr>\n",
       "    <tr>\n",
       "      <th>1</th>\n",
       "      <td>5.0</td>\n",
       "      <td>1</td>\n",
       "      <td>0.796031</td>\n",
       "      <td>2.0</td>\n",
       "      <td>15.0</td>\n",
       "    </tr>\n",
       "    <tr>\n",
       "      <th>2</th>\n",
       "      <td>5.0</td>\n",
       "      <td>1</td>\n",
       "      <td>0.521530</td>\n",
       "      <td>2.0</td>\n",
       "      <td>15.0</td>\n",
       "    </tr>\n",
       "    <tr>\n",
       "      <th>3</th>\n",
       "      <td>4.0</td>\n",
       "      <td>1</td>\n",
       "      <td>0.510076</td>\n",
       "      <td>2.0</td>\n",
       "      <td>15.0</td>\n",
       "    </tr>\n",
       "    <tr>\n",
       "      <th>4</th>\n",
       "      <td>5.0</td>\n",
       "      <td>1</td>\n",
       "      <td>0.403553</td>\n",
       "      <td>2.0</td>\n",
       "      <td>15.0</td>\n",
       "    </tr>\n",
       "  </tbody>\n",
       "</table>\n",
       "</div>"
      ],
      "text/plain": [
       "   rating  target         1  act_len  rev_count\n",
       "0     5.0       1  0.474597      2.0       15.0\n",
       "1     5.0       1  0.796031      2.0       15.0\n",
       "2     5.0       1  0.521530      2.0       15.0\n",
       "3     4.0       1  0.510076      2.0       15.0\n",
       "4     5.0       1  0.403553      2.0       15.0"
      ]
     },
     "execution_count": 46,
     "metadata": {},
     "output_type": "execute_result"
    }
   ],
   "source": [
    "rest_w_feat_df.head()"
   ]
  },
  {
   "cell_type": "markdown",
   "id": "efa14a2f-4df9-49f6-a2b1-452f5a80ea0d",
   "metadata": {},
   "source": [
    "#### Here the data is sepereated between the one used for analysis and target. A test train split is performed to see how well our model preforms."
   ]
  },
  {
   "cell_type": "code",
   "execution_count": 47,
   "id": "602f032d-22ef-4615-8888-6a5272a9d62e",
   "metadata": {},
   "outputs": [],
   "source": [
    "Feat = rest_w_feat_df.drop('target',axis = 1)\n",
    "target = rest_w_feat_df.target"
   ]
  },
  {
   "cell_type": "code",
   "execution_count": null,
   "id": "ac17bf58-bbb5-413c-9fed-bd5f75dfadbb",
   "metadata": {},
   "outputs": [],
   "source": []
  },
  {
   "cell_type": "code",
   "execution_count": 48,
   "id": "8412ff17-2200-4412-9517-32d178976d15",
   "metadata": {},
   "outputs": [],
   "source": [
    "X_train,X_test,y_train,y_test = train_test_split(Feat,\n",
    "                                                 target,\n",
    "                                                 stratify = target,\n",
    "                                                 random_state = 42)"
   ]
  },
  {
   "cell_type": "markdown",
   "id": "7bdcb4bc-387a-46a7-b437-328ae1162ad1",
   "metadata": {},
   "source": [
    "# Logistic Regression Model"
   ]
  },
  {
   "cell_type": "code",
   "execution_count": 49,
   "id": "be6e9aec-322d-4f81-b45f-b3255d23f50b",
   "metadata": {},
   "outputs": [],
   "source": []
  },
  {
   "cell_type": "code",
   "execution_count": 50,
   "id": "c3a5709b-cd41-4cbb-85e2-d2ab690c1632",
   "metadata": {},
   "outputs": [],
   "source": [
    "clf = LogisticRegression()"
   ]
  },
  {
   "cell_type": "code",
   "execution_count": 51,
   "id": "eb933440-2c3e-4fd7-a4c1-35b496ac8622",
   "metadata": {},
   "outputs": [
    {
     "name": "stdout",
     "output_type": "stream",
     "text": [
      "Train score 0.8976118005151018\n"
     ]
    },
    {
     "data": {
      "image/png": "[encoded data removed]",
      "text/plain": [
       "<Figure size 432x288 with 2 Axes>"
      ]
     },
     "metadata": {
      "needs_background": "light"
     },
     "output_type": "display_data"
    }
   ],
   "source": [
    "cf.score(clf, X= X_train, y= y_train)"
   ]
  },
  {
   "cell_type": "code",
   "execution_count": 52,
   "id": "3ad427f5-7edd-4e2e-803e-097308eee0e8",
   "metadata": {},
   "outputs": [
    {
     "name": "stdout",
     "output_type": "stream",
     "text": [
      "Test score 0.8976065464379159\n"
     ]
    },
    {
     "data": {
      "image/png": "[encoded data removed]",
      "text/plain": [
       "<Figure size 432x288 with 2 Axes>"
      ]
     },
     "metadata": {
      "needs_background": "light"
     },
     "output_type": "display_data"
    }
   ],
   "source": [
    "cf.score(clf,X = X_test, y = y_test, text = 'Test')"
   ]
  },
  {
   "cell_type": "markdown",
   "id": "5994d744-16ba-45ad-8529-dc3e9f99207a",
   "metadata": {},
   "source": [
    "# Logistic Regression Model with Smote"
   ]
  },
  {
   "cell_type": "code",
   "execution_count": 59,
   "id": "ea064b1f-95a9-43e9-ac18-1b8dde7893cb",
   "metadata": {},
   "outputs": [],
   "source": [
    "clf_smote =Pipeline([\n",
    "       ('smote', SMOTE(random_state=42)),\n",
    "       ('clf', clf)])"
   ]
  },
  {
   "cell_type": "code",
   "execution_count": 60,
   "id": "6da2b345-b3bf-4bd6-b820-0d3a7e4e4b5b",
   "metadata": {},
   "outputs": [
    {
     "name": "stdout",
     "output_type": "stream",
     "text": [
      "Train score 0.5272594240224772\n"
     ]
    },
    {
     "data": {
      "image/png": "[encoded data removed]",
      "text/plain": [
       "<Figure size 432x288 with 2 Axes>"
      ]
     },
     "metadata": {
      "needs_background": "light"
     },
     "output_type": "display_data"
    }
   ],
   "source": [
    "cf.score(clf_smote,X = X_train, y = y_train)"
   ]
  },
  {
   "cell_type": "code",
   "execution_count": 61,
   "id": "17e721e2-eada-4a5f-a46d-f25e2e073b5c",
   "metadata": {},
   "outputs": [
    {
     "name": "stdout",
     "output_type": "stream",
     "text": [
      "Test score 0.5355330394928618\n"
     ]
    },
    {
     "data": {
      "image/png": "[encoded data removed]",
      "text/plain": [
       "<Figure size 432x288 with 2 Axes>"
      ]
     },
     "metadata": {
      "needs_background": "light"
     },
     "output_type": "display_data"
    }
   ],
   "source": [
    "cf.score(clf_smote,X = X_test, y = y_test, text = 'Test')"
   ]
  },
  {
   "cell_type": "markdown",
   "id": "cf339f72-9f3d-42e7-8755-9b05b0a7c9bc",
   "metadata": {},
   "source": [
    "# Random Forest Model"
   ]
  },
  {
   "cell_type": "code",
   "execution_count": 67,
   "id": "9f67c23e-f5f1-4dbd-89df-9353173d4e10",
   "metadata": {},
   "outputs": [],
   "source": [
    "rf_pipe =Pipeline([\n",
    "       ('rf', RandomForestClassifier(max_depth=2, random_state=0))])"
   ]
  },
  {
   "cell_type": "code",
   "execution_count": 68,
   "id": "0825ad1a-340f-44d4-83ab-372f9b1151c8",
   "metadata": {},
   "outputs": [
    {
     "name": "stdout",
     "output_type": "stream",
     "text": [
      "Train score 0.8976118005151018\n"
     ]
    },
    {
     "data": {
      "image/png": "[encoded data removed]",
      "text/plain": [
       "<Figure size 432x288 with 2 Axes>"
      ]
     },
     "metadata": {
      "needs_background": "light"
     },
     "output_type": "display_data"
    }
   ],
   "source": [
    "cf.score(rf_pipe,X= X_train, y= y_train)"
   ]
  },
  {
   "cell_type": "code",
   "execution_count": 69,
   "id": "bfd7e8f0-e886-401a-8af8-20db779c33c0",
   "metadata": {},
   "outputs": [
    {
     "name": "stdout",
     "output_type": "stream",
     "text": [
      "Test score 0.8976065464379159\n"
     ]
    },
    {
     "data": {
      "image/png": "[encoded data removed]",
      "text/plain": [
       "<Figure size 432x288 with 2 Axes>"
      ]
     },
     "metadata": {
      "needs_background": "light"
     },
     "output_type": "display_data"
    }
   ],
   "source": [
    "cf.score(rf_pipe,X = X_test, y = y_test, text = 'Test')"
   ]
  },
  {
   "cell_type": "markdown",
   "id": "ec4e41ef-8dee-477f-b0e4-cea52158b2eb",
   "metadata": {},
   "source": [
    "# Random Forest with Smote"
   ]
  },
  {
   "cell_type": "code",
   "execution_count": 73,
   "id": "244a32a0-97bc-41b3-bfbe-5f0483813ea9",
   "metadata": {},
   "outputs": [],
   "source": [
    "rf_sm =Pipeline([\n",
    "       ('smote', SMOTE(random_state=42)),\n",
    "       ('rf', RandomForestClassifier(max_depth=2, random_state=0))])"
   ]
  },
  {
   "cell_type": "code",
   "execution_count": 74,
   "id": "d12919d8-9487-4d68-b8d7-8306449791cf",
   "metadata": {},
   "outputs": [
    {
     "name": "stdout",
     "output_type": "stream",
     "text": [
      "Train score 0.6051861390774994\n"
     ]
    },
    {
     "data": {
      "image/png": "[encoded data removed]",
      "text/plain": [
       "<Figure size 432x288 with 2 Axes>"
      ]
     },
     "metadata": {
      "needs_background": "light"
     },
     "output_type": "display_data"
    }
   ],
   "source": [
    "cf.score(rf_sm,X= X_train, y= y_train)"
   ]
  },
  {
   "cell_type": "code",
   "execution_count": 75,
   "id": "a7c0e3a3-3238-4004-b7b7-e3483192e2e6",
   "metadata": {},
   "outputs": [
    {
     "name": "stdout",
     "output_type": "stream",
     "text": [
      "Test score 0.6107433227386868\n"
     ]
    },
    {
     "data": {
      "image/png": "[encoded data removed]",
      "text/plain": [
       "<Figure size 432x288 with 2 Axes>"
      ]
     },
     "metadata": {
      "needs_background": "light"
     },
     "output_type": "display_data"
    }
   ],
   "source": [
    "cf.score(rf_sm,X = X_test, y = y_test, text = 'Test')"
   ]
  },
  {
   "cell_type": "markdown",
   "id": "f7aafffc-52a4-4b5e-b3e6-8c58d1c84c3a",
   "metadata": {},
   "source": [
    "# Naive Bayes with Smote"
   ]
  },
  {
   "cell_type": "code",
   "execution_count": 80,
   "id": "2b063c83-fcf5-4dfc-991a-0123d845e3cb",
   "metadata": {},
   "outputs": [],
   "source": [
    "text_nb =Pipeline([\n",
    "       ('smote', SMOTE(random_state=42)),\n",
    "       ('nb', naive_bayes.MultinomialNB())])"
   ]
  },
  {
   "cell_type": "code",
   "execution_count": 81,
   "id": "d80fb111-251f-48a5-befd-639359fa05ad",
   "metadata": {},
   "outputs": [
    {
     "name": "stdout",
     "output_type": "stream",
     "text": [
      "Train score 0.5221727932568485\n"
     ]
    },
    {
     "data": {
      "image/png": "[encoded data removed]",
      "text/plain": [
       "<Figure size 432x288 with 2 Axes>"
      ]
     },
     "metadata": {
      "needs_background": "light"
     },
     "output_type": "display_data"
    }
   ],
   "source": [
    "cf.score(text_nb,X= X_train, y= y_train)"
   ]
  },
  {
   "cell_type": "code",
   "execution_count": 82,
   "id": "5fbe1ab4-2dfa-423a-baf0-33e068ffbbe4",
   "metadata": {},
   "outputs": [
    {
     "name": "stdout",
     "output_type": "stream",
     "text": [
      "Test score 0.5301420619172212\n"
     ]
    },
    {
     "data": {
      "image/png": "[encoded data removed]",
      "text/plain": [
       "<Figure size 432x288 with 2 Axes>"
      ]
     },
     "metadata": {
      "needs_background": "light"
     },
     "output_type": "display_data"
    }
   ],
   "source": [
    "cf.score(text_nb,X = X_test, y = y_test, text = 'Test')"
   ]
  }
 ],
 "metadata": {
  "kernelspec": {
   "display_name": "general-env",
   "language": "python",
   "name": "general-env"
  },
  "language_info": {
   "codemirror_mode": {
    "name": "ipython",
    "version": 3
   },
   "file_extension": ".py",
   "mimetype": "text/x-python",
   "name": "python",
   "nbconvert_exporter": "python",
   "pygments_lexer": "ipython3",
   "version": "3.9.6"
  }
 },
 "nbformat": 4,
 "nbformat_minor": 5
}
