{
 "cells": [
  {
   "cell_type": "code",
   "execution_count": 1,
   "id": "4aa09f51-c7da-4a54-98ee-a50cbe1594ea",
   "metadata": {},
   "outputs": [],
   "source": [
    "import pandas as pd\n",
    "import numpy as np\n",
    "import re\n",
    "import nltk\n",
    "from nltk.corpus import stopwords\n",
    "\n",
    "from sklearn.feature_extraction.text import CountVectorizer\n",
    "\n",
    "from sklearn.feature_extraction.text import TfidfTransformer, TfidfVectorizer\n",
    "\n",
    "from sklearn.model_selection import train_test_split\n",
    "from tensorflow.keras.preprocessing.text import one_hot\n",
    "\n",
    "\n",
    "from tensorflow.keras.preprocessing.sequence import pad_sequences\n",
    "from tensorflow.keras.layers import Dense, Embedding,GlobalMaxPooling1D\n",
    "from tensorflow.keras.models import Sequential\n",
    "from tensorflow.keras.layers import Dense\n",
    "from tensorflow.keras.layers import Embedding, Conv1D\n",
    "from sklearn.metrics import confusion_matrix\n",
    "from tensorflow.keras.preprocessing.text import Tokenizer\n",
    "\n",
    "import os\n",
    "import zipfile"
   ]
  },
  {
   "cell_type": "code",
   "execution_count": 2,
   "id": "05966679-1e06-49d1-b504-8e37da09a331",
   "metadata": {},
   "outputs": [],
   "source": [
    "#NN custom functions\n",
    "import Tools.NN as nn"
   ]
  },
  {
   "cell_type": "markdown",
   "id": "45e9bc51-01f5-4b05-a503-dd39637acc52",
   "metadata": {},
   "source": [
    "#### Here we load our data once again. WE want to combine the data with the target and removed the unncessary column."
   ]
  },
  {
   "cell_type": "code",
   "execution_count": 3,
   "id": "31fedab4-775e-4975-b566-02fd2777d5ec",
   "metadata": {},
   "outputs": [],
   "source": [
    "df = pd.read_csv('./body')\n",
    "df_target = pd.read_csv('./target')"
   ]
  },
  {
   "cell_type": "code",
   "execution_count": 4,
   "id": "6913addc-02ee-462c-a9ef-05a484b181f3",
   "metadata": {},
   "outputs": [],
   "source": [
    "original_df= df.merge(df_target, on = 'Unnamed: 0')"
   ]
  },
  {
   "cell_type": "code",
   "execution_count": 5,
   "id": "ee0a4a29-99fc-4a9a-8908-7d4d3e55294f",
   "metadata": {},
   "outputs": [],
   "source": [
    "original_df.drop('Unnamed: 0',axis =1 , inplace = True)"
   ]
  },
  {
   "cell_type": "code",
   "execution_count": 6,
   "id": "e28c29fc-c752-4751-868d-9f4a4acc2c27",
   "metadata": {},
   "outputs": [
    {
     "data": {
      "text/html": [
       "<div>\n",
       "<style scoped>\n",
       "    .dataframe tbody tr th:only-of-type {\n",
       "        vertical-align: middle;\n",
       "    }\n",
       "\n",
       "    .dataframe tbody tr th {\n",
       "        vertical-align: top;\n",
       "    }\n",
       "\n",
       "    .dataframe thead th {\n",
       "        text-align: right;\n",
       "    }\n",
       "</style>\n",
       "<table border=\"1\" class=\"dataframe\">\n",
       "  <thead>\n",
       "    <tr style=\"text-align: right;\">\n",
       "      <th></th>\n",
       "      <th>review</th>\n",
       "      <th>target</th>\n",
       "    </tr>\n",
       "  </thead>\n",
       "  <tbody>\n",
       "    <tr>\n",
       "      <th>0</th>\n",
       "      <td>Looking for some authentic Japanese food at re...</td>\n",
       "      <td>1</td>\n",
       "    </tr>\n",
       "    <tr>\n",
       "      <th>1</th>\n",
       "      <td>Pepe Rosso is where you go when you're in SOHO...</td>\n",
       "      <td>1</td>\n",
       "    </tr>\n",
       "    <tr>\n",
       "      <th>2</th>\n",
       "      <td>I had waited to return a couple other times to...</td>\n",
       "      <td>1</td>\n",
       "    </tr>\n",
       "    <tr>\n",
       "      <th>3</th>\n",
       "      <td>This place is always busy - partly because it'...</td>\n",
       "      <td>1</td>\n",
       "    </tr>\n",
       "    <tr>\n",
       "      <th>4</th>\n",
       "      <td>Love this place! I am not a regular yelper I d...</td>\n",
       "      <td>0</td>\n",
       "    </tr>\n",
       "  </tbody>\n",
       "</table>\n",
       "</div>"
      ],
      "text/plain": [
       "                                              review  target\n",
       "0  Looking for some authentic Japanese food at re...       1\n",
       "1  Pepe Rosso is where you go when you're in SOHO...       1\n",
       "2  I had waited to return a couple other times to...       1\n",
       "3  This place is always busy - partly because it'...       1\n",
       "4  Love this place! I am not a regular yelper I d...       0"
      ]
     },
     "execution_count": 6,
     "metadata": {},
     "output_type": "execute_result"
    }
   ],
   "source": [
    "original_df.head()"
   ]
  },
  {
   "cell_type": "markdown",
   "id": "2a13cec2-adb0-42ff-b366-06c3c3f454e6",
   "metadata": {},
   "source": [
    "#### We apply the cleaning function from the custom tools folder then removed the stopwords."
   ]
  },
  {
   "cell_type": "code",
   "execution_count": 7,
   "id": "0d261b9f-0752-4acf-9176-708af4c47aa1",
   "metadata": {},
   "outputs": [],
   "source": [
    "original_df['review'] = original_df['review'].apply(nn.clean_data)"
   ]
  },
  {
   "cell_type": "code",
   "execution_count": 8,
   "id": "ed44b0c8-406c-40d5-ab86-4b41a1dbf619",
   "metadata": {},
   "outputs": [
    {
     "data": {
      "text/plain": [
       "1    256887\n",
       "0     29107\n",
       "Name: target, dtype: int64"
      ]
     },
     "execution_count": 8,
     "metadata": {},
     "output_type": "execute_result"
    }
   ],
   "source": [
    "original_df.target.value_counts()"
   ]
  },
  {
   "cell_type": "code",
   "execution_count": 9,
   "id": "fa11743a-9f05-46a2-b08a-9a1710f42044",
   "metadata": {},
   "outputs": [],
   "source": [
    "#download nltk stopwords in necessary\n",
    "#nltk.download('stopwords')"
   ]
  },
  {
   "cell_type": "code",
   "execution_count": 10,
   "id": "b8c218a9-b85f-4115-acae-a3d640f09c89",
   "metadata": {},
   "outputs": [],
   "source": [
    "original_df['review'] = original_df['review'].apply(nn.remove_stop_words)"
   ]
  },
  {
   "cell_type": "code",
   "execution_count": 11,
   "id": "8b84dca2-ec62-464c-9710-72cd94f19184",
   "metadata": {},
   "outputs": [],
   "source": [
    "corpus = list(original_df['review'])"
   ]
  },
  {
   "cell_type": "markdown",
   "id": "adac21d4-8f45-4f6f-81f7-39a5f5c106d2",
   "metadata": {},
   "source": [
    "#### Here we apply the count vectorizer as well as the TFIDF to the data."
   ]
  },
  {
   "cell_type": "code",
   "execution_count": 12,
   "id": "97970321-4f7b-4986-8253-88db90977964",
   "metadata": {},
   "outputs": [],
   "source": [
    "cv = CountVectorizer(max_features = 1000)\n",
    "X = cv.fit_transform(corpus).toarray()\n",
    "y = original_df['target'].values"
   ]
  },
  {
   "cell_type": "code",
   "execution_count": 13,
   "id": "30df373e-74d1-4471-84ed-25a2af4952eb",
   "metadata": {
    "tags": []
   },
   "outputs": [],
   "source": [
    "#features of the count vectorizers\n",
    "#cv.get_feature_names()"
   ]
  },
  {
   "cell_type": "code",
   "execution_count": 14,
   "id": "f30bc0b1-04dd-4e05-ba04-89a72d22f1ab",
   "metadata": {},
   "outputs": [],
   "source": [
    "tf_transformer = TfidfTransformer()\n",
    "X = tf_transformer.fit_transform(X).toarray()"
   ]
  },
  {
   "cell_type": "code",
   "execution_count": 15,
   "id": "ab32e846-5005-49d9-9e5a-4f87ddc71d4f",
   "metadata": {},
   "outputs": [],
   "source": [
    "\n",
    "tfidfVectorizer = TfidfVectorizer(max_features =1000)\n",
    "X = tfidfVectorizer.fit_transform(corpus).toarray()"
   ]
  },
  {
   "cell_type": "code",
   "execution_count": 16,
   "id": "0e26d4eb-b182-4d34-b716-43bd8bd70942",
   "metadata": {},
   "outputs": [],
   "source": [
    "docs = original_df['review']\n",
    "labels = original_df['target']\n",
    "X_train, X_test , y_train, y_test = train_test_split(docs, labels , random_state = 42, stratify = labels)"
   ]
  },
  {
   "cell_type": "markdown",
   "id": "b866cb81-9e70-4754-8945-89f58e96fd0b",
   "metadata": {},
   "source": [
    "#### We transform the data into a form to be used in neural network"
   ]
  },
  {
   "cell_type": "code",
   "execution_count": 17,
   "id": "224c22ae-a469-4752-966d-f55074fbd6ad",
   "metadata": {},
   "outputs": [],
   "source": [
    "vocab_size = 5000\n",
    "\n",
    "X_train = [one_hot(d, vocab_size,filters='!\"#$%&()*+,-./:;<=>?@[\\]^_`{|}~',lower=True, split=' ') for d in X_train]\n",
    "X_test = [one_hot(d, vocab_size,filters='!\"#$%&()*+,-./:;<=>?@[\\]^_`{|}~',lower=True, split=' ') for d in X_test]"
   ]
  },
  {
   "cell_type": "code",
   "execution_count": 18,
   "id": "486af7a8-dac6-40fa-b4e5-dfaea77d817d",
   "metadata": {},
   "outputs": [],
   "source": [
    "\n",
    "max_length = 100\n",
    "X_train = pad_sequences(X_train, maxlen=max_length, padding='post')\n",
    "X_test = pad_sequences(X_test, maxlen=max_length, padding='post')"
   ]
  },
  {
   "cell_type": "markdown",
   "id": "6b14dcfb-d06c-4e93-95d9-ba8bfadfe200",
   "metadata": {},
   "source": [
    "#### We run a model with some randomly chosen parameters. We see that the training data scored a 94 while the test data was about 84. This shows that the data is overfit and needs to be adjusted."
   ]
  },
  {
   "cell_type": "code",
   "execution_count": 19,
   "id": "851fdd99-2b20-467a-99e6-3c3d00b44d50",
   "metadata": {},
   "outputs": [],
   "source": [
    "\n",
    "model1 = Sequential([\n",
    "    Embedding(vocab_size, 8, input_length=max_length),\n",
    "   Conv1D(128, 5, activation='relu'),\n",
    "    GlobalMaxPooling1D(),\n",
    "  Dense(10, activation='relu'),\n",
    "  Dense(1, activation='sigmoid')\n",
    "])"
   ]
  },
  {
   "cell_type": "code",
   "execution_count": 20,
   "id": "0e5a5002-9686-461e-a71d-a7d757e587ee",
   "metadata": {},
   "outputs": [],
   "source": [
    "model1.compile(optimizer='adam', loss='binary_crossentropy', metrics=['acc'])"
   ]
  },
  {
   "cell_type": "code",
   "execution_count": 21,
   "id": "58a2c7c1-cfbc-4545-9468-bf3b316fcdd3",
   "metadata": {},
   "outputs": [
    {
     "name": "stdout",
     "output_type": "stream",
     "text": [
      "Epoch 1/20\n",
      "6703/6703 [==============================] - 101s 15ms/step - loss: 0.3214 - acc: 0.8980 - val_loss: 0.3044 - val_acc: 0.8982\n",
      "Epoch 2/20\n",
      "6703/6703 [==============================] - 87s 13ms/step - loss: 0.2974 - acc: 0.8983 - val_loss: 0.3063 - val_acc: 0.8982\n",
      "Epoch 3/20\n",
      "6703/6703 [==============================] - 80s 12ms/step - loss: 0.2882 - acc: 0.8985 - val_loss: 0.3089 - val_acc: 0.8976\n",
      "Epoch 4/20\n",
      "6703/6703 [==============================] - 83s 12ms/step - loss: 0.2767 - acc: 0.8986 - val_loss: 0.3197 - val_acc: 0.8956\n",
      "Epoch 5/20\n",
      "6703/6703 [==============================] - 73s 11ms/step - loss: 0.2625 - acc: 0.8997 - val_loss: 0.3277 - val_acc: 0.8958\n",
      "Epoch 6/20\n",
      "6703/6703 [==============================] - 71s 11ms/step - loss: 0.2482 - acc: 0.9016 - val_loss: 0.3406 - val_acc: 0.8926\n",
      "Epoch 7/20\n",
      "6703/6703 [==============================] - 74s 11ms/step - loss: 0.2377 - acc: 0.9051 - val_loss: 0.3507 - val_acc: 0.8879\n",
      "Epoch 8/20\n",
      "6703/6703 [==============================] - 78s 12ms/step - loss: 0.2271 - acc: 0.9080 - val_loss: 0.3692 - val_acc: 0.8853\n",
      "Epoch 9/20\n",
      "6703/6703 [==============================] - 75s 11ms/step - loss: 0.2182 - acc: 0.9110 - val_loss: 0.3756 - val_acc: 0.8791\n",
      "Epoch 10/20\n",
      "6703/6703 [==============================] - 74s 11ms/step - loss: 0.2083 - acc: 0.9153 - val_loss: 0.3884 - val_acc: 0.8639\n",
      "Epoch 11/20\n",
      "6703/6703 [==============================] - 73s 11ms/step - loss: 0.2030 - acc: 0.9169 - val_loss: 0.4139 - val_acc: 0.8743\n",
      "Epoch 12/20\n",
      "6703/6703 [==============================] - 74s 11ms/step - loss: 0.1969 - acc: 0.9189 - val_loss: 0.4331 - val_acc: 0.8795\n",
      "Epoch 13/20\n",
      "6703/6703 [==============================] - 70s 10ms/step - loss: 0.1896 - acc: 0.9223 - val_loss: 0.4501 - val_acc: 0.8703\n",
      "Epoch 14/20\n",
      "6703/6703 [==============================] - 77s 11ms/step - loss: 0.1830 - acc: 0.9249 - val_loss: 0.4501 - val_acc: 0.8514\n",
      "Epoch 15/20\n",
      "6703/6703 [==============================] - 72s 11ms/step - loss: 0.1781 - acc: 0.9269 - val_loss: 0.4661 - val_acc: 0.8478\n",
      "Epoch 16/20\n",
      "6703/6703 [==============================] - 67s 10ms/step - loss: 0.1729 - acc: 0.9292 - val_loss: 0.4963 - val_acc: 0.8583\n",
      "Epoch 17/20\n",
      "6703/6703 [==============================] - 67s 10ms/step - loss: 0.1702 - acc: 0.9303 - val_loss: 0.4884 - val_acc: 0.8397\n",
      "Epoch 18/20\n",
      "6703/6703 [==============================] - 66s 10ms/step - loss: 0.1658 - acc: 0.9319 - val_loss: 0.5118 - val_acc: 0.8546\n",
      "Epoch 19/20\n",
      "6703/6703 [==============================] - 68s 10ms/step - loss: 0.1617 - acc: 0.9338 - val_loss: 0.5262 - val_acc: 0.8496\n",
      "Epoch 20/20\n",
      "6703/6703 [==============================] - 69s 10ms/step - loss: 0.1582 - acc: 0.9353 - val_loss: 0.5484 - val_acc: 0.8549\n"
     ]
    }
   ],
   "source": [
    "history1 = model1.fit(X_train, y_train, epochs=20, validation_data=(X_test, y_test))"
   ]
  },
  {
   "cell_type": "code",
   "execution_count": 22,
   "id": "505d63f2-6cb9-4b31-8a35-06b60ef668f9",
   "metadata": {},
   "outputs": [
    {
     "name": "stdout",
     "output_type": "stream",
     "text": [
      "6703/6703 [==============================] - 23s 3ms/step - loss: 0.1414 - acc: 0.9438\n",
      "Training Accuracy is 94.37609314918518 \n"
     ]
    }
   ],
   "source": [
    "loss, accuracy = model1.evaluate(X_train,y_train)\n",
    "print('Training Accuracy is {} '.format(accuracy*100))"
   ]
  },
  {
   "cell_type": "code",
   "execution_count": 23,
   "id": "79561e09-7821-4beb-9b56-76e82f571fe5",
   "metadata": {},
   "outputs": [
    {
     "name": "stdout",
     "output_type": "stream",
     "text": [
      "2235/2235 [==============================] - 8s 4ms/step - loss: 0.5484 - acc: 0.8549\n",
      "Testing Accuracy is 85.49070358276367 \n"
     ]
    }
   ],
   "source": [
    "loss, accuracy = model1.evaluate(X_test,y_test)\n",
    "print('Testing Accuracy is {} '.format(accuracy*100))"
   ]
  },
  {
   "cell_type": "code",
   "execution_count": 24,
   "id": "38f5ef1c-c912-41fc-9f5b-43c8f1d10fc9",
   "metadata": {},
   "outputs": [],
   "source": [
    "y_pred_train = model1.predict(X_train)"
   ]
  },
  {
   "cell_type": "code",
   "execution_count": 25,
   "id": "4d94f751-6e79-4dfd-ae2a-aaa05769fd99",
   "metadata": {},
   "outputs": [],
   "source": [
    "rounded_train = [round(x[0]) for x in y_pred_train]"
   ]
  },
  {
   "cell_type": "code",
   "execution_count": 26,
   "id": "07b9fea8-11c5-46cf-be5e-e3df26679430",
   "metadata": {},
   "outputs": [
    {
     "data": {
      "text/plain": [
       "array([[ 12252,   9578],\n",
       "       [  2485, 190180]])"
      ]
     },
     "execution_count": 26,
     "metadata": {},
     "output_type": "execute_result"
    }
   ],
   "source": [
    "confusion_matrix(y_train, rounded_train)"
   ]
  },
  {
   "cell_type": "code",
   "execution_count": 27,
   "id": "516e4a80-a3c8-416a-9a0c-3647be18bb5e",
   "metadata": {},
   "outputs": [],
   "source": [
    "y_pred = model1.predict(X_test)"
   ]
  },
  {
   "cell_type": "code",
   "execution_count": 28,
   "id": "b53f93e5-5877-4433-9036-46b5bbe00689",
   "metadata": {},
   "outputs": [],
   "source": [
    "rounded = [round(x[0]) for x in y_pred]"
   ]
  },
  {
   "cell_type": "code",
   "execution_count": 29,
   "id": "1aa78065-7104-4096-9c9f-fb3a3e9bce9a",
   "metadata": {},
   "outputs": [
    {
     "data": {
      "text/plain": [
       "array([[  779,  6498],\n",
       "       [ 3876, 60346]])"
      ]
     },
     "execution_count": 29,
     "metadata": {},
     "output_type": "execute_result"
    }
   ],
   "source": [
    "confusion_matrix(y_test, rounded)"
   ]
  },
  {
   "cell_type": "markdown",
   "id": "b2d02ad6-354f-4b98-b6c9-5e82808861eb",
   "metadata": {},
   "source": [
    "# Sequential Model"
   ]
  },
  {
   "cell_type": "markdown",
   "id": "815119a1-4941-4610-89c9-2e91b819e9d6",
   "metadata": {},
   "source": [
    "#### Next we want to create a more complicated model and see how well it performs. While this model did perform slightly better at 89% accuracy, this model took nearly 10 times the time it took to run. Comparting this model to a tuned simplifed model, this was not worth it (see Notebook 6) "
   ]
  },
  {
   "cell_type": "code",
   "execution_count": 30,
   "id": "7a3cadba-694c-4b4b-9941-af6b5edd4287",
   "metadata": {},
   "outputs": [],
   "source": [
    "X1 = original_df['review']\n",
    "y1 = original_df['target']\n",
    "from sklearn.model_selection import train_test_split\n",
    "X_train1, X_test1 , y_train1, y_test1 = train_test_split(X1, y1 , test_size = 0.20)"
   ]
  },
  {
   "cell_type": "code",
   "execution_count": 31,
   "id": "518e3f30-1ff3-45a8-8790-ce4f21422e11",
   "metadata": {},
   "outputs": [],
   "source": [
    "\n",
    "vocab_size = 5000\n",
    "oov_token = \"<OOV>\"\n",
    "tokenizer = Tokenizer(num_words = vocab_size, oov_token=oov_token)\n",
    "tokenizer.fit_on_texts(X_train1)"
   ]
  },
  {
   "cell_type": "code",
   "execution_count": 32,
   "id": "e2404b81-7c7d-4b4d-8334-e203a4b97408",
   "metadata": {},
   "outputs": [],
   "source": [
    "X_train_sequences = tokenizer.texts_to_sequences(X_train1)\n",
    "X_test_sequences = tokenizer.texts_to_sequences(X_test1)"
   ]
  },
  {
   "cell_type": "code",
   "execution_count": 33,
   "id": "1fe95da9-fee4-4b06-9f6e-3f09ba4feb47",
   "metadata": {},
   "outputs": [],
   "source": [
    "max_length = 100\n",
    "padding_type = \"post\"\n",
    "trunction_type=\"post\"\n",
    "X_train_padded = pad_sequences(X_train_sequences,maxlen=max_length, padding=padding_type,\n",
    "                       truncating=trunction_type)\n",
    "X_test_padded = pad_sequences(X_test_sequences,maxlen=max_length,\n",
    "                               padding=padding_type, truncating=trunction_type)"
   ]
  },
  {
   "cell_type": "code",
   "execution_count": 34,
   "id": "1cf591c3-4c7a-4540-8271-5e59b61716b2",
   "metadata": {},
   "outputs": [],
   "source": [
    "with zipfile.ZipFile('./glove.6B.zip', 'r') as zip_ref:\n",
    "    zip_ref.extractall('/tmp/glove')"
   ]
  },
  {
   "cell_type": "code",
   "execution_count": 35,
   "id": "36e9175f-203f-467d-9472-f303c4318fea",
   "metadata": {},
   "outputs": [
    {
     "name": "stdout",
     "output_type": "stream",
     "text": [
      "Found 400000 word vectors.\n"
     ]
    }
   ],
   "source": [
    "embeddings_index = {}\n",
    "f = open('/tmp/glove/glove.6B.100d.txt')\n",
    "for line in f:\n",
    "    values = line.split()\n",
    "    word = values[0]\n",
    "    coefs = np.asarray(values[1:], dtype='float32')\n",
    "    embeddings_index[word] = coefs\n",
    "f.close()\n",
    "\n",
    "print('Found %s word vectors.' % len(embeddings_index))"
   ]
  },
  {
   "cell_type": "code",
   "execution_count": 36,
   "id": "c946699c-437f-4705-a938-f6412a770bc6",
   "metadata": {},
   "outputs": [
    {
     "data": {
      "text/plain": [
       "array([-0.85034  ,  0.33358  , -0.65889  , -0.49871  ,  0.36585  ,\n",
       "       -0.19245  ,  0.25658  , -0.053408 ,  0.31474  ,  0.2443   ,\n",
       "        0.29337  , -0.44917  ,  0.15175  ,  0.39314  , -0.31786  ,\n",
       "        0.060525 ,  0.81775  , -0.38847  ,  0.76761  , -1.1041   ,\n",
       "       -0.1544   ,  0.31655  , -0.37238  , -0.11485  ,  0.51635  ,\n",
       "       -0.39289  ,  0.16301  , -0.2532   , -0.50976  ,  0.15201  ,\n",
       "        0.27808  ,  0.52522  , -0.38815  , -0.3472   , -0.61818  ,\n",
       "        0.17022  ,  0.12251  , -0.24191  , -0.38877  , -0.53176  ,\n",
       "       -0.46987  , -0.70502  , -0.62126  , -0.38689  , -0.85637  ,\n",
       "       -0.41003  , -0.47487  , -0.21083  , -0.81338  , -0.52398  ,\n",
       "        0.49894  ,  0.37909  ,  0.55428  ,  1.123    , -0.42121  ,\n",
       "       -1.5674   , -0.56892  ,  0.40819  ,  1.7949   ,  0.16856  ,\n",
       "       -0.0029332,  0.28786  , -0.90088  , -0.094214 ,  0.79993  ,\n",
       "       -0.39096  ,  0.76286  ,  0.71307  ,  0.13194  , -0.40756  ,\n",
       "       -0.18687  ,  0.89562  ,  0.46867  , -0.0028801,  0.025306 ,\n",
       "        1.0084   ,  0.17135  ,  0.59742  , -1.1003   ,  0.49305  ,\n",
       "        0.41782  ,  0.17285  , -0.49474  ,  0.087837 , -0.9669   ,\n",
       "       -1.092    ,  0.33896  , -0.51288  ,  0.24643  ,  0.27141  ,\n",
       "        0.24206  , -0.21707  ,  0.55035  ,  0.0082243, -0.45572  ,\n",
       "        0.13528  , -0.043146 , -0.41408  ,  0.70051  ,  0.18775  ],\n",
       "      dtype=float32)"
      ]
     },
     "execution_count": 36,
     "metadata": {},
     "output_type": "execute_result"
    }
   ],
   "source": [
    "embeddings_index.get(\"paper\")"
   ]
  },
  {
   "cell_type": "code",
   "execution_count": 37,
   "id": "9474b59c-795c-4a69-b60a-afae51d2e0fa",
   "metadata": {},
   "outputs": [],
   "source": [
    "embedding_matrix = np.zeros((len(X) + 1, max_length))\n",
    "for word, i in X1.items():\n",
    "    embedding_vector = embeddings_index.get(word)\n",
    "    if embedding_vector is not None:\n",
    "        # words not found in embedding index will be all-zeros.\n",
    "        embedding_matrix[i] = embedding_vector"
   ]
  },
  {
   "cell_type": "code",
   "execution_count": 38,
   "id": "39835fa6-1047-4af5-a98b-64136b8c5b61",
   "metadata": {},
   "outputs": [],
   "source": [
    "embedding_layer = Embedding(input_dim=len(X) + 1,\n",
    "                            output_dim=max_length,\n",
    "                            weights=[embedding_matrix],\n",
    "                            input_length=max_length,\n",
    "                            trainable=False)\n"
   ]
  },
  {
   "cell_type": "code",
   "execution_count": 39,
   "id": "bceeb90c-bdc0-49c4-ba8b-3a0b478a67ec",
   "metadata": {},
   "outputs": [],
   "source": [
    "model = Sequential([\n",
    "    embedding_layer,\n",
    "  Conv1D(128, 5, activation='relu'),\n",
    "    GlobalMaxPooling1D(),\n",
    "  Dense(10, activation='relu'),\n",
    "  Dense(1, activation='sigmoid'),\n",
    "])"
   ]
  },
  {
   "cell_type": "code",
   "execution_count": 40,
   "id": "ab089270-3455-4027-9584-c17a7d54ef78",
   "metadata": {},
   "outputs": [],
   "source": [
    "model.compile(loss='binary_crossentropy',optimizer='adam',metrics=['accuracy'])"
   ]
  },
  {
   "cell_type": "code",
   "execution_count": 41,
   "id": "300dcfa7-84a3-4180-99ed-ac95e64748a9",
   "metadata": {},
   "outputs": [
    {
     "name": "stdout",
     "output_type": "stream",
     "text": [
      "Epoch 1/20\n",
      "7150/7150 [==============================] - 272s 38ms/step - loss: 0.4467 - accuracy: 0.8980 - val_loss: 0.3295 - val_accuracy: 0.8980\n",
      "Epoch 2/20\n",
      "7150/7150 [==============================] - 287s 40ms/step - loss: 0.3292 - accuracy: 0.8981 - val_loss: 0.3294 - val_accuracy: 0.8980\n",
      "Epoch 3/20\n",
      "7150/7150 [==============================] - 264s 37ms/step - loss: 0.3265 - accuracy: 0.8993 - val_loss: 0.3294 - val_accuracy: 0.8980\n",
      "Epoch 4/20\n",
      "7150/7150 [==============================] - 262s 37ms/step - loss: 0.3296 - accuracy: 0.8980 - val_loss: 0.3294 - val_accuracy: 0.8980\n",
      "Epoch 5/20\n",
      "7150/7150 [==============================] - 276s 39ms/step - loss: 0.3300 - accuracy: 0.8977 - val_loss: 0.3295 - val_accuracy: 0.8980\n",
      "Epoch 6/20\n",
      "7150/7150 [==============================] - 271s 38ms/step - loss: 0.3290 - accuracy: 0.8982 - val_loss: 0.3294 - val_accuracy: 0.8980\n",
      "Epoch 7/20\n",
      "7150/7150 [==============================] - 257s 36ms/step - loss: 0.3276 - accuracy: 0.8989 - val_loss: 0.3294 - val_accuracy: 0.8980\n",
      "Epoch 8/20\n",
      "7150/7150 [==============================] - 330s 46ms/step - loss: 0.3283 - accuracy: 0.8985 - val_loss: 0.3294 - val_accuracy: 0.8980\n",
      "Epoch 9/20\n",
      "7150/7150 [==============================] - 362s 51ms/step - loss: 0.3278 - accuracy: 0.8988 - val_loss: 0.3294 - val_accuracy: 0.8980\n",
      "Epoch 10/20\n",
      "7150/7150 [==============================] - 365s 51ms/step - loss: 0.3311 - accuracy: 0.8973 - val_loss: 0.3294 - val_accuracy: 0.8980\n",
      "Epoch 11/20\n",
      "7150/7150 [==============================] - 335s 47ms/step - loss: 0.3270 - accuracy: 0.8991 - val_loss: 0.3294 - val_accuracy: 0.8980\n",
      "Epoch 12/20\n",
      "7150/7150 [==============================] - 286s 40ms/step - loss: 0.3283 - accuracy: 0.8985 - val_loss: 0.3294 - val_accuracy: 0.8980\n",
      "Epoch 13/20\n",
      "7150/7150 [==============================] - 227s 32ms/step - loss: 0.3287 - accuracy: 0.8984 - val_loss: 0.3294 - val_accuracy: 0.8980\n",
      "Epoch 14/20\n",
      "7150/7150 [==============================] - 221s 31ms/step - loss: 0.3286 - accuracy: 0.8984 - val_loss: 0.3294 - val_accuracy: 0.8980\n",
      "Epoch 15/20\n",
      "7150/7150 [==============================] - 226s 32ms/step - loss: 0.3299 - accuracy: 0.8978 - val_loss: 0.3295 - val_accuracy: 0.8980\n",
      "Epoch 16/20\n",
      "7150/7150 [==============================] - 222s 31ms/step - loss: 0.3284 - accuracy: 0.8985 - val_loss: 0.3294 - val_accuracy: 0.8980\n",
      "Epoch 17/20\n",
      "7150/7150 [==============================] - 203s 28ms/step - loss: 0.3293 - accuracy: 0.8981 - val_loss: 0.3295 - val_accuracy: 0.8980\n",
      "Epoch 18/20\n",
      "7150/7150 [==============================] - 201s 28ms/step - loss: 0.3271 - accuracy: 0.8991 - val_loss: 0.3295 - val_accuracy: 0.8980\n",
      "Epoch 19/20\n",
      "7150/7150 [==============================] - 197s 28ms/step - loss: 0.3260 - accuracy: 0.8996 - val_loss: 0.3295 - val_accuracy: 0.8980\n",
      "Epoch 20/20\n",
      "7150/7150 [==============================] - 171s 24ms/step - loss: 0.3295 - accuracy: 0.8980 - val_loss: 0.3295 - val_accuracy: 0.8980\n"
     ]
    }
   ],
   "source": [
    "history = model.fit(X_train_padded, y_train1, epochs=20, validation_data=(X_test_padded, y_test1))"
   ]
  },
  {
   "cell_type": "code",
   "execution_count": 42,
   "id": "fb351af9-cf14-4226-9955-3e6b9f684e35",
   "metadata": {},
   "outputs": [
    {
     "name": "stdout",
     "output_type": "stream",
     "text": [
      "1788/1788 [==============================] - 17s 10ms/step - loss: 0.3295 - accuracy: 0.8980\n",
      "Testing Accuracy is 89.80051875114441 \n"
     ]
    }
   ],
   "source": [
    "loss, accuracy = model.evaluate(X_test_padded,y_test1)\n",
    "print('Testing Accuracy is {} '.format(accuracy*100))"
   ]
  }
 ],
 "metadata": {
  "kernelspec": {
   "display_name": "general-env",
   "language": "python",
   "name": "general-env"
  },
  "language_info": {
   "codemirror_mode": {
    "name": "ipython",
    "version": 3
   },
   "file_extension": ".py",
   "mimetype": "text/x-python",
   "name": "python",
   "nbconvert_exporter": "python",
   "pygments_lexer": "ipython3",
   "version": "3.9.6"
  }
 },
 "nbformat": 4,
 "nbformat_minor": 5
}
