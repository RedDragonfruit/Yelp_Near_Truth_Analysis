{
 "cells": [
  {
   "cell_type": "code",
   "execution_count": 1,
   "id": "50e077ed-4add-4b07-b1d6-8e310b6ababf",
   "metadata": {},
   "outputs": [],
   "source": [
    "import pandas as pd"
   ]
  },
  {
   "cell_type": "code",
   "execution_count": 2,
   "id": "41153caf-5d7d-464c-929c-42101acdab8e",
   "metadata": {},
   "outputs": [],
   "source": [
    "df = pd.read_csv('./Data/restaurant_data')\n",
    "target_df = pd.read_csv('./Data/target_data')\n",
    "\n",
    "restaurants_df = df.merge(target_df,\n",
    "                         how = 'inner',\n",
    "                         left_on = ['Unnamed: 0'],\n",
    "                         right_on = ['Unnamed: 0']\n",
    "                         )\n",
    "restaurants_df.drop('Unnamed: 0' , axis=1,inplace =True)"
   ]
  },
  {
   "cell_type": "code",
   "execution_count": 3,
   "id": "fd9d0909-543a-4c32-a3bc-8cbdc382e883",
   "metadata": {},
   "outputs": [
    {
     "data": {
      "text/html": [
       "<div>\n",
       "<style scoped>\n",
       "    .dataframe tbody tr th:only-of-type {\n",
       "        vertical-align: middle;\n",
       "    }\n",
       "\n",
       "    .dataframe tbody tr th {\n",
       "        vertical-align: top;\n",
       "    }\n",
       "\n",
       "    .dataframe thead th {\n",
       "        text-align: right;\n",
       "    }\n",
       "</style>\n",
       "<table border=\"1\" class=\"dataframe\">\n",
       "  <thead>\n",
       "    <tr style=\"text-align: right;\">\n",
       "      <th></th>\n",
       "      <th>user_id</th>\n",
       "      <th>prod_id</th>\n",
       "      <th>rating</th>\n",
       "      <th>date</th>\n",
       "      <th>review</th>\n",
       "      <th>name</th>\n",
       "      <th>target</th>\n",
       "    </tr>\n",
       "  </thead>\n",
       "  <tbody>\n",
       "    <tr>\n",
       "      <th>0</th>\n",
       "      <td>22558</td>\n",
       "      <td>859</td>\n",
       "      <td>5.0</td>\n",
       "      <td>2007-05-28</td>\n",
       "      <td>Looking for some authentic Japanese food at re...</td>\n",
       "      <td>Yakitori Totto</td>\n",
       "      <td>1</td>\n",
       "    </tr>\n",
       "    <tr>\n",
       "      <th>1</th>\n",
       "      <td>78837</td>\n",
       "      <td>915</td>\n",
       "      <td>4.0</td>\n",
       "      <td>2009-10-05</td>\n",
       "      <td>Pepe Rosso is where you go when you're in SOHO...</td>\n",
       "      <td>Pepe Rosso To Go</td>\n",
       "      <td>1</td>\n",
       "    </tr>\n",
       "    <tr>\n",
       "      <th>2</th>\n",
       "      <td>19590</td>\n",
       "      <td>668</td>\n",
       "      <td>5.0</td>\n",
       "      <td>2013-09-17</td>\n",
       "      <td>I had waited to return a couple other times to...</td>\n",
       "      <td>Eataly NYC</td>\n",
       "      <td>1</td>\n",
       "    </tr>\n",
       "    <tr>\n",
       "      <th>3</th>\n",
       "      <td>7175</td>\n",
       "      <td>287</td>\n",
       "      <td>3.0</td>\n",
       "      <td>2013-10-30</td>\n",
       "      <td>This place is always busy - partly because it'...</td>\n",
       "      <td>Heidi’s House</td>\n",
       "      <td>1</td>\n",
       "    </tr>\n",
       "    <tr>\n",
       "      <th>4</th>\n",
       "      <td>137409</td>\n",
       "      <td>744</td>\n",
       "      <td>5.0</td>\n",
       "      <td>2014-12-04</td>\n",
       "      <td>Love this place! I am not a regular yelper I d...</td>\n",
       "      <td>Bodhi Tree</td>\n",
       "      <td>0</td>\n",
       "    </tr>\n",
       "    <tr>\n",
       "      <th>...</th>\n",
       "      <td>...</td>\n",
       "      <td>...</td>\n",
       "      <td>...</td>\n",
       "      <td>...</td>\n",
       "      <td>...</td>\n",
       "      <td>...</td>\n",
       "      <td>...</td>\n",
       "    </tr>\n",
       "    <tr>\n",
       "      <th>285989</th>\n",
       "      <td>2708</td>\n",
       "      <td>72</td>\n",
       "      <td>4.0</td>\n",
       "      <td>2013-06-23</td>\n",
       "      <td>Noodle taste great. Its nice and chewy. Im suc...</td>\n",
       "      <td>Totto Ramen</td>\n",
       "      <td>1</td>\n",
       "    </tr>\n",
       "    <tr>\n",
       "      <th>285990</th>\n",
       "      <td>115028</td>\n",
       "      <td>570</td>\n",
       "      <td>4.0</td>\n",
       "      <td>2014-12-11</td>\n",
       "      <td>Despite frequently visiting and previously liv...</td>\n",
       "      <td>Up Thai</td>\n",
       "      <td>1</td>\n",
       "    </tr>\n",
       "    <tr>\n",
       "      <th>285991</th>\n",
       "      <td>2018</td>\n",
       "      <td>281</td>\n",
       "      <td>4.0</td>\n",
       "      <td>2013-09-23</td>\n",
       "      <td>Definitely a place to come for a good dinner o...</td>\n",
       "      <td>Kofte Piyaz</td>\n",
       "      <td>1</td>\n",
       "    </tr>\n",
       "    <tr>\n",
       "      <th>285992</th>\n",
       "      <td>19933</td>\n",
       "      <td>839</td>\n",
       "      <td>4.0</td>\n",
       "      <td>2012-05-26</td>\n",
       "      <td>At first, I didn't know if I enjoyed this food...</td>\n",
       "      <td>Great NY Noodle Town</td>\n",
       "      <td>1</td>\n",
       "    </tr>\n",
       "    <tr>\n",
       "      <th>285993</th>\n",
       "      <td>4748</td>\n",
       "      <td>120</td>\n",
       "      <td>5.0</td>\n",
       "      <td>2011-09-14</td>\n",
       "      <td>I've been wanting to go to Gramercy Tavern for...</td>\n",
       "      <td>Gramercy Tavern</td>\n",
       "      <td>1</td>\n",
       "    </tr>\n",
       "  </tbody>\n",
       "</table>\n",
       "<p>285994 rows × 7 columns</p>\n",
       "</div>"
      ],
      "text/plain": [
       "        user_id  prod_id  rating        date  \\\n",
       "0         22558      859     5.0  2007-05-28   \n",
       "1         78837      915     4.0  2009-10-05   \n",
       "2         19590      668     5.0  2013-09-17   \n",
       "3          7175      287     3.0  2013-10-30   \n",
       "4        137409      744     5.0  2014-12-04   \n",
       "...         ...      ...     ...         ...   \n",
       "285989     2708       72     4.0  2013-06-23   \n",
       "285990   115028      570     4.0  2014-12-11   \n",
       "285991     2018      281     4.0  2013-09-23   \n",
       "285992    19933      839     4.0  2012-05-26   \n",
       "285993     4748      120     5.0  2011-09-14   \n",
       "\n",
       "                                                   review  \\\n",
       "0       Looking for some authentic Japanese food at re...   \n",
       "1       Pepe Rosso is where you go when you're in SOHO...   \n",
       "2       I had waited to return a couple other times to...   \n",
       "3       This place is always busy - partly because it'...   \n",
       "4       Love this place! I am not a regular yelper I d...   \n",
       "...                                                   ...   \n",
       "285989  Noodle taste great. Its nice and chewy. Im suc...   \n",
       "285990  Despite frequently visiting and previously liv...   \n",
       "285991  Definitely a place to come for a good dinner o...   \n",
       "285992  At first, I didn't know if I enjoyed this food...   \n",
       "285993  I've been wanting to go to Gramercy Tavern for...   \n",
       "\n",
       "                        name  target  \n",
       "0             Yakitori Totto       1  \n",
       "1           Pepe Rosso To Go       1  \n",
       "2                 Eataly NYC       1  \n",
       "3              Heidi’s House       1  \n",
       "4                 Bodhi Tree       0  \n",
       "...                      ...     ...  \n",
       "285989           Totto Ramen       1  \n",
       "285990               Up Thai       1  \n",
       "285991           Kofte Piyaz       1  \n",
       "285992  Great NY Noodle Town       1  \n",
       "285993       Gramercy Tavern       1  \n",
       "\n",
       "[285994 rows x 7 columns]"
      ]
     },
     "execution_count": 3,
     "metadata": {},
     "output_type": "execute_result"
    }
   ],
   "source": [
    "restaurants_df"
   ]
  },
  {
   "cell_type": "code",
   "execution_count": 4,
   "id": "0e50bacb-2b3d-49b2-a76a-7c1a604e6175",
   "metadata": {},
   "outputs": [],
   "source": [
    "corpus2 = restaurants_df[['review','target']]"
   ]
  },
  {
   "cell_type": "code",
   "execution_count": 5,
   "id": "2dd75b39-b266-4210-89ee-7a6ca50a84b3",
   "metadata": {},
   "outputs": [
    {
     "data": {
      "text/html": [
       "<div>\n",
       "<style scoped>\n",
       "    .dataframe tbody tr th:only-of-type {\n",
       "        vertical-align: middle;\n",
       "    }\n",
       "\n",
       "    .dataframe tbody tr th {\n",
       "        vertical-align: top;\n",
       "    }\n",
       "\n",
       "    .dataframe thead th {\n",
       "        text-align: right;\n",
       "    }\n",
       "</style>\n",
       "<table border=\"1\" class=\"dataframe\">\n",
       "  <thead>\n",
       "    <tr style=\"text-align: right;\">\n",
       "      <th></th>\n",
       "      <th>review</th>\n",
       "      <th>target</th>\n",
       "    </tr>\n",
       "  </thead>\n",
       "  <tbody>\n",
       "    <tr>\n",
       "      <th>0</th>\n",
       "      <td>Looking for some authentic Japanese food at re...</td>\n",
       "      <td>1</td>\n",
       "    </tr>\n",
       "    <tr>\n",
       "      <th>1</th>\n",
       "      <td>Pepe Rosso is where you go when you're in SOHO...</td>\n",
       "      <td>1</td>\n",
       "    </tr>\n",
       "    <tr>\n",
       "      <th>2</th>\n",
       "      <td>I had waited to return a couple other times to...</td>\n",
       "      <td>1</td>\n",
       "    </tr>\n",
       "    <tr>\n",
       "      <th>3</th>\n",
       "      <td>This place is always busy - partly because it'...</td>\n",
       "      <td>1</td>\n",
       "    </tr>\n",
       "    <tr>\n",
       "      <th>4</th>\n",
       "      <td>Love this place! I am not a regular yelper I d...</td>\n",
       "      <td>0</td>\n",
       "    </tr>\n",
       "    <tr>\n",
       "      <th>...</th>\n",
       "      <td>...</td>\n",
       "      <td>...</td>\n",
       "    </tr>\n",
       "    <tr>\n",
       "      <th>285989</th>\n",
       "      <td>Noodle taste great. Its nice and chewy. Im suc...</td>\n",
       "      <td>1</td>\n",
       "    </tr>\n",
       "    <tr>\n",
       "      <th>285990</th>\n",
       "      <td>Despite frequently visiting and previously liv...</td>\n",
       "      <td>1</td>\n",
       "    </tr>\n",
       "    <tr>\n",
       "      <th>285991</th>\n",
       "      <td>Definitely a place to come for a good dinner o...</td>\n",
       "      <td>1</td>\n",
       "    </tr>\n",
       "    <tr>\n",
       "      <th>285992</th>\n",
       "      <td>At first, I didn't know if I enjoyed this food...</td>\n",
       "      <td>1</td>\n",
       "    </tr>\n",
       "    <tr>\n",
       "      <th>285993</th>\n",
       "      <td>I've been wanting to go to Gramercy Tavern for...</td>\n",
       "      <td>1</td>\n",
       "    </tr>\n",
       "  </tbody>\n",
       "</table>\n",
       "<p>285994 rows × 2 columns</p>\n",
       "</div>"
      ],
      "text/plain": [
       "                                                   review  target\n",
       "0       Looking for some authentic Japanese food at re...       1\n",
       "1       Pepe Rosso is where you go when you're in SOHO...       1\n",
       "2       I had waited to return a couple other times to...       1\n",
       "3       This place is always busy - partly because it'...       1\n",
       "4       Love this place! I am not a regular yelper I d...       0\n",
       "...                                                   ...     ...\n",
       "285989  Noodle taste great. Its nice and chewy. Im suc...       1\n",
       "285990  Despite frequently visiting and previously liv...       1\n",
       "285991  Definitely a place to come for a good dinner o...       1\n",
       "285992  At first, I didn't know if I enjoyed this food...       1\n",
       "285993  I've been wanting to go to Gramercy Tavern for...       1\n",
       "\n",
       "[285994 rows x 2 columns]"
      ]
     },
     "execution_count": 5,
     "metadata": {},
     "output_type": "execute_result"
    }
   ],
   "source": [
    "corpus2"
   ]
  },
  {
   "cell_type": "code",
   "execution_count": 6,
   "id": "26b6a314-2904-4988-9e07-82452ddcc650",
   "metadata": {},
   "outputs": [],
   "source": [
    "from sklearn.model_selection import train_test_split"
   ]
  },
  {
   "cell_type": "code",
   "execution_count": 7,
   "id": "60d4c41b-adce-4f86-9a26-cce86431f788",
   "metadata": {},
   "outputs": [],
   "source": [
    "from nltk.corpus import stopwords"
   ]
  },
  {
   "cell_type": "code",
   "execution_count": 8,
   "id": "1dec5a3b-2c26-4b60-b650-1f8f4db00f8d",
   "metadata": {},
   "outputs": [],
   "source": [
    "sw = stopwords.words('english')"
   ]
  },
  {
   "cell_type": "code",
   "execution_count": 9,
   "id": "76cd38cf-431d-4d45-b6e3-19dfcc941df6",
   "metadata": {},
   "outputs": [],
   "source": [
    "sw += ['food','place','good',\"great\"]"
   ]
  },
  {
   "cell_type": "code",
   "execution_count": 10,
   "id": "b386b070-452d-433e-95c5-84ce84f4e12e",
   "metadata": {},
   "outputs": [],
   "source": [
    "body = corpus2.review\n",
    "target = corpus2.target"
   ]
  },
  {
   "cell_type": "code",
   "execution_count": 11,
   "id": "cdfcc801-4658-4d23-af31-3fe3b73d9c30",
   "metadata": {},
   "outputs": [],
   "source": [
    "X_train, X_test, y_train, y_test = train_test_split(body,\n",
    "                                                    target,\n",
    "                                                    random_state = 42,\n",
    "                                                    stratify = target)"
   ]
  },
  {
   "cell_type": "code",
   "execution_count": 12,
   "id": "d1ec9220-46de-4130-b009-a7b636852444",
   "metadata": {},
   "outputs": [],
   "source": [
    "from sklearn import model_selection, preprocessing, linear_model, naive_bayes, metrics, svm\n",
    "from sklearn.feature_extraction.text import TfidfVectorizer, CountVectorizer\n",
    "from sklearn import decomposition, ensemble\n",
    "\n",
    "import pandas, numpy, string\n",
    "from tensorflow.keras.preprocessing import text, sequence\n",
    "from tensorflow.keras import layers, models, optimizers"
   ]
  },
  {
   "cell_type": "code",
   "execution_count": 14,
   "id": "58b04e84-ae13-4d35-bc4e-250427bb3dcb",
   "metadata": {},
   "outputs": [],
   "source": [
    "encoder = preprocessing.LabelEncoder()"
   ]
  },
  {
   "cell_type": "code",
   "execution_count": 15,
   "id": "4d58374c-d39a-40ff-bbad-bbe19f5d71a7",
   "metadata": {},
   "outputs": [],
   "source": [
    "y_train = encoder.fit_transform(y_train)\n",
    "y_test = encoder.fit_transform(y_test)"
   ]
  },
  {
   "cell_type": "code",
   "execution_count": 16,
   "id": "ac9f2672-d967-4ca5-bb08-1e3a6bbb1824",
   "metadata": {},
   "outputs": [],
   "source": [
    "count_vect = CountVectorizer(analyzer='word',stop_words = sw)\n",
    "count_vect.fit(X_train)\n",
    "\n",
    "all_words_dict = (count_vect.vocabulary_)\n",
    "\n",
    "Xtrain_count =  count_vect.transform(X_train)\n",
    "#Xtest_count =  count_vect.transform(X_test)"
   ]
  },
  {
   "cell_type": "code",
   "execution_count": 17,
   "id": "6d5a6742-4581-4eb8-b19e-acfbbb7e8a44",
   "metadata": {},
   "outputs": [
    {
     "data": {
      "text/plain": [
       "dict"
      ]
     },
     "execution_count": 17,
     "metadata": {},
     "output_type": "execute_result"
    }
   ],
   "source": [
    "type(all_words_dict)"
   ]
  },
  {
   "cell_type": "code",
   "execution_count": 18,
   "id": "f86fea4a-17db-4803-af41-e41f87cb7f1f",
   "metadata": {},
   "outputs": [],
   "source": [
    "X_test_count = count_vect.transform(X_test)"
   ]
  },
  {
   "cell_type": "code",
   "execution_count": 38,
   "id": "c56a31d4-707d-4305-ac7c-801d7cdf11a4",
   "metadata": {},
   "outputs": [],
   "source": [
    "# word level tf-idf\n",
    "tfidf_vect = TfidfVectorizer(analyzer='word', max_features=5000,lowercase=False)\n",
    "tfidf_vect.fit(X_train)\n",
    "xtrain_tfidf =  tfidf_vect.transform(X_train)\n",
    "xtest_tfidf =  tfidf_vect.transform(X_test)"
   ]
  },
  {
   "cell_type": "code",
   "execution_count": 44,
   "id": "6007369a-d177-4e40-9e9b-b11ec6892528",
   "metadata": {},
   "outputs": [],
   "source": [
    "#tf_train = tfidf_vect.fit_transform(X_train, y_train)"
   ]
  },
  {
   "cell_type": "code",
   "execution_count": 37,
   "id": "4c5dd4a0-b41b-4158-9b59-fe7909180077",
   "metadata": {
    "tags": []
   },
   "outputs": [],
   "source": [
    "# ngram level tf-idf \n",
    "tfidf_vect_ngram = TfidfVectorizer(analyzer='word', ngram_range=(2,3), max_features=5000,lowercase =False)\n",
    "xtrain_tfidf_ngram  = tfidf_vect_ngram.fit_transform(X_train)\n",
    "xtest_tfidf_ngram =  tfidf_vect_ngram.transform(X_test)"
   ]
  },
  {
   "cell_type": "code",
   "execution_count": null,
   "id": "9dfc8f21-1b68-4192-bca1-6aec722c38ae",
   "metadata": {},
   "outputs": [],
   "source": [
    "# %%time\n",
    "# CPU times: user 5min 6s, sys: 7.66 s, total: 5min 14s\n",
    "# Wall time: 5min 18s\n",
    "\n",
    "\n",
    "# characters level tf-idf\n",
    "tfidf_vect_ngram_chars = TfidfVectorizer(analyzer='char', ngram_range=(2,3), max_features=5000, lowercase = False)\n",
    "xtrain_tfidf_ngram_chars = tfidf_vect_ngram_chars.fit_transform(X_train)\n",
    "xtest_tfidf_ngram_chars =  tfidf_vect_ngram_chars.transform(X_test) "
   ]
  },
  {
   "cell_type": "code",
   "execution_count": 22,
   "id": "5813a79a-b695-4d93-ba5c-ebe72d94be35",
   "metadata": {},
   "outputs": [],
   "source": [
    "def train_model(classifier, feature_vector_train = Xtrain_count, label=y_train, feature_vector_valid = X_test_count, is_neural_net=False):\n",
    "    # fit the training dataset on the classifier\n",
    "    classifier.fit(feature_vector_train, label)\n",
    "    \n",
    "    # predict the labels on validation dataset\n",
    "    predictions = classifier.predict(feature_vector_valid)\n",
    "    \n",
    "    if is_neural_net:\n",
    "        predictions = predictions.argmax(axis=-1)\n",
    "    \n",
    "    return metrics.accuracy_score(predictions, y_test)"
   ]
  },
  {
   "cell_type": "code",
   "execution_count": 23,
   "id": "7b67d230-fbda-4d0e-9fd3-f04b8c45b5c3",
   "metadata": {},
   "outputs": [],
   "source": [
    "# nb_classifier = MultinomialNB()"
   ]
  },
  {
   "cell_type": "code",
   "execution_count": 24,
   "id": "ca142143-1ecb-4fee-87b0-82cc24ee5a2d",
   "metadata": {},
   "outputs": [],
   "source": [
    "# b_train_score = accuracy_score(target, nb_train_preds)\n",
    "# nb_test_score = accuracy_score(newsgroups_test.target, nb_test_preds)"
   ]
  },
  {
   "cell_type": "code",
   "execution_count": 25,
   "id": "c17e1344-caad-445a-98c2-aa828f9f2447",
   "metadata": {},
   "outputs": [],
   "source": [
    "# vectorizer = TfidfVectorizer()"
   ]
  },
  {
   "cell_type": "code",
   "execution_count": 26,
   "id": "4bdb8e94-8920-4788-96f1-411d2bd1793e",
   "metadata": {},
   "outputs": [],
   "source": [
    "# tf_idf_data_test = vectorizer.fit_transform(X_train)"
   ]
  },
  {
   "cell_type": "code",
   "execution_count": 27,
   "id": "8e7f0793-4ad4-41d1-9eb2-6fcd7ed8a0b0",
   "metadata": {},
   "outputs": [],
   "source": [
    "#nb_classifier.fit(tf_idf_data_test, y_train)\n",
    "\n",
    "# nb_train_preds = nb_classifier.predict(Xtrain_count)\n",
    "# nb_test_preds = nb_classifier.predict(X_test_count)"
   ]
  },
  {
   "cell_type": "code",
   "execution_count": null,
   "id": "c51d49ff-93e3-4845-a217-5785d9bbacd8",
   "metadata": {},
   "outputs": [],
   "source": []
  },
  {
   "cell_type": "code",
   "execution_count": 28,
   "id": "45c03ed2-26c5-48d6-ac24-8eea5478529a",
   "metadata": {},
   "outputs": [
    {
     "data": {
      "text/plain": [
       "0.8699702093735576"
      ]
     },
     "execution_count": 28,
     "metadata": {},
     "output_type": "execute_result"
    }
   ],
   "source": [
    "train_model(naive_bayes.MultinomialNB())"
   ]
  },
  {
   "cell_type": "code",
   "execution_count": 46,
   "id": "a2d30950-9080-4ed6-8817-375c0abc8586",
   "metadata": {},
   "outputs": [],
   "source": [
    "nb = naive_bayes.MultinomialNB()"
   ]
  },
  {
   "cell_type": "code",
   "execution_count": 51,
   "id": "eb7f541a-faeb-4a21-9f89-651a42bf3c2c",
   "metadata": {},
   "outputs": [
    {
     "ename": "ValueError",
     "evalue": "could not convert string to float: 'Had a great experience here. \\xa0Food was outstanding. Love the open kitchen. Wine list was fantastic. \\xa0Bar tender was great (let me try the mead before ordering a glass - they have a mead selection). Nice vibe to the place. \\xa0Service was just how I like it: Polite and unobtrusive, not detracting from the evening at all. \\xa0I will be coming back.'",
     "output_type": "error",
     "traceback": [
      "\u001b[0;31m---------------------------------------------------------------------------\u001b[0m",
      "\u001b[0;31mValueError\u001b[0m                                Traceback (most recent call last)",
      "\u001b[0;32m<ipython-input-51-9a597f4c1a8a>\u001b[0m in \u001b[0;36m<module>\u001b[0;34m\u001b[0m\n\u001b[1;32m      1\u001b[0m \u001b[0mnb\u001b[0m\u001b[0;34m.\u001b[0m\u001b[0mfit\u001b[0m\u001b[0;34m(\u001b[0m\u001b[0mXtrain_count\u001b[0m\u001b[0;34m,\u001b[0m\u001b[0my_train\u001b[0m\u001b[0;34m)\u001b[0m\u001b[0;34m\u001b[0m\u001b[0;34m\u001b[0m\u001b[0m\n\u001b[0;32m----> 2\u001b[0;31m \u001b[0mnb\u001b[0m\u001b[0;34m.\u001b[0m\u001b[0mpredict\u001b[0m\u001b[0;34m(\u001b[0m\u001b[0mX_train\u001b[0m\u001b[0;34m)\u001b[0m\u001b[0;34m\u001b[0m\u001b[0;34m\u001b[0m\u001b[0m\n\u001b[0m",
      "\u001b[0;32m~/opt/anaconda3/envs/general-env/lib/python3.9/site-packages/sklearn/naive_bayes.py\u001b[0m in \u001b[0;36mpredict\u001b[0;34m(self, X)\u001b[0m\n\u001b[1;32m     72\u001b[0m         \"\"\"\n\u001b[1;32m     73\u001b[0m         \u001b[0mcheck_is_fitted\u001b[0m\u001b[0;34m(\u001b[0m\u001b[0mself\u001b[0m\u001b[0;34m)\u001b[0m\u001b[0;34m\u001b[0m\u001b[0;34m\u001b[0m\u001b[0m\n\u001b[0;32m---> 74\u001b[0;31m         \u001b[0mX\u001b[0m \u001b[0;34m=\u001b[0m \u001b[0mself\u001b[0m\u001b[0;34m.\u001b[0m\u001b[0m_check_X\u001b[0m\u001b[0;34m(\u001b[0m\u001b[0mX\u001b[0m\u001b[0;34m)\u001b[0m\u001b[0;34m\u001b[0m\u001b[0;34m\u001b[0m\u001b[0m\n\u001b[0m\u001b[1;32m     75\u001b[0m         \u001b[0mjll\u001b[0m \u001b[0;34m=\u001b[0m \u001b[0mself\u001b[0m\u001b[0;34m.\u001b[0m\u001b[0m_joint_log_likelihood\u001b[0m\u001b[0;34m(\u001b[0m\u001b[0mX\u001b[0m\u001b[0;34m)\u001b[0m\u001b[0;34m\u001b[0m\u001b[0;34m\u001b[0m\u001b[0m\n\u001b[1;32m     76\u001b[0m         \u001b[0;32mreturn\u001b[0m \u001b[0mself\u001b[0m\u001b[0;34m.\u001b[0m\u001b[0mclasses_\u001b[0m\u001b[0;34m[\u001b[0m\u001b[0mnp\u001b[0m\u001b[0;34m.\u001b[0m\u001b[0margmax\u001b[0m\u001b[0;34m(\u001b[0m\u001b[0mjll\u001b[0m\u001b[0;34m,\u001b[0m \u001b[0maxis\u001b[0m\u001b[0;34m=\u001b[0m\u001b[0;36m1\u001b[0m\u001b[0;34m)\u001b[0m\u001b[0;34m]\u001b[0m\u001b[0;34m\u001b[0m\u001b[0;34m\u001b[0m\u001b[0m\n",
      "\u001b[0;32m~/opt/anaconda3/envs/general-env/lib/python3.9/site-packages/sklearn/naive_bayes.py\u001b[0m in \u001b[0;36m_check_X\u001b[0;34m(self, X)\u001b[0m\n\u001b[1;32m    472\u001b[0m \u001b[0;34m\u001b[0m\u001b[0m\n\u001b[1;32m    473\u001b[0m     \u001b[0;32mdef\u001b[0m \u001b[0m_check_X\u001b[0m\u001b[0;34m(\u001b[0m\u001b[0mself\u001b[0m\u001b[0;34m,\u001b[0m \u001b[0mX\u001b[0m\u001b[0;34m)\u001b[0m\u001b[0;34m:\u001b[0m\u001b[0;34m\u001b[0m\u001b[0;34m\u001b[0m\u001b[0m\n\u001b[0;32m--> 474\u001b[0;31m         \u001b[0;32mreturn\u001b[0m \u001b[0mcheck_array\u001b[0m\u001b[0;34m(\u001b[0m\u001b[0mX\u001b[0m\u001b[0;34m,\u001b[0m \u001b[0maccept_sparse\u001b[0m\u001b[0;34m=\u001b[0m\u001b[0;34m'csr'\u001b[0m\u001b[0;34m)\u001b[0m\u001b[0;34m\u001b[0m\u001b[0;34m\u001b[0m\u001b[0m\n\u001b[0m\u001b[1;32m    475\u001b[0m \u001b[0;34m\u001b[0m\u001b[0m\n\u001b[1;32m    476\u001b[0m     \u001b[0;32mdef\u001b[0m \u001b[0m_check_X_y\u001b[0m\u001b[0;34m(\u001b[0m\u001b[0mself\u001b[0m\u001b[0;34m,\u001b[0m \u001b[0mX\u001b[0m\u001b[0;34m,\u001b[0m \u001b[0my\u001b[0m\u001b[0;34m)\u001b[0m\u001b[0;34m:\u001b[0m\u001b[0;34m\u001b[0m\u001b[0;34m\u001b[0m\u001b[0m\n",
      "\u001b[0;32m~/opt/anaconda3/envs/general-env/lib/python3.9/site-packages/sklearn/utils/validation.py\u001b[0m in \u001b[0;36minner_f\u001b[0;34m(*args, **kwargs)\u001b[0m\n\u001b[1;32m     61\u001b[0m             \u001b[0mextra_args\u001b[0m \u001b[0;34m=\u001b[0m \u001b[0mlen\u001b[0m\u001b[0;34m(\u001b[0m\u001b[0margs\u001b[0m\u001b[0;34m)\u001b[0m \u001b[0;34m-\u001b[0m \u001b[0mlen\u001b[0m\u001b[0;34m(\u001b[0m\u001b[0mall_args\u001b[0m\u001b[0;34m)\u001b[0m\u001b[0;34m\u001b[0m\u001b[0;34m\u001b[0m\u001b[0m\n\u001b[1;32m     62\u001b[0m             \u001b[0;32mif\u001b[0m \u001b[0mextra_args\u001b[0m \u001b[0;34m<=\u001b[0m \u001b[0;36m0\u001b[0m\u001b[0;34m:\u001b[0m\u001b[0;34m\u001b[0m\u001b[0;34m\u001b[0m\u001b[0m\n\u001b[0;32m---> 63\u001b[0;31m                 \u001b[0;32mreturn\u001b[0m \u001b[0mf\u001b[0m\u001b[0;34m(\u001b[0m\u001b[0;34m*\u001b[0m\u001b[0margs\u001b[0m\u001b[0;34m,\u001b[0m \u001b[0;34m**\u001b[0m\u001b[0mkwargs\u001b[0m\u001b[0;34m)\u001b[0m\u001b[0;34m\u001b[0m\u001b[0;34m\u001b[0m\u001b[0m\n\u001b[0m\u001b[1;32m     64\u001b[0m \u001b[0;34m\u001b[0m\u001b[0m\n\u001b[1;32m     65\u001b[0m             \u001b[0;31m# extra_args > 0\u001b[0m\u001b[0;34m\u001b[0m\u001b[0;34m\u001b[0m\u001b[0;34m\u001b[0m\u001b[0m\n",
      "\u001b[0;32m~/opt/anaconda3/envs/general-env/lib/python3.9/site-packages/sklearn/utils/validation.py\u001b[0m in \u001b[0;36mcheck_array\u001b[0;34m(array, accept_sparse, accept_large_sparse, dtype, order, copy, force_all_finite, ensure_2d, allow_nd, ensure_min_samples, ensure_min_features, estimator)\u001b[0m\n\u001b[1;32m    671\u001b[0m                     \u001b[0marray\u001b[0m \u001b[0;34m=\u001b[0m \u001b[0marray\u001b[0m\u001b[0;34m.\u001b[0m\u001b[0mastype\u001b[0m\u001b[0;34m(\u001b[0m\u001b[0mdtype\u001b[0m\u001b[0;34m,\u001b[0m \u001b[0mcasting\u001b[0m\u001b[0;34m=\u001b[0m\u001b[0;34m\"unsafe\"\u001b[0m\u001b[0;34m,\u001b[0m \u001b[0mcopy\u001b[0m\u001b[0;34m=\u001b[0m\u001b[0;32mFalse\u001b[0m\u001b[0;34m)\u001b[0m\u001b[0;34m\u001b[0m\u001b[0;34m\u001b[0m\u001b[0m\n\u001b[1;32m    672\u001b[0m                 \u001b[0;32melse\u001b[0m\u001b[0;34m:\u001b[0m\u001b[0;34m\u001b[0m\u001b[0;34m\u001b[0m\u001b[0m\n\u001b[0;32m--> 673\u001b[0;31m                     \u001b[0marray\u001b[0m \u001b[0;34m=\u001b[0m \u001b[0mnp\u001b[0m\u001b[0;34m.\u001b[0m\u001b[0masarray\u001b[0m\u001b[0;34m(\u001b[0m\u001b[0marray\u001b[0m\u001b[0;34m,\u001b[0m \u001b[0morder\u001b[0m\u001b[0;34m=\u001b[0m\u001b[0morder\u001b[0m\u001b[0;34m,\u001b[0m \u001b[0mdtype\u001b[0m\u001b[0;34m=\u001b[0m\u001b[0mdtype\u001b[0m\u001b[0;34m)\u001b[0m\u001b[0;34m\u001b[0m\u001b[0;34m\u001b[0m\u001b[0m\n\u001b[0m\u001b[1;32m    674\u001b[0m             \u001b[0;32mexcept\u001b[0m \u001b[0mComplexWarning\u001b[0m \u001b[0;32mas\u001b[0m \u001b[0mcomplex_warning\u001b[0m\u001b[0;34m:\u001b[0m\u001b[0;34m\u001b[0m\u001b[0;34m\u001b[0m\u001b[0m\n\u001b[1;32m    675\u001b[0m                 raise ValueError(\"Complex data not supported\\n\"\n",
      "\u001b[0;32m~/opt/anaconda3/envs/general-env/lib/python3.9/site-packages/pandas/core/series.py\u001b[0m in \u001b[0;36m__array__\u001b[0;34m(self, dtype)\u001b[0m\n\u001b[1;32m    855\u001b[0m               dtype='datetime64[ns]')\n\u001b[1;32m    856\u001b[0m         \"\"\"\n\u001b[0;32m--> 857\u001b[0;31m         \u001b[0;32mreturn\u001b[0m \u001b[0mnp\u001b[0m\u001b[0;34m.\u001b[0m\u001b[0masarray\u001b[0m\u001b[0;34m(\u001b[0m\u001b[0mself\u001b[0m\u001b[0;34m.\u001b[0m\u001b[0m_values\u001b[0m\u001b[0;34m,\u001b[0m \u001b[0mdtype\u001b[0m\u001b[0;34m)\u001b[0m\u001b[0;34m\u001b[0m\u001b[0;34m\u001b[0m\u001b[0m\n\u001b[0m\u001b[1;32m    858\u001b[0m \u001b[0;34m\u001b[0m\u001b[0m\n\u001b[1;32m    859\u001b[0m     \u001b[0;31m# ----------------------------------------------------------------------\u001b[0m\u001b[0;34m\u001b[0m\u001b[0;34m\u001b[0m\u001b[0;34m\u001b[0m\u001b[0m\n",
      "\u001b[0;31mValueError\u001b[0m: could not convert string to float: 'Had a great experience here. \\xa0Food was outstanding. Love the open kitchen. Wine list was fantastic. \\xa0Bar tender was great (let me try the mead before ordering a glass - they have a mead selection). Nice vibe to the place. \\xa0Service was just how I like it: Polite and unobtrusive, not detracting from the evening at all. \\xa0I will be coming back.'"
     ]
    }
   ],
   "source": [
    "nb.fit(Xtrain_count,y_train)\n",
    "nb.predict(X_train)"
   ]
  },
  {
   "cell_type": "code",
   "execution_count": 29,
   "id": "c97cff40-bea3-4af7-8969-54c15d73d551",
   "metadata": {},
   "outputs": [
    {
     "name": "stdout",
     "output_type": "stream",
     "text": [
      "NB, WordLevel TF-IDF:  0.8982223527601785\n"
     ]
    }
   ],
   "source": [
    "# Naive Bayes on Word Level TF IDF Vectors\n",
    "accuracy = train_model(naive_bayes.MultinomialNB(), xtrain_tfidf, y_train, xtest_tfidf)\n",
    "print (\"NB, WordLevel TF-IDF: \", accuracy)"
   ]
  },
  {
   "cell_type": "code",
   "execution_count": 30,
   "id": "2fc7b1bf-b6b8-41a9-8cc6-2ad8ee000c98",
   "metadata": {},
   "outputs": [
    {
     "name": "stdout",
     "output_type": "stream",
     "text": [
      "NB, N-Gram Vectors:  0.8982223527601785\n"
     ]
    }
   ],
   "source": [
    "# Naive Bayes on Ngram Level TF IDF Vectors\n",
    "accuracy2 = train_model(naive_bayes.MultinomialNB(), xtrain_tfidf_ngram, y_train, xtest_tfidf_ngram)\n",
    "print(\"NB, N-Gram Vectors: \", accuracy2)"
   ]
  },
  {
   "cell_type": "code",
   "execution_count": 31,
   "id": "93b11728-c221-4787-8334-e30102017f5e",
   "metadata": {},
   "outputs": [
    {
     "name": "stdout",
     "output_type": "stream",
     "text": [
      "NB, CharLevel Vectors:  0.8982223527601785\n"
     ]
    }
   ],
   "source": [
    "# Naive Bayes on Character Level TF IDF Vectors\n",
    "accuracy3 = train_model(naive_bayes.MultinomialNB(), xtrain_tfidf_ngram_chars, y_train, xtest_tfidf_ngram_chars)\n",
    "print(\"NB, CharLevel Vectors: \", accuracy3)"
   ]
  },
  {
   "cell_type": "code",
   "execution_count": null,
   "id": "2d0f4ed7-13f3-4f99-b35c-679fceeaf8cb",
   "metadata": {},
   "outputs": [],
   "source": []
  },
  {
   "cell_type": "code",
   "execution_count": null,
   "id": "00c38956-76b6-4d67-8d44-5df99d2243f4",
   "metadata": {},
   "outputs": [],
   "source": []
  },
  {
   "cell_type": "code",
   "execution_count": null,
   "id": "41246bbe-a09e-43d9-8420-36a20eaaa876",
   "metadata": {},
   "outputs": [],
   "source": []
  },
  {
   "cell_type": "code",
   "execution_count": null,
   "id": "7470f26f-fbd4-4a75-8c14-c6034a083479",
   "metadata": {},
   "outputs": [],
   "source": []
  },
  {
   "cell_type": "code",
   "execution_count": null,
   "id": "0ed5d31c-de47-43aa-b3b9-895d78e8c7d8",
   "metadata": {},
   "outputs": [],
   "source": []
  },
  {
   "cell_type": "code",
   "execution_count": null,
   "id": "fef0f572-e979-4c7b-8990-f78a181f808a",
   "metadata": {},
   "outputs": [],
   "source": []
  },
  {
   "cell_type": "code",
   "execution_count": 32,
   "id": "27be74bc-4b1e-4c66-8a2d-e1c822a26970",
   "metadata": {},
   "outputs": [
    {
     "ename": "SyntaxError",
     "evalue": "Missing parentheses in call to 'print'. Did you mean print(\"NB, WordLevel TF-IDF: \", accuracy)? (<ipython-input-32-ff24c64ffa4e>, line 2)",
     "output_type": "error",
     "traceback": [
      "\u001b[0;36m  File \u001b[0;32m\"<ipython-input-32-ff24c64ffa4e>\"\u001b[0;36m, line \u001b[0;32m2\u001b[0m\n\u001b[0;31m    print \"NB, WordLevel TF-IDF: \", accuracy\u001b[0m\n\u001b[0m          ^\u001b[0m\n\u001b[0;31mSyntaxError\u001b[0m\u001b[0;31m:\u001b[0m Missing parentheses in call to 'print'. Did you mean print(\"NB, WordLevel TF-IDF: \", accuracy)?\n"
     ]
    }
   ],
   "source": [
    "accuracy = train_model(naive_bayes.MultinomialNB(), xtrain_tfidf, train_y, xvalid_tfidf)\n",
    "print \"NB, WordLevel TF-IDF: \", accuracy"
   ]
  },
  {
   "cell_type": "code",
   "execution_count": null,
   "id": "21cac663-d6c4-4c87-a29d-3a5efa340515",
   "metadata": {},
   "outputs": [],
   "source": []
  },
  {
   "cell_type": "code",
   "execution_count": null,
   "id": "f2d9c0b8-f48d-442d-9e58-578dc6c76a6d",
   "metadata": {},
   "outputs": [],
   "source": []
  },
  {
   "cell_type": "code",
   "execution_count": null,
   "id": "2748b8ee-98f1-401d-8651-64421df8901e",
   "metadata": {},
   "outputs": [],
   "source": []
  },
  {
   "cell_type": "code",
   "execution_count": null,
   "id": "876ce201-a08a-4fe7-bbaf-7c910d0fd34f",
   "metadata": {},
   "outputs": [],
   "source": []
  },
  {
   "cell_type": "code",
   "execution_count": null,
   "id": "4fda8a8e-ebb6-4492-b21c-e9fec94c2ba2",
   "metadata": {},
   "outputs": [],
   "source": []
  },
  {
   "cell_type": "code",
   "execution_count": null,
   "id": "adc2ff1a-bdc5-4a4d-b4a5-ae42d5c8bba0",
   "metadata": {},
   "outputs": [],
   "source": []
  },
  {
   "cell_type": "code",
   "execution_count": null,
   "id": "0bba793b-3bf2-4f2f-8b35-f6e3762c9b0b",
   "metadata": {},
   "outputs": [],
   "source": [
    "from sklearn.naive_bayes import MultinomialNB\n",
    "from sklearn.feature_extraction.text import CountVectorizer\n",
    "import pandas as pd\n",
    "from collections import Counter\n",
    "from sklearn.model_selection import train_test_split\n",
    "from sklearn.feature_extraction.text import TfidfTransformer"
   ]
  },
  {
   "cell_type": "code",
   "execution_count": null,
   "id": "88b5a689-7487-4ac0-ae31-9a703668d53d",
   "metadata": {},
   "outputs": [],
   "source": [
    "count_vect = CountVectorizer()\n",
    "X_train_count = count_vect.fit_transform(body)"
   ]
  },
  {
   "cell_type": "code",
   "execution_count": null,
   "id": "1861cde5-e0ff-4a08-8e78-4224a065e44b",
   "metadata": {},
   "outputs": [],
   "source": [
    "tfidf_transformer = TfidfTransformer()\n",
    "X_train_tfidf = tfidf_transformer.fit_transform(X_train_count)"
   ]
  },
  {
   "cell_type": "code",
   "execution_count": null,
   "id": "f1181aee-d43d-4516-a406-9ef52c6cb2de",
   "metadata": {},
   "outputs": [],
   "source": [
    "\n",
    "xvalid_count =  count_vect.transform(valid_x)"
   ]
  },
  {
   "cell_type": "code",
   "execution_count": null,
   "id": "3f20635c-698f-479a-beb8-36091821e2aa",
   "metadata": {},
   "outputs": [],
   "source": []
  }
 ],
 "metadata": {
  "kernelspec": {
   "display_name": "general-env",
   "language": "python",
   "name": "general-env"
  },
  "language_info": {
   "codemirror_mode": {
    "name": "ipython",
    "version": 3
   },
   "file_extension": ".py",
   "mimetype": "text/x-python",
   "name": "python",
   "nbconvert_exporter": "python",
   "pygments_lexer": "ipython3",
   "version": "3.9.6"
  }
 },
 "nbformat": 4,
 "nbformat_minor": 5
}
